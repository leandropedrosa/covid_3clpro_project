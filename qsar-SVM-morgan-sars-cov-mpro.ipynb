{
 "cells": [
  {
   "cell_type": "markdown",
   "metadata": {},
   "source": [
    "# Modelos QSAR-SVM para protease principal 3C-like protease (M<sup>pro</sup>) de SARS-CoV"
   ]
  },
  {
   "cell_type": "markdown",
   "metadata": {},
   "source": [
    "Os modelos nesse fluxo de trabalho foram criados usando as impressões digitais de Morgan com SVM scikit-learn."
   ]
  },
  {
   "cell_type": "code",
   "execution_count": 1,
   "metadata": {},
   "outputs": [],
   "source": [
    "from functions.BalanceBySim import *\n",
    "from functions.DescritoresMorgan import morgan_descriptors\n",
    "from functions.CarregarDadosAD import carregar_dados_ad\n",
    "from sklearn.svm import SVC"
   ]
  },
  {
   "cell_type": "markdown",
   "metadata": {},
   "source": [
    "## Carregar compostos inibidores 7 moleculas (Y)"
   ]
  },
  {
   "cell_type": "code",
   "execution_count": 3,
   "metadata": {},
   "outputs": [
    {
     "name": "stdout",
     "output_type": "stream",
     "text": [
      "Original data:  (7, 6)\n",
      "Dados mantidos:  (7, 6)\n",
      "\u001b[1mForma do conjunto de treinamento:\n",
      "\u001b[0m\n",
      "\t\t Classe 1: 3\n",
      "\t\t Classe 0: 4\n",
      "\t\t Número total de compostos: 7\n",
      "Class labels: [Counter({0: 4, 1: 3})]\n"
     ]
    },
    {
     "data": {
      "image/png": "[encoded data removed]",
      "text/plain": [
       "<Figure size 432x288 with 1 Axes>"
      ]
     },
     "metadata": {
      "needs_background": "light"
     },
     "output_type": "display_data"
    },
    {
     "data": {
      "image/png": "[encoded data removed]",
      "text/plain": [
       "<Figure size 432x288 with 1 Axes>"
      ]
     },
     "metadata": {
      "needs_background": "light"
     },
     "output_type": "display_data"
    }
   ],
   "source": [
    "moldf = carregar_dados_ad();\n",
    "moldf.plot(kind=\"hist\", legend=None, bins=20, color='k')\n",
    "moldf.plot(kind=\"kde\", legend=None);"
   ]
  },
  {
   "cell_type": "markdown",
   "metadata": {},
   "source": [
    "## Gerando conjunto de treinamento e teste a partir dos descritores (X)"
   ]
  },
  {
   "cell_type": "markdown",
   "metadata": {},
   "source": [
    "#### Função Fingerprints de Harry Morgan"
   ]
  },
  {
   "cell_type": "code",
   "execution_count": 4,
   "metadata": {},
   "outputs": [
    {
     "name": "stdout",
     "output_type": "stream",
     "text": [
      "\u001b[1mForma do conjunto de treinamento:\n",
      "\u001b[0m\n",
      "\t\t Classe 1: 3\n",
      "\t\t Classe 0: 4\n",
      "\t\t Número total de compostos: 7\n",
      "Class labels: [Counter({0: 4, 1: 3})]\n",
      "Forma do conjunto de treinamento: Counter({0: 4, 1: 3})\n",
      "Forma externa definida: Counter()\n"
     ]
    },
    {
     "data": {
      "text/plain": [
       "(7, 2048)"
      ]
     },
     "execution_count": 4,
     "metadata": {},
     "output_type": "execute_result"
    }
   ],
   "source": [
    "data_morgan = morgan_descriptors(moldf)\n",
    "Y_train_morgan = data_morgan['Y_train']\n",
    "X_train_morgan = data_morgan['X_train']\n",
    "X_train_morgan.shape"
   ]
  },
  {
   "cell_type": "markdown",
   "metadata": {},
   "source": [
    "## Parâmetros p/ geração dos modelos"
   ]
  },
  {
   "cell_type": "markdown",
   "metadata": {},
   "source": [
    "#### Parâmetros SVM"
   ]
  },
  {
   "cell_type": "code",
   "execution_count": 5,
   "metadata": {},
   "outputs": [],
   "source": [
    "from scipy.stats import expon, randint\n",
    "# Grade de parametros\n",
    "svm_param = {\n",
    "    \"C\": [0.001, 0.01, 0.1, 1, 10],\n",
    "    \"gamma\": [0.1, 5, 10],\n",
    "    \"kernel\": ['rbf', 'linear', 'poly'],\n",
    "    \"random_state\": [24]\n",
    "}\n",
    "\n",
    "# Distribuição de parametros\n",
    "svm_dist = {\n",
    "    \"C\": randint(.001,10),\n",
    "    \"gamma\": randint(.1,10),\n",
    "    \"kernel\": ['rbf', 'linear', 'poly'],\n",
    "    \"random_state\": [24]\n",
    "}"
   ]
  },
  {
   "cell_type": "code",
   "execution_count": null,
   "metadata": {},
   "outputs": [],
   "source": []
  },
  {
   "cell_type": "markdown",
   "metadata": {},
   "source": [
    "### Pesquisa aleatória (Random Search)"
   ]
  },
  {
   "cell_type": "code",
   "execution_count": 14,
   "metadata": {},
   "outputs": [],
   "source": [
    "def random_search(clf_rf, param_dist, X_train, y_train):\n",
    "    n_iter_search = 80\n",
    "    random_search = RandomizedSearchCV(clf_rf, param_distributions=param_dist, \n",
    "                                       n_iter=n_iter_search, verbose=1, n_jobs=-1)\n",
    "    \n",
    "    start = time()\n",
    "    random_search.fit(X_train, y_train)\n",
    "    print(\"RandomizedSearchCV levou %.2f segundos para %d candidatos\"\n",
    "      \" configurações de parâmetros.\" % ((time() - start), n_iter_search))\n",
    "    report(random_search.cv_results_)\n",
    "\n",
    "    return random_search"
   ]
  },
  {
   "cell_type": "markdown",
   "metadata": {},
   "source": [
    "### Dados de modelagem"
   ]
  },
  {
   "cell_type": "code",
   "execution_count": 82,
   "metadata": {},
   "outputs": [
    {
     "name": "stdout",
     "output_type": "stream",
     "text": [
      "Fitting 5 folds for each of 80 candidates, totalling 400 fits\n"
     ]
    },
    {
     "name": "stderr",
     "output_type": "stream",
     "text": [
      "[Parallel(n_jobs=-1)]: Using backend LokyBackend with 4 concurrent workers.\n",
      "[Parallel(n_jobs=-1)]: Done  76 tasks      | elapsed:    1.3s\n",
      "[Parallel(n_jobs=-1)]: Done 376 tasks      | elapsed:    5.8s\n",
      "[Parallel(n_jobs=-1)]: Done 400 out of 400 | elapsed:    6.2s finished\n",
      "[Parallel(n_jobs=-1)]: Using backend LokyBackend with 4 concurrent workers.\n"
     ]
    },
    {
     "name": "stdout",
     "output_type": "stream",
     "text": [
      "RandomizedSearchCV levou 6.30 segundos para 80 candidatos configurações de parâmetros.\n",
      "Modelo com classificação: 1\n",
      "Escore médio de validação: 0.824 (std: 0.054)\n",
      "Parametros: {'random_state': 24, 'kernel': 'poly', 'gamma': 0.01, 'C': 500}\n",
      "\n",
      "Modelo com classificação: 1\n",
      "Escore médio de validação: 0.824 (std: 0.054)\n",
      "Parametros: {'random_state': 24, 'kernel': 'poly', 'gamma': 0.01, 'C': 750}\n",
      "\n",
      "Modelo com classificação: 1\n",
      "Escore médio de validação: 0.824 (std: 0.054)\n",
      "Parametros: {'random_state': 24, 'kernel': 'poly', 'gamma': 0.01, 'C': 250}\n",
      "\n",
      "Modelo com classificação: 1\n",
      "Escore médio de validação: 0.824 (std: 0.054)\n",
      "Parametros: {'random_state': 24, 'kernel': 'poly', 'gamma': 0.01, 'C': 1000}\n",
      "\n",
      "Modelo com classificação: 1\n",
      "Escore médio de validação: 0.824 (std: 0.054)\n",
      "Parametros: {'random_state': 24, 'kernel': 'poly', 'gamma': 0.1, 'C': 100}\n",
      "\n",
      "Modelo com classificação: 1\n",
      "Escore médio de validação: 0.824 (std: 0.054)\n",
      "Parametros: {'random_state': 24, 'kernel': 'poly', 'gamma': 0.1, 'C': 500}\n",
      "\n",
      "Modelo com classificação: 1\n",
      "Escore médio de validação: 0.824 (std: 0.054)\n",
      "Parametros: {'random_state': 24, 'kernel': 'poly', 'gamma': 0.1, 'C': 1000}\n",
      "\n",
      "Modelo com classificação: 1\n",
      "Escore médio de validação: 0.824 (std: 0.054)\n",
      "Parametros: {'random_state': 24, 'kernel': 'poly', 'gamma': 0.1, 'C': 250}\n",
      "\n",
      "Fitting 5 folds for each of 30 candidates, totalling 150 fits\n"
     ]
    },
    {
     "name": "stderr",
     "output_type": "stream",
     "text": [
      "[Parallel(n_jobs=-1)]: Done  76 tasks      | elapsed:    1.2s\n",
      "[Parallel(n_jobs=-1)]: Done 143 out of 150 | elapsed:    2.4s remaining:    0.0s\n",
      "[Parallel(n_jobs=-1)]: Done 150 out of 150 | elapsed:    2.5s finished\n"
     ]
    },
    {
     "name": "stdout",
     "output_type": "stream",
     "text": [
      "GridSearchCV levou 2.68 segundos para 20 candidatos configurações de parâmetros.\n",
      "Modelo com classificação: 1\n",
      "Escore médio de validação: 0.875 (std: 0.056)\n",
      "Parametros: {'C': 350, 'gamma': 0.01, 'kernel': 'poly', 'random_state': 24}\n",
      "\n",
      "Modelo com classificação: 1\n",
      "Escore médio de validação: 0.875 (std: 0.056)\n",
      "Parametros: {'C': 350, 'gamma': 0.11, 'kernel': 'poly', 'random_state': 24}\n",
      "\n",
      "Modelo com classificação: 1\n",
      "Escore médio de validação: 0.875 (std: 0.056)\n",
      "Parametros: {'C': 350, 'gamma': 0.02, 'kernel': 'poly', 'random_state': 24}\n",
      "\n",
      "Modelo com classificação: 1\n",
      "Escore médio de validação: 0.875 (std: 0.056)\n",
      "Parametros: {'C': 400, 'gamma': 0.01, 'kernel': 'poly', 'random_state': 24}\n",
      "\n",
      "Modelo com classificação: 1\n",
      "Escore médio de validação: 0.875 (std: 0.056)\n",
      "Parametros: {'C': 400, 'gamma': 0.11, 'kernel': 'poly', 'random_state': 24}\n",
      "\n",
      "Modelo com classificação: 1\n",
      "Escore médio de validação: 0.875 (std: 0.056)\n",
      "Parametros: {'C': 400, 'gamma': 0.02, 'kernel': 'poly', 'random_state': 24}\n",
      "\n",
      "Modelo com classificação: 1\n",
      "Escore médio de validação: 0.875 (std: 0.056)\n",
      "Parametros: {'C': 500, 'gamma': 0.01, 'kernel': 'poly', 'random_state': 24}\n",
      "\n",
      "Modelo com classificação: 1\n",
      "Escore médio de validação: 0.875 (std: 0.056)\n",
      "Parametros: {'C': 500, 'gamma': 0.11, 'kernel': 'poly', 'random_state': 24}\n",
      "\n",
      "Modelo com classificação: 1\n",
      "Escore médio de validação: 0.875 (std: 0.056)\n",
      "Parametros: {'C': 500, 'gamma': 0.02, 'kernel': 'poly', 'random_state': 24}\n",
      "\n",
      "Modelo com classificação: 1\n",
      "Escore médio de validação: 0.875 (std: 0.056)\n",
      "Parametros: {'C': 600, 'gamma': 0.01, 'kernel': 'poly', 'random_state': 24}\n",
      "\n",
      "Modelo com classificação: 1\n",
      "Escore médio de validação: 0.875 (std: 0.056)\n",
      "Parametros: {'C': 600, 'gamma': 0.11, 'kernel': 'poly', 'random_state': 24}\n",
      "\n",
      "Modelo com classificação: 1\n",
      "Escore médio de validação: 0.875 (std: 0.056)\n",
      "Parametros: {'C': 600, 'gamma': 0.02, 'kernel': 'poly', 'random_state': 24}\n",
      "\n",
      "Modelo com classificação: 1\n",
      "Escore médio de validação: 0.875 (std: 0.056)\n",
      "Parametros: {'C': 650, 'gamma': 0.01, 'kernel': 'poly', 'random_state': 24}\n",
      "\n",
      "Modelo com classificação: 1\n",
      "Escore médio de validação: 0.875 (std: 0.056)\n",
      "Parametros: {'C': 650, 'gamma': 0.11, 'kernel': 'poly', 'random_state': 24}\n",
      "\n",
      "Modelo com classificação: 1\n",
      "Escore médio de validação: 0.875 (std: 0.056)\n",
      "Parametros: {'C': 650, 'gamma': 0.02, 'kernel': 'poly', 'random_state': 24}\n",
      "\n"
     ]
    }
   ],
   "source": [
    "kernel = ['rbf', 'linear', 'sigmoid', 'poly']\n",
    "class_weight = [100, 250, 500, 750, 1000]\n",
    "gamma = [0.1, 0.01, 0.001, 0.0001, 0.00001]\n",
    "random_state = [24]\n",
    "\n",
    "# Crie a grade aleatória\n",
    "random_param = {'kernel': kernel,\n",
    "              'C': class_weight,\n",
    "              'gamma': gamma,\n",
    "              'random_state': random_state}\n",
    "\n",
    "clf_svc = SVC(random_state=24).fit(X_train, y_train)\n",
    "\n",
    "svc_random = random_search(clf_svc, random_param, X_train, y_train);\n",
    "\n",
    "grid_params = {\n",
    "    'kernel': [svc_random.best_params_['kernel']],\n",
    "    'random_state': [svc_random.best_params_['random_state']], \n",
    "    'gamma': [svc_random.best_params_['gamma'] - 0.1, \n",
    "         svc_random.best_params_['gamma'] - 0.01, \n",
    "         svc_random.best_params_['gamma'], \n",
    "         svc_random.best_params_['gamma'] + 0.1, \n",
    "         svc_random.best_params_['gamma'] + 0.01,\n",
    "             'auto'],\n",
    "    'C': [svc_random.best_params_['C'] - 150, \n",
    "         svc_random.best_params_['C'] - 100, \n",
    "         svc_random.best_params_['C'], \n",
    "         svc_random.best_params_['C'] + 100, \n",
    "         svc_random.best_params_['C'] + 150]\n",
    "}\n",
    "\n",
    "svc_grid = grid_search(clf_svc, grid_params, X_train, y_train);"
   ]
  },
  {
   "cell_type": "code",
   "execution_count": 99,
   "metadata": {},
   "outputs": [
    {
     "name": "stdout",
     "output_type": "stream",
     "text": [
      "Baseline = 0.82\n",
      "\n",
      "Best param - Random search: {'random_state': 24, 'kernel': 'poly', 'gamma': 0.01, 'C': 500}\n",
      "Random search = 0.82\n",
      "\n",
      "Best param - Grid search: {'C': 350, 'gamma': 0.01, 'kernel': 'poly', 'random_state': 24}\n",
      "Grid search = 0.87\n"
     ]
    },
    {
     "data": {
      "image/png": "[encoded data removed]",
      "text/plain": [
       "<Figure size 432x288 with 1 Axes>"
      ]
     },
     "metadata": {
      "needs_background": "light"
     },
     "output_type": "display_data"
    }
   ],
   "source": [
    "baseline = cross_val_score(clf_svc, X_train, y_train).mean()\n",
    "y_gs = np.maximum.accumulate(svc_grid.cv_results_['mean_test_score'])\n",
    "y_rs = np.maximum.accumulate(svc_random.cv_results_['mean_test_score'])\n",
    "\n",
    "print(f'Baseline = {baseline:.2f}')\n",
    "\n",
    "print()\n",
    "print('Best param - Random search: %s' % svc_random.best_params_)\n",
    "print(f'Random search = %.2f' % svc_random.best_score_)\n",
    "\n",
    "print()\n",
    "print('Best param - Grid search: %s' % svc_grid.best_params_)\n",
    "print(f'Grid search = %.2f' % svc_grid.best_score_)\n",
    "\n",
    "plt.plot(y_gs, 'gs-', label='Grid search')\n",
    "plt.plot(y_rs, 'rs-', label='Random search')\n",
    "plt.xlabel('Iteration')\n",
    "plt.ylabel('score')\n",
    "plt.ylim(0, 1)\n",
    "plt.title('Valor da melhor pontuação CV amostrada');\n",
    "plt.legend();"
   ]
  },
  {
   "cell_type": "markdown",
   "metadata": {},
   "source": [
    "##### Modelo com w/ melhores parâmetros"
   ]
  },
  {
   "cell_type": "code",
   "execution_count": 84,
   "metadata": {},
   "outputs": [
    {
     "data": {
      "text/plain": [
       "SVC(C=350, break_ties=False, cache_size=200, class_weight=None, coef0=0.0,\n",
       "    decision_function_shape='ovr', degree=3, gamma=0.01, kernel='poly',\n",
       "    max_iter=-1, probability=True, random_state=24, shrinking=True, tol=0.001,\n",
       "    verbose=False)"
      ]
     },
     "execution_count": 84,
     "metadata": {},
     "output_type": "execute_result"
    }
   ],
   "source": [
    "svc_best = SVC(C=350, gamma=0.01, kernel='poly', random_state = 24, probability=True)\n",
    "svc_best.fit(X_train, y_train)"
   ]
  },
  {
   "cell_type": "markdown",
   "metadata": {},
   "source": [
    "##### Validação cruzada 5 vezes"
   ]
  },
  {
   "cell_type": "code",
   "execution_count": 85,
   "metadata": {},
   "outputs": [],
   "source": [
    "# Parametros\n",
    "pred = []\n",
    "ad = []\n",
    "index = []\n",
    "cross_val = StratifiedKFold(n_splits=5)\n",
    "\n",
    "# Faça um loop de 5 vezes\n",
    "for train_index, test_index in cross_val.split(X_train, y_train):    \n",
    "    fold_model = svc_best.fit(X_train.iloc[train_index], y_train[train_index])\n",
    "    fold_pred = svc_best.predict(X_train.iloc[test_index])\n",
    "    fold_ad = svc_best.predict_proba(X_train.iloc[test_index])\n",
    "    pred.append(fold_pred)\n",
    "    ad.append(fold_ad)\n",
    "    index.append(test_index)"
   ]
  },
  {
   "cell_type": "code",
   "execution_count": 86,
   "metadata": {},
   "outputs": [
    {
     "name": "stdout",
     "output_type": "stream",
     "text": [
      "\u001b[1mCaracterísticas estatísticas de validação cruzada externa de 5 vezes dos modelos QSAR desenvolvidos morgan\n",
      "\u001b[0m\n"
     ]
    },
    {
     "data": {
      "text/html": [
       "<div>\n",
       "<style scoped>\n",
       "    .dataframe tbody tr th:only-of-type {\n",
       "        vertical-align: middle;\n",
       "    }\n",
       "\n",
       "    .dataframe tbody tr th {\n",
       "        vertical-align: top;\n",
       "    }\n",
       "\n",
       "    .dataframe thead th {\n",
       "        text-align: right;\n",
       "    }\n",
       "</style>\n",
       "<table border=\"1\" class=\"dataframe\">\n",
       "  <thead>\n",
       "    <tr style=\"text-align: right;\">\n",
       "      <th></th>\n",
       "      <th>Kappa</th>\n",
       "      <th>CCR</th>\n",
       "      <th>Sensibilidade</th>\n",
       "      <th>PPV</th>\n",
       "      <th>Especificidade</th>\n",
       "      <th>NPV</th>\n",
       "      <th>Accuracy</th>\n",
       "      <th>F1 Score</th>\n",
       "      <th>Coverage</th>\n",
       "    </tr>\n",
       "  </thead>\n",
       "  <tbody>\n",
       "    <tr>\n",
       "      <th>Morgan</th>\n",
       "      <td>0.59</td>\n",
       "      <td>0.78</td>\n",
       "      <td>0.65</td>\n",
       "      <td>0.81</td>\n",
       "      <td>0.92</td>\n",
       "      <td>0.83</td>\n",
       "      <td>0.82</td>\n",
       "      <td>0.72</td>\n",
       "      <td>1.00</td>\n",
       "    </tr>\n",
       "    <tr>\n",
       "      <th>Morgan AD</th>\n",
       "      <td>0.71</td>\n",
       "      <td>0.83</td>\n",
       "      <td>0.71</td>\n",
       "      <td>0.89</td>\n",
       "      <td>0.96</td>\n",
       "      <td>0.87</td>\n",
       "      <td>0.88</td>\n",
       "      <td>0.79</td>\n",
       "      <td>0.65</td>\n",
       "    </tr>\n",
       "  </tbody>\n",
       "</table>\n",
       "</div>"
      ],
      "text/plain": [
       "           Kappa   CCR  Sensibilidade   PPV  Especificidade   NPV  Accuracy  \\\n",
       "Morgan      0.59  0.78           0.65  0.81            0.92  0.83      0.82   \n",
       "Morgan AD   0.71  0.83           0.71  0.89            0.96  0.87      0.88   \n",
       "\n",
       "           F1 Score  Coverage  \n",
       "Morgan         0.72      1.00  \n",
       "Morgan AD      0.79      0.65  "
      ]
     },
     "execution_count": 86,
     "metadata": {},
     "output_type": "execute_result"
    }
   ],
   "source": [
    "threshold_ad = 0.70\n",
    "\n",
    "# Preparar resultados para exportar    \n",
    "fold_index = np.concatenate(index)    \n",
    "fold_pred = np.concatenate(pred)\n",
    "fold_ad = np.concatenate(ad)\n",
    "fold_ad = (np.amax(fold_ad, axis=1) >= threshold_ad).astype(str)\n",
    "five_fold_morgan = pd.DataFrame({'Prediction': fold_pred,'AD': fold_ad}, index=list(fold_index))\n",
    "five_fold_morgan.AD[five_fold_morgan.AD == 'False'] = np.nan\n",
    "five_fold_morgan.AD[five_fold_morgan.AD == 'True'] = five_fold_morgan.Prediction\n",
    "five_fold_morgan.sort_index(inplace=True)\n",
    "five_fold_morgan['y_train'] = pd.DataFrame(y_train)\n",
    "five_fold_ad = five_fold_morgan.dropna().astype(int)\n",
    "coverage_5f = len(five_fold_ad) / len(five_fold_morgan)\n",
    "\n",
    "\n",
    "# estatísticas de morgan\n",
    "morgan = pd.DataFrame(stats(five_fold_morgan['y_train'], five_fold_morgan['Prediction']))\n",
    "morgan['Coverage'] = 1.0\n",
    "\n",
    "# estatísticas do morgan AD\n",
    "morgan_ad = five_fold_morgan.dropna(subset=['AD']).astype(int)\n",
    "coverage_morgan_ad = len(morgan_ad['AD']) / len(five_fold_morgan['y_train'])\n",
    "morgan_ad = pd.DataFrame(stats(morgan_ad['y_train'], morgan_ad['AD']))\n",
    "morgan_ad['Coverage'] = round(coverage_morgan_ad, 2)\n",
    "\n",
    "# imprimir estatísticas\n",
    "print('\\033[1m' + 'Características estatísticas de validação cruzada externa de 5 vezes dos modelos QSAR desenvolvidos morgan' + '\\n' + '\\033[0m')\n",
    "morgan_5f_stats = morgan.append(morgan_ad)\n",
    "morgan_5f_stats.set_index([['Morgan', 'Morgan AD']], drop=True, inplace=True)\n",
    "morgan_5f_stats"
   ]
  },
  {
   "cell_type": "markdown",
   "metadata": {},
   "source": [
    "##### Prever conjunto retido externo após o balanceamento"
   ]
  },
  {
   "cell_type": "code",
   "execution_count": 87,
   "metadata": {},
   "outputs": [],
   "source": [
    "moldf_ext = moldf_desc[(moldf_desc['Set'] == 'ext')]\n",
    "descriptor_list = list(X_train.columns.values)\n",
    "\n",
    "if len(moldf_ext) > 0:\n",
    "    y_ext = moldf_ext['Outcome'].to_numpy()\n",
    "    X_ext = moldf_ext[descriptors]\n",
    "    \n",
    "    # Filtrar descritores não presentes no modelo\n",
    "    X_ext = X_ext[descriptor_list]\n",
    "    \n",
    "    # Fazer previsões\n",
    "    ext_set = svc_best.predict(X_ext)\n",
    "    ext_set_ad = svc_best.predict_proba(X_ext)\n",
    "    ext_set_ad = (np.amax(ext_set_ad, axis=1) >= threshold_ad).astype(str)\n",
    "    \n",
    "    # Preparar dados\n",
    "    ext_set = pd.DataFrame({'Prediction': ext_set,'AD': ext_set_ad})\n",
    "    ext_set.AD[ext_set.AD == 'False'] = np.nan\n",
    "    ext_set.AD[ext_set.AD == 'True'] = ext_set.Prediction\n",
    "    ext_set.sort_index(inplace=True)\n",
    "    ext_set['y_ext'] = pd.DataFrame(y_ext)\n",
    "    ext_set_ad = ext_set.dropna().astype(int)\n",
    "    coverage_ext = len(ext_set_ad) / len(ext_set)\n",
    "    \n",
    "    # Imprimir estatísticas\n",
    "    ext_set_stats = pd.DataFrame(stats(ext_set.y_ext, ext_set.Prediction))\n",
    "    ext_set_stats['Coverage'] = 1.0\n",
    "    print('External withheld set: \\n', ext_set_stats.to_string(index=False), '\\n')\n",
    "    ext_set_stats_ad = pd.DataFrame(stats(ext_set_ad.y_ext, ext_set_ad.AD))\n",
    "    ext_set_stats_ad['Coverage'] = round(coverage_ext, 2)\n",
    "    print('External withheld set with AD: \\n', ext_set_stats_ad.to_string(index=False), '\\n')\n",
    "else:\n",
    "    pass"
   ]
  },
  {
   "cell_type": "markdown",
   "metadata": {},
   "source": [
    "##### Y-randomização"
   ]
  },
  {
   "cell_type": "code",
   "execution_count": 88,
   "metadata": {},
   "outputs": [
    {
     "name": "stderr",
     "output_type": "stream",
     "text": [
      "[Parallel(n_jobs=-1)]: Using backend LokyBackend with 4 concurrent workers.\n"
     ]
    },
    {
     "name": "stdout",
     "output_type": "stream",
     "text": [
      "True score =  0.78 \n",
      "Y-randomization =  0.51 \n",
      "p-value =  0.0476\n"
     ]
    },
    {
     "name": "stderr",
     "output_type": "stream",
     "text": [
      "[Parallel(n_jobs=-1)]: Done  20 out of  20 | elapsed:    4.6s finished\n"
     ]
    }
   ],
   "source": [
    "permutations = 20\n",
    "score, permutation_scores, pvalue = permutation_test_score(svc_best, X_train, y_train,\n",
    "                                                           cv=5, scoring='balanced_accuracy',\n",
    "                                                           n_permutations=permutations,\n",
    "                                                           n_jobs=-1,\n",
    "                                                           verbose=1,\n",
    "                                                           random_state=24)\n",
    "print('True score = ', score.round(2),\n",
    "      '\\nY-randomization = ', np.mean(permutation_scores).round(2),\n",
    "      '\\np-value = ', pvalue.round(4))"
   ]
  },
  {
   "cell_type": "markdown",
   "metadata": {},
   "source": [
    "##### Salvar modelo"
   ]
  },
  {
   "cell_type": "code",
   "execution_count": 89,
   "metadata": {},
   "outputs": [],
   "source": [
    "with gzip.GzipFile('model/sars-cov-3clpro-morgan_SVM_ad_balanced.pgz', 'w') as f:\n",
    "    cPickle.dump(svc_best, f)"
   ]
  },
  {
   "cell_type": "markdown",
   "metadata": {},
   "source": [
    "### Exportar previsões"
   ]
  },
  {
   "cell_type": "code",
   "execution_count": 90,
   "metadata": {},
   "outputs": [],
   "source": [
    "pred_train = moldf_train[moldf_train.columns.difference(descriptor_list)]\n",
    "pred_train.reset_index(inplace=True)\n",
    "five_fold_exp = five_fold_morgan[['Prediction', 'AD']].rename(columns={'Prediction':'morgan', 'AD':'morgan_ad'}, )\n",
    "pred_train = pd.concat([pred_train, five_fold_exp], axis=1)\n",
    "pred_train['Set'] = 'train'\n",
    "\n",
    "if len(moldf_ext) > 0:\n",
    "    pred_ext = moldf_ext[moldf_ext.columns.difference(descriptor_list)]\n",
    "    pred_ext.reset_index(inplace=True)\n",
    "    ext_set_exp = ext_set[['Prediction', 'AD']].rename(columns={'Prediction':'morgan', 'AD':'morgan_ad'}, )\n",
    "    pred_ext = pd.concat([pred_ext, ext_set_exp], axis=1)\n",
    "    pred_ext['Set'] = 'ext'\n",
    "    \n",
    "    pred_morgan = pd.concat([pred_train, pred_ext], axis=0).sort_values(by='index')\n",
    "    pred_morgan.drop(columns=['index', 'Mol', 'ID'], inplace=True)\n",
    "\n",
    "else:\n",
    "    pred_morgan = pred_train.copy()\n",
    "    pred_morgan.drop(columns=['index', 'Mol', 'ID'], inplace=True)\n",
    "    \n",
    "#for col in ['Outcome', 'morgan', 'morgan_ad']:\n",
    "#    pred_morgan[col].replace(0,'Inactive', inplace=True)\n",
    "#    pred_morgan[col].replace(1,'Active', inplace=True)"
   ]
  },
  {
   "cell_type": "code",
   "execution_count": 91,
   "metadata": {},
   "outputs": [],
   "source": [
    "with pd.ExcelWriter('predictions-svm-morgan.xlsx') as writer:\n",
    "    pred_morgan.to_excel(writer, sheet_name='morgan', index=False)"
   ]
  },
  {
   "cell_type": "markdown",
   "metadata": {},
   "source": [
    "### Plotando as Estatísticas"
   ]
  },
  {
   "cell_type": "code",
   "execution_count": 92,
   "metadata": {},
   "outputs": [
    {
     "data": {
      "text/html": [
       "<div>\n",
       "<style scoped>\n",
       "    .dataframe tbody tr th:only-of-type {\n",
       "        vertical-align: middle;\n",
       "    }\n",
       "\n",
       "    .dataframe tbody tr th {\n",
       "        vertical-align: top;\n",
       "    }\n",
       "\n",
       "    .dataframe thead th {\n",
       "        text-align: right;\n",
       "    }\n",
       "</style>\n",
       "<table border=\"1\" class=\"dataframe\">\n",
       "  <thead>\n",
       "    <tr style=\"text-align: right;\">\n",
       "      <th></th>\n",
       "      <th>Kappa</th>\n",
       "      <th>CCR</th>\n",
       "      <th>Sensibilidade</th>\n",
       "      <th>PPV</th>\n",
       "      <th>Especificidade</th>\n",
       "      <th>NPV</th>\n",
       "      <th>Accuracy</th>\n",
       "      <th>F1 Score</th>\n",
       "      <th>Coverage</th>\n",
       "    </tr>\n",
       "  </thead>\n",
       "  <tbody>\n",
       "    <tr>\n",
       "      <th>Morgan</th>\n",
       "      <td>0.59</td>\n",
       "      <td>0.78</td>\n",
       "      <td>0.65</td>\n",
       "      <td>0.81</td>\n",
       "      <td>0.92</td>\n",
       "      <td>0.83</td>\n",
       "      <td>0.82</td>\n",
       "      <td>0.72</td>\n",
       "      <td>1.00</td>\n",
       "    </tr>\n",
       "    <tr>\n",
       "      <th>Morgan AD</th>\n",
       "      <td>0.71</td>\n",
       "      <td>0.83</td>\n",
       "      <td>0.71</td>\n",
       "      <td>0.89</td>\n",
       "      <td>0.96</td>\n",
       "      <td>0.87</td>\n",
       "      <td>0.88</td>\n",
       "      <td>0.79</td>\n",
       "      <td>0.65</td>\n",
       "    </tr>\n",
       "  </tbody>\n",
       "</table>\n",
       "</div>"
      ],
      "text/plain": [
       "           Kappa   CCR  Sensibilidade   PPV  Especificidade   NPV  Accuracy  \\\n",
       "Morgan      0.59  0.78           0.65  0.81            0.92  0.83      0.82   \n",
       "Morgan AD   0.71  0.83           0.71  0.89            0.96  0.87      0.88   \n",
       "\n",
       "           F1 Score  Coverage  \n",
       "Morgan         0.72      1.00  \n",
       "Morgan AD      0.79      0.65  "
      ]
     },
     "execution_count": 92,
     "metadata": {},
     "output_type": "execute_result"
    }
   ],
   "source": [
    "# Exportar estatísticas\n",
    "if len(moldf_ext) > 0:\n",
    "    morgan_stats = pd.concat([morgan, morgan_ad], axis=0)\n",
    "    morgan_stats.set_index([['5-fold CV', 'External withheld set']], drop=True, inplace=True)\n",
    "    morgan_stats\n",
    "else:\n",
    "    morgan_stats = morgan_5f_stats.copy()\n",
    "    morgan_stats"
   ]
  },
  {
   "cell_type": "code",
   "execution_count": 93,
   "metadata": {},
   "outputs": [
    {
     "data": {
      "image/png": "[encoded data removed]",
      "text/plain": [
       "<Figure size 720x432 with 1 Axes>"
      ]
     },
     "metadata": {
      "needs_background": "light"
     },
     "output_type": "display_data"
    }
   ],
   "source": [
    "# Estatísticas de transposição\n",
    "morgan_stats_t = morgan_stats.T\n",
    "morgan_stats_t = morgan_stats_t.reset_index()\n",
    "morgan_stats_t = morgan_stats_t.rename(columns={'index': 'Stats'})\n",
    "\n",
    "# Fazer enredo\n",
    "plt.style.use('seaborn-colorblind')\n",
    "fig, ax1 = plt.subplots(figsize=(10,6))\n",
    "\n",
    "morgan_stats_t.plot(kind='bar', ax=ax1, width=0.8)\n",
    "ax1.set_xticklabels(labels=morgan_stats_t['Stats'].tolist(), fontsize=14, rotation=0)\n",
    "ax1.axhline(y=.6, color='indianred', ls='dashed')# xmin=0.25, xmax=0.75)\n",
    "ax1.legend_.remove()\n",
    "plt.title('Características estatísticas', fontsize=16)\n",
    "ax1.set_yticks(np.arange(0, 1.1, 0.1))\n",
    "ax1.tick_params(labelsize=12)\n",
    "\n",
    "handles, labels = ax1.get_legend_handles_labels()\n",
    "ax1.legend(handles, labels, fontsize=16,\n",
    "            loc='upper center', bbox_to_anchor=(0.5, -0.07), fancybox=True,\n",
    "            shadow=True, ncol=2)\n",
    "fig.tight_layout()\n",
    "\n",
    "plt.savefig('statistics-morgan.png', bbox_inches='tight',\n",
    "            transparent=False, format='png', dpi=300)\n",
    "plt.show();"
   ]
  },
  {
   "cell_type": "code",
   "execution_count": null,
   "metadata": {},
   "outputs": [],
   "source": []
  }
 ],
 "metadata": {
  "kernelspec": {
   "display_name": "Python 3",
   "language": "python",
   "name": "python3"
  },
  "language_info": {
   "codemirror_mode": {
    "name": "ipython",
    "version": 3
   },
   "file_extension": ".py",
   "mimetype": "text/x-python",
   "name": "python",
   "nbconvert_exporter": "python",
   "pygments_lexer": "ipython3",
   "version": "3.7.6"
  }
 },
 "nbformat": 4,
 "nbformat_minor": 4
}
