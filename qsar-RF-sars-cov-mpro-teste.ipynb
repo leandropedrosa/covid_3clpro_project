{
 "cells": [
  {
   "cell_type": "markdown",
   "metadata": {},
   "source": [
    "# Modelos QSAR-RF para protease principal 3C-like protease (M<sup>pro</sup>) de SARS-CoV"
   ]
  },
  {
   "cell_type": "markdown",
   "metadata": {},
   "source": [
    "Os modelos nesse fluxo de trabalho foram criados usando as PaDEL-Descriptor, Impressões digitais de Morgan, SiRMS (Simplex Representation of Molecular Structure) e Drangon 7.0 com Random Forest scikit-learn."
   ]
  },
  {
   "cell_type": "markdown",
   "metadata": {},
   "source": [
    "## Importando Módulos e Funções"
   ]
  },
  {
   "cell_type": "code",
   "execution_count": 39,
   "metadata": {},
   "outputs": [],
   "source": [
    "import numpy as np\n",
    "# Descritores\n",
    "from functions.DescritoresMorgan import morgan_descriptors\n",
    "from functions.DescritoresPaDEL import padel_descriptors\n",
    "from functions.DescritoresSiRMS import sirms_descriptors\n",
    "from functions.DescritoresDragon import dragon_descriptors\n",
    "\n",
    "# Validação cruzada aninhada\n",
    "from sklearn.model_selection import KFold\n",
    "from sklearn.model_selection import GridSearchCV\n",
    "from sklearn.metrics import accuracy_score\n",
    "from sklearn.model_selection import train_test_split \n",
    "\n",
    "# Funções\n",
    "from functions.BalanceBySim import *\n",
    "from scipy import stats\n",
    "\n",
    "# Hyperparameter Optimization\n",
    "from sklearn.model_selection import GridSearchCV, RandomizedSearchCV\n",
    "\n",
    "# RandomForest\n",
    "from sklearn.ensemble import RandomForestClassifier\n",
    "\n",
    "# Funções apoio\n",
    "from functions.CarregarDados import carregar_dados"
   ]
  },
  {
   "cell_type": "markdown",
   "metadata": {},
   "source": [
    "## Carregar compostos inibidores (Y)"
   ]
  },
  {
   "cell_type": "code",
   "execution_count": 26,
   "metadata": {},
   "outputs": [
    {
     "name": "stdout",
     "output_type": "stream",
     "text": [
      "Original data:  (113, 11)\n",
      "Dados mantidos:  (113, 11)\n",
      "\u001b[1mForma do conjunto de treinamento:\n",
      "\u001b[0m\n",
      "\t\t Classe 1: 40\n",
      "\t\t Classe 0: 73\n",
      "\t\t Número total de compostos: 113\n",
      "Class labels: [Counter({0: 73, 1: 40})]\n"
     ]
    },
    {
     "data": {
      "image/png": "[encoded data removed]",
      "text/plain": [
       "<Figure size 432x288 with 1 Axes>"
      ]
     },
     "metadata": {
      "needs_background": "light"
     },
     "output_type": "display_data"
    },
    {
     "data": {
      "image/png": "[encoded data removed]",
      "text/plain": [
       "<Figure size 432x288 with 1 Axes>"
      ]
     },
     "metadata": {
      "needs_background": "light"
     },
     "output_type": "display_data"
    }
   ],
   "source": [
    "moldf = carregar_dados();\n",
    "moldf.plot(kind=\"hist\", legend=None, bins=20, color='k')\n",
    "moldf.plot(kind=\"kde\", legend=None);"
   ]
  },
  {
   "cell_type": "markdown",
   "metadata": {},
   "source": [
    "#### Morgan-Descriptor"
   ]
  },
  {
   "cell_type": "code",
   "execution_count": 27,
   "metadata": {},
   "outputs": [
    {
     "name": "stdout",
     "output_type": "stream",
     "text": [
      "\u001b[1mForma do conjunto de treinamento:\n",
      "\u001b[0m\n",
      "\t\t Classe 1: 40\n",
      "\t\t Classe 0: 73\n",
      "\t\t Número total de compostos: 113\n",
      "Class labels: [Counter({0: 73, 1: 40})]\n",
      "Forma do conjunto de treinamento: Counter({0: 73, 1: 40})\n",
      "Forma externa definida: Counter()\n"
     ]
    },
    {
     "data": {
      "text/plain": [
       "(113, 2048)"
      ]
     },
     "execution_count": 27,
     "metadata": {},
     "output_type": "execute_result"
    }
   ],
   "source": [
    "data_morgan = morgan_descriptors(moldf)\n",
    "Y_train_morgan = data_morgan['Y_train']\n",
    "X_train_morgan = data_morgan['X_train']\n",
    "X_train_morgan.shape"
   ]
  },
  {
   "cell_type": "markdown",
   "metadata": {},
   "source": [
    "#### PaDEL-Descriptor"
   ]
  },
  {
   "cell_type": "code",
   "execution_count": null,
   "metadata": {},
   "outputs": [],
   "source": [
    "data_padel = padel_descriptors(moldf)\n",
    "Y_train_padel = data_padel['Y_train']\n",
    "X_train_padel = data_padel['X_train']\n",
    "X_train_padel.shape"
   ]
  },
  {
   "cell_type": "markdown",
   "metadata": {},
   "source": [
    "#### SiRMS (Simplex Representation of Molecular Structure)"
   ]
  },
  {
   "cell_type": "code",
   "execution_count": null,
   "metadata": {},
   "outputs": [],
   "source": [
    "data_sirms = sirms_descriptors(moldf)\n",
    "Y_train_sirms = data_sirms['Y_train']\n",
    "X_train_sirms = data_sirms['X_train']\n",
    "X_train_sirms.shape"
   ]
  },
  {
   "cell_type": "markdown",
   "metadata": {},
   "source": [
    "#### Drangon 7.0"
   ]
  },
  {
   "cell_type": "code",
   "execution_count": null,
   "metadata": {},
   "outputs": [],
   "source": [
    "data_dragon = dragon_descriptors(moldf)\n",
    "Y_train_dragon = data_dragon['Y_train']\n",
    "X_train_dragon = data_dragon['X_train']\n",
    "X_train_dragon.shape"
   ]
  },
  {
   "cell_type": "markdown",
   "metadata": {},
   "source": [
    "## Parâmetros p/ geração dos modelos"
   ]
  },
  {
   "cell_type": "markdown",
   "metadata": {},
   "source": [
    "#### Parâmetros Random Forest "
   ]
  },
  {
   "cell_type": "code",
   "execution_count": 43,
   "metadata": {},
   "outputs": [],
   "source": [
    "from scipy.stats import expon, randint\n",
    "\n",
    "balance_data = 'no'\n",
    "if balance_data == 'yes':\n",
    "    class_weight = [None]\n",
    "else:\n",
    "    class_weight = [None,'balanced',\n",
    "                    {0:.9, 1:.1}, {0:.8, 1:.2}, {0:.7, 1:.3}, {0:.6, 1:.4},\n",
    "                    {0:.4, 1:.6}, {0:.3, 1:.7}, {0:.2, 1:.8}, {0:.1, 1:.9}]\n",
    "\n",
    "# Grade de parametros\n",
    "gs_param = {\n",
    "    \"n_estimators\": [100, 250, 500, 750, 1000],\n",
    "    \"max_features\": ['auto', 'sqrt'],\n",
    "    \"criterion\": ['gini', 'entropy'],\n",
    "    \"random_state\": [24],\n",
    "    \"class_weight\": class_weight,\n",
    "}\n",
    "\n",
    "# Distribuição de parametros\n",
    "rs_dist = {\"bootstrap\": [True],\n",
    "        \"max_depth\": randint(6, 10, 14),\n",
    "        \"max_features\": ['auto', 'sqrt','log2'],\n",
    "        \"min_samples_leaf\": randint(2, 3, 4),\n",
    "        \"min_samples_split\": randint(2, 3, 5),\n",
    "        \"n_estimators\": randint(100, 500, 1000)\n",
    "}"
   ]
  },
  {
   "cell_type": "markdown",
   "metadata": {},
   "source": [
    "## Otimizando hiperparâmetros"
   ]
  },
  {
   "cell_type": "markdown",
   "metadata": {},
   "source": [
    "#### Morgan"
   ]
  },
  {
   "cell_type": "code",
   "execution_count": 47,
   "metadata": {},
   "outputs": [
    {
     "name": "stdout",
     "output_type": "stream",
     "text": [
      "Acc Validação: 0.7 | Acc Teste: 0.66\n",
      "Parâmetros do melhor modelo para o fold atual(externo):  {'bootstrap': True, 'max_depth': 21, 'max_features': 'auto', 'min_samples_leaf': 6, 'min_samples_split': 7, 'n_estimators': 1246}\n",
      "Acc Validação: 0.67 | Acc Teste: 0.71\n",
      "Parâmetros do melhor modelo para o fold atual(externo):  {'bootstrap': True, 'max_depth': 23, 'max_features': 'auto', 'min_samples_leaf': 6, 'min_samples_split': 7, 'n_estimators': 1451}\n",
      "Acc Validação: 0.68 | Acc Teste: 0.68\n",
      "Parâmetros do melhor modelo para o fold atual(externo):  {'bootstrap': True, 'max_depth': 21, 'max_features': 'auto', 'min_samples_leaf': 6, 'min_samples_split': 7, 'n_estimators': 1308}\n",
      "Acc Validação: 0.67 | Acc Teste: 0.79\n",
      "Parâmetros do melhor modelo para o fold atual(externo):  {'bootstrap': True, 'max_depth': 23, 'max_features': 'auto', 'min_samples_leaf': 6, 'min_samples_split': 7, 'n_estimators': 1361}\n"
     ]
    }
   ],
   "source": [
    "n_folds = 4 # cv folds externos\n",
    "k_folds = 5 # cv folds internos\n",
    "p_grid = {'hidden_layer_sizes':[4,8,16,32,64,128]}\n",
    "# define cv externo\n",
    "cv_outer = KFold(n_folds, shuffle=True)\n",
    "test_acc_results = list()\n",
    "train_x, test_x, train_y, test_y = train_test_split(X_train_morgan, Y_train_morgan, test_size=0.2,)\n",
    "# loop CV externo \n",
    "for train_i, test_i in cv_outer.split(X_train_morgan):\n",
    "  # usa indices para pegar os dados efetivamente\n",
    "    train_x, train_y = X_train_morgan.iloc[train_i], Y_train_morgan[train_i]\n",
    "    test_x, test_y = X_train_morgan.iloc[test_i], Y_train_morgan[test_i]\n",
    "    # modelo base\n",
    "    model = RandomForestClassifier()\n",
    "    # cross validation interno (variando conjunto de validação) \n",
    "    random_search_cv = RandomizedSearchCV(model, rs_dist, cv=k_folds, scoring='accuracy', refit=True)\n",
    "    result = random_search_cv.fit(train_x, train_y)\n",
    "    # retreina melhor modelo  com (treino + validação)\n",
    "    best_model = result.best_estimator_\n",
    "    # faz a previsão no fold de teste \n",
    "    pred_y = best_model.predict(test_x) \n",
    "    # avalia o modelo e armazena o resultado\n",
    "    test_acc = accuracy_score(test_y, pred_y)\n",
    "    test_acc_results.append(test_acc) \n",
    "    \n",
    "    print('Acc Validação: {:.2} | Acc Teste: {:.2}'.format(result.best_score_, test_acc))\n",
    "    print('Parâmetros do melhor modelo para o fold atual(externo): ', result.best_params_)"
   ]
  },
  {
   "cell_type": "code",
   "execution_count": 46,
   "metadata": {},
   "outputs": [
    {
     "name": "stderr",
     "output_type": "stream",
     "text": [
      "C:\\Users\\Renata\\anaconda3\\lib\\site-packages\\sklearn\\neural_network\\_multilayer_perceptron.py:617: ConvergenceWarning: Stochastic Optimizer: Maximum iterations (200) reached and the optimization hasn't converged yet.\n",
      "  % self.max_iter, ConvergenceWarning)\n",
      "C:\\Users\\Renata\\anaconda3\\lib\\site-packages\\sklearn\\neural_network\\_multilayer_perceptron.py:617: ConvergenceWarning: Stochastic Optimizer: Maximum iterations (200) reached and the optimization hasn't converged yet.\n",
      "  % self.max_iter, ConvergenceWarning)\n",
      "C:\\Users\\Renata\\anaconda3\\lib\\site-packages\\sklearn\\neural_network\\_multilayer_perceptron.py:617: ConvergenceWarning: Stochastic Optimizer: Maximum iterations (200) reached and the optimization hasn't converged yet.\n",
      "  % self.max_iter, ConvergenceWarning)\n",
      "C:\\Users\\Renata\\anaconda3\\lib\\site-packages\\sklearn\\neural_network\\_multilayer_perceptron.py:617: ConvergenceWarning: Stochastic Optimizer: Maximum iterations (200) reached and the optimization hasn't converged yet.\n",
      "  % self.max_iter, ConvergenceWarning)\n",
      "C:\\Users\\Renata\\anaconda3\\lib\\site-packages\\sklearn\\neural_network\\_multilayer_perceptron.py:617: ConvergenceWarning: Stochastic Optimizer: Maximum iterations (200) reached and the optimization hasn't converged yet.\n",
      "  % self.max_iter, ConvergenceWarning)\n",
      "C:\\Users\\Renata\\anaconda3\\lib\\site-packages\\sklearn\\neural_network\\_multilayer_perceptron.py:617: ConvergenceWarning: Stochastic Optimizer: Maximum iterations (200) reached and the optimization hasn't converged yet.\n",
      "  % self.max_iter, ConvergenceWarning)\n",
      "C:\\Users\\Renata\\anaconda3\\lib\\site-packages\\sklearn\\neural_network\\_multilayer_perceptron.py:617: ConvergenceWarning: Stochastic Optimizer: Maximum iterations (200) reached and the optimization hasn't converged yet.\n",
      "  % self.max_iter, ConvergenceWarning)\n",
      "C:\\Users\\Renata\\anaconda3\\lib\\site-packages\\sklearn\\neural_network\\_multilayer_perceptron.py:617: ConvergenceWarning: Stochastic Optimizer: Maximum iterations (200) reached and the optimization hasn't converged yet.\n",
      "  % self.max_iter, ConvergenceWarning)\n",
      "C:\\Users\\Renata\\anaconda3\\lib\\site-packages\\sklearn\\neural_network\\_multilayer_perceptron.py:617: ConvergenceWarning: Stochastic Optimizer: Maximum iterations (200) reached and the optimization hasn't converged yet.\n",
      "  % self.max_iter, ConvergenceWarning)\n"
     ]
    },
    {
     "name": "stdout",
     "output_type": "stream",
     "text": [
      "Acc Validação: 0.82 | Acc Teste: 0.69\n",
      "Parâmetros do melhor modelo para o fold atual(externo):  {'hidden_layer_sizes': 8}\n"
     ]
    },
    {
     "name": "stderr",
     "output_type": "stream",
     "text": [
      "C:\\Users\\Renata\\anaconda3\\lib\\site-packages\\sklearn\\neural_network\\_multilayer_perceptron.py:617: ConvergenceWarning: Stochastic Optimizer: Maximum iterations (200) reached and the optimization hasn't converged yet.\n",
      "  % self.max_iter, ConvergenceWarning)\n",
      "C:\\Users\\Renata\\anaconda3\\lib\\site-packages\\sklearn\\neural_network\\_multilayer_perceptron.py:617: ConvergenceWarning: Stochastic Optimizer: Maximum iterations (200) reached and the optimization hasn't converged yet.\n",
      "  % self.max_iter, ConvergenceWarning)\n",
      "C:\\Users\\Renata\\anaconda3\\lib\\site-packages\\sklearn\\neural_network\\_multilayer_perceptron.py:617: ConvergenceWarning: Stochastic Optimizer: Maximum iterations (200) reached and the optimization hasn't converged yet.\n",
      "  % self.max_iter, ConvergenceWarning)\n",
      "C:\\Users\\Renata\\anaconda3\\lib\\site-packages\\sklearn\\neural_network\\_multilayer_perceptron.py:617: ConvergenceWarning: Stochastic Optimizer: Maximum iterations (200) reached and the optimization hasn't converged yet.\n",
      "  % self.max_iter, ConvergenceWarning)\n",
      "C:\\Users\\Renata\\anaconda3\\lib\\site-packages\\sklearn\\neural_network\\_multilayer_perceptron.py:617: ConvergenceWarning: Stochastic Optimizer: Maximum iterations (200) reached and the optimization hasn't converged yet.\n",
      "  % self.max_iter, ConvergenceWarning)\n",
      "C:\\Users\\Renata\\anaconda3\\lib\\site-packages\\sklearn\\neural_network\\_multilayer_perceptron.py:617: ConvergenceWarning: Stochastic Optimizer: Maximum iterations (200) reached and the optimization hasn't converged yet.\n",
      "  % self.max_iter, ConvergenceWarning)\n",
      "C:\\Users\\Renata\\anaconda3\\lib\\site-packages\\sklearn\\neural_network\\_multilayer_perceptron.py:617: ConvergenceWarning: Stochastic Optimizer: Maximum iterations (200) reached and the optimization hasn't converged yet.\n",
      "  % self.max_iter, ConvergenceWarning)\n",
      "C:\\Users\\Renata\\anaconda3\\lib\\site-packages\\sklearn\\neural_network\\_multilayer_perceptron.py:617: ConvergenceWarning: Stochastic Optimizer: Maximum iterations (200) reached and the optimization hasn't converged yet.\n",
      "  % self.max_iter, ConvergenceWarning)\n",
      "C:\\Users\\Renata\\anaconda3\\lib\\site-packages\\sklearn\\neural_network\\_multilayer_perceptron.py:617: ConvergenceWarning: Stochastic Optimizer: Maximum iterations (200) reached and the optimization hasn't converged yet.\n",
      "  % self.max_iter, ConvergenceWarning)\n",
      "C:\\Users\\Renata\\anaconda3\\lib\\site-packages\\sklearn\\neural_network\\_multilayer_perceptron.py:617: ConvergenceWarning: Stochastic Optimizer: Maximum iterations (200) reached and the optimization hasn't converged yet.\n",
      "  % self.max_iter, ConvergenceWarning)\n"
     ]
    },
    {
     "name": "stdout",
     "output_type": "stream",
     "text": [
      "Acc Validação: 0.84 | Acc Teste: 0.71\n",
      "Parâmetros do melhor modelo para o fold atual(externo):  {'hidden_layer_sizes': 4}\n"
     ]
    },
    {
     "name": "stderr",
     "output_type": "stream",
     "text": [
      "C:\\Users\\Renata\\anaconda3\\lib\\site-packages\\sklearn\\neural_network\\_multilayer_perceptron.py:617: ConvergenceWarning: Stochastic Optimizer: Maximum iterations (200) reached and the optimization hasn't converged yet.\n",
      "  % self.max_iter, ConvergenceWarning)\n",
      "C:\\Users\\Renata\\anaconda3\\lib\\site-packages\\sklearn\\neural_network\\_multilayer_perceptron.py:617: ConvergenceWarning: Stochastic Optimizer: Maximum iterations (200) reached and the optimization hasn't converged yet.\n",
      "  % self.max_iter, ConvergenceWarning)\n",
      "C:\\Users\\Renata\\anaconda3\\lib\\site-packages\\sklearn\\neural_network\\_multilayer_perceptron.py:617: ConvergenceWarning: Stochastic Optimizer: Maximum iterations (200) reached and the optimization hasn't converged yet.\n",
      "  % self.max_iter, ConvergenceWarning)\n",
      "C:\\Users\\Renata\\anaconda3\\lib\\site-packages\\sklearn\\neural_network\\_multilayer_perceptron.py:617: ConvergenceWarning: Stochastic Optimizer: Maximum iterations (200) reached and the optimization hasn't converged yet.\n",
      "  % self.max_iter, ConvergenceWarning)\n",
      "C:\\Users\\Renata\\anaconda3\\lib\\site-packages\\sklearn\\neural_network\\_multilayer_perceptron.py:617: ConvergenceWarning: Stochastic Optimizer: Maximum iterations (200) reached and the optimization hasn't converged yet.\n",
      "  % self.max_iter, ConvergenceWarning)\n"
     ]
    },
    {
     "name": "stdout",
     "output_type": "stream",
     "text": [
      "Acc Validação: 0.75 | Acc Teste: 0.82\n",
      "Parâmetros do melhor modelo para o fold atual(externo):  {'hidden_layer_sizes': 32}\n"
     ]
    },
    {
     "name": "stderr",
     "output_type": "stream",
     "text": [
      "C:\\Users\\Renata\\anaconda3\\lib\\site-packages\\sklearn\\neural_network\\_multilayer_perceptron.py:617: ConvergenceWarning: Stochastic Optimizer: Maximum iterations (200) reached and the optimization hasn't converged yet.\n",
      "  % self.max_iter, ConvergenceWarning)\n",
      "C:\\Users\\Renata\\anaconda3\\lib\\site-packages\\sklearn\\neural_network\\_multilayer_perceptron.py:617: ConvergenceWarning: Stochastic Optimizer: Maximum iterations (200) reached and the optimization hasn't converged yet.\n",
      "  % self.max_iter, ConvergenceWarning)\n",
      "C:\\Users\\Renata\\anaconda3\\lib\\site-packages\\sklearn\\neural_network\\_multilayer_perceptron.py:617: ConvergenceWarning: Stochastic Optimizer: Maximum iterations (200) reached and the optimization hasn't converged yet.\n",
      "  % self.max_iter, ConvergenceWarning)\n",
      "C:\\Users\\Renata\\anaconda3\\lib\\site-packages\\sklearn\\neural_network\\_multilayer_perceptron.py:617: ConvergenceWarning: Stochastic Optimizer: Maximum iterations (200) reached and the optimization hasn't converged yet.\n",
      "  % self.max_iter, ConvergenceWarning)\n",
      "C:\\Users\\Renata\\anaconda3\\lib\\site-packages\\sklearn\\neural_network\\_multilayer_perceptron.py:617: ConvergenceWarning: Stochastic Optimizer: Maximum iterations (200) reached and the optimization hasn't converged yet.\n",
      "  % self.max_iter, ConvergenceWarning)\n",
      "C:\\Users\\Renata\\anaconda3\\lib\\site-packages\\sklearn\\neural_network\\_multilayer_perceptron.py:617: ConvergenceWarning: Stochastic Optimizer: Maximum iterations (200) reached and the optimization hasn't converged yet.\n",
      "  % self.max_iter, ConvergenceWarning)\n",
      "C:\\Users\\Renata\\anaconda3\\lib\\site-packages\\sklearn\\neural_network\\_multilayer_perceptron.py:617: ConvergenceWarning: Stochastic Optimizer: Maximum iterations (200) reached and the optimization hasn't converged yet.\n",
      "  % self.max_iter, ConvergenceWarning)\n",
      "C:\\Users\\Renata\\anaconda3\\lib\\site-packages\\sklearn\\neural_network\\_multilayer_perceptron.py:617: ConvergenceWarning: Stochastic Optimizer: Maximum iterations (200) reached and the optimization hasn't converged yet.\n",
      "  % self.max_iter, ConvergenceWarning)\n"
     ]
    },
    {
     "name": "stdout",
     "output_type": "stream",
     "text": [
      "Acc Validação: 0.78 | Acc Teste: 0.82\n",
      "Parâmetros do melhor modelo para o fold atual(externo):  {'hidden_layer_sizes': 8}\n"
     ]
    },
    {
     "name": "stderr",
     "output_type": "stream",
     "text": [
      "C:\\Users\\Renata\\anaconda3\\lib\\site-packages\\sklearn\\neural_network\\_multilayer_perceptron.py:617: ConvergenceWarning: Stochastic Optimizer: Maximum iterations (200) reached and the optimization hasn't converged yet.\n",
      "  % self.max_iter, ConvergenceWarning)\n"
     ]
    }
   ],
   "source": [
    "from sklearn.neural_network import MLPClassifier\n",
    "p_grid = {'hidden_layer_sizes':[4,8,16,32,64,128]}\n",
    "# define cv externo\n",
    "cv_outer = KFold(n_folds, shuffle=True)\n",
    "test_acc_results = list()\n",
    "# loop CV externo \n",
    "for train_i, test_i in cv_outer.split(X_train_morgan):\n",
    "  # usa indices para pegar os dados efetivamente\n",
    "    train_x, train_y = X_train_morgan.iloc[train_i], Y_train_morgan[train_i]\n",
    "    test_x, test_y = X_train_morgan.iloc[test_i], Y_train_morgan[test_i]\n",
    "    # modelo base\n",
    "    model = MLPClassifier()\n",
    "    # cross validation interno (variando conjunto de validação) \n",
    "    grid_search_cv = RandomizedSearchCV(model, p_grid, cv=k_folds, scoring='accuracy', refit=True)\n",
    "    result = grid_search_cv.fit(train_x, train_y)\n",
    "    # retreina melhor modelo  com (treino + validação)\n",
    "    best_model = result.best_estimator_\n",
    "    # faz a previsão no fold de teste \n",
    "    pred_y = best_model.predict(test_x) \n",
    "    # avalia o modelo e armazena o resultado\n",
    "    test_acc = accuracy_score(test_y, pred_y)\n",
    "    test_acc_results.append(test_acc) \n",
    "    \n",
    "    print('Acc Validação: {:.2} | Acc Teste: {:.2}'.format(result.best_score_, test_acc))\n",
    "    print('Parâmetros do melhor modelo para o fold atual(externo): ', result.best_params_)"
   ]
  },
  {
   "cell_type": "code",
   "execution_count": 54,
   "metadata": {},
   "outputs": [
    {
     "name": "stderr",
     "output_type": "stream",
     "text": [
      "C:\\Users\\Renata\\anaconda3\\lib\\site-packages\\xgboost\\sklearn.py:888: UserWarning: The use of label encoder in XGBClassifier is deprecated and will be removed in a future release. To remove this warning, do the following: 1) Pass option use_label_encoder=False when constructing XGBClassifier object; and 2) Encode your labels (y) as integers starting with 0, i.e. 0, 1, 2, ..., [num_class - 1].\n",
      "  warnings.warn(label_encoder_deprecation_msg, UserWarning)\n",
      "C:\\Users\\Renata\\anaconda3\\lib\\site-packages\\sklearn\\model_selection\\_validation.py:614: FitFailedWarning: Estimator fit failed. The score on this train-test partition for these parameters will be set to nan. Details: \n",
      "Traceback (most recent call last):\n",
      "  File \"C:\\Users\\Renata\\anaconda3\\lib\\site-packages\\sklearn\\model_selection\\_validation.py\", line 593, in _fit_and_score\n",
      "    estimator.fit(X_train, y_train, **fit_params)\n",
      "  File \"C:\\Users\\Renata\\anaconda3\\lib\\site-packages\\xgboost\\core.py\", line 422, in inner_f\n",
      "    return f(**kwargs)\n",
      "  File \"C:\\Users\\Renata\\anaconda3\\lib\\site-packages\\xgboost\\sklearn.py\", line 915, in fit\n",
      "    callbacks=callbacks)\n",
      "  File \"C:\\Users\\Renata\\anaconda3\\lib\\site-packages\\xgboost\\training.py\", line 235, in train\n",
      "    early_stopping_rounds=early_stopping_rounds)\n",
      "  File \"C:\\Users\\Renata\\anaconda3\\lib\\site-packages\\xgboost\\training.py\", line 102, in _train_internal\n",
      "    bst.update(dtrain, i, obj)\n",
      "  File \"C:\\Users\\Renata\\anaconda3\\lib\\site-packages\\xgboost\\core.py\", line 1282, in update\n",
      "    dtrain.handle))\n",
      "  File \"C:\\Users\\Renata\\anaconda3\\lib\\site-packages\\xgboost\\core.py\", line 189, in _check_call\n",
      "    raise XGBoostError(py_str(_LIB.XGBGetLastError()))\n",
      "xgboost.core.XGBoostError: value 1.12164 for Parameter subsample exceed bound [0,1]\n",
      "subsample: Row subsample ratio of training instance.\n",
      "\n",
      "  FitFailedWarning)\n",
      "C:\\Users\\Renata\\anaconda3\\lib\\site-packages\\xgboost\\sklearn.py:888: UserWarning: The use of label encoder in XGBClassifier is deprecated and will be removed in a future release. To remove this warning, do the following: 1) Pass option use_label_encoder=False when constructing XGBClassifier object; and 2) Encode your labels (y) as integers starting with 0, i.e. 0, 1, 2, ..., [num_class - 1].\n",
      "  warnings.warn(label_encoder_deprecation_msg, UserWarning)\n",
      "C:\\Users\\Renata\\anaconda3\\lib\\site-packages\\sklearn\\model_selection\\_validation.py:614: FitFailedWarning: Estimator fit failed. The score on this train-test partition for these parameters will be set to nan. Details: \n",
      "Traceback (most recent call last):\n",
      "  File \"C:\\Users\\Renata\\anaconda3\\lib\\site-packages\\sklearn\\model_selection\\_validation.py\", line 593, in _fit_and_score\n",
      "    estimator.fit(X_train, y_train, **fit_params)\n",
      "  File \"C:\\Users\\Renata\\anaconda3\\lib\\site-packages\\xgboost\\core.py\", line 422, in inner_f\n",
      "    return f(**kwargs)\n",
      "  File \"C:\\Users\\Renata\\anaconda3\\lib\\site-packages\\xgboost\\sklearn.py\", line 915, in fit\n",
      "    callbacks=callbacks)\n",
      "  File \"C:\\Users\\Renata\\anaconda3\\lib\\site-packages\\xgboost\\training.py\", line 235, in train\n",
      "    early_stopping_rounds=early_stopping_rounds)\n",
      "  File \"C:\\Users\\Renata\\anaconda3\\lib\\site-packages\\xgboost\\training.py\", line 102, in _train_internal\n",
      "    bst.update(dtrain, i, obj)\n",
      "  File \"C:\\Users\\Renata\\anaconda3\\lib\\site-packages\\xgboost\\core.py\", line 1282, in update\n",
      "    dtrain.handle))\n",
      "  File \"C:\\Users\\Renata\\anaconda3\\lib\\site-packages\\xgboost\\core.py\", line 189, in _check_call\n",
      "    raise XGBoostError(py_str(_LIB.XGBGetLastError()))\n",
      "xgboost.core.XGBoostError: value 1.12164 for Parameter subsample exceed bound [0,1]\n",
      "subsample: Row subsample ratio of training instance.\n",
      "\n",
      "  FitFailedWarning)\n",
      "C:\\Users\\Renata\\anaconda3\\lib\\site-packages\\xgboost\\sklearn.py:888: UserWarning: The use of label encoder in XGBClassifier is deprecated and will be removed in a future release. To remove this warning, do the following: 1) Pass option use_label_encoder=False when constructing XGBClassifier object; and 2) Encode your labels (y) as integers starting with 0, i.e. 0, 1, 2, ..., [num_class - 1].\n",
      "  warnings.warn(label_encoder_deprecation_msg, UserWarning)\n",
      "C:\\Users\\Renata\\anaconda3\\lib\\site-packages\\sklearn\\model_selection\\_validation.py:614: FitFailedWarning: Estimator fit failed. The score on this train-test partition for these parameters will be set to nan. Details: \n",
      "Traceback (most recent call last):\n",
      "  File \"C:\\Users\\Renata\\anaconda3\\lib\\site-packages\\sklearn\\model_selection\\_validation.py\", line 593, in _fit_and_score\n",
      "    estimator.fit(X_train, y_train, **fit_params)\n",
      "  File \"C:\\Users\\Renata\\anaconda3\\lib\\site-packages\\xgboost\\core.py\", line 422, in inner_f\n",
      "    return f(**kwargs)\n",
      "  File \"C:\\Users\\Renata\\anaconda3\\lib\\site-packages\\xgboost\\sklearn.py\", line 915, in fit\n",
      "    callbacks=callbacks)\n",
      "  File \"C:\\Users\\Renata\\anaconda3\\lib\\site-packages\\xgboost\\training.py\", line 235, in train\n",
      "    early_stopping_rounds=early_stopping_rounds)\n",
      "  File \"C:\\Users\\Renata\\anaconda3\\lib\\site-packages\\xgboost\\training.py\", line 102, in _train_internal\n",
      "    bst.update(dtrain, i, obj)\n",
      "  File \"C:\\Users\\Renata\\anaconda3\\lib\\site-packages\\xgboost\\core.py\", line 1282, in update\n",
      "    dtrain.handle))\n",
      "  File \"C:\\Users\\Renata\\anaconda3\\lib\\site-packages\\xgboost\\core.py\", line 189, in _check_call\n",
      "    raise XGBoostError(py_str(_LIB.XGBGetLastError()))\n",
      "xgboost.core.XGBoostError: value 1.12164 for Parameter subsample exceed bound [0,1]\n",
      "subsample: Row subsample ratio of training instance.\n",
      "\n",
      "  FitFailedWarning)\n",
      "C:\\Users\\Renata\\anaconda3\\lib\\site-packages\\xgboost\\sklearn.py:888: UserWarning: The use of label encoder in XGBClassifier is deprecated and will be removed in a future release. To remove this warning, do the following: 1) Pass option use_label_encoder=False when constructing XGBClassifier object; and 2) Encode your labels (y) as integers starting with 0, i.e. 0, 1, 2, ..., [num_class - 1].\n",
      "  warnings.warn(label_encoder_deprecation_msg, UserWarning)\n",
      "C:\\Users\\Renata\\anaconda3\\lib\\site-packages\\sklearn\\model_selection\\_validation.py:614: FitFailedWarning: Estimator fit failed. The score on this train-test partition for these parameters will be set to nan. Details: \n",
      "Traceback (most recent call last):\n",
      "  File \"C:\\Users\\Renata\\anaconda3\\lib\\site-packages\\sklearn\\model_selection\\_validation.py\", line 593, in _fit_and_score\n",
      "    estimator.fit(X_train, y_train, **fit_params)\n",
      "  File \"C:\\Users\\Renata\\anaconda3\\lib\\site-packages\\xgboost\\core.py\", line 422, in inner_f\n",
      "    return f(**kwargs)\n",
      "  File \"C:\\Users\\Renata\\anaconda3\\lib\\site-packages\\xgboost\\sklearn.py\", line 915, in fit\n",
      "    callbacks=callbacks)\n",
      "  File \"C:\\Users\\Renata\\anaconda3\\lib\\site-packages\\xgboost\\training.py\", line 235, in train\n",
      "    early_stopping_rounds=early_stopping_rounds)\n",
      "  File \"C:\\Users\\Renata\\anaconda3\\lib\\site-packages\\xgboost\\training.py\", line 102, in _train_internal\n",
      "    bst.update(dtrain, i, obj)\n",
      "  File \"C:\\Users\\Renata\\anaconda3\\lib\\site-packages\\xgboost\\core.py\", line 1282, in update\n",
      "    dtrain.handle))\n",
      "  File \"C:\\Users\\Renata\\anaconda3\\lib\\site-packages\\xgboost\\core.py\", line 189, in _check_call\n",
      "    raise XGBoostError(py_str(_LIB.XGBGetLastError()))\n",
      "xgboost.core.XGBoostError: value 1.12164 for Parameter subsample exceed bound [0,1]\n",
      "subsample: Row subsample ratio of training instance.\n",
      "\n",
      "  FitFailedWarning)\n",
      "C:\\Users\\Renata\\anaconda3\\lib\\site-packages\\xgboost\\sklearn.py:888: UserWarning: The use of label encoder in XGBClassifier is deprecated and will be removed in a future release. To remove this warning, do the following: 1) Pass option use_label_encoder=False when constructing XGBClassifier object; and 2) Encode your labels (y) as integers starting with 0, i.e. 0, 1, 2, ..., [num_class - 1].\n",
      "  warnings.warn(label_encoder_deprecation_msg, UserWarning)\n",
      "C:\\Users\\Renata\\anaconda3\\lib\\site-packages\\sklearn\\model_selection\\_validation.py:614: FitFailedWarning: Estimator fit failed. The score on this train-test partition for these parameters will be set to nan. Details: \n",
      "Traceback (most recent call last):\n",
      "  File \"C:\\Users\\Renata\\anaconda3\\lib\\site-packages\\sklearn\\model_selection\\_validation.py\", line 593, in _fit_and_score\n",
      "    estimator.fit(X_train, y_train, **fit_params)\n",
      "  File \"C:\\Users\\Renata\\anaconda3\\lib\\site-packages\\xgboost\\core.py\", line 422, in inner_f\n",
      "    return f(**kwargs)\n",
      "  File \"C:\\Users\\Renata\\anaconda3\\lib\\site-packages\\xgboost\\sklearn.py\", line 915, in fit\n",
      "    callbacks=callbacks)\n",
      "  File \"C:\\Users\\Renata\\anaconda3\\lib\\site-packages\\xgboost\\training.py\", line 235, in train\n",
      "    early_stopping_rounds=early_stopping_rounds)\n",
      "  File \"C:\\Users\\Renata\\anaconda3\\lib\\site-packages\\xgboost\\training.py\", line 102, in _train_internal\n",
      "    bst.update(dtrain, i, obj)\n",
      "  File \"C:\\Users\\Renata\\anaconda3\\lib\\site-packages\\xgboost\\core.py\", line 1282, in update\n",
      "    dtrain.handle))\n",
      "  File \"C:\\Users\\Renata\\anaconda3\\lib\\site-packages\\xgboost\\core.py\", line 189, in _check_call\n",
      "    raise XGBoostError(py_str(_LIB.XGBGetLastError()))\n",
      "xgboost.core.XGBoostError: value 1.12164 for Parameter subsample exceed bound [0,1]\n",
      "subsample: Row subsample ratio of training instance.\n",
      "\n",
      "  FitFailedWarning)\n",
      "C:\\Users\\Renata\\anaconda3\\lib\\site-packages\\xgboost\\sklearn.py:888: UserWarning: The use of label encoder in XGBClassifier is deprecated and will be removed in a future release. To remove this warning, do the following: 1) Pass option use_label_encoder=False when constructing XGBClassifier object; and 2) Encode your labels (y) as integers starting with 0, i.e. 0, 1, 2, ..., [num_class - 1].\n",
      "  warnings.warn(label_encoder_deprecation_msg, UserWarning)\n"
     ]
    },
    {
     "name": "stderr",
     "output_type": "stream",
     "text": [
      "C:\\Users\\Renata\\anaconda3\\lib\\site-packages\\sklearn\\model_selection\\_validation.py:614: FitFailedWarning: Estimator fit failed. The score on this train-test partition for these parameters will be set to nan. Details: \n",
      "Traceback (most recent call last):\n",
      "  File \"C:\\Users\\Renata\\anaconda3\\lib\\site-packages\\sklearn\\model_selection\\_validation.py\", line 593, in _fit_and_score\n",
      "    estimator.fit(X_train, y_train, **fit_params)\n",
      "  File \"C:\\Users\\Renata\\anaconda3\\lib\\site-packages\\xgboost\\core.py\", line 422, in inner_f\n",
      "    return f(**kwargs)\n",
      "  File \"C:\\Users\\Renata\\anaconda3\\lib\\site-packages\\xgboost\\sklearn.py\", line 915, in fit\n",
      "    callbacks=callbacks)\n",
      "  File \"C:\\Users\\Renata\\anaconda3\\lib\\site-packages\\xgboost\\training.py\", line 235, in train\n",
      "    early_stopping_rounds=early_stopping_rounds)\n",
      "  File \"C:\\Users\\Renata\\anaconda3\\lib\\site-packages\\xgboost\\training.py\", line 102, in _train_internal\n",
      "    bst.update(dtrain, i, obj)\n",
      "  File \"C:\\Users\\Renata\\anaconda3\\lib\\site-packages\\xgboost\\core.py\", line 1282, in update\n",
      "    dtrain.handle))\n",
      "  File \"C:\\Users\\Renata\\anaconda3\\lib\\site-packages\\xgboost\\core.py\", line 189, in _check_call\n",
      "    raise XGBoostError(py_str(_LIB.XGBGetLastError()))\n",
      "xgboost.core.XGBoostError: value 1.06729 for Parameter subsample exceed bound [0,1]\n",
      "subsample: Row subsample ratio of training instance.\n",
      "\n",
      "  FitFailedWarning)\n",
      "C:\\Users\\Renata\\anaconda3\\lib\\site-packages\\xgboost\\sklearn.py:888: UserWarning: The use of label encoder in XGBClassifier is deprecated and will be removed in a future release. To remove this warning, do the following: 1) Pass option use_label_encoder=False when constructing XGBClassifier object; and 2) Encode your labels (y) as integers starting with 0, i.e. 0, 1, 2, ..., [num_class - 1].\n",
      "  warnings.warn(label_encoder_deprecation_msg, UserWarning)\n",
      "C:\\Users\\Renata\\anaconda3\\lib\\site-packages\\sklearn\\model_selection\\_validation.py:614: FitFailedWarning: Estimator fit failed. The score on this train-test partition for these parameters will be set to nan. Details: \n",
      "Traceback (most recent call last):\n",
      "  File \"C:\\Users\\Renata\\anaconda3\\lib\\site-packages\\sklearn\\model_selection\\_validation.py\", line 593, in _fit_and_score\n",
      "    estimator.fit(X_train, y_train, **fit_params)\n",
      "  File \"C:\\Users\\Renata\\anaconda3\\lib\\site-packages\\xgboost\\core.py\", line 422, in inner_f\n",
      "    return f(**kwargs)\n",
      "  File \"C:\\Users\\Renata\\anaconda3\\lib\\site-packages\\xgboost\\sklearn.py\", line 915, in fit\n",
      "    callbacks=callbacks)\n",
      "  File \"C:\\Users\\Renata\\anaconda3\\lib\\site-packages\\xgboost\\training.py\", line 235, in train\n",
      "    early_stopping_rounds=early_stopping_rounds)\n",
      "  File \"C:\\Users\\Renata\\anaconda3\\lib\\site-packages\\xgboost\\training.py\", line 102, in _train_internal\n",
      "    bst.update(dtrain, i, obj)\n",
      "  File \"C:\\Users\\Renata\\anaconda3\\lib\\site-packages\\xgboost\\core.py\", line 1282, in update\n",
      "    dtrain.handle))\n",
      "  File \"C:\\Users\\Renata\\anaconda3\\lib\\site-packages\\xgboost\\core.py\", line 189, in _check_call\n",
      "    raise XGBoostError(py_str(_LIB.XGBGetLastError()))\n",
      "xgboost.core.XGBoostError: value 1.06729 for Parameter subsample exceed bound [0,1]\n",
      "subsample: Row subsample ratio of training instance.\n",
      "\n",
      "  FitFailedWarning)\n",
      "C:\\Users\\Renata\\anaconda3\\lib\\site-packages\\xgboost\\sklearn.py:888: UserWarning: The use of label encoder in XGBClassifier is deprecated and will be removed in a future release. To remove this warning, do the following: 1) Pass option use_label_encoder=False when constructing XGBClassifier object; and 2) Encode your labels (y) as integers starting with 0, i.e. 0, 1, 2, ..., [num_class - 1].\n",
      "  warnings.warn(label_encoder_deprecation_msg, UserWarning)\n",
      "C:\\Users\\Renata\\anaconda3\\lib\\site-packages\\sklearn\\model_selection\\_validation.py:614: FitFailedWarning: Estimator fit failed. The score on this train-test partition for these parameters will be set to nan. Details: \n",
      "Traceback (most recent call last):\n",
      "  File \"C:\\Users\\Renata\\anaconda3\\lib\\site-packages\\sklearn\\model_selection\\_validation.py\", line 593, in _fit_and_score\n",
      "    estimator.fit(X_train, y_train, **fit_params)\n",
      "  File \"C:\\Users\\Renata\\anaconda3\\lib\\site-packages\\xgboost\\core.py\", line 422, in inner_f\n",
      "    return f(**kwargs)\n",
      "  File \"C:\\Users\\Renata\\anaconda3\\lib\\site-packages\\xgboost\\sklearn.py\", line 915, in fit\n",
      "    callbacks=callbacks)\n",
      "  File \"C:\\Users\\Renata\\anaconda3\\lib\\site-packages\\xgboost\\training.py\", line 235, in train\n",
      "    early_stopping_rounds=early_stopping_rounds)\n",
      "  File \"C:\\Users\\Renata\\anaconda3\\lib\\site-packages\\xgboost\\training.py\", line 102, in _train_internal\n",
      "    bst.update(dtrain, i, obj)\n",
      "  File \"C:\\Users\\Renata\\anaconda3\\lib\\site-packages\\xgboost\\core.py\", line 1282, in update\n",
      "    dtrain.handle))\n",
      "  File \"C:\\Users\\Renata\\anaconda3\\lib\\site-packages\\xgboost\\core.py\", line 189, in _check_call\n",
      "    raise XGBoostError(py_str(_LIB.XGBGetLastError()))\n",
      "xgboost.core.XGBoostError: value 1.06729 for Parameter subsample exceed bound [0,1]\n",
      "subsample: Row subsample ratio of training instance.\n",
      "\n",
      "  FitFailedWarning)\n",
      "C:\\Users\\Renata\\anaconda3\\lib\\site-packages\\xgboost\\sklearn.py:888: UserWarning: The use of label encoder in XGBClassifier is deprecated and will be removed in a future release. To remove this warning, do the following: 1) Pass option use_label_encoder=False when constructing XGBClassifier object; and 2) Encode your labels (y) as integers starting with 0, i.e. 0, 1, 2, ..., [num_class - 1].\n",
      "  warnings.warn(label_encoder_deprecation_msg, UserWarning)\n",
      "C:\\Users\\Renata\\anaconda3\\lib\\site-packages\\sklearn\\model_selection\\_validation.py:614: FitFailedWarning: Estimator fit failed. The score on this train-test partition for these parameters will be set to nan. Details: \n",
      "Traceback (most recent call last):\n",
      "  File \"C:\\Users\\Renata\\anaconda3\\lib\\site-packages\\sklearn\\model_selection\\_validation.py\", line 593, in _fit_and_score\n",
      "    estimator.fit(X_train, y_train, **fit_params)\n",
      "  File \"C:\\Users\\Renata\\anaconda3\\lib\\site-packages\\xgboost\\core.py\", line 422, in inner_f\n",
      "    return f(**kwargs)\n",
      "  File \"C:\\Users\\Renata\\anaconda3\\lib\\site-packages\\xgboost\\sklearn.py\", line 915, in fit\n",
      "    callbacks=callbacks)\n",
      "  File \"C:\\Users\\Renata\\anaconda3\\lib\\site-packages\\xgboost\\training.py\", line 235, in train\n",
      "    early_stopping_rounds=early_stopping_rounds)\n",
      "  File \"C:\\Users\\Renata\\anaconda3\\lib\\site-packages\\xgboost\\training.py\", line 102, in _train_internal\n",
      "    bst.update(dtrain, i, obj)\n",
      "  File \"C:\\Users\\Renata\\anaconda3\\lib\\site-packages\\xgboost\\core.py\", line 1282, in update\n",
      "    dtrain.handle))\n",
      "  File \"C:\\Users\\Renata\\anaconda3\\lib\\site-packages\\xgboost\\core.py\", line 189, in _check_call\n",
      "    raise XGBoostError(py_str(_LIB.XGBGetLastError()))\n",
      "xgboost.core.XGBoostError: value 1.06729 for Parameter subsample exceed bound [0,1]\n",
      "subsample: Row subsample ratio of training instance.\n",
      "\n",
      "  FitFailedWarning)\n",
      "C:\\Users\\Renata\\anaconda3\\lib\\site-packages\\xgboost\\sklearn.py:888: UserWarning: The use of label encoder in XGBClassifier is deprecated and will be removed in a future release. To remove this warning, do the following: 1) Pass option use_label_encoder=False when constructing XGBClassifier object; and 2) Encode your labels (y) as integers starting with 0, i.e. 0, 1, 2, ..., [num_class - 1].\n",
      "  warnings.warn(label_encoder_deprecation_msg, UserWarning)\n",
      "C:\\Users\\Renata\\anaconda3\\lib\\site-packages\\sklearn\\model_selection\\_validation.py:614: FitFailedWarning: Estimator fit failed. The score on this train-test partition for these parameters will be set to nan. Details: \n",
      "Traceback (most recent call last):\n",
      "  File \"C:\\Users\\Renata\\anaconda3\\lib\\site-packages\\sklearn\\model_selection\\_validation.py\", line 593, in _fit_and_score\n",
      "    estimator.fit(X_train, y_train, **fit_params)\n",
      "  File \"C:\\Users\\Renata\\anaconda3\\lib\\site-packages\\xgboost\\core.py\", line 422, in inner_f\n",
      "    return f(**kwargs)\n",
      "  File \"C:\\Users\\Renata\\anaconda3\\lib\\site-packages\\xgboost\\sklearn.py\", line 915, in fit\n",
      "    callbacks=callbacks)\n",
      "  File \"C:\\Users\\Renata\\anaconda3\\lib\\site-packages\\xgboost\\training.py\", line 235, in train\n",
      "    early_stopping_rounds=early_stopping_rounds)\n",
      "  File \"C:\\Users\\Renata\\anaconda3\\lib\\site-packages\\xgboost\\training.py\", line 102, in _train_internal\n",
      "    bst.update(dtrain, i, obj)\n",
      "  File \"C:\\Users\\Renata\\anaconda3\\lib\\site-packages\\xgboost\\core.py\", line 1282, in update\n",
      "    dtrain.handle))\n",
      "  File \"C:\\Users\\Renata\\anaconda3\\lib\\site-packages\\xgboost\\core.py\", line 189, in _check_call\n",
      "    raise XGBoostError(py_str(_LIB.XGBGetLastError()))\n",
      "xgboost.core.XGBoostError: value 1.06729 for Parameter subsample exceed bound [0,1]\n",
      "subsample: Row subsample ratio of training instance.\n",
      "\n",
      "  FitFailedWarning)\n",
      "C:\\Users\\Renata\\anaconda3\\lib\\site-packages\\xgboost\\sklearn.py:888: UserWarning: The use of label encoder in XGBClassifier is deprecated and will be removed in a future release. To remove this warning, do the following: 1) Pass option use_label_encoder=False when constructing XGBClassifier object; and 2) Encode your labels (y) as integers starting with 0, i.e. 0, 1, 2, ..., [num_class - 1].\n",
      "  warnings.warn(label_encoder_deprecation_msg, UserWarning)\n"
     ]
    },
    {
     "name": "stdout",
     "output_type": "stream",
     "text": [
      "[23:49:35] WARNING: C:/Users/Administrator/workspace/xgboost-win64_release_1.3.0/src/learner.cc:1061: Starting in XGBoost 1.3.0, the default evaluation metric used with the objective 'binary:logistic' was changed from 'error' to 'logloss'. Explicitly set eval_metric if you'd like to restore the old behavior.\n"
     ]
    },
    {
     "name": "stderr",
     "output_type": "stream",
     "text": [
      "C:\\Users\\Renata\\anaconda3\\lib\\site-packages\\xgboost\\sklearn.py:888: UserWarning: The use of label encoder in XGBClassifier is deprecated and will be removed in a future release. To remove this warning, do the following: 1) Pass option use_label_encoder=False when constructing XGBClassifier object; and 2) Encode your labels (y) as integers starting with 0, i.e. 0, 1, 2, ..., [num_class - 1].\n",
      "  warnings.warn(label_encoder_deprecation_msg, UserWarning)\n"
     ]
    },
    {
     "name": "stdout",
     "output_type": "stream",
     "text": [
      "[23:49:39] WARNING: C:/Users/Administrator/workspace/xgboost-win64_release_1.3.0/src/learner.cc:1061: Starting in XGBoost 1.3.0, the default evaluation metric used with the objective 'binary:logistic' was changed from 'error' to 'logloss'. Explicitly set eval_metric if you'd like to restore the old behavior.\n"
     ]
    },
    {
     "name": "stderr",
     "output_type": "stream",
     "text": [
      "C:\\Users\\Renata\\anaconda3\\lib\\site-packages\\xgboost\\sklearn.py:888: UserWarning: The use of label encoder in XGBClassifier is deprecated and will be removed in a future release. To remove this warning, do the following: 1) Pass option use_label_encoder=False when constructing XGBClassifier object; and 2) Encode your labels (y) as integers starting with 0, i.e. 0, 1, 2, ..., [num_class - 1].\n",
      "  warnings.warn(label_encoder_deprecation_msg, UserWarning)\n"
     ]
    },
    {
     "name": "stdout",
     "output_type": "stream",
     "text": [
      "[23:49:42] WARNING: C:/Users/Administrator/workspace/xgboost-win64_release_1.3.0/src/learner.cc:1061: Starting in XGBoost 1.3.0, the default evaluation metric used with the objective 'binary:logistic' was changed from 'error' to 'logloss'. Explicitly set eval_metric if you'd like to restore the old behavior.\n"
     ]
    },
    {
     "name": "stderr",
     "output_type": "stream",
     "text": [
      "C:\\Users\\Renata\\anaconda3\\lib\\site-packages\\xgboost\\sklearn.py:888: UserWarning: The use of label encoder in XGBClassifier is deprecated and will be removed in a future release. To remove this warning, do the following: 1) Pass option use_label_encoder=False when constructing XGBClassifier object; and 2) Encode your labels (y) as integers starting with 0, i.e. 0, 1, 2, ..., [num_class - 1].\n",
      "  warnings.warn(label_encoder_deprecation_msg, UserWarning)\n"
     ]
    },
    {
     "name": "stdout",
     "output_type": "stream",
     "text": [
      "[23:49:46] WARNING: C:/Users/Administrator/workspace/xgboost-win64_release_1.3.0/src/learner.cc:1061: Starting in XGBoost 1.3.0, the default evaluation metric used with the objective 'binary:logistic' was changed from 'error' to 'logloss'. Explicitly set eval_metric if you'd like to restore the old behavior.\n"
     ]
    },
    {
     "name": "stderr",
     "output_type": "stream",
     "text": [
      "C:\\Users\\Renata\\anaconda3\\lib\\site-packages\\xgboost\\sklearn.py:888: UserWarning: The use of label encoder in XGBClassifier is deprecated and will be removed in a future release. To remove this warning, do the following: 1) Pass option use_label_encoder=False when constructing XGBClassifier object; and 2) Encode your labels (y) as integers starting with 0, i.e. 0, 1, 2, ..., [num_class - 1].\n",
      "  warnings.warn(label_encoder_deprecation_msg, UserWarning)\n"
     ]
    },
    {
     "name": "stdout",
     "output_type": "stream",
     "text": [
      "[23:49:49] WARNING: C:/Users/Administrator/workspace/xgboost-win64_release_1.3.0/src/learner.cc:1061: Starting in XGBoost 1.3.0, the default evaluation metric used with the objective 'binary:logistic' was changed from 'error' to 'logloss'. Explicitly set eval_metric if you'd like to restore the old behavior.\n"
     ]
    },
    {
     "name": "stderr",
     "output_type": "stream",
     "text": [
      "C:\\Users\\Renata\\anaconda3\\lib\\site-packages\\xgboost\\sklearn.py:888: UserWarning: The use of label encoder in XGBClassifier is deprecated and will be removed in a future release. To remove this warning, do the following: 1) Pass option use_label_encoder=False when constructing XGBClassifier object; and 2) Encode your labels (y) as integers starting with 0, i.e. 0, 1, 2, ..., [num_class - 1].\n",
      "  warnings.warn(label_encoder_deprecation_msg, UserWarning)\n",
      "C:\\Users\\Renata\\anaconda3\\lib\\site-packages\\sklearn\\model_selection\\_validation.py:614: FitFailedWarning: Estimator fit failed. The score on this train-test partition for these parameters will be set to nan. Details: \n",
      "Traceback (most recent call last):\n",
      "  File \"C:\\Users\\Renata\\anaconda3\\lib\\site-packages\\sklearn\\model_selection\\_validation.py\", line 593, in _fit_and_score\n",
      "    estimator.fit(X_train, y_train, **fit_params)\n",
      "  File \"C:\\Users\\Renata\\anaconda3\\lib\\site-packages\\xgboost\\core.py\", line 422, in inner_f\n",
      "    return f(**kwargs)\n",
      "  File \"C:\\Users\\Renata\\anaconda3\\lib\\site-packages\\xgboost\\sklearn.py\", line 915, in fit\n",
      "    callbacks=callbacks)\n",
      "  File \"C:\\Users\\Renata\\anaconda3\\lib\\site-packages\\xgboost\\training.py\", line 235, in train\n",
      "    early_stopping_rounds=early_stopping_rounds)\n",
      "  File \"C:\\Users\\Renata\\anaconda3\\lib\\site-packages\\xgboost\\training.py\", line 102, in _train_internal\n",
      "    bst.update(dtrain, i, obj)\n",
      "  File \"C:\\Users\\Renata\\anaconda3\\lib\\site-packages\\xgboost\\core.py\", line 1282, in update\n",
      "    dtrain.handle))\n",
      "  File \"C:\\Users\\Renata\\anaconda3\\lib\\site-packages\\xgboost\\core.py\", line 189, in _check_call\n",
      "    raise XGBoostError(py_str(_LIB.XGBGetLastError()))\n",
      "xgboost.core.XGBoostError: value 1.04658 for Parameter colsample_bytree exceed bound [0,1]\n",
      "colsample_bytree: Subsample ratio of columns, resample on each tree construction.\n",
      "\n",
      "  FitFailedWarning)\n",
      "C:\\Users\\Renata\\anaconda3\\lib\\site-packages\\xgboost\\sklearn.py:888: UserWarning: The use of label encoder in XGBClassifier is deprecated and will be removed in a future release. To remove this warning, do the following: 1) Pass option use_label_encoder=False when constructing XGBClassifier object; and 2) Encode your labels (y) as integers starting with 0, i.e. 0, 1, 2, ..., [num_class - 1].\n",
      "  warnings.warn(label_encoder_deprecation_msg, UserWarning)\n",
      "C:\\Users\\Renata\\anaconda3\\lib\\site-packages\\sklearn\\model_selection\\_validation.py:614: FitFailedWarning: Estimator fit failed. The score on this train-test partition for these parameters will be set to nan. Details: \n",
      "Traceback (most recent call last):\n",
      "  File \"C:\\Users\\Renata\\anaconda3\\lib\\site-packages\\sklearn\\model_selection\\_validation.py\", line 593, in _fit_and_score\n",
      "    estimator.fit(X_train, y_train, **fit_params)\n",
      "  File \"C:\\Users\\Renata\\anaconda3\\lib\\site-packages\\xgboost\\core.py\", line 422, in inner_f\n",
      "    return f(**kwargs)\n",
      "  File \"C:\\Users\\Renata\\anaconda3\\lib\\site-packages\\xgboost\\sklearn.py\", line 915, in fit\n",
      "    callbacks=callbacks)\n",
      "  File \"C:\\Users\\Renata\\anaconda3\\lib\\site-packages\\xgboost\\training.py\", line 235, in train\n",
      "    early_stopping_rounds=early_stopping_rounds)\n",
      "  File \"C:\\Users\\Renata\\anaconda3\\lib\\site-packages\\xgboost\\training.py\", line 102, in _train_internal\n",
      "    bst.update(dtrain, i, obj)\n",
      "  File \"C:\\Users\\Renata\\anaconda3\\lib\\site-packages\\xgboost\\core.py\", line 1282, in update\n",
      "    dtrain.handle))\n",
      "  File \"C:\\Users\\Renata\\anaconda3\\lib\\site-packages\\xgboost\\core.py\", line 189, in _check_call\n",
      "    raise XGBoostError(py_str(_LIB.XGBGetLastError()))\n",
      "xgboost.core.XGBoostError: value 1.04658 for Parameter colsample_bytree exceed bound [0,1]\n",
      "colsample_bytree: Subsample ratio of columns, resample on each tree construction.\n",
      "\n",
      "  FitFailedWarning)\n",
      "C:\\Users\\Renata\\anaconda3\\lib\\site-packages\\xgboost\\sklearn.py:888: UserWarning: The use of label encoder in XGBClassifier is deprecated and will be removed in a future release. To remove this warning, do the following: 1) Pass option use_label_encoder=False when constructing XGBClassifier object; and 2) Encode your labels (y) as integers starting with 0, i.e. 0, 1, 2, ..., [num_class - 1].\n",
      "  warnings.warn(label_encoder_deprecation_msg, UserWarning)\n",
      "C:\\Users\\Renata\\anaconda3\\lib\\site-packages\\sklearn\\model_selection\\_validation.py:614: FitFailedWarning: Estimator fit failed. The score on this train-test partition for these parameters will be set to nan. Details: \n",
      "Traceback (most recent call last):\n",
      "  File \"C:\\Users\\Renata\\anaconda3\\lib\\site-packages\\sklearn\\model_selection\\_validation.py\", line 593, in _fit_and_score\n",
      "    estimator.fit(X_train, y_train, **fit_params)\n",
      "  File \"C:\\Users\\Renata\\anaconda3\\lib\\site-packages\\xgboost\\core.py\", line 422, in inner_f\n",
      "    return f(**kwargs)\n",
      "  File \"C:\\Users\\Renata\\anaconda3\\lib\\site-packages\\xgboost\\sklearn.py\", line 915, in fit\n",
      "    callbacks=callbacks)\n",
      "  File \"C:\\Users\\Renata\\anaconda3\\lib\\site-packages\\xgboost\\training.py\", line 235, in train\n",
      "    early_stopping_rounds=early_stopping_rounds)\n",
      "  File \"C:\\Users\\Renata\\anaconda3\\lib\\site-packages\\xgboost\\training.py\", line 102, in _train_internal\n",
      "    bst.update(dtrain, i, obj)\n",
      "  File \"C:\\Users\\Renata\\anaconda3\\lib\\site-packages\\xgboost\\core.py\", line 1282, in update\n",
      "    dtrain.handle))\n",
      "  File \"C:\\Users\\Renata\\anaconda3\\lib\\site-packages\\xgboost\\core.py\", line 189, in _check_call\n",
      "    raise XGBoostError(py_str(_LIB.XGBGetLastError()))\n",
      "xgboost.core.XGBoostError: value 1.04658 for Parameter colsample_bytree exceed bound [0,1]\n",
      "colsample_bytree: Subsample ratio of columns, resample on each tree construction.\n",
      "\n",
      "  FitFailedWarning)\n",
      "C:\\Users\\Renata\\anaconda3\\lib\\site-packages\\xgboost\\sklearn.py:888: UserWarning: The use of label encoder in XGBClassifier is deprecated and will be removed in a future release. To remove this warning, do the following: 1) Pass option use_label_encoder=False when constructing XGBClassifier object; and 2) Encode your labels (y) as integers starting with 0, i.e. 0, 1, 2, ..., [num_class - 1].\n",
      "  warnings.warn(label_encoder_deprecation_msg, UserWarning)\n",
      "C:\\Users\\Renata\\anaconda3\\lib\\site-packages\\sklearn\\model_selection\\_validation.py:614: FitFailedWarning: Estimator fit failed. The score on this train-test partition for these parameters will be set to nan. Details: \n",
      "Traceback (most recent call last):\n",
      "  File \"C:\\Users\\Renata\\anaconda3\\lib\\site-packages\\sklearn\\model_selection\\_validation.py\", line 593, in _fit_and_score\n",
      "    estimator.fit(X_train, y_train, **fit_params)\n",
      "  File \"C:\\Users\\Renata\\anaconda3\\lib\\site-packages\\xgboost\\core.py\", line 422, in inner_f\n",
      "    return f(**kwargs)\n",
      "  File \"C:\\Users\\Renata\\anaconda3\\lib\\site-packages\\xgboost\\sklearn.py\", line 915, in fit\n",
      "    callbacks=callbacks)\n",
      "  File \"C:\\Users\\Renata\\anaconda3\\lib\\site-packages\\xgboost\\training.py\", line 235, in train\n",
      "    early_stopping_rounds=early_stopping_rounds)\n",
      "  File \"C:\\Users\\Renata\\anaconda3\\lib\\site-packages\\xgboost\\training.py\", line 102, in _train_internal\n",
      "    bst.update(dtrain, i, obj)\n",
      "  File \"C:\\Users\\Renata\\anaconda3\\lib\\site-packages\\xgboost\\core.py\", line 1282, in update\n",
      "    dtrain.handle))\n",
      "  File \"C:\\Users\\Renata\\anaconda3\\lib\\site-packages\\xgboost\\core.py\", line 189, in _check_call\n",
      "    raise XGBoostError(py_str(_LIB.XGBGetLastError()))\n",
      "xgboost.core.XGBoostError: value 1.04658 for Parameter colsample_bytree exceed bound [0,1]\n",
      "colsample_bytree: Subsample ratio of columns, resample on each tree construction.\n",
      "\n",
      "  FitFailedWarning)\n",
      "C:\\Users\\Renata\\anaconda3\\lib\\site-packages\\xgboost\\sklearn.py:888: UserWarning: The use of label encoder in XGBClassifier is deprecated and will be removed in a future release. To remove this warning, do the following: 1) Pass option use_label_encoder=False when constructing XGBClassifier object; and 2) Encode your labels (y) as integers starting with 0, i.e. 0, 1, 2, ..., [num_class - 1].\n",
      "  warnings.warn(label_encoder_deprecation_msg, UserWarning)\n",
      "C:\\Users\\Renata\\anaconda3\\lib\\site-packages\\sklearn\\model_selection\\_validation.py:614: FitFailedWarning: Estimator fit failed. The score on this train-test partition for these parameters will be set to nan. Details: \n",
      "Traceback (most recent call last):\n",
      "  File \"C:\\Users\\Renata\\anaconda3\\lib\\site-packages\\sklearn\\model_selection\\_validation.py\", line 593, in _fit_and_score\n",
      "    estimator.fit(X_train, y_train, **fit_params)\n",
      "  File \"C:\\Users\\Renata\\anaconda3\\lib\\site-packages\\xgboost\\core.py\", line 422, in inner_f\n",
      "    return f(**kwargs)\n",
      "  File \"C:\\Users\\Renata\\anaconda3\\lib\\site-packages\\xgboost\\sklearn.py\", line 915, in fit\n",
      "    callbacks=callbacks)\n",
      "  File \"C:\\Users\\Renata\\anaconda3\\lib\\site-packages\\xgboost\\training.py\", line 235, in train\n",
      "    early_stopping_rounds=early_stopping_rounds)\n",
      "  File \"C:\\Users\\Renata\\anaconda3\\lib\\site-packages\\xgboost\\training.py\", line 102, in _train_internal\n",
      "    bst.update(dtrain, i, obj)\n",
      "  File \"C:\\Users\\Renata\\anaconda3\\lib\\site-packages\\xgboost\\core.py\", line 1282, in update\n",
      "    dtrain.handle))\n",
      "  File \"C:\\Users\\Renata\\anaconda3\\lib\\site-packages\\xgboost\\core.py\", line 189, in _check_call\n",
      "    raise XGBoostError(py_str(_LIB.XGBGetLastError()))\n",
      "xgboost.core.XGBoostError: value 1.04658 for Parameter colsample_bytree exceed bound [0,1]\n",
      "colsample_bytree: Subsample ratio of columns, resample on each tree construction.\n",
      "\n",
      "  FitFailedWarning)\n",
      "C:\\Users\\Renata\\anaconda3\\lib\\site-packages\\xgboost\\sklearn.py:888: UserWarning: The use of label encoder in XGBClassifier is deprecated and will be removed in a future release. To remove this warning, do the following: 1) Pass option use_label_encoder=False when constructing XGBClassifier object; and 2) Encode your labels (y) as integers starting with 0, i.e. 0, 1, 2, ..., [num_class - 1].\n",
      "  warnings.warn(label_encoder_deprecation_msg, UserWarning)\n"
     ]
    },
    {
     "name": "stdout",
     "output_type": "stream",
     "text": [
      "[23:49:53] WARNING: C:/Users/Administrator/workspace/xgboost-win64_release_1.3.0/src/learner.cc:1061: Starting in XGBoost 1.3.0, the default evaluation metric used with the objective 'binary:logistic' was changed from 'error' to 'logloss'. Explicitly set eval_metric if you'd like to restore the old behavior.\n"
     ]
    },
    {
     "name": "stderr",
     "output_type": "stream",
     "text": [
      "C:\\Users\\Renata\\anaconda3\\lib\\site-packages\\xgboost\\sklearn.py:888: UserWarning: The use of label encoder in XGBClassifier is deprecated and will be removed in a future release. To remove this warning, do the following: 1) Pass option use_label_encoder=False when constructing XGBClassifier object; and 2) Encode your labels (y) as integers starting with 0, i.e. 0, 1, 2, ..., [num_class - 1].\n",
      "  warnings.warn(label_encoder_deprecation_msg, UserWarning)\n"
     ]
    },
    {
     "name": "stdout",
     "output_type": "stream",
     "text": [
      "[23:49:54] WARNING: C:/Users/Administrator/workspace/xgboost-win64_release_1.3.0/src/learner.cc:1061: Starting in XGBoost 1.3.0, the default evaluation metric used with the objective 'binary:logistic' was changed from 'error' to 'logloss'. Explicitly set eval_metric if you'd like to restore the old behavior.\n"
     ]
    },
    {
     "name": "stderr",
     "output_type": "stream",
     "text": [
      "C:\\Users\\Renata\\anaconda3\\lib\\site-packages\\xgboost\\sklearn.py:888: UserWarning: The use of label encoder in XGBClassifier is deprecated and will be removed in a future release. To remove this warning, do the following: 1) Pass option use_label_encoder=False when constructing XGBClassifier object; and 2) Encode your labels (y) as integers starting with 0, i.e. 0, 1, 2, ..., [num_class - 1].\n",
      "  warnings.warn(label_encoder_deprecation_msg, UserWarning)\n"
     ]
    },
    {
     "name": "stdout",
     "output_type": "stream",
     "text": [
      "[23:49:55] WARNING: C:/Users/Administrator/workspace/xgboost-win64_release_1.3.0/src/learner.cc:1061: Starting in XGBoost 1.3.0, the default evaluation metric used with the objective 'binary:logistic' was changed from 'error' to 'logloss'. Explicitly set eval_metric if you'd like to restore the old behavior.\n"
     ]
    },
    {
     "name": "stderr",
     "output_type": "stream",
     "text": [
      "C:\\Users\\Renata\\anaconda3\\lib\\site-packages\\xgboost\\sklearn.py:888: UserWarning: The use of label encoder in XGBClassifier is deprecated and will be removed in a future release. To remove this warning, do the following: 1) Pass option use_label_encoder=False when constructing XGBClassifier object; and 2) Encode your labels (y) as integers starting with 0, i.e. 0, 1, 2, ..., [num_class - 1].\n",
      "  warnings.warn(label_encoder_deprecation_msg, UserWarning)\n"
     ]
    },
    {
     "name": "stdout",
     "output_type": "stream",
     "text": [
      "[23:49:56] WARNING: C:/Users/Administrator/workspace/xgboost-win64_release_1.3.0/src/learner.cc:1061: Starting in XGBoost 1.3.0, the default evaluation metric used with the objective 'binary:logistic' was changed from 'error' to 'logloss'. Explicitly set eval_metric if you'd like to restore the old behavior.\n"
     ]
    },
    {
     "name": "stderr",
     "output_type": "stream",
     "text": [
      "C:\\Users\\Renata\\anaconda3\\lib\\site-packages\\xgboost\\sklearn.py:888: UserWarning: The use of label encoder in XGBClassifier is deprecated and will be removed in a future release. To remove this warning, do the following: 1) Pass option use_label_encoder=False when constructing XGBClassifier object; and 2) Encode your labels (y) as integers starting with 0, i.e. 0, 1, 2, ..., [num_class - 1].\n",
      "  warnings.warn(label_encoder_deprecation_msg, UserWarning)\n"
     ]
    },
    {
     "name": "stdout",
     "output_type": "stream",
     "text": [
      "[23:49:56] WARNING: C:/Users/Administrator/workspace/xgboost-win64_release_1.3.0/src/learner.cc:1061: Starting in XGBoost 1.3.0, the default evaluation metric used with the objective 'binary:logistic' was changed from 'error' to 'logloss'. Explicitly set eval_metric if you'd like to restore the old behavior.\n"
     ]
    },
    {
     "name": "stderr",
     "output_type": "stream",
     "text": [
      "C:\\Users\\Renata\\anaconda3\\lib\\site-packages\\xgboost\\sklearn.py:888: UserWarning: The use of label encoder in XGBClassifier is deprecated and will be removed in a future release. To remove this warning, do the following: 1) Pass option use_label_encoder=False when constructing XGBClassifier object; and 2) Encode your labels (y) as integers starting with 0, i.e. 0, 1, 2, ..., [num_class - 1].\n",
      "  warnings.warn(label_encoder_deprecation_msg, UserWarning)\n"
     ]
    },
    {
     "name": "stdout",
     "output_type": "stream",
     "text": [
      "[23:49:57] WARNING: C:/Users/Administrator/workspace/xgboost-win64_release_1.3.0/src/learner.cc:1061: Starting in XGBoost 1.3.0, the default evaluation metric used with the objective 'binary:logistic' was changed from 'error' to 'logloss'. Explicitly set eval_metric if you'd like to restore the old behavior.\n"
     ]
    },
    {
     "name": "stderr",
     "output_type": "stream",
     "text": [
      "C:\\Users\\Renata\\anaconda3\\lib\\site-packages\\xgboost\\sklearn.py:888: UserWarning: The use of label encoder in XGBClassifier is deprecated and will be removed in a future release. To remove this warning, do the following: 1) Pass option use_label_encoder=False when constructing XGBClassifier object; and 2) Encode your labels (y) as integers starting with 0, i.e. 0, 1, 2, ..., [num_class - 1].\n",
      "  warnings.warn(label_encoder_deprecation_msg, UserWarning)\n"
     ]
    },
    {
     "name": "stdout",
     "output_type": "stream",
     "text": [
      "[23:49:58] WARNING: C:/Users/Administrator/workspace/xgboost-win64_release_1.3.0/src/learner.cc:1061: Starting in XGBoost 1.3.0, the default evaluation metric used with the objective 'binary:logistic' was changed from 'error' to 'logloss'. Explicitly set eval_metric if you'd like to restore the old behavior.\n"
     ]
    },
    {
     "name": "stderr",
     "output_type": "stream",
     "text": [
      "C:\\Users\\Renata\\anaconda3\\lib\\site-packages\\xgboost\\sklearn.py:888: UserWarning: The use of label encoder in XGBClassifier is deprecated and will be removed in a future release. To remove this warning, do the following: 1) Pass option use_label_encoder=False when constructing XGBClassifier object; and 2) Encode your labels (y) as integers starting with 0, i.e. 0, 1, 2, ..., [num_class - 1].\n",
      "  warnings.warn(label_encoder_deprecation_msg, UserWarning)\n"
     ]
    },
    {
     "name": "stdout",
     "output_type": "stream",
     "text": [
      "[23:49:59] WARNING: C:/Users/Administrator/workspace/xgboost-win64_release_1.3.0/src/learner.cc:1061: Starting in XGBoost 1.3.0, the default evaluation metric used with the objective 'binary:logistic' was changed from 'error' to 'logloss'. Explicitly set eval_metric if you'd like to restore the old behavior.\n"
     ]
    },
    {
     "name": "stderr",
     "output_type": "stream",
     "text": [
      "C:\\Users\\Renata\\anaconda3\\lib\\site-packages\\xgboost\\sklearn.py:888: UserWarning: The use of label encoder in XGBClassifier is deprecated and will be removed in a future release. To remove this warning, do the following: 1) Pass option use_label_encoder=False when constructing XGBClassifier object; and 2) Encode your labels (y) as integers starting with 0, i.e. 0, 1, 2, ..., [num_class - 1].\n",
      "  warnings.warn(label_encoder_deprecation_msg, UserWarning)\n"
     ]
    },
    {
     "name": "stdout",
     "output_type": "stream",
     "text": [
      "[23:50:00] WARNING: C:/Users/Administrator/workspace/xgboost-win64_release_1.3.0/src/learner.cc:1061: Starting in XGBoost 1.3.0, the default evaluation metric used with the objective 'binary:logistic' was changed from 'error' to 'logloss'. Explicitly set eval_metric if you'd like to restore the old behavior.\n"
     ]
    },
    {
     "name": "stderr",
     "output_type": "stream",
     "text": [
      "C:\\Users\\Renata\\anaconda3\\lib\\site-packages\\xgboost\\sklearn.py:888: UserWarning: The use of label encoder in XGBClassifier is deprecated and will be removed in a future release. To remove this warning, do the following: 1) Pass option use_label_encoder=False when constructing XGBClassifier object; and 2) Encode your labels (y) as integers starting with 0, i.e. 0, 1, 2, ..., [num_class - 1].\n",
      "  warnings.warn(label_encoder_deprecation_msg, UserWarning)\n"
     ]
    },
    {
     "name": "stdout",
     "output_type": "stream",
     "text": [
      "[23:50:01] WARNING: C:/Users/Administrator/workspace/xgboost-win64_release_1.3.0/src/learner.cc:1061: Starting in XGBoost 1.3.0, the default evaluation metric used with the objective 'binary:logistic' was changed from 'error' to 'logloss'. Explicitly set eval_metric if you'd like to restore the old behavior.\n"
     ]
    },
    {
     "name": "stderr",
     "output_type": "stream",
     "text": [
      "C:\\Users\\Renata\\anaconda3\\lib\\site-packages\\xgboost\\sklearn.py:888: UserWarning: The use of label encoder in XGBClassifier is deprecated and will be removed in a future release. To remove this warning, do the following: 1) Pass option use_label_encoder=False when constructing XGBClassifier object; and 2) Encode your labels (y) as integers starting with 0, i.e. 0, 1, 2, ..., [num_class - 1].\n",
      "  warnings.warn(label_encoder_deprecation_msg, UserWarning)\n",
      "C:\\Users\\Renata\\anaconda3\\lib\\site-packages\\sklearn\\model_selection\\_validation.py:614: FitFailedWarning: Estimator fit failed. The score on this train-test partition for these parameters will be set to nan. Details: \n",
      "Traceback (most recent call last):\n",
      "  File \"C:\\Users\\Renata\\anaconda3\\lib\\site-packages\\sklearn\\model_selection\\_validation.py\", line 593, in _fit_and_score\n",
      "    estimator.fit(X_train, y_train, **fit_params)\n",
      "  File \"C:\\Users\\Renata\\anaconda3\\lib\\site-packages\\xgboost\\core.py\", line 422, in inner_f\n",
      "    return f(**kwargs)\n",
      "  File \"C:\\Users\\Renata\\anaconda3\\lib\\site-packages\\xgboost\\sklearn.py\", line 915, in fit\n",
      "    callbacks=callbacks)\n",
      "  File \"C:\\Users\\Renata\\anaconda3\\lib\\site-packages\\xgboost\\training.py\", line 235, in train\n",
      "    early_stopping_rounds=early_stopping_rounds)\n",
      "  File \"C:\\Users\\Renata\\anaconda3\\lib\\site-packages\\xgboost\\training.py\", line 102, in _train_internal\n",
      "    bst.update(dtrain, i, obj)\n",
      "  File \"C:\\Users\\Renata\\anaconda3\\lib\\site-packages\\xgboost\\core.py\", line 1282, in update\n",
      "    dtrain.handle))\n",
      "  File \"C:\\Users\\Renata\\anaconda3\\lib\\site-packages\\xgboost\\core.py\", line 189, in _check_call\n",
      "    raise XGBoostError(py_str(_LIB.XGBGetLastError()))\n",
      "xgboost.core.XGBoostError: value 1.1652 for Parameter colsample_bytree exceed bound [0,1]\n",
      "colsample_bytree: Subsample ratio of columns, resample on each tree construction.\n",
      "\n",
      "  FitFailedWarning)\n",
      "C:\\Users\\Renata\\anaconda3\\lib\\site-packages\\xgboost\\sklearn.py:888: UserWarning: The use of label encoder in XGBClassifier is deprecated and will be removed in a future release. To remove this warning, do the following: 1) Pass option use_label_encoder=False when constructing XGBClassifier object; and 2) Encode your labels (y) as integers starting with 0, i.e. 0, 1, 2, ..., [num_class - 1].\n",
      "  warnings.warn(label_encoder_deprecation_msg, UserWarning)\n",
      "C:\\Users\\Renata\\anaconda3\\lib\\site-packages\\sklearn\\model_selection\\_validation.py:614: FitFailedWarning: Estimator fit failed. The score on this train-test partition for these parameters will be set to nan. Details: \n",
      "Traceback (most recent call last):\n",
      "  File \"C:\\Users\\Renata\\anaconda3\\lib\\site-packages\\sklearn\\model_selection\\_validation.py\", line 593, in _fit_and_score\n",
      "    estimator.fit(X_train, y_train, **fit_params)\n",
      "  File \"C:\\Users\\Renata\\anaconda3\\lib\\site-packages\\xgboost\\core.py\", line 422, in inner_f\n",
      "    return f(**kwargs)\n",
      "  File \"C:\\Users\\Renata\\anaconda3\\lib\\site-packages\\xgboost\\sklearn.py\", line 915, in fit\n",
      "    callbacks=callbacks)\n",
      "  File \"C:\\Users\\Renata\\anaconda3\\lib\\site-packages\\xgboost\\training.py\", line 235, in train\n",
      "    early_stopping_rounds=early_stopping_rounds)\n",
      "  File \"C:\\Users\\Renata\\anaconda3\\lib\\site-packages\\xgboost\\training.py\", line 102, in _train_internal\n",
      "    bst.update(dtrain, i, obj)\n",
      "  File \"C:\\Users\\Renata\\anaconda3\\lib\\site-packages\\xgboost\\core.py\", line 1282, in update\n",
      "    dtrain.handle))\n",
      "  File \"C:\\Users\\Renata\\anaconda3\\lib\\site-packages\\xgboost\\core.py\", line 189, in _check_call\n",
      "    raise XGBoostError(py_str(_LIB.XGBGetLastError()))\n",
      "xgboost.core.XGBoostError: value 1.1652 for Parameter colsample_bytree exceed bound [0,1]\n",
      "colsample_bytree: Subsample ratio of columns, resample on each tree construction.\n",
      "\n",
      "  FitFailedWarning)\n",
      "C:\\Users\\Renata\\anaconda3\\lib\\site-packages\\xgboost\\sklearn.py:888: UserWarning: The use of label encoder in XGBClassifier is deprecated and will be removed in a future release. To remove this warning, do the following: 1) Pass option use_label_encoder=False when constructing XGBClassifier object; and 2) Encode your labels (y) as integers starting with 0, i.e. 0, 1, 2, ..., [num_class - 1].\n",
      "  warnings.warn(label_encoder_deprecation_msg, UserWarning)\n",
      "C:\\Users\\Renata\\anaconda3\\lib\\site-packages\\sklearn\\model_selection\\_validation.py:614: FitFailedWarning: Estimator fit failed. The score on this train-test partition for these parameters will be set to nan. Details: \n",
      "Traceback (most recent call last):\n",
      "  File \"C:\\Users\\Renata\\anaconda3\\lib\\site-packages\\sklearn\\model_selection\\_validation.py\", line 593, in _fit_and_score\n",
      "    estimator.fit(X_train, y_train, **fit_params)\n",
      "  File \"C:\\Users\\Renata\\anaconda3\\lib\\site-packages\\xgboost\\core.py\", line 422, in inner_f\n",
      "    return f(**kwargs)\n",
      "  File \"C:\\Users\\Renata\\anaconda3\\lib\\site-packages\\xgboost\\sklearn.py\", line 915, in fit\n",
      "    callbacks=callbacks)\n",
      "  File \"C:\\Users\\Renata\\anaconda3\\lib\\site-packages\\xgboost\\training.py\", line 235, in train\n",
      "    early_stopping_rounds=early_stopping_rounds)\n",
      "  File \"C:\\Users\\Renata\\anaconda3\\lib\\site-packages\\xgboost\\training.py\", line 102, in _train_internal\n",
      "    bst.update(dtrain, i, obj)\n",
      "  File \"C:\\Users\\Renata\\anaconda3\\lib\\site-packages\\xgboost\\core.py\", line 1282, in update\n",
      "    dtrain.handle))\n",
      "  File \"C:\\Users\\Renata\\anaconda3\\lib\\site-packages\\xgboost\\core.py\", line 189, in _check_call\n",
      "    raise XGBoostError(py_str(_LIB.XGBGetLastError()))\n",
      "xgboost.core.XGBoostError: value 1.1652 for Parameter colsample_bytree exceed bound [0,1]\n",
      "colsample_bytree: Subsample ratio of columns, resample on each tree construction.\n",
      "\n",
      "  FitFailedWarning)\n",
      "C:\\Users\\Renata\\anaconda3\\lib\\site-packages\\xgboost\\sklearn.py:888: UserWarning: The use of label encoder in XGBClassifier is deprecated and will be removed in a future release. To remove this warning, do the following: 1) Pass option use_label_encoder=False when constructing XGBClassifier object; and 2) Encode your labels (y) as integers starting with 0, i.e. 0, 1, 2, ..., [num_class - 1].\n",
      "  warnings.warn(label_encoder_deprecation_msg, UserWarning)\n",
      "C:\\Users\\Renata\\anaconda3\\lib\\site-packages\\sklearn\\model_selection\\_validation.py:614: FitFailedWarning: Estimator fit failed. The score on this train-test partition for these parameters will be set to nan. Details: \n",
      "Traceback (most recent call last):\n",
      "  File \"C:\\Users\\Renata\\anaconda3\\lib\\site-packages\\sklearn\\model_selection\\_validation.py\", line 593, in _fit_and_score\n",
      "    estimator.fit(X_train, y_train, **fit_params)\n",
      "  File \"C:\\Users\\Renata\\anaconda3\\lib\\site-packages\\xgboost\\core.py\", line 422, in inner_f\n",
      "    return f(**kwargs)\n",
      "  File \"C:\\Users\\Renata\\anaconda3\\lib\\site-packages\\xgboost\\sklearn.py\", line 915, in fit\n",
      "    callbacks=callbacks)\n",
      "  File \"C:\\Users\\Renata\\anaconda3\\lib\\site-packages\\xgboost\\training.py\", line 235, in train\n",
      "    early_stopping_rounds=early_stopping_rounds)\n",
      "  File \"C:\\Users\\Renata\\anaconda3\\lib\\site-packages\\xgboost\\training.py\", line 102, in _train_internal\n",
      "    bst.update(dtrain, i, obj)\n",
      "  File \"C:\\Users\\Renata\\anaconda3\\lib\\site-packages\\xgboost\\core.py\", line 1282, in update\n",
      "    dtrain.handle))\n",
      "  File \"C:\\Users\\Renata\\anaconda3\\lib\\site-packages\\xgboost\\core.py\", line 189, in _check_call\n",
      "    raise XGBoostError(py_str(_LIB.XGBGetLastError()))\n",
      "xgboost.core.XGBoostError: value 1.1652 for Parameter colsample_bytree exceed bound [0,1]\n",
      "colsample_bytree: Subsample ratio of columns, resample on each tree construction.\n",
      "\n",
      "  FitFailedWarning)\n",
      "C:\\Users\\Renata\\anaconda3\\lib\\site-packages\\xgboost\\sklearn.py:888: UserWarning: The use of label encoder in XGBClassifier is deprecated and will be removed in a future release. To remove this warning, do the following: 1) Pass option use_label_encoder=False when constructing XGBClassifier object; and 2) Encode your labels (y) as integers starting with 0, i.e. 0, 1, 2, ..., [num_class - 1].\n",
      "  warnings.warn(label_encoder_deprecation_msg, UserWarning)\n",
      "C:\\Users\\Renata\\anaconda3\\lib\\site-packages\\sklearn\\model_selection\\_validation.py:614: FitFailedWarning: Estimator fit failed. The score on this train-test partition for these parameters will be set to nan. Details: \n",
      "Traceback (most recent call last):\n",
      "  File \"C:\\Users\\Renata\\anaconda3\\lib\\site-packages\\sklearn\\model_selection\\_validation.py\", line 593, in _fit_and_score\n",
      "    estimator.fit(X_train, y_train, **fit_params)\n",
      "  File \"C:\\Users\\Renata\\anaconda3\\lib\\site-packages\\xgboost\\core.py\", line 422, in inner_f\n",
      "    return f(**kwargs)\n",
      "  File \"C:\\Users\\Renata\\anaconda3\\lib\\site-packages\\xgboost\\sklearn.py\", line 915, in fit\n",
      "    callbacks=callbacks)\n",
      "  File \"C:\\Users\\Renata\\anaconda3\\lib\\site-packages\\xgboost\\training.py\", line 235, in train\n",
      "    early_stopping_rounds=early_stopping_rounds)\n",
      "  File \"C:\\Users\\Renata\\anaconda3\\lib\\site-packages\\xgboost\\training.py\", line 102, in _train_internal\n",
      "    bst.update(dtrain, i, obj)\n",
      "  File \"C:\\Users\\Renata\\anaconda3\\lib\\site-packages\\xgboost\\core.py\", line 1282, in update\n",
      "    dtrain.handle))\n",
      "  File \"C:\\Users\\Renata\\anaconda3\\lib\\site-packages\\xgboost\\core.py\", line 189, in _check_call\n",
      "    raise XGBoostError(py_str(_LIB.XGBGetLastError()))\n",
      "xgboost.core.XGBoostError: value 1.1652 for Parameter colsample_bytree exceed bound [0,1]\n",
      "colsample_bytree: Subsample ratio of columns, resample on each tree construction.\n",
      "\n",
      "  FitFailedWarning)\n",
      "C:\\Users\\Renata\\anaconda3\\lib\\site-packages\\xgboost\\sklearn.py:888: UserWarning: The use of label encoder in XGBClassifier is deprecated and will be removed in a future release. To remove this warning, do the following: 1) Pass option use_label_encoder=False when constructing XGBClassifier object; and 2) Encode your labels (y) as integers starting with 0, i.e. 0, 1, 2, ..., [num_class - 1].\n",
      "  warnings.warn(label_encoder_deprecation_msg, UserWarning)\n",
      "C:\\Users\\Renata\\anaconda3\\lib\\site-packages\\sklearn\\model_selection\\_validation.py:614: FitFailedWarning: Estimator fit failed. The score on this train-test partition for these parameters will be set to nan. Details: \n",
      "Traceback (most recent call last):\n",
      "  File \"C:\\Users\\Renata\\anaconda3\\lib\\site-packages\\sklearn\\model_selection\\_validation.py\", line 593, in _fit_and_score\n",
      "    estimator.fit(X_train, y_train, **fit_params)\n",
      "  File \"C:\\Users\\Renata\\anaconda3\\lib\\site-packages\\xgboost\\core.py\", line 422, in inner_f\n",
      "    return f(**kwargs)\n",
      "  File \"C:\\Users\\Renata\\anaconda3\\lib\\site-packages\\xgboost\\sklearn.py\", line 915, in fit\n",
      "    callbacks=callbacks)\n",
      "  File \"C:\\Users\\Renata\\anaconda3\\lib\\site-packages\\xgboost\\training.py\", line 235, in train\n",
      "    early_stopping_rounds=early_stopping_rounds)\n",
      "  File \"C:\\Users\\Renata\\anaconda3\\lib\\site-packages\\xgboost\\training.py\", line 102, in _train_internal\n",
      "    bst.update(dtrain, i, obj)\n",
      "  File \"C:\\Users\\Renata\\anaconda3\\lib\\site-packages\\xgboost\\core.py\", line 1282, in update\n",
      "    dtrain.handle))\n",
      "  File \"C:\\Users\\Renata\\anaconda3\\lib\\site-packages\\xgboost\\core.py\", line 189, in _check_call\n",
      "    raise XGBoostError(py_str(_LIB.XGBGetLastError()))\n",
      "xgboost.core.XGBoostError: value 1.34765 for Parameter colsample_bytree exceed bound [0,1]\n",
      "colsample_bytree: Subsample ratio of columns, resample on each tree construction.\n",
      "\n",
      "  FitFailedWarning)\n"
     ]
    },
    {
     "name": "stderr",
     "output_type": "stream",
     "text": [
      "C:\\Users\\Renata\\anaconda3\\lib\\site-packages\\xgboost\\sklearn.py:888: UserWarning: The use of label encoder in XGBClassifier is deprecated and will be removed in a future release. To remove this warning, do the following: 1) Pass option use_label_encoder=False when constructing XGBClassifier object; and 2) Encode your labels (y) as integers starting with 0, i.e. 0, 1, 2, ..., [num_class - 1].\n",
      "  warnings.warn(label_encoder_deprecation_msg, UserWarning)\n",
      "C:\\Users\\Renata\\anaconda3\\lib\\site-packages\\sklearn\\model_selection\\_validation.py:614: FitFailedWarning: Estimator fit failed. The score on this train-test partition for these parameters will be set to nan. Details: \n",
      "Traceback (most recent call last):\n",
      "  File \"C:\\Users\\Renata\\anaconda3\\lib\\site-packages\\sklearn\\model_selection\\_validation.py\", line 593, in _fit_and_score\n",
      "    estimator.fit(X_train, y_train, **fit_params)\n",
      "  File \"C:\\Users\\Renata\\anaconda3\\lib\\site-packages\\xgboost\\core.py\", line 422, in inner_f\n",
      "    return f(**kwargs)\n",
      "  File \"C:\\Users\\Renata\\anaconda3\\lib\\site-packages\\xgboost\\sklearn.py\", line 915, in fit\n",
      "    callbacks=callbacks)\n",
      "  File \"C:\\Users\\Renata\\anaconda3\\lib\\site-packages\\xgboost\\training.py\", line 235, in train\n",
      "    early_stopping_rounds=early_stopping_rounds)\n",
      "  File \"C:\\Users\\Renata\\anaconda3\\lib\\site-packages\\xgboost\\training.py\", line 102, in _train_internal\n",
      "    bst.update(dtrain, i, obj)\n",
      "  File \"C:\\Users\\Renata\\anaconda3\\lib\\site-packages\\xgboost\\core.py\", line 1282, in update\n",
      "    dtrain.handle))\n",
      "  File \"C:\\Users\\Renata\\anaconda3\\lib\\site-packages\\xgboost\\core.py\", line 189, in _check_call\n",
      "    raise XGBoostError(py_str(_LIB.XGBGetLastError()))\n",
      "xgboost.core.XGBoostError: value 1.34765 for Parameter colsample_bytree exceed bound [0,1]\n",
      "colsample_bytree: Subsample ratio of columns, resample on each tree construction.\n",
      "\n",
      "  FitFailedWarning)\n",
      "C:\\Users\\Renata\\anaconda3\\lib\\site-packages\\xgboost\\sklearn.py:888: UserWarning: The use of label encoder in XGBClassifier is deprecated and will be removed in a future release. To remove this warning, do the following: 1) Pass option use_label_encoder=False when constructing XGBClassifier object; and 2) Encode your labels (y) as integers starting with 0, i.e. 0, 1, 2, ..., [num_class - 1].\n",
      "  warnings.warn(label_encoder_deprecation_msg, UserWarning)\n",
      "C:\\Users\\Renata\\anaconda3\\lib\\site-packages\\sklearn\\model_selection\\_validation.py:614: FitFailedWarning: Estimator fit failed. The score on this train-test partition for these parameters will be set to nan. Details: \n",
      "Traceback (most recent call last):\n",
      "  File \"C:\\Users\\Renata\\anaconda3\\lib\\site-packages\\sklearn\\model_selection\\_validation.py\", line 593, in _fit_and_score\n",
      "    estimator.fit(X_train, y_train, **fit_params)\n",
      "  File \"C:\\Users\\Renata\\anaconda3\\lib\\site-packages\\xgboost\\core.py\", line 422, in inner_f\n",
      "    return f(**kwargs)\n",
      "  File \"C:\\Users\\Renata\\anaconda3\\lib\\site-packages\\xgboost\\sklearn.py\", line 915, in fit\n",
      "    callbacks=callbacks)\n",
      "  File \"C:\\Users\\Renata\\anaconda3\\lib\\site-packages\\xgboost\\training.py\", line 235, in train\n",
      "    early_stopping_rounds=early_stopping_rounds)\n",
      "  File \"C:\\Users\\Renata\\anaconda3\\lib\\site-packages\\xgboost\\training.py\", line 102, in _train_internal\n",
      "    bst.update(dtrain, i, obj)\n",
      "  File \"C:\\Users\\Renata\\anaconda3\\lib\\site-packages\\xgboost\\core.py\", line 1282, in update\n",
      "    dtrain.handle))\n",
      "  File \"C:\\Users\\Renata\\anaconda3\\lib\\site-packages\\xgboost\\core.py\", line 189, in _check_call\n",
      "    raise XGBoostError(py_str(_LIB.XGBGetLastError()))\n",
      "xgboost.core.XGBoostError: value 1.34765 for Parameter colsample_bytree exceed bound [0,1]\n",
      "colsample_bytree: Subsample ratio of columns, resample on each tree construction.\n",
      "\n",
      "  FitFailedWarning)\n",
      "C:\\Users\\Renata\\anaconda3\\lib\\site-packages\\xgboost\\sklearn.py:888: UserWarning: The use of label encoder in XGBClassifier is deprecated and will be removed in a future release. To remove this warning, do the following: 1) Pass option use_label_encoder=False when constructing XGBClassifier object; and 2) Encode your labels (y) as integers starting with 0, i.e. 0, 1, 2, ..., [num_class - 1].\n",
      "  warnings.warn(label_encoder_deprecation_msg, UserWarning)\n",
      "C:\\Users\\Renata\\anaconda3\\lib\\site-packages\\sklearn\\model_selection\\_validation.py:614: FitFailedWarning: Estimator fit failed. The score on this train-test partition for these parameters will be set to nan. Details: \n",
      "Traceback (most recent call last):\n",
      "  File \"C:\\Users\\Renata\\anaconda3\\lib\\site-packages\\sklearn\\model_selection\\_validation.py\", line 593, in _fit_and_score\n",
      "    estimator.fit(X_train, y_train, **fit_params)\n",
      "  File \"C:\\Users\\Renata\\anaconda3\\lib\\site-packages\\xgboost\\core.py\", line 422, in inner_f\n",
      "    return f(**kwargs)\n",
      "  File \"C:\\Users\\Renata\\anaconda3\\lib\\site-packages\\xgboost\\sklearn.py\", line 915, in fit\n",
      "    callbacks=callbacks)\n",
      "  File \"C:\\Users\\Renata\\anaconda3\\lib\\site-packages\\xgboost\\training.py\", line 235, in train\n",
      "    early_stopping_rounds=early_stopping_rounds)\n",
      "  File \"C:\\Users\\Renata\\anaconda3\\lib\\site-packages\\xgboost\\training.py\", line 102, in _train_internal\n",
      "    bst.update(dtrain, i, obj)\n",
      "  File \"C:\\Users\\Renata\\anaconda3\\lib\\site-packages\\xgboost\\core.py\", line 1282, in update\n",
      "    dtrain.handle))\n",
      "  File \"C:\\Users\\Renata\\anaconda3\\lib\\site-packages\\xgboost\\core.py\", line 189, in _check_call\n",
      "    raise XGBoostError(py_str(_LIB.XGBGetLastError()))\n",
      "xgboost.core.XGBoostError: value 1.34765 for Parameter colsample_bytree exceed bound [0,1]\n",
      "colsample_bytree: Subsample ratio of columns, resample on each tree construction.\n",
      "\n",
      "  FitFailedWarning)\n",
      "C:\\Users\\Renata\\anaconda3\\lib\\site-packages\\xgboost\\sklearn.py:888: UserWarning: The use of label encoder in XGBClassifier is deprecated and will be removed in a future release. To remove this warning, do the following: 1) Pass option use_label_encoder=False when constructing XGBClassifier object; and 2) Encode your labels (y) as integers starting with 0, i.e. 0, 1, 2, ..., [num_class - 1].\n",
      "  warnings.warn(label_encoder_deprecation_msg, UserWarning)\n",
      "C:\\Users\\Renata\\anaconda3\\lib\\site-packages\\sklearn\\model_selection\\_validation.py:614: FitFailedWarning: Estimator fit failed. The score on this train-test partition for these parameters will be set to nan. Details: \n",
      "Traceback (most recent call last):\n",
      "  File \"C:\\Users\\Renata\\anaconda3\\lib\\site-packages\\sklearn\\model_selection\\_validation.py\", line 593, in _fit_and_score\n",
      "    estimator.fit(X_train, y_train, **fit_params)\n",
      "  File \"C:\\Users\\Renata\\anaconda3\\lib\\site-packages\\xgboost\\core.py\", line 422, in inner_f\n",
      "    return f(**kwargs)\n",
      "  File \"C:\\Users\\Renata\\anaconda3\\lib\\site-packages\\xgboost\\sklearn.py\", line 915, in fit\n",
      "    callbacks=callbacks)\n",
      "  File \"C:\\Users\\Renata\\anaconda3\\lib\\site-packages\\xgboost\\training.py\", line 235, in train\n",
      "    early_stopping_rounds=early_stopping_rounds)\n",
      "  File \"C:\\Users\\Renata\\anaconda3\\lib\\site-packages\\xgboost\\training.py\", line 102, in _train_internal\n",
      "    bst.update(dtrain, i, obj)\n",
      "  File \"C:\\Users\\Renata\\anaconda3\\lib\\site-packages\\xgboost\\core.py\", line 1282, in update\n",
      "    dtrain.handle))\n",
      "  File \"C:\\Users\\Renata\\anaconda3\\lib\\site-packages\\xgboost\\core.py\", line 189, in _check_call\n",
      "    raise XGBoostError(py_str(_LIB.XGBGetLastError()))\n",
      "xgboost.core.XGBoostError: value 1.34765 for Parameter colsample_bytree exceed bound [0,1]\n",
      "colsample_bytree: Subsample ratio of columns, resample on each tree construction.\n",
      "\n",
      "  FitFailedWarning)\n",
      "C:\\Users\\Renata\\anaconda3\\lib\\site-packages\\xgboost\\sklearn.py:888: UserWarning: The use of label encoder in XGBClassifier is deprecated and will be removed in a future release. To remove this warning, do the following: 1) Pass option use_label_encoder=False when constructing XGBClassifier object; and 2) Encode your labels (y) as integers starting with 0, i.e. 0, 1, 2, ..., [num_class - 1].\n",
      "  warnings.warn(label_encoder_deprecation_msg, UserWarning)\n",
      "C:\\Users\\Renata\\anaconda3\\lib\\site-packages\\sklearn\\model_selection\\_validation.py:614: FitFailedWarning: Estimator fit failed. The score on this train-test partition for these parameters will be set to nan. Details: \n",
      "Traceback (most recent call last):\n",
      "  File \"C:\\Users\\Renata\\anaconda3\\lib\\site-packages\\sklearn\\model_selection\\_validation.py\", line 593, in _fit_and_score\n",
      "    estimator.fit(X_train, y_train, **fit_params)\n",
      "  File \"C:\\Users\\Renata\\anaconda3\\lib\\site-packages\\xgboost\\core.py\", line 422, in inner_f\n",
      "    return f(**kwargs)\n",
      "  File \"C:\\Users\\Renata\\anaconda3\\lib\\site-packages\\xgboost\\sklearn.py\", line 915, in fit\n",
      "    callbacks=callbacks)\n",
      "  File \"C:\\Users\\Renata\\anaconda3\\lib\\site-packages\\xgboost\\training.py\", line 235, in train\n",
      "    early_stopping_rounds=early_stopping_rounds)\n",
      "  File \"C:\\Users\\Renata\\anaconda3\\lib\\site-packages\\xgboost\\training.py\", line 102, in _train_internal\n",
      "    bst.update(dtrain, i, obj)\n",
      "  File \"C:\\Users\\Renata\\anaconda3\\lib\\site-packages\\xgboost\\core.py\", line 1282, in update\n",
      "    dtrain.handle))\n",
      "  File \"C:\\Users\\Renata\\anaconda3\\lib\\site-packages\\xgboost\\core.py\", line 189, in _check_call\n",
      "    raise XGBoostError(py_str(_LIB.XGBGetLastError()))\n",
      "xgboost.core.XGBoostError: value 1.01268 for Parameter subsample exceed bound [0,1]\n",
      "subsample: Row subsample ratio of training instance.\n",
      "\n",
      "  FitFailedWarning)\n",
      "C:\\Users\\Renata\\anaconda3\\lib\\site-packages\\xgboost\\sklearn.py:888: UserWarning: The use of label encoder in XGBClassifier is deprecated and will be removed in a future release. To remove this warning, do the following: 1) Pass option use_label_encoder=False when constructing XGBClassifier object; and 2) Encode your labels (y) as integers starting with 0, i.e. 0, 1, 2, ..., [num_class - 1].\n",
      "  warnings.warn(label_encoder_deprecation_msg, UserWarning)\n"
     ]
    },
    {
     "name": "stderr",
     "output_type": "stream",
     "text": [
      "C:\\Users\\Renata\\anaconda3\\lib\\site-packages\\sklearn\\model_selection\\_validation.py:614: FitFailedWarning: Estimator fit failed. The score on this train-test partition for these parameters will be set to nan. Details: \n",
      "Traceback (most recent call last):\n",
      "  File \"C:\\Users\\Renata\\anaconda3\\lib\\site-packages\\sklearn\\model_selection\\_validation.py\", line 593, in _fit_and_score\n",
      "    estimator.fit(X_train, y_train, **fit_params)\n",
      "  File \"C:\\Users\\Renata\\anaconda3\\lib\\site-packages\\xgboost\\core.py\", line 422, in inner_f\n",
      "    return f(**kwargs)\n",
      "  File \"C:\\Users\\Renata\\anaconda3\\lib\\site-packages\\xgboost\\sklearn.py\", line 915, in fit\n",
      "    callbacks=callbacks)\n",
      "  File \"C:\\Users\\Renata\\anaconda3\\lib\\site-packages\\xgboost\\training.py\", line 235, in train\n",
      "    early_stopping_rounds=early_stopping_rounds)\n",
      "  File \"C:\\Users\\Renata\\anaconda3\\lib\\site-packages\\xgboost\\training.py\", line 102, in _train_internal\n",
      "    bst.update(dtrain, i, obj)\n",
      "  File \"C:\\Users\\Renata\\anaconda3\\lib\\site-packages\\xgboost\\core.py\", line 1282, in update\n",
      "    dtrain.handle))\n",
      "  File \"C:\\Users\\Renata\\anaconda3\\lib\\site-packages\\xgboost\\core.py\", line 189, in _check_call\n",
      "    raise XGBoostError(py_str(_LIB.XGBGetLastError()))\n",
      "xgboost.core.XGBoostError: value 1.01268 for Parameter subsample exceed bound [0,1]\n",
      "subsample: Row subsample ratio of training instance.\n",
      "\n",
      "  FitFailedWarning)\n",
      "C:\\Users\\Renata\\anaconda3\\lib\\site-packages\\xgboost\\sklearn.py:888: UserWarning: The use of label encoder in XGBClassifier is deprecated and will be removed in a future release. To remove this warning, do the following: 1) Pass option use_label_encoder=False when constructing XGBClassifier object; and 2) Encode your labels (y) as integers starting with 0, i.e. 0, 1, 2, ..., [num_class - 1].\n",
      "  warnings.warn(label_encoder_deprecation_msg, UserWarning)\n",
      "C:\\Users\\Renata\\anaconda3\\lib\\site-packages\\sklearn\\model_selection\\_validation.py:614: FitFailedWarning: Estimator fit failed. The score on this train-test partition for these parameters will be set to nan. Details: \n",
      "Traceback (most recent call last):\n",
      "  File \"C:\\Users\\Renata\\anaconda3\\lib\\site-packages\\sklearn\\model_selection\\_validation.py\", line 593, in _fit_and_score\n",
      "    estimator.fit(X_train, y_train, **fit_params)\n",
      "  File \"C:\\Users\\Renata\\anaconda3\\lib\\site-packages\\xgboost\\core.py\", line 422, in inner_f\n",
      "    return f(**kwargs)\n",
      "  File \"C:\\Users\\Renata\\anaconda3\\lib\\site-packages\\xgboost\\sklearn.py\", line 915, in fit\n",
      "    callbacks=callbacks)\n",
      "  File \"C:\\Users\\Renata\\anaconda3\\lib\\site-packages\\xgboost\\training.py\", line 235, in train\n",
      "    early_stopping_rounds=early_stopping_rounds)\n",
      "  File \"C:\\Users\\Renata\\anaconda3\\lib\\site-packages\\xgboost\\training.py\", line 102, in _train_internal\n",
      "    bst.update(dtrain, i, obj)\n",
      "  File \"C:\\Users\\Renata\\anaconda3\\lib\\site-packages\\xgboost\\core.py\", line 1282, in update\n",
      "    dtrain.handle))\n",
      "  File \"C:\\Users\\Renata\\anaconda3\\lib\\site-packages\\xgboost\\core.py\", line 189, in _check_call\n",
      "    raise XGBoostError(py_str(_LIB.XGBGetLastError()))\n",
      "xgboost.core.XGBoostError: value 1.01268 for Parameter subsample exceed bound [0,1]\n",
      "subsample: Row subsample ratio of training instance.\n",
      "\n",
      "  FitFailedWarning)\n",
      "C:\\Users\\Renata\\anaconda3\\lib\\site-packages\\xgboost\\sklearn.py:888: UserWarning: The use of label encoder in XGBClassifier is deprecated and will be removed in a future release. To remove this warning, do the following: 1) Pass option use_label_encoder=False when constructing XGBClassifier object; and 2) Encode your labels (y) as integers starting with 0, i.e. 0, 1, 2, ..., [num_class - 1].\n",
      "  warnings.warn(label_encoder_deprecation_msg, UserWarning)\n",
      "C:\\Users\\Renata\\anaconda3\\lib\\site-packages\\sklearn\\model_selection\\_validation.py:614: FitFailedWarning: Estimator fit failed. The score on this train-test partition for these parameters will be set to nan. Details: \n",
      "Traceback (most recent call last):\n",
      "  File \"C:\\Users\\Renata\\anaconda3\\lib\\site-packages\\sklearn\\model_selection\\_validation.py\", line 593, in _fit_and_score\n",
      "    estimator.fit(X_train, y_train, **fit_params)\n",
      "  File \"C:\\Users\\Renata\\anaconda3\\lib\\site-packages\\xgboost\\core.py\", line 422, in inner_f\n",
      "    return f(**kwargs)\n",
      "  File \"C:\\Users\\Renata\\anaconda3\\lib\\site-packages\\xgboost\\sklearn.py\", line 915, in fit\n",
      "    callbacks=callbacks)\n",
      "  File \"C:\\Users\\Renata\\anaconda3\\lib\\site-packages\\xgboost\\training.py\", line 235, in train\n",
      "    early_stopping_rounds=early_stopping_rounds)\n",
      "  File \"C:\\Users\\Renata\\anaconda3\\lib\\site-packages\\xgboost\\training.py\", line 102, in _train_internal\n",
      "    bst.update(dtrain, i, obj)\n",
      "  File \"C:\\Users\\Renata\\anaconda3\\lib\\site-packages\\xgboost\\core.py\", line 1282, in update\n",
      "    dtrain.handle))\n",
      "  File \"C:\\Users\\Renata\\anaconda3\\lib\\site-packages\\xgboost\\core.py\", line 189, in _check_call\n",
      "    raise XGBoostError(py_str(_LIB.XGBGetLastError()))\n",
      "xgboost.core.XGBoostError: value 1.01268 for Parameter subsample exceed bound [0,1]\n",
      "subsample: Row subsample ratio of training instance.\n",
      "\n",
      "  FitFailedWarning)\n",
      "C:\\Users\\Renata\\anaconda3\\lib\\site-packages\\xgboost\\sklearn.py:888: UserWarning: The use of label encoder in XGBClassifier is deprecated and will be removed in a future release. To remove this warning, do the following: 1) Pass option use_label_encoder=False when constructing XGBClassifier object; and 2) Encode your labels (y) as integers starting with 0, i.e. 0, 1, 2, ..., [num_class - 1].\n",
      "  warnings.warn(label_encoder_deprecation_msg, UserWarning)\n",
      "C:\\Users\\Renata\\anaconda3\\lib\\site-packages\\sklearn\\model_selection\\_validation.py:614: FitFailedWarning: Estimator fit failed. The score on this train-test partition for these parameters will be set to nan. Details: \n",
      "Traceback (most recent call last):\n",
      "  File \"C:\\Users\\Renata\\anaconda3\\lib\\site-packages\\sklearn\\model_selection\\_validation.py\", line 593, in _fit_and_score\n",
      "    estimator.fit(X_train, y_train, **fit_params)\n",
      "  File \"C:\\Users\\Renata\\anaconda3\\lib\\site-packages\\xgboost\\core.py\", line 422, in inner_f\n",
      "    return f(**kwargs)\n",
      "  File \"C:\\Users\\Renata\\anaconda3\\lib\\site-packages\\xgboost\\sklearn.py\", line 915, in fit\n",
      "    callbacks=callbacks)\n",
      "  File \"C:\\Users\\Renata\\anaconda3\\lib\\site-packages\\xgboost\\training.py\", line 235, in train\n",
      "    early_stopping_rounds=early_stopping_rounds)\n",
      "  File \"C:\\Users\\Renata\\anaconda3\\lib\\site-packages\\xgboost\\training.py\", line 102, in _train_internal\n",
      "    bst.update(dtrain, i, obj)\n",
      "  File \"C:\\Users\\Renata\\anaconda3\\lib\\site-packages\\xgboost\\core.py\", line 1282, in update\n",
      "    dtrain.handle))\n",
      "  File \"C:\\Users\\Renata\\anaconda3\\lib\\site-packages\\xgboost\\core.py\", line 189, in _check_call\n",
      "    raise XGBoostError(py_str(_LIB.XGBGetLastError()))\n",
      "xgboost.core.XGBoostError: value 1.01268 for Parameter subsample exceed bound [0,1]\n",
      "subsample: Row subsample ratio of training instance.\n",
      "\n",
      "  FitFailedWarning)\n",
      "C:\\Users\\Renata\\anaconda3\\lib\\site-packages\\xgboost\\sklearn.py:888: UserWarning: The use of label encoder in XGBClassifier is deprecated and will be removed in a future release. To remove this warning, do the following: 1) Pass option use_label_encoder=False when constructing XGBClassifier object; and 2) Encode your labels (y) as integers starting with 0, i.e. 0, 1, 2, ..., [num_class - 1].\n",
      "  warnings.warn(label_encoder_deprecation_msg, UserWarning)\n"
     ]
    },
    {
     "name": "stdout",
     "output_type": "stream",
     "text": [
      "[23:50:04] WARNING: C:/Users/Administrator/workspace/xgboost-win64_release_1.3.0/src/learner.cc:1061: Starting in XGBoost 1.3.0, the default evaluation metric used with the objective 'binary:logistic' was changed from 'error' to 'logloss'. Explicitly set eval_metric if you'd like to restore the old behavior.\n"
     ]
    },
    {
     "name": "stderr",
     "output_type": "stream",
     "text": [
      "C:\\Users\\Renata\\anaconda3\\lib\\site-packages\\xgboost\\sklearn.py:888: UserWarning: The use of label encoder in XGBClassifier is deprecated and will be removed in a future release. To remove this warning, do the following: 1) Pass option use_label_encoder=False when constructing XGBClassifier object; and 2) Encode your labels (y) as integers starting with 0, i.e. 0, 1, 2, ..., [num_class - 1].\n",
      "  warnings.warn(label_encoder_deprecation_msg, UserWarning)\n"
     ]
    },
    {
     "name": "stdout",
     "output_type": "stream",
     "text": [
      "[23:50:05] WARNING: C:/Users/Administrator/workspace/xgboost-win64_release_1.3.0/src/learner.cc:1061: Starting in XGBoost 1.3.0, the default evaluation metric used with the objective 'binary:logistic' was changed from 'error' to 'logloss'. Explicitly set eval_metric if you'd like to restore the old behavior.\n"
     ]
    },
    {
     "name": "stderr",
     "output_type": "stream",
     "text": [
      "C:\\Users\\Renata\\anaconda3\\lib\\site-packages\\xgboost\\sklearn.py:888: UserWarning: The use of label encoder in XGBClassifier is deprecated and will be removed in a future release. To remove this warning, do the following: 1) Pass option use_label_encoder=False when constructing XGBClassifier object; and 2) Encode your labels (y) as integers starting with 0, i.e. 0, 1, 2, ..., [num_class - 1].\n",
      "  warnings.warn(label_encoder_deprecation_msg, UserWarning)\n"
     ]
    },
    {
     "name": "stdout",
     "output_type": "stream",
     "text": [
      "[23:50:06] WARNING: C:/Users/Administrator/workspace/xgboost-win64_release_1.3.0/src/learner.cc:1061: Starting in XGBoost 1.3.0, the default evaluation metric used with the objective 'binary:logistic' was changed from 'error' to 'logloss'. Explicitly set eval_metric if you'd like to restore the old behavior.\n"
     ]
    },
    {
     "name": "stderr",
     "output_type": "stream",
     "text": [
      "C:\\Users\\Renata\\anaconda3\\lib\\site-packages\\xgboost\\sklearn.py:888: UserWarning: The use of label encoder in XGBClassifier is deprecated and will be removed in a future release. To remove this warning, do the following: 1) Pass option use_label_encoder=False when constructing XGBClassifier object; and 2) Encode your labels (y) as integers starting with 0, i.e. 0, 1, 2, ..., [num_class - 1].\n",
      "  warnings.warn(label_encoder_deprecation_msg, UserWarning)\n"
     ]
    },
    {
     "name": "stdout",
     "output_type": "stream",
     "text": [
      "[23:50:07] WARNING: C:/Users/Administrator/workspace/xgboost-win64_release_1.3.0/src/learner.cc:1061: Starting in XGBoost 1.3.0, the default evaluation metric used with the objective 'binary:logistic' was changed from 'error' to 'logloss'. Explicitly set eval_metric if you'd like to restore the old behavior.\n"
     ]
    },
    {
     "name": "stderr",
     "output_type": "stream",
     "text": [
      "C:\\Users\\Renata\\anaconda3\\lib\\site-packages\\xgboost\\sklearn.py:888: UserWarning: The use of label encoder in XGBClassifier is deprecated and will be removed in a future release. To remove this warning, do the following: 1) Pass option use_label_encoder=False when constructing XGBClassifier object; and 2) Encode your labels (y) as integers starting with 0, i.e. 0, 1, 2, ..., [num_class - 1].\n",
      "  warnings.warn(label_encoder_deprecation_msg, UserWarning)\n"
     ]
    },
    {
     "name": "stdout",
     "output_type": "stream",
     "text": [
      "[23:50:08] WARNING: C:/Users/Administrator/workspace/xgboost-win64_release_1.3.0/src/learner.cc:1061: Starting in XGBoost 1.3.0, the default evaluation metric used with the objective 'binary:logistic' was changed from 'error' to 'logloss'. Explicitly set eval_metric if you'd like to restore the old behavior.\n"
     ]
    },
    {
     "name": "stderr",
     "output_type": "stream",
     "text": [
      "C:\\Users\\Renata\\anaconda3\\lib\\site-packages\\sklearn\\model_selection\\_search.py:921: UserWarning: One or more of the test scores are non-finite: [       nan        nan 0.76323529        nan 0.73970588 0.73970588\n",
      "        nan        nan        nan 0.75      ]\n",
      "  category=UserWarning\n",
      "C:\\Users\\Renata\\anaconda3\\lib\\site-packages\\xgboost\\sklearn.py:888: UserWarning: The use of label encoder in XGBClassifier is deprecated and will be removed in a future release. To remove this warning, do the following: 1) Pass option use_label_encoder=False when constructing XGBClassifier object; and 2) Encode your labels (y) as integers starting with 0, i.e. 0, 1, 2, ..., [num_class - 1].\n",
      "  warnings.warn(label_encoder_deprecation_msg, UserWarning)\n"
     ]
    },
    {
     "name": "stdout",
     "output_type": "stream",
     "text": [
      "[23:50:09] WARNING: C:/Users/Administrator/workspace/xgboost-win64_release_1.3.0/src/learner.cc:1061: Starting in XGBoost 1.3.0, the default evaluation metric used with the objective 'binary:logistic' was changed from 'error' to 'logloss'. Explicitly set eval_metric if you'd like to restore the old behavior.\n",
      "Acc Validação: 0.76 | Acc Teste: 0.76\n",
      "Parâmetros do melhor modelo para o fold atual(externo):  {'colsample_bytree': 0.7022579931959353, 'learning_rate': 0.4280020121080532, 'max_depth': 5, 'min_child_weight': 1, 'n_estimators': 898, 'subsample': 0.35798275640804317}\n"
     ]
    },
    {
     "name": "stderr",
     "output_type": "stream",
     "text": [
      "C:\\Users\\Renata\\anaconda3\\lib\\site-packages\\xgboost\\sklearn.py:888: UserWarning: The use of label encoder in XGBClassifier is deprecated and will be removed in a future release. To remove this warning, do the following: 1) Pass option use_label_encoder=False when constructing XGBClassifier object; and 2) Encode your labels (y) as integers starting with 0, i.e. 0, 1, 2, ..., [num_class - 1].\n",
      "  warnings.warn(label_encoder_deprecation_msg, UserWarning)\n",
      "C:\\Users\\Renata\\anaconda3\\lib\\site-packages\\sklearn\\model_selection\\_validation.py:614: FitFailedWarning: Estimator fit failed. The score on this train-test partition for these parameters will be set to nan. Details: \n",
      "Traceback (most recent call last):\n",
      "  File \"C:\\Users\\Renata\\anaconda3\\lib\\site-packages\\sklearn\\model_selection\\_validation.py\", line 593, in _fit_and_score\n",
      "    estimator.fit(X_train, y_train, **fit_params)\n",
      "  File \"C:\\Users\\Renata\\anaconda3\\lib\\site-packages\\xgboost\\core.py\", line 422, in inner_f\n",
      "    return f(**kwargs)\n",
      "  File \"C:\\Users\\Renata\\anaconda3\\lib\\site-packages\\xgboost\\sklearn.py\", line 915, in fit\n",
      "    callbacks=callbacks)\n",
      "  File \"C:\\Users\\Renata\\anaconda3\\lib\\site-packages\\xgboost\\training.py\", line 235, in train\n",
      "    early_stopping_rounds=early_stopping_rounds)\n",
      "  File \"C:\\Users\\Renata\\anaconda3\\lib\\site-packages\\xgboost\\training.py\", line 102, in _train_internal\n",
      "    bst.update(dtrain, i, obj)\n",
      "  File \"C:\\Users\\Renata\\anaconda3\\lib\\site-packages\\xgboost\\core.py\", line 1282, in update\n",
      "    dtrain.handle))\n",
      "  File \"C:\\Users\\Renata\\anaconda3\\lib\\site-packages\\xgboost\\core.py\", line 189, in _check_call\n",
      "    raise XGBoostError(py_str(_LIB.XGBGetLastError()))\n",
      "xgboost.core.XGBoostError: value 1.04884 for Parameter colsample_bytree exceed bound [0,1]\n",
      "colsample_bytree: Subsample ratio of columns, resample on each tree construction.\n",
      "\n",
      "  FitFailedWarning)\n",
      "C:\\Users\\Renata\\anaconda3\\lib\\site-packages\\xgboost\\sklearn.py:888: UserWarning: The use of label encoder in XGBClassifier is deprecated and will be removed in a future release. To remove this warning, do the following: 1) Pass option use_label_encoder=False when constructing XGBClassifier object; and 2) Encode your labels (y) as integers starting with 0, i.e. 0, 1, 2, ..., [num_class - 1].\n",
      "  warnings.warn(label_encoder_deprecation_msg, UserWarning)\n",
      "C:\\Users\\Renata\\anaconda3\\lib\\site-packages\\sklearn\\model_selection\\_validation.py:614: FitFailedWarning: Estimator fit failed. The score on this train-test partition for these parameters will be set to nan. Details: \n",
      "Traceback (most recent call last):\n",
      "  File \"C:\\Users\\Renata\\anaconda3\\lib\\site-packages\\sklearn\\model_selection\\_validation.py\", line 593, in _fit_and_score\n",
      "    estimator.fit(X_train, y_train, **fit_params)\n",
      "  File \"C:\\Users\\Renata\\anaconda3\\lib\\site-packages\\xgboost\\core.py\", line 422, in inner_f\n",
      "    return f(**kwargs)\n",
      "  File \"C:\\Users\\Renata\\anaconda3\\lib\\site-packages\\xgboost\\sklearn.py\", line 915, in fit\n",
      "    callbacks=callbacks)\n",
      "  File \"C:\\Users\\Renata\\anaconda3\\lib\\site-packages\\xgboost\\training.py\", line 235, in train\n",
      "    early_stopping_rounds=early_stopping_rounds)\n",
      "  File \"C:\\Users\\Renata\\anaconda3\\lib\\site-packages\\xgboost\\training.py\", line 102, in _train_internal\n",
      "    bst.update(dtrain, i, obj)\n",
      "  File \"C:\\Users\\Renata\\anaconda3\\lib\\site-packages\\xgboost\\core.py\", line 1282, in update\n",
      "    dtrain.handle))\n",
      "  File \"C:\\Users\\Renata\\anaconda3\\lib\\site-packages\\xgboost\\core.py\", line 189, in _check_call\n",
      "    raise XGBoostError(py_str(_LIB.XGBGetLastError()))\n",
      "xgboost.core.XGBoostError: value 1.04884 for Parameter colsample_bytree exceed bound [0,1]\n",
      "colsample_bytree: Subsample ratio of columns, resample on each tree construction.\n",
      "\n",
      "  FitFailedWarning)\n",
      "C:\\Users\\Renata\\anaconda3\\lib\\site-packages\\xgboost\\sklearn.py:888: UserWarning: The use of label encoder in XGBClassifier is deprecated and will be removed in a future release. To remove this warning, do the following: 1) Pass option use_label_encoder=False when constructing XGBClassifier object; and 2) Encode your labels (y) as integers starting with 0, i.e. 0, 1, 2, ..., [num_class - 1].\n",
      "  warnings.warn(label_encoder_deprecation_msg, UserWarning)\n",
      "C:\\Users\\Renata\\anaconda3\\lib\\site-packages\\sklearn\\model_selection\\_validation.py:614: FitFailedWarning: Estimator fit failed. The score on this train-test partition for these parameters will be set to nan. Details: \n",
      "Traceback (most recent call last):\n",
      "  File \"C:\\Users\\Renata\\anaconda3\\lib\\site-packages\\sklearn\\model_selection\\_validation.py\", line 593, in _fit_and_score\n",
      "    estimator.fit(X_train, y_train, **fit_params)\n",
      "  File \"C:\\Users\\Renata\\anaconda3\\lib\\site-packages\\xgboost\\core.py\", line 422, in inner_f\n",
      "    return f(**kwargs)\n",
      "  File \"C:\\Users\\Renata\\anaconda3\\lib\\site-packages\\xgboost\\sklearn.py\", line 915, in fit\n",
      "    callbacks=callbacks)\n",
      "  File \"C:\\Users\\Renata\\anaconda3\\lib\\site-packages\\xgboost\\training.py\", line 235, in train\n",
      "    early_stopping_rounds=early_stopping_rounds)\n",
      "  File \"C:\\Users\\Renata\\anaconda3\\lib\\site-packages\\xgboost\\training.py\", line 102, in _train_internal\n",
      "    bst.update(dtrain, i, obj)\n",
      "  File \"C:\\Users\\Renata\\anaconda3\\lib\\site-packages\\xgboost\\core.py\", line 1282, in update\n",
      "    dtrain.handle))\n",
      "  File \"C:\\Users\\Renata\\anaconda3\\lib\\site-packages\\xgboost\\core.py\", line 189, in _check_call\n",
      "    raise XGBoostError(py_str(_LIB.XGBGetLastError()))\n",
      "xgboost.core.XGBoostError: value 1.04884 for Parameter colsample_bytree exceed bound [0,1]\n",
      "colsample_bytree: Subsample ratio of columns, resample on each tree construction.\n",
      "\n",
      "  FitFailedWarning)\n",
      "C:\\Users\\Renata\\anaconda3\\lib\\site-packages\\xgboost\\sklearn.py:888: UserWarning: The use of label encoder in XGBClassifier is deprecated and will be removed in a future release. To remove this warning, do the following: 1) Pass option use_label_encoder=False when constructing XGBClassifier object; and 2) Encode your labels (y) as integers starting with 0, i.e. 0, 1, 2, ..., [num_class - 1].\n",
      "  warnings.warn(label_encoder_deprecation_msg, UserWarning)\n",
      "C:\\Users\\Renata\\anaconda3\\lib\\site-packages\\sklearn\\model_selection\\_validation.py:614: FitFailedWarning: Estimator fit failed. The score on this train-test partition for these parameters will be set to nan. Details: \n",
      "Traceback (most recent call last):\n",
      "  File \"C:\\Users\\Renata\\anaconda3\\lib\\site-packages\\sklearn\\model_selection\\_validation.py\", line 593, in _fit_and_score\n",
      "    estimator.fit(X_train, y_train, **fit_params)\n",
      "  File \"C:\\Users\\Renata\\anaconda3\\lib\\site-packages\\xgboost\\core.py\", line 422, in inner_f\n",
      "    return f(**kwargs)\n",
      "  File \"C:\\Users\\Renata\\anaconda3\\lib\\site-packages\\xgboost\\sklearn.py\", line 915, in fit\n",
      "    callbacks=callbacks)\n",
      "  File \"C:\\Users\\Renata\\anaconda3\\lib\\site-packages\\xgboost\\training.py\", line 235, in train\n",
      "    early_stopping_rounds=early_stopping_rounds)\n",
      "  File \"C:\\Users\\Renata\\anaconda3\\lib\\site-packages\\xgboost\\training.py\", line 102, in _train_internal\n",
      "    bst.update(dtrain, i, obj)\n",
      "  File \"C:\\Users\\Renata\\anaconda3\\lib\\site-packages\\xgboost\\core.py\", line 1282, in update\n",
      "    dtrain.handle))\n",
      "  File \"C:\\Users\\Renata\\anaconda3\\lib\\site-packages\\xgboost\\core.py\", line 189, in _check_call\n",
      "    raise XGBoostError(py_str(_LIB.XGBGetLastError()))\n",
      "xgboost.core.XGBoostError: value 1.04884 for Parameter colsample_bytree exceed bound [0,1]\n",
      "colsample_bytree: Subsample ratio of columns, resample on each tree construction.\n",
      "\n",
      "  FitFailedWarning)\n",
      "C:\\Users\\Renata\\anaconda3\\lib\\site-packages\\xgboost\\sklearn.py:888: UserWarning: The use of label encoder in XGBClassifier is deprecated and will be removed in a future release. To remove this warning, do the following: 1) Pass option use_label_encoder=False when constructing XGBClassifier object; and 2) Encode your labels (y) as integers starting with 0, i.e. 0, 1, 2, ..., [num_class - 1].\n",
      "  warnings.warn(label_encoder_deprecation_msg, UserWarning)\n",
      "C:\\Users\\Renata\\anaconda3\\lib\\site-packages\\sklearn\\model_selection\\_validation.py:614: FitFailedWarning: Estimator fit failed. The score on this train-test partition for these parameters will be set to nan. Details: \n",
      "Traceback (most recent call last):\n",
      "  File \"C:\\Users\\Renata\\anaconda3\\lib\\site-packages\\sklearn\\model_selection\\_validation.py\", line 593, in _fit_and_score\n",
      "    estimator.fit(X_train, y_train, **fit_params)\n",
      "  File \"C:\\Users\\Renata\\anaconda3\\lib\\site-packages\\xgboost\\core.py\", line 422, in inner_f\n",
      "    return f(**kwargs)\n",
      "  File \"C:\\Users\\Renata\\anaconda3\\lib\\site-packages\\xgboost\\sklearn.py\", line 915, in fit\n",
      "    callbacks=callbacks)\n",
      "  File \"C:\\Users\\Renata\\anaconda3\\lib\\site-packages\\xgboost\\training.py\", line 235, in train\n",
      "    early_stopping_rounds=early_stopping_rounds)\n",
      "  File \"C:\\Users\\Renata\\anaconda3\\lib\\site-packages\\xgboost\\training.py\", line 102, in _train_internal\n",
      "    bst.update(dtrain, i, obj)\n",
      "  File \"C:\\Users\\Renata\\anaconda3\\lib\\site-packages\\xgboost\\core.py\", line 1282, in update\n",
      "    dtrain.handle))\n",
      "  File \"C:\\Users\\Renata\\anaconda3\\lib\\site-packages\\xgboost\\core.py\", line 189, in _check_call\n",
      "    raise XGBoostError(py_str(_LIB.XGBGetLastError()))\n",
      "xgboost.core.XGBoostError: value 1.04884 for Parameter colsample_bytree exceed bound [0,1]\n",
      "colsample_bytree: Subsample ratio of columns, resample on each tree construction.\n",
      "\n",
      "  FitFailedWarning)\n",
      "C:\\Users\\Renata\\anaconda3\\lib\\site-packages\\xgboost\\sklearn.py:888: UserWarning: The use of label encoder in XGBClassifier is deprecated and will be removed in a future release. To remove this warning, do the following: 1) Pass option use_label_encoder=False when constructing XGBClassifier object; and 2) Encode your labels (y) as integers starting with 0, i.e. 0, 1, 2, ..., [num_class - 1].\n",
      "  warnings.warn(label_encoder_deprecation_msg, UserWarning)\n",
      "C:\\Users\\Renata\\anaconda3\\lib\\site-packages\\sklearn\\model_selection\\_validation.py:614: FitFailedWarning: Estimator fit failed. The score on this train-test partition for these parameters will be set to nan. Details: \n",
      "Traceback (most recent call last):\n",
      "  File \"C:\\Users\\Renata\\anaconda3\\lib\\site-packages\\sklearn\\model_selection\\_validation.py\", line 593, in _fit_and_score\n",
      "    estimator.fit(X_train, y_train, **fit_params)\n",
      "  File \"C:\\Users\\Renata\\anaconda3\\lib\\site-packages\\xgboost\\core.py\", line 422, in inner_f\n",
      "    return f(**kwargs)\n",
      "  File \"C:\\Users\\Renata\\anaconda3\\lib\\site-packages\\xgboost\\sklearn.py\", line 915, in fit\n",
      "    callbacks=callbacks)\n",
      "  File \"C:\\Users\\Renata\\anaconda3\\lib\\site-packages\\xgboost\\training.py\", line 235, in train\n",
      "    early_stopping_rounds=early_stopping_rounds)\n",
      "  File \"C:\\Users\\Renata\\anaconda3\\lib\\site-packages\\xgboost\\training.py\", line 102, in _train_internal\n",
      "    bst.update(dtrain, i, obj)\n",
      "  File \"C:\\Users\\Renata\\anaconda3\\lib\\site-packages\\xgboost\\core.py\", line 1282, in update\n",
      "    dtrain.handle))\n",
      "  File \"C:\\Users\\Renata\\anaconda3\\lib\\site-packages\\xgboost\\core.py\", line 189, in _check_call\n",
      "    raise XGBoostError(py_str(_LIB.XGBGetLastError()))\n",
      "xgboost.core.XGBoostError: value 1.35002 for Parameter colsample_bytree exceed bound [0,1]\n",
      "colsample_bytree: Subsample ratio of columns, resample on each tree construction.\n",
      "\n",
      "  FitFailedWarning)\n"
     ]
    },
    {
     "name": "stderr",
     "output_type": "stream",
     "text": [
      "C:\\Users\\Renata\\anaconda3\\lib\\site-packages\\xgboost\\sklearn.py:888: UserWarning: The use of label encoder in XGBClassifier is deprecated and will be removed in a future release. To remove this warning, do the following: 1) Pass option use_label_encoder=False when constructing XGBClassifier object; and 2) Encode your labels (y) as integers starting with 0, i.e. 0, 1, 2, ..., [num_class - 1].\n",
      "  warnings.warn(label_encoder_deprecation_msg, UserWarning)\n",
      "C:\\Users\\Renata\\anaconda3\\lib\\site-packages\\sklearn\\model_selection\\_validation.py:614: FitFailedWarning: Estimator fit failed. The score on this train-test partition for these parameters will be set to nan. Details: \n",
      "Traceback (most recent call last):\n",
      "  File \"C:\\Users\\Renata\\anaconda3\\lib\\site-packages\\sklearn\\model_selection\\_validation.py\", line 593, in _fit_and_score\n",
      "    estimator.fit(X_train, y_train, **fit_params)\n",
      "  File \"C:\\Users\\Renata\\anaconda3\\lib\\site-packages\\xgboost\\core.py\", line 422, in inner_f\n",
      "    return f(**kwargs)\n",
      "  File \"C:\\Users\\Renata\\anaconda3\\lib\\site-packages\\xgboost\\sklearn.py\", line 915, in fit\n",
      "    callbacks=callbacks)\n",
      "  File \"C:\\Users\\Renata\\anaconda3\\lib\\site-packages\\xgboost\\training.py\", line 235, in train\n",
      "    early_stopping_rounds=early_stopping_rounds)\n",
      "  File \"C:\\Users\\Renata\\anaconda3\\lib\\site-packages\\xgboost\\training.py\", line 102, in _train_internal\n",
      "    bst.update(dtrain, i, obj)\n",
      "  File \"C:\\Users\\Renata\\anaconda3\\lib\\site-packages\\xgboost\\core.py\", line 1282, in update\n",
      "    dtrain.handle))\n",
      "  File \"C:\\Users\\Renata\\anaconda3\\lib\\site-packages\\xgboost\\core.py\", line 189, in _check_call\n",
      "    raise XGBoostError(py_str(_LIB.XGBGetLastError()))\n",
      "xgboost.core.XGBoostError: value 1.35002 for Parameter colsample_bytree exceed bound [0,1]\n",
      "colsample_bytree: Subsample ratio of columns, resample on each tree construction.\n",
      "\n",
      "  FitFailedWarning)\n",
      "C:\\Users\\Renata\\anaconda3\\lib\\site-packages\\xgboost\\sklearn.py:888: UserWarning: The use of label encoder in XGBClassifier is deprecated and will be removed in a future release. To remove this warning, do the following: 1) Pass option use_label_encoder=False when constructing XGBClassifier object; and 2) Encode your labels (y) as integers starting with 0, i.e. 0, 1, 2, ..., [num_class - 1].\n",
      "  warnings.warn(label_encoder_deprecation_msg, UserWarning)\n",
      "C:\\Users\\Renata\\anaconda3\\lib\\site-packages\\sklearn\\model_selection\\_validation.py:614: FitFailedWarning: Estimator fit failed. The score on this train-test partition for these parameters will be set to nan. Details: \n",
      "Traceback (most recent call last):\n",
      "  File \"C:\\Users\\Renata\\anaconda3\\lib\\site-packages\\sklearn\\model_selection\\_validation.py\", line 593, in _fit_and_score\n",
      "    estimator.fit(X_train, y_train, **fit_params)\n",
      "  File \"C:\\Users\\Renata\\anaconda3\\lib\\site-packages\\xgboost\\core.py\", line 422, in inner_f\n",
      "    return f(**kwargs)\n",
      "  File \"C:\\Users\\Renata\\anaconda3\\lib\\site-packages\\xgboost\\sklearn.py\", line 915, in fit\n",
      "    callbacks=callbacks)\n",
      "  File \"C:\\Users\\Renata\\anaconda3\\lib\\site-packages\\xgboost\\training.py\", line 235, in train\n",
      "    early_stopping_rounds=early_stopping_rounds)\n",
      "  File \"C:\\Users\\Renata\\anaconda3\\lib\\site-packages\\xgboost\\training.py\", line 102, in _train_internal\n",
      "    bst.update(dtrain, i, obj)\n",
      "  File \"C:\\Users\\Renata\\anaconda3\\lib\\site-packages\\xgboost\\core.py\", line 1282, in update\n",
      "    dtrain.handle))\n",
      "  File \"C:\\Users\\Renata\\anaconda3\\lib\\site-packages\\xgboost\\core.py\", line 189, in _check_call\n",
      "    raise XGBoostError(py_str(_LIB.XGBGetLastError()))\n",
      "xgboost.core.XGBoostError: value 1.35002 for Parameter colsample_bytree exceed bound [0,1]\n",
      "colsample_bytree: Subsample ratio of columns, resample on each tree construction.\n",
      "\n",
      "  FitFailedWarning)\n",
      "C:\\Users\\Renata\\anaconda3\\lib\\site-packages\\xgboost\\sklearn.py:888: UserWarning: The use of label encoder in XGBClassifier is deprecated and will be removed in a future release. To remove this warning, do the following: 1) Pass option use_label_encoder=False when constructing XGBClassifier object; and 2) Encode your labels (y) as integers starting with 0, i.e. 0, 1, 2, ..., [num_class - 1].\n",
      "  warnings.warn(label_encoder_deprecation_msg, UserWarning)\n",
      "C:\\Users\\Renata\\anaconda3\\lib\\site-packages\\sklearn\\model_selection\\_validation.py:614: FitFailedWarning: Estimator fit failed. The score on this train-test partition for these parameters will be set to nan. Details: \n",
      "Traceback (most recent call last):\n",
      "  File \"C:\\Users\\Renata\\anaconda3\\lib\\site-packages\\sklearn\\model_selection\\_validation.py\", line 593, in _fit_and_score\n",
      "    estimator.fit(X_train, y_train, **fit_params)\n",
      "  File \"C:\\Users\\Renata\\anaconda3\\lib\\site-packages\\xgboost\\core.py\", line 422, in inner_f\n",
      "    return f(**kwargs)\n",
      "  File \"C:\\Users\\Renata\\anaconda3\\lib\\site-packages\\xgboost\\sklearn.py\", line 915, in fit\n",
      "    callbacks=callbacks)\n",
      "  File \"C:\\Users\\Renata\\anaconda3\\lib\\site-packages\\xgboost\\training.py\", line 235, in train\n",
      "    early_stopping_rounds=early_stopping_rounds)\n",
      "  File \"C:\\Users\\Renata\\anaconda3\\lib\\site-packages\\xgboost\\training.py\", line 102, in _train_internal\n",
      "    bst.update(dtrain, i, obj)\n",
      "  File \"C:\\Users\\Renata\\anaconda3\\lib\\site-packages\\xgboost\\core.py\", line 1282, in update\n",
      "    dtrain.handle))\n",
      "  File \"C:\\Users\\Renata\\anaconda3\\lib\\site-packages\\xgboost\\core.py\", line 189, in _check_call\n",
      "    raise XGBoostError(py_str(_LIB.XGBGetLastError()))\n",
      "xgboost.core.XGBoostError: value 1.35002 for Parameter colsample_bytree exceed bound [0,1]\n",
      "colsample_bytree: Subsample ratio of columns, resample on each tree construction.\n",
      "\n",
      "  FitFailedWarning)\n",
      "C:\\Users\\Renata\\anaconda3\\lib\\site-packages\\xgboost\\sklearn.py:888: UserWarning: The use of label encoder in XGBClassifier is deprecated and will be removed in a future release. To remove this warning, do the following: 1) Pass option use_label_encoder=False when constructing XGBClassifier object; and 2) Encode your labels (y) as integers starting with 0, i.e. 0, 1, 2, ..., [num_class - 1].\n",
      "  warnings.warn(label_encoder_deprecation_msg, UserWarning)\n",
      "C:\\Users\\Renata\\anaconda3\\lib\\site-packages\\sklearn\\model_selection\\_validation.py:614: FitFailedWarning: Estimator fit failed. The score on this train-test partition for these parameters will be set to nan. Details: \n",
      "Traceback (most recent call last):\n",
      "  File \"C:\\Users\\Renata\\anaconda3\\lib\\site-packages\\sklearn\\model_selection\\_validation.py\", line 593, in _fit_and_score\n",
      "    estimator.fit(X_train, y_train, **fit_params)\n",
      "  File \"C:\\Users\\Renata\\anaconda3\\lib\\site-packages\\xgboost\\core.py\", line 422, in inner_f\n",
      "    return f(**kwargs)\n",
      "  File \"C:\\Users\\Renata\\anaconda3\\lib\\site-packages\\xgboost\\sklearn.py\", line 915, in fit\n",
      "    callbacks=callbacks)\n",
      "  File \"C:\\Users\\Renata\\anaconda3\\lib\\site-packages\\xgboost\\training.py\", line 235, in train\n",
      "    early_stopping_rounds=early_stopping_rounds)\n",
      "  File \"C:\\Users\\Renata\\anaconda3\\lib\\site-packages\\xgboost\\training.py\", line 102, in _train_internal\n",
      "    bst.update(dtrain, i, obj)\n",
      "  File \"C:\\Users\\Renata\\anaconda3\\lib\\site-packages\\xgboost\\core.py\", line 1282, in update\n",
      "    dtrain.handle))\n",
      "  File \"C:\\Users\\Renata\\anaconda3\\lib\\site-packages\\xgboost\\core.py\", line 189, in _check_call\n",
      "    raise XGBoostError(py_str(_LIB.XGBGetLastError()))\n",
      "xgboost.core.XGBoostError: value 1.35002 for Parameter colsample_bytree exceed bound [0,1]\n",
      "colsample_bytree: Subsample ratio of columns, resample on each tree construction.\n",
      "\n",
      "  FitFailedWarning)\n",
      "C:\\Users\\Renata\\anaconda3\\lib\\site-packages\\xgboost\\sklearn.py:888: UserWarning: The use of label encoder in XGBClassifier is deprecated and will be removed in a future release. To remove this warning, do the following: 1) Pass option use_label_encoder=False when constructing XGBClassifier object; and 2) Encode your labels (y) as integers starting with 0, i.e. 0, 1, 2, ..., [num_class - 1].\n",
      "  warnings.warn(label_encoder_deprecation_msg, UserWarning)\n"
     ]
    },
    {
     "name": "stdout",
     "output_type": "stream",
     "text": [
      "[23:50:14] WARNING: C:/Users/Administrator/workspace/xgboost-win64_release_1.3.0/src/learner.cc:1061: Starting in XGBoost 1.3.0, the default evaluation metric used with the objective 'binary:logistic' was changed from 'error' to 'logloss'. Explicitly set eval_metric if you'd like to restore the old behavior.\n"
     ]
    },
    {
     "name": "stderr",
     "output_type": "stream",
     "text": [
      "C:\\Users\\Renata\\anaconda3\\lib\\site-packages\\xgboost\\sklearn.py:888: UserWarning: The use of label encoder in XGBClassifier is deprecated and will be removed in a future release. To remove this warning, do the following: 1) Pass option use_label_encoder=False when constructing XGBClassifier object; and 2) Encode your labels (y) as integers starting with 0, i.e. 0, 1, 2, ..., [num_class - 1].\n",
      "  warnings.warn(label_encoder_deprecation_msg, UserWarning)\n"
     ]
    },
    {
     "name": "stdout",
     "output_type": "stream",
     "text": [
      "[23:50:17] WARNING: C:/Users/Administrator/workspace/xgboost-win64_release_1.3.0/src/learner.cc:1061: Starting in XGBoost 1.3.0, the default evaluation metric used with the objective 'binary:logistic' was changed from 'error' to 'logloss'. Explicitly set eval_metric if you'd like to restore the old behavior.\n"
     ]
    },
    {
     "name": "stderr",
     "output_type": "stream",
     "text": [
      "C:\\Users\\Renata\\anaconda3\\lib\\site-packages\\xgboost\\sklearn.py:888: UserWarning: The use of label encoder in XGBClassifier is deprecated and will be removed in a future release. To remove this warning, do the following: 1) Pass option use_label_encoder=False when constructing XGBClassifier object; and 2) Encode your labels (y) as integers starting with 0, i.e. 0, 1, 2, ..., [num_class - 1].\n",
      "  warnings.warn(label_encoder_deprecation_msg, UserWarning)\n"
     ]
    },
    {
     "name": "stdout",
     "output_type": "stream",
     "text": [
      "[23:50:20] WARNING: C:/Users/Administrator/workspace/xgboost-win64_release_1.3.0/src/learner.cc:1061: Starting in XGBoost 1.3.0, the default evaluation metric used with the objective 'binary:logistic' was changed from 'error' to 'logloss'. Explicitly set eval_metric if you'd like to restore the old behavior.\n"
     ]
    },
    {
     "name": "stderr",
     "output_type": "stream",
     "text": [
      "C:\\Users\\Renata\\anaconda3\\lib\\site-packages\\xgboost\\sklearn.py:888: UserWarning: The use of label encoder in XGBClassifier is deprecated and will be removed in a future release. To remove this warning, do the following: 1) Pass option use_label_encoder=False when constructing XGBClassifier object; and 2) Encode your labels (y) as integers starting with 0, i.e. 0, 1, 2, ..., [num_class - 1].\n",
      "  warnings.warn(label_encoder_deprecation_msg, UserWarning)\n"
     ]
    },
    {
     "name": "stdout",
     "output_type": "stream",
     "text": [
      "[23:50:23] WARNING: C:/Users/Administrator/workspace/xgboost-win64_release_1.3.0/src/learner.cc:1061: Starting in XGBoost 1.3.0, the default evaluation metric used with the objective 'binary:logistic' was changed from 'error' to 'logloss'. Explicitly set eval_metric if you'd like to restore the old behavior.\n"
     ]
    },
    {
     "name": "stderr",
     "output_type": "stream",
     "text": [
      "C:\\Users\\Renata\\anaconda3\\lib\\site-packages\\xgboost\\sklearn.py:888: UserWarning: The use of label encoder in XGBClassifier is deprecated and will be removed in a future release. To remove this warning, do the following: 1) Pass option use_label_encoder=False when constructing XGBClassifier object; and 2) Encode your labels (y) as integers starting with 0, i.e. 0, 1, 2, ..., [num_class - 1].\n",
      "  warnings.warn(label_encoder_deprecation_msg, UserWarning)\n"
     ]
    },
    {
     "name": "stdout",
     "output_type": "stream",
     "text": [
      "[23:50:26] WARNING: C:/Users/Administrator/workspace/xgboost-win64_release_1.3.0/src/learner.cc:1061: Starting in XGBoost 1.3.0, the default evaluation metric used with the objective 'binary:logistic' was changed from 'error' to 'logloss'. Explicitly set eval_metric if you'd like to restore the old behavior.\n"
     ]
    },
    {
     "name": "stderr",
     "output_type": "stream",
     "text": [
      "C:\\Users\\Renata\\anaconda3\\lib\\site-packages\\xgboost\\sklearn.py:888: UserWarning: The use of label encoder in XGBClassifier is deprecated and will be removed in a future release. To remove this warning, do the following: 1) Pass option use_label_encoder=False when constructing XGBClassifier object; and 2) Encode your labels (y) as integers starting with 0, i.e. 0, 1, 2, ..., [num_class - 1].\n",
      "  warnings.warn(label_encoder_deprecation_msg, UserWarning)\n"
     ]
    },
    {
     "name": "stdout",
     "output_type": "stream",
     "text": [
      "[23:50:29] WARNING: C:/Users/Administrator/workspace/xgboost-win64_release_1.3.0/src/learner.cc:1061: Starting in XGBoost 1.3.0, the default evaluation metric used with the objective 'binary:logistic' was changed from 'error' to 'logloss'. Explicitly set eval_metric if you'd like to restore the old behavior.\n"
     ]
    },
    {
     "name": "stderr",
     "output_type": "stream",
     "text": [
      "C:\\Users\\Renata\\anaconda3\\lib\\site-packages\\xgboost\\sklearn.py:888: UserWarning: The use of label encoder in XGBClassifier is deprecated and will be removed in a future release. To remove this warning, do the following: 1) Pass option use_label_encoder=False when constructing XGBClassifier object; and 2) Encode your labels (y) as integers starting with 0, i.e. 0, 1, 2, ..., [num_class - 1].\n",
      "  warnings.warn(label_encoder_deprecation_msg, UserWarning)\n"
     ]
    },
    {
     "name": "stdout",
     "output_type": "stream",
     "text": [
      "[23:50:31] WARNING: C:/Users/Administrator/workspace/xgboost-win64_release_1.3.0/src/learner.cc:1061: Starting in XGBoost 1.3.0, the default evaluation metric used with the objective 'binary:logistic' was changed from 'error' to 'logloss'. Explicitly set eval_metric if you'd like to restore the old behavior.\n"
     ]
    },
    {
     "name": "stderr",
     "output_type": "stream",
     "text": [
      "C:\\Users\\Renata\\anaconda3\\lib\\site-packages\\xgboost\\sklearn.py:888: UserWarning: The use of label encoder in XGBClassifier is deprecated and will be removed in a future release. To remove this warning, do the following: 1) Pass option use_label_encoder=False when constructing XGBClassifier object; and 2) Encode your labels (y) as integers starting with 0, i.e. 0, 1, 2, ..., [num_class - 1].\n",
      "  warnings.warn(label_encoder_deprecation_msg, UserWarning)\n"
     ]
    },
    {
     "name": "stdout",
     "output_type": "stream",
     "text": [
      "[23:50:33] WARNING: C:/Users/Administrator/workspace/xgboost-win64_release_1.3.0/src/learner.cc:1061: Starting in XGBoost 1.3.0, the default evaluation metric used with the objective 'binary:logistic' was changed from 'error' to 'logloss'. Explicitly set eval_metric if you'd like to restore the old behavior.\n"
     ]
    },
    {
     "name": "stderr",
     "output_type": "stream",
     "text": [
      "C:\\Users\\Renata\\anaconda3\\lib\\site-packages\\xgboost\\sklearn.py:888: UserWarning: The use of label encoder in XGBClassifier is deprecated and will be removed in a future release. To remove this warning, do the following: 1) Pass option use_label_encoder=False when constructing XGBClassifier object; and 2) Encode your labels (y) as integers starting with 0, i.e. 0, 1, 2, ..., [num_class - 1].\n",
      "  warnings.warn(label_encoder_deprecation_msg, UserWarning)\n"
     ]
    },
    {
     "name": "stdout",
     "output_type": "stream",
     "text": [
      "[23:50:34] WARNING: C:/Users/Administrator/workspace/xgboost-win64_release_1.3.0/src/learner.cc:1061: Starting in XGBoost 1.3.0, the default evaluation metric used with the objective 'binary:logistic' was changed from 'error' to 'logloss'. Explicitly set eval_metric if you'd like to restore the old behavior.\n"
     ]
    },
    {
     "name": "stderr",
     "output_type": "stream",
     "text": [
      "C:\\Users\\Renata\\anaconda3\\lib\\site-packages\\xgboost\\sklearn.py:888: UserWarning: The use of label encoder in XGBClassifier is deprecated and will be removed in a future release. To remove this warning, do the following: 1) Pass option use_label_encoder=False when constructing XGBClassifier object; and 2) Encode your labels (y) as integers starting with 0, i.e. 0, 1, 2, ..., [num_class - 1].\n",
      "  warnings.warn(label_encoder_deprecation_msg, UserWarning)\n"
     ]
    },
    {
     "name": "stdout",
     "output_type": "stream",
     "text": [
      "[23:50:36] WARNING: C:/Users/Administrator/workspace/xgboost-win64_release_1.3.0/src/learner.cc:1061: Starting in XGBoost 1.3.0, the default evaluation metric used with the objective 'binary:logistic' was changed from 'error' to 'logloss'. Explicitly set eval_metric if you'd like to restore the old behavior.\n"
     ]
    },
    {
     "name": "stderr",
     "output_type": "stream",
     "text": [
      "C:\\Users\\Renata\\anaconda3\\lib\\site-packages\\xgboost\\sklearn.py:888: UserWarning: The use of label encoder in XGBClassifier is deprecated and will be removed in a future release. To remove this warning, do the following: 1) Pass option use_label_encoder=False when constructing XGBClassifier object; and 2) Encode your labels (y) as integers starting with 0, i.e. 0, 1, 2, ..., [num_class - 1].\n",
      "  warnings.warn(label_encoder_deprecation_msg, UserWarning)\n",
      "C:\\Users\\Renata\\anaconda3\\lib\\site-packages\\sklearn\\model_selection\\_validation.py:614: FitFailedWarning: Estimator fit failed. The score on this train-test partition for these parameters will be set to nan. Details: \n",
      "Traceback (most recent call last):\n",
      "  File \"C:\\Users\\Renata\\anaconda3\\lib\\site-packages\\sklearn\\model_selection\\_validation.py\", line 593, in _fit_and_score\n",
      "    estimator.fit(X_train, y_train, **fit_params)\n",
      "  File \"C:\\Users\\Renata\\anaconda3\\lib\\site-packages\\xgboost\\core.py\", line 422, in inner_f\n",
      "    return f(**kwargs)\n",
      "  File \"C:\\Users\\Renata\\anaconda3\\lib\\site-packages\\xgboost\\sklearn.py\", line 915, in fit\n",
      "    callbacks=callbacks)\n",
      "  File \"C:\\Users\\Renata\\anaconda3\\lib\\site-packages\\xgboost\\training.py\", line 235, in train\n",
      "    early_stopping_rounds=early_stopping_rounds)\n",
      "  File \"C:\\Users\\Renata\\anaconda3\\lib\\site-packages\\xgboost\\training.py\", line 102, in _train_internal\n",
      "    bst.update(dtrain, i, obj)\n",
      "  File \"C:\\Users\\Renata\\anaconda3\\lib\\site-packages\\xgboost\\core.py\", line 1282, in update\n",
      "    dtrain.handle))\n",
      "  File \"C:\\Users\\Renata\\anaconda3\\lib\\site-packages\\xgboost\\core.py\", line 189, in _check_call\n",
      "    raise XGBoostError(py_str(_LIB.XGBGetLastError()))\n",
      "xgboost.core.XGBoostError: value 1.2807 for Parameter colsample_bytree exceed bound [0,1]\n",
      "colsample_bytree: Subsample ratio of columns, resample on each tree construction.\n",
      "\n",
      "  FitFailedWarning)\n",
      "C:\\Users\\Renata\\anaconda3\\lib\\site-packages\\xgboost\\sklearn.py:888: UserWarning: The use of label encoder in XGBClassifier is deprecated and will be removed in a future release. To remove this warning, do the following: 1) Pass option use_label_encoder=False when constructing XGBClassifier object; and 2) Encode your labels (y) as integers starting with 0, i.e. 0, 1, 2, ..., [num_class - 1].\n",
      "  warnings.warn(label_encoder_deprecation_msg, UserWarning)\n",
      "C:\\Users\\Renata\\anaconda3\\lib\\site-packages\\sklearn\\model_selection\\_validation.py:614: FitFailedWarning: Estimator fit failed. The score on this train-test partition for these parameters will be set to nan. Details: \n",
      "Traceback (most recent call last):\n",
      "  File \"C:\\Users\\Renata\\anaconda3\\lib\\site-packages\\sklearn\\model_selection\\_validation.py\", line 593, in _fit_and_score\n",
      "    estimator.fit(X_train, y_train, **fit_params)\n",
      "  File \"C:\\Users\\Renata\\anaconda3\\lib\\site-packages\\xgboost\\core.py\", line 422, in inner_f\n",
      "    return f(**kwargs)\n",
      "  File \"C:\\Users\\Renata\\anaconda3\\lib\\site-packages\\xgboost\\sklearn.py\", line 915, in fit\n",
      "    callbacks=callbacks)\n",
      "  File \"C:\\Users\\Renata\\anaconda3\\lib\\site-packages\\xgboost\\training.py\", line 235, in train\n",
      "    early_stopping_rounds=early_stopping_rounds)\n",
      "  File \"C:\\Users\\Renata\\anaconda3\\lib\\site-packages\\xgboost\\training.py\", line 102, in _train_internal\n",
      "    bst.update(dtrain, i, obj)\n",
      "  File \"C:\\Users\\Renata\\anaconda3\\lib\\site-packages\\xgboost\\core.py\", line 1282, in update\n",
      "    dtrain.handle))\n",
      "  File \"C:\\Users\\Renata\\anaconda3\\lib\\site-packages\\xgboost\\core.py\", line 189, in _check_call\n",
      "    raise XGBoostError(py_str(_LIB.XGBGetLastError()))\n",
      "xgboost.core.XGBoostError: value 1.2807 for Parameter colsample_bytree exceed bound [0,1]\n",
      "colsample_bytree: Subsample ratio of columns, resample on each tree construction.\n",
      "\n",
      "  FitFailedWarning)\n",
      "C:\\Users\\Renata\\anaconda3\\lib\\site-packages\\xgboost\\sklearn.py:888: UserWarning: The use of label encoder in XGBClassifier is deprecated and will be removed in a future release. To remove this warning, do the following: 1) Pass option use_label_encoder=False when constructing XGBClassifier object; and 2) Encode your labels (y) as integers starting with 0, i.e. 0, 1, 2, ..., [num_class - 1].\n",
      "  warnings.warn(label_encoder_deprecation_msg, UserWarning)\n",
      "C:\\Users\\Renata\\anaconda3\\lib\\site-packages\\sklearn\\model_selection\\_validation.py:614: FitFailedWarning: Estimator fit failed. The score on this train-test partition for these parameters will be set to nan. Details: \n",
      "Traceback (most recent call last):\n",
      "  File \"C:\\Users\\Renata\\anaconda3\\lib\\site-packages\\sklearn\\model_selection\\_validation.py\", line 593, in _fit_and_score\n",
      "    estimator.fit(X_train, y_train, **fit_params)\n",
      "  File \"C:\\Users\\Renata\\anaconda3\\lib\\site-packages\\xgboost\\core.py\", line 422, in inner_f\n",
      "    return f(**kwargs)\n",
      "  File \"C:\\Users\\Renata\\anaconda3\\lib\\site-packages\\xgboost\\sklearn.py\", line 915, in fit\n",
      "    callbacks=callbacks)\n",
      "  File \"C:\\Users\\Renata\\anaconda3\\lib\\site-packages\\xgboost\\training.py\", line 235, in train\n",
      "    early_stopping_rounds=early_stopping_rounds)\n",
      "  File \"C:\\Users\\Renata\\anaconda3\\lib\\site-packages\\xgboost\\training.py\", line 102, in _train_internal\n",
      "    bst.update(dtrain, i, obj)\n",
      "  File \"C:\\Users\\Renata\\anaconda3\\lib\\site-packages\\xgboost\\core.py\", line 1282, in update\n",
      "    dtrain.handle))\n",
      "  File \"C:\\Users\\Renata\\anaconda3\\lib\\site-packages\\xgboost\\core.py\", line 189, in _check_call\n",
      "    raise XGBoostError(py_str(_LIB.XGBGetLastError()))\n",
      "xgboost.core.XGBoostError: value 1.2807 for Parameter colsample_bytree exceed bound [0,1]\n",
      "colsample_bytree: Subsample ratio of columns, resample on each tree construction.\n",
      "\n",
      "  FitFailedWarning)\n",
      "C:\\Users\\Renata\\anaconda3\\lib\\site-packages\\xgboost\\sklearn.py:888: UserWarning: The use of label encoder in XGBClassifier is deprecated and will be removed in a future release. To remove this warning, do the following: 1) Pass option use_label_encoder=False when constructing XGBClassifier object; and 2) Encode your labels (y) as integers starting with 0, i.e. 0, 1, 2, ..., [num_class - 1].\n",
      "  warnings.warn(label_encoder_deprecation_msg, UserWarning)\n",
      "C:\\Users\\Renata\\anaconda3\\lib\\site-packages\\sklearn\\model_selection\\_validation.py:614: FitFailedWarning: Estimator fit failed. The score on this train-test partition for these parameters will be set to nan. Details: \n",
      "Traceback (most recent call last):\n",
      "  File \"C:\\Users\\Renata\\anaconda3\\lib\\site-packages\\sklearn\\model_selection\\_validation.py\", line 593, in _fit_and_score\n",
      "    estimator.fit(X_train, y_train, **fit_params)\n",
      "  File \"C:\\Users\\Renata\\anaconda3\\lib\\site-packages\\xgboost\\core.py\", line 422, in inner_f\n",
      "    return f(**kwargs)\n",
      "  File \"C:\\Users\\Renata\\anaconda3\\lib\\site-packages\\xgboost\\sklearn.py\", line 915, in fit\n",
      "    callbacks=callbacks)\n",
      "  File \"C:\\Users\\Renata\\anaconda3\\lib\\site-packages\\xgboost\\training.py\", line 235, in train\n",
      "    early_stopping_rounds=early_stopping_rounds)\n",
      "  File \"C:\\Users\\Renata\\anaconda3\\lib\\site-packages\\xgboost\\training.py\", line 102, in _train_internal\n",
      "    bst.update(dtrain, i, obj)\n",
      "  File \"C:\\Users\\Renata\\anaconda3\\lib\\site-packages\\xgboost\\core.py\", line 1282, in update\n",
      "    dtrain.handle))\n",
      "  File \"C:\\Users\\Renata\\anaconda3\\lib\\site-packages\\xgboost\\core.py\", line 189, in _check_call\n",
      "    raise XGBoostError(py_str(_LIB.XGBGetLastError()))\n",
      "xgboost.core.XGBoostError: value 1.2807 for Parameter colsample_bytree exceed bound [0,1]\n",
      "colsample_bytree: Subsample ratio of columns, resample on each tree construction.\n",
      "\n",
      "  FitFailedWarning)\n",
      "C:\\Users\\Renata\\anaconda3\\lib\\site-packages\\xgboost\\sklearn.py:888: UserWarning: The use of label encoder in XGBClassifier is deprecated and will be removed in a future release. To remove this warning, do the following: 1) Pass option use_label_encoder=False when constructing XGBClassifier object; and 2) Encode your labels (y) as integers starting with 0, i.e. 0, 1, 2, ..., [num_class - 1].\n",
      "  warnings.warn(label_encoder_deprecation_msg, UserWarning)\n",
      "C:\\Users\\Renata\\anaconda3\\lib\\site-packages\\sklearn\\model_selection\\_validation.py:614: FitFailedWarning: Estimator fit failed. The score on this train-test partition for these parameters will be set to nan. Details: \n",
      "Traceback (most recent call last):\n",
      "  File \"C:\\Users\\Renata\\anaconda3\\lib\\site-packages\\sklearn\\model_selection\\_validation.py\", line 593, in _fit_and_score\n",
      "    estimator.fit(X_train, y_train, **fit_params)\n",
      "  File \"C:\\Users\\Renata\\anaconda3\\lib\\site-packages\\xgboost\\core.py\", line 422, in inner_f\n",
      "    return f(**kwargs)\n",
      "  File \"C:\\Users\\Renata\\anaconda3\\lib\\site-packages\\xgboost\\sklearn.py\", line 915, in fit\n",
      "    callbacks=callbacks)\n",
      "  File \"C:\\Users\\Renata\\anaconda3\\lib\\site-packages\\xgboost\\training.py\", line 235, in train\n",
      "    early_stopping_rounds=early_stopping_rounds)\n",
      "  File \"C:\\Users\\Renata\\anaconda3\\lib\\site-packages\\xgboost\\training.py\", line 102, in _train_internal\n",
      "    bst.update(dtrain, i, obj)\n",
      "  File \"C:\\Users\\Renata\\anaconda3\\lib\\site-packages\\xgboost\\core.py\", line 1282, in update\n",
      "    dtrain.handle))\n",
      "  File \"C:\\Users\\Renata\\anaconda3\\lib\\site-packages\\xgboost\\core.py\", line 189, in _check_call\n",
      "    raise XGBoostError(py_str(_LIB.XGBGetLastError()))\n",
      "xgboost.core.XGBoostError: value 1.2807 for Parameter colsample_bytree exceed bound [0,1]\n",
      "colsample_bytree: Subsample ratio of columns, resample on each tree construction.\n",
      "\n",
      "  FitFailedWarning)\n",
      "C:\\Users\\Renata\\anaconda3\\lib\\site-packages\\xgboost\\sklearn.py:888: UserWarning: The use of label encoder in XGBClassifier is deprecated and will be removed in a future release. To remove this warning, do the following: 1) Pass option use_label_encoder=False when constructing XGBClassifier object; and 2) Encode your labels (y) as integers starting with 0, i.e. 0, 1, 2, ..., [num_class - 1].\n",
      "  warnings.warn(label_encoder_deprecation_msg, UserWarning)\n"
     ]
    },
    {
     "name": "stdout",
     "output_type": "stream",
     "text": [
      "[23:50:39] WARNING: C:/Users/Administrator/workspace/xgboost-win64_release_1.3.0/src/learner.cc:1061: Starting in XGBoost 1.3.0, the default evaluation metric used with the objective 'binary:logistic' was changed from 'error' to 'logloss'. Explicitly set eval_metric if you'd like to restore the old behavior.\n"
     ]
    },
    {
     "name": "stderr",
     "output_type": "stream",
     "text": [
      "C:\\Users\\Renata\\anaconda3\\lib\\site-packages\\xgboost\\sklearn.py:888: UserWarning: The use of label encoder in XGBClassifier is deprecated and will be removed in a future release. To remove this warning, do the following: 1) Pass option use_label_encoder=False when constructing XGBClassifier object; and 2) Encode your labels (y) as integers starting with 0, i.e. 0, 1, 2, ..., [num_class - 1].\n",
      "  warnings.warn(label_encoder_deprecation_msg, UserWarning)\n"
     ]
    },
    {
     "name": "stdout",
     "output_type": "stream",
     "text": [
      "[23:50:42] WARNING: C:/Users/Administrator/workspace/xgboost-win64_release_1.3.0/src/learner.cc:1061: Starting in XGBoost 1.3.0, the default evaluation metric used with the objective 'binary:logistic' was changed from 'error' to 'logloss'. Explicitly set eval_metric if you'd like to restore the old behavior.\n"
     ]
    },
    {
     "name": "stderr",
     "output_type": "stream",
     "text": [
      "C:\\Users\\Renata\\anaconda3\\lib\\site-packages\\xgboost\\sklearn.py:888: UserWarning: The use of label encoder in XGBClassifier is deprecated and will be removed in a future release. To remove this warning, do the following: 1) Pass option use_label_encoder=False when constructing XGBClassifier object; and 2) Encode your labels (y) as integers starting with 0, i.e. 0, 1, 2, ..., [num_class - 1].\n",
      "  warnings.warn(label_encoder_deprecation_msg, UserWarning)\n"
     ]
    },
    {
     "name": "stdout",
     "output_type": "stream",
     "text": [
      "[23:50:44] WARNING: C:/Users/Administrator/workspace/xgboost-win64_release_1.3.0/src/learner.cc:1061: Starting in XGBoost 1.3.0, the default evaluation metric used with the objective 'binary:logistic' was changed from 'error' to 'logloss'. Explicitly set eval_metric if you'd like to restore the old behavior.\n"
     ]
    },
    {
     "name": "stderr",
     "output_type": "stream",
     "text": [
      "C:\\Users\\Renata\\anaconda3\\lib\\site-packages\\xgboost\\sklearn.py:888: UserWarning: The use of label encoder in XGBClassifier is deprecated and will be removed in a future release. To remove this warning, do the following: 1) Pass option use_label_encoder=False when constructing XGBClassifier object; and 2) Encode your labels (y) as integers starting with 0, i.e. 0, 1, 2, ..., [num_class - 1].\n",
      "  warnings.warn(label_encoder_deprecation_msg, UserWarning)\n"
     ]
    },
    {
     "name": "stdout",
     "output_type": "stream",
     "text": [
      "[23:50:47] WARNING: C:/Users/Administrator/workspace/xgboost-win64_release_1.3.0/src/learner.cc:1061: Starting in XGBoost 1.3.0, the default evaluation metric used with the objective 'binary:logistic' was changed from 'error' to 'logloss'. Explicitly set eval_metric if you'd like to restore the old behavior.\n"
     ]
    },
    {
     "name": "stderr",
     "output_type": "stream",
     "text": [
      "C:\\Users\\Renata\\anaconda3\\lib\\site-packages\\xgboost\\sklearn.py:888: UserWarning: The use of label encoder in XGBClassifier is deprecated and will be removed in a future release. To remove this warning, do the following: 1) Pass option use_label_encoder=False when constructing XGBClassifier object; and 2) Encode your labels (y) as integers starting with 0, i.e. 0, 1, 2, ..., [num_class - 1].\n",
      "  warnings.warn(label_encoder_deprecation_msg, UserWarning)\n"
     ]
    },
    {
     "name": "stdout",
     "output_type": "stream",
     "text": [
      "[23:50:50] WARNING: C:/Users/Administrator/workspace/xgboost-win64_release_1.3.0/src/learner.cc:1061: Starting in XGBoost 1.3.0, the default evaluation metric used with the objective 'binary:logistic' was changed from 'error' to 'logloss'. Explicitly set eval_metric if you'd like to restore the old behavior.\n"
     ]
    },
    {
     "name": "stderr",
     "output_type": "stream",
     "text": [
      "C:\\Users\\Renata\\anaconda3\\lib\\site-packages\\xgboost\\sklearn.py:888: UserWarning: The use of label encoder in XGBClassifier is deprecated and will be removed in a future release. To remove this warning, do the following: 1) Pass option use_label_encoder=False when constructing XGBClassifier object; and 2) Encode your labels (y) as integers starting with 0, i.e. 0, 1, 2, ..., [num_class - 1].\n",
      "  warnings.warn(label_encoder_deprecation_msg, UserWarning)\n",
      "C:\\Users\\Renata\\anaconda3\\lib\\site-packages\\sklearn\\model_selection\\_validation.py:614: FitFailedWarning: Estimator fit failed. The score on this train-test partition for these parameters will be set to nan. Details: \n",
      "Traceback (most recent call last):\n",
      "  File \"C:\\Users\\Renata\\anaconda3\\lib\\site-packages\\sklearn\\model_selection\\_validation.py\", line 593, in _fit_and_score\n",
      "    estimator.fit(X_train, y_train, **fit_params)\n",
      "  File \"C:\\Users\\Renata\\anaconda3\\lib\\site-packages\\xgboost\\core.py\", line 422, in inner_f\n",
      "    return f(**kwargs)\n",
      "  File \"C:\\Users\\Renata\\anaconda3\\lib\\site-packages\\xgboost\\sklearn.py\", line 915, in fit\n",
      "    callbacks=callbacks)\n",
      "  File \"C:\\Users\\Renata\\anaconda3\\lib\\site-packages\\xgboost\\training.py\", line 235, in train\n",
      "    early_stopping_rounds=early_stopping_rounds)\n",
      "  File \"C:\\Users\\Renata\\anaconda3\\lib\\site-packages\\xgboost\\training.py\", line 102, in _train_internal\n",
      "    bst.update(dtrain, i, obj)\n",
      "  File \"C:\\Users\\Renata\\anaconda3\\lib\\site-packages\\xgboost\\core.py\", line 1282, in update\n",
      "    dtrain.handle))\n",
      "  File \"C:\\Users\\Renata\\anaconda3\\lib\\site-packages\\xgboost\\core.py\", line 189, in _check_call\n",
      "    raise XGBoostError(py_str(_LIB.XGBGetLastError()))\n",
      "xgboost.core.XGBoostError: value 1.21049 for Parameter colsample_bytree exceed bound [0,1]\n",
      "colsample_bytree: Subsample ratio of columns, resample on each tree construction.\n",
      "\n",
      "  FitFailedWarning)\n",
      "C:\\Users\\Renata\\anaconda3\\lib\\site-packages\\xgboost\\sklearn.py:888: UserWarning: The use of label encoder in XGBClassifier is deprecated and will be removed in a future release. To remove this warning, do the following: 1) Pass option use_label_encoder=False when constructing XGBClassifier object; and 2) Encode your labels (y) as integers starting with 0, i.e. 0, 1, 2, ..., [num_class - 1].\n",
      "  warnings.warn(label_encoder_deprecation_msg, UserWarning)\n",
      "C:\\Users\\Renata\\anaconda3\\lib\\site-packages\\sklearn\\model_selection\\_validation.py:614: FitFailedWarning: Estimator fit failed. The score on this train-test partition for these parameters will be set to nan. Details: \n",
      "Traceback (most recent call last):\n",
      "  File \"C:\\Users\\Renata\\anaconda3\\lib\\site-packages\\sklearn\\model_selection\\_validation.py\", line 593, in _fit_and_score\n",
      "    estimator.fit(X_train, y_train, **fit_params)\n",
      "  File \"C:\\Users\\Renata\\anaconda3\\lib\\site-packages\\xgboost\\core.py\", line 422, in inner_f\n",
      "    return f(**kwargs)\n",
      "  File \"C:\\Users\\Renata\\anaconda3\\lib\\site-packages\\xgboost\\sklearn.py\", line 915, in fit\n",
      "    callbacks=callbacks)\n",
      "  File \"C:\\Users\\Renata\\anaconda3\\lib\\site-packages\\xgboost\\training.py\", line 235, in train\n",
      "    early_stopping_rounds=early_stopping_rounds)\n",
      "  File \"C:\\Users\\Renata\\anaconda3\\lib\\site-packages\\xgboost\\training.py\", line 102, in _train_internal\n",
      "    bst.update(dtrain, i, obj)\n",
      "  File \"C:\\Users\\Renata\\anaconda3\\lib\\site-packages\\xgboost\\core.py\", line 1282, in update\n",
      "    dtrain.handle))\n",
      "  File \"C:\\Users\\Renata\\anaconda3\\lib\\site-packages\\xgboost\\core.py\", line 189, in _check_call\n",
      "    raise XGBoostError(py_str(_LIB.XGBGetLastError()))\n",
      "xgboost.core.XGBoostError: value 1.21049 for Parameter colsample_bytree exceed bound [0,1]\n",
      "colsample_bytree: Subsample ratio of columns, resample on each tree construction.\n",
      "\n",
      "  FitFailedWarning)\n",
      "C:\\Users\\Renata\\anaconda3\\lib\\site-packages\\xgboost\\sklearn.py:888: UserWarning: The use of label encoder in XGBClassifier is deprecated and will be removed in a future release. To remove this warning, do the following: 1) Pass option use_label_encoder=False when constructing XGBClassifier object; and 2) Encode your labels (y) as integers starting with 0, i.e. 0, 1, 2, ..., [num_class - 1].\n",
      "  warnings.warn(label_encoder_deprecation_msg, UserWarning)\n",
      "C:\\Users\\Renata\\anaconda3\\lib\\site-packages\\sklearn\\model_selection\\_validation.py:614: FitFailedWarning: Estimator fit failed. The score on this train-test partition for these parameters will be set to nan. Details: \n",
      "Traceback (most recent call last):\n",
      "  File \"C:\\Users\\Renata\\anaconda3\\lib\\site-packages\\sklearn\\model_selection\\_validation.py\", line 593, in _fit_and_score\n",
      "    estimator.fit(X_train, y_train, **fit_params)\n",
      "  File \"C:\\Users\\Renata\\anaconda3\\lib\\site-packages\\xgboost\\core.py\", line 422, in inner_f\n",
      "    return f(**kwargs)\n",
      "  File \"C:\\Users\\Renata\\anaconda3\\lib\\site-packages\\xgboost\\sklearn.py\", line 915, in fit\n",
      "    callbacks=callbacks)\n",
      "  File \"C:\\Users\\Renata\\anaconda3\\lib\\site-packages\\xgboost\\training.py\", line 235, in train\n",
      "    early_stopping_rounds=early_stopping_rounds)\n",
      "  File \"C:\\Users\\Renata\\anaconda3\\lib\\site-packages\\xgboost\\training.py\", line 102, in _train_internal\n",
      "    bst.update(dtrain, i, obj)\n",
      "  File \"C:\\Users\\Renata\\anaconda3\\lib\\site-packages\\xgboost\\core.py\", line 1282, in update\n",
      "    dtrain.handle))\n",
      "  File \"C:\\Users\\Renata\\anaconda3\\lib\\site-packages\\xgboost\\core.py\", line 189, in _check_call\n",
      "    raise XGBoostError(py_str(_LIB.XGBGetLastError()))\n",
      "xgboost.core.XGBoostError: value 1.21049 for Parameter colsample_bytree exceed bound [0,1]\n",
      "colsample_bytree: Subsample ratio of columns, resample on each tree construction.\n",
      "\n",
      "  FitFailedWarning)\n",
      "C:\\Users\\Renata\\anaconda3\\lib\\site-packages\\xgboost\\sklearn.py:888: UserWarning: The use of label encoder in XGBClassifier is deprecated and will be removed in a future release. To remove this warning, do the following: 1) Pass option use_label_encoder=False when constructing XGBClassifier object; and 2) Encode your labels (y) as integers starting with 0, i.e. 0, 1, 2, ..., [num_class - 1].\n",
      "  warnings.warn(label_encoder_deprecation_msg, UserWarning)\n",
      "C:\\Users\\Renata\\anaconda3\\lib\\site-packages\\sklearn\\model_selection\\_validation.py:614: FitFailedWarning: Estimator fit failed. The score on this train-test partition for these parameters will be set to nan. Details: \n",
      "Traceback (most recent call last):\n",
      "  File \"C:\\Users\\Renata\\anaconda3\\lib\\site-packages\\sklearn\\model_selection\\_validation.py\", line 593, in _fit_and_score\n",
      "    estimator.fit(X_train, y_train, **fit_params)\n",
      "  File \"C:\\Users\\Renata\\anaconda3\\lib\\site-packages\\xgboost\\core.py\", line 422, in inner_f\n",
      "    return f(**kwargs)\n",
      "  File \"C:\\Users\\Renata\\anaconda3\\lib\\site-packages\\xgboost\\sklearn.py\", line 915, in fit\n",
      "    callbacks=callbacks)\n",
      "  File \"C:\\Users\\Renata\\anaconda3\\lib\\site-packages\\xgboost\\training.py\", line 235, in train\n",
      "    early_stopping_rounds=early_stopping_rounds)\n",
      "  File \"C:\\Users\\Renata\\anaconda3\\lib\\site-packages\\xgboost\\training.py\", line 102, in _train_internal\n",
      "    bst.update(dtrain, i, obj)\n",
      "  File \"C:\\Users\\Renata\\anaconda3\\lib\\site-packages\\xgboost\\core.py\", line 1282, in update\n",
      "    dtrain.handle))\n",
      "  File \"C:\\Users\\Renata\\anaconda3\\lib\\site-packages\\xgboost\\core.py\", line 189, in _check_call\n",
      "    raise XGBoostError(py_str(_LIB.XGBGetLastError()))\n",
      "xgboost.core.XGBoostError: value 1.21049 for Parameter colsample_bytree exceed bound [0,1]\n",
      "colsample_bytree: Subsample ratio of columns, resample on each tree construction.\n",
      "\n",
      "  FitFailedWarning)\n",
      "C:\\Users\\Renata\\anaconda3\\lib\\site-packages\\xgboost\\sklearn.py:888: UserWarning: The use of label encoder in XGBClassifier is deprecated and will be removed in a future release. To remove this warning, do the following: 1) Pass option use_label_encoder=False when constructing XGBClassifier object; and 2) Encode your labels (y) as integers starting with 0, i.e. 0, 1, 2, ..., [num_class - 1].\n",
      "  warnings.warn(label_encoder_deprecation_msg, UserWarning)\n",
      "C:\\Users\\Renata\\anaconda3\\lib\\site-packages\\sklearn\\model_selection\\_validation.py:614: FitFailedWarning: Estimator fit failed. The score on this train-test partition for these parameters will be set to nan. Details: \n",
      "Traceback (most recent call last):\n",
      "  File \"C:\\Users\\Renata\\anaconda3\\lib\\site-packages\\sklearn\\model_selection\\_validation.py\", line 593, in _fit_and_score\n",
      "    estimator.fit(X_train, y_train, **fit_params)\n",
      "  File \"C:\\Users\\Renata\\anaconda3\\lib\\site-packages\\xgboost\\core.py\", line 422, in inner_f\n",
      "    return f(**kwargs)\n",
      "  File \"C:\\Users\\Renata\\anaconda3\\lib\\site-packages\\xgboost\\sklearn.py\", line 915, in fit\n",
      "    callbacks=callbacks)\n",
      "  File \"C:\\Users\\Renata\\anaconda3\\lib\\site-packages\\xgboost\\training.py\", line 235, in train\n",
      "    early_stopping_rounds=early_stopping_rounds)\n",
      "  File \"C:\\Users\\Renata\\anaconda3\\lib\\site-packages\\xgboost\\training.py\", line 102, in _train_internal\n",
      "    bst.update(dtrain, i, obj)\n",
      "  File \"C:\\Users\\Renata\\anaconda3\\lib\\site-packages\\xgboost\\core.py\", line 1282, in update\n",
      "    dtrain.handle))\n",
      "  File \"C:\\Users\\Renata\\anaconda3\\lib\\site-packages\\xgboost\\core.py\", line 189, in _check_call\n",
      "    raise XGBoostError(py_str(_LIB.XGBGetLastError()))\n",
      "xgboost.core.XGBoostError: value 1.21049 for Parameter colsample_bytree exceed bound [0,1]\n",
      "colsample_bytree: Subsample ratio of columns, resample on each tree construction.\n",
      "\n",
      "  FitFailedWarning)\n",
      "C:\\Users\\Renata\\anaconda3\\lib\\site-packages\\xgboost\\sklearn.py:888: UserWarning: The use of label encoder in XGBClassifier is deprecated and will be removed in a future release. To remove this warning, do the following: 1) Pass option use_label_encoder=False when constructing XGBClassifier object; and 2) Encode your labels (y) as integers starting with 0, i.e. 0, 1, 2, ..., [num_class - 1].\n",
      "  warnings.warn(label_encoder_deprecation_msg, UserWarning)\n",
      "C:\\Users\\Renata\\anaconda3\\lib\\site-packages\\sklearn\\model_selection\\_validation.py:614: FitFailedWarning: Estimator fit failed. The score on this train-test partition for these parameters will be set to nan. Details: \n",
      "Traceback (most recent call last):\n",
      "  File \"C:\\Users\\Renata\\anaconda3\\lib\\site-packages\\sklearn\\model_selection\\_validation.py\", line 593, in _fit_and_score\n",
      "    estimator.fit(X_train, y_train, **fit_params)\n",
      "  File \"C:\\Users\\Renata\\anaconda3\\lib\\site-packages\\xgboost\\core.py\", line 422, in inner_f\n",
      "    return f(**kwargs)\n",
      "  File \"C:\\Users\\Renata\\anaconda3\\lib\\site-packages\\xgboost\\sklearn.py\", line 915, in fit\n",
      "    callbacks=callbacks)\n",
      "  File \"C:\\Users\\Renata\\anaconda3\\lib\\site-packages\\xgboost\\training.py\", line 235, in train\n",
      "    early_stopping_rounds=early_stopping_rounds)\n",
      "  File \"C:\\Users\\Renata\\anaconda3\\lib\\site-packages\\xgboost\\training.py\", line 102, in _train_internal\n",
      "    bst.update(dtrain, i, obj)\n",
      "  File \"C:\\Users\\Renata\\anaconda3\\lib\\site-packages\\xgboost\\core.py\", line 1282, in update\n",
      "    dtrain.handle))\n",
      "  File \"C:\\Users\\Renata\\anaconda3\\lib\\site-packages\\xgboost\\core.py\", line 189, in _check_call\n",
      "    raise XGBoostError(py_str(_LIB.XGBGetLastError()))\n",
      "xgboost.core.XGBoostError: value 1.36821 for Parameter colsample_bytree exceed bound [0,1]\n",
      "colsample_bytree: Subsample ratio of columns, resample on each tree construction.\n",
      "\n",
      "  FitFailedWarning)\n",
      "C:\\Users\\Renata\\anaconda3\\lib\\site-packages\\xgboost\\sklearn.py:888: UserWarning: The use of label encoder in XGBClassifier is deprecated and will be removed in a future release. To remove this warning, do the following: 1) Pass option use_label_encoder=False when constructing XGBClassifier object; and 2) Encode your labels (y) as integers starting with 0, i.e. 0, 1, 2, ..., [num_class - 1].\n",
      "  warnings.warn(label_encoder_deprecation_msg, UserWarning)\n"
     ]
    },
    {
     "name": "stderr",
     "output_type": "stream",
     "text": [
      "C:\\Users\\Renata\\anaconda3\\lib\\site-packages\\sklearn\\model_selection\\_validation.py:614: FitFailedWarning: Estimator fit failed. The score on this train-test partition for these parameters will be set to nan. Details: \n",
      "Traceback (most recent call last):\n",
      "  File \"C:\\Users\\Renata\\anaconda3\\lib\\site-packages\\sklearn\\model_selection\\_validation.py\", line 593, in _fit_and_score\n",
      "    estimator.fit(X_train, y_train, **fit_params)\n",
      "  File \"C:\\Users\\Renata\\anaconda3\\lib\\site-packages\\xgboost\\core.py\", line 422, in inner_f\n",
      "    return f(**kwargs)\n",
      "  File \"C:\\Users\\Renata\\anaconda3\\lib\\site-packages\\xgboost\\sklearn.py\", line 915, in fit\n",
      "    callbacks=callbacks)\n",
      "  File \"C:\\Users\\Renata\\anaconda3\\lib\\site-packages\\xgboost\\training.py\", line 235, in train\n",
      "    early_stopping_rounds=early_stopping_rounds)\n",
      "  File \"C:\\Users\\Renata\\anaconda3\\lib\\site-packages\\xgboost\\training.py\", line 102, in _train_internal\n",
      "    bst.update(dtrain, i, obj)\n",
      "  File \"C:\\Users\\Renata\\anaconda3\\lib\\site-packages\\xgboost\\core.py\", line 1282, in update\n",
      "    dtrain.handle))\n",
      "  File \"C:\\Users\\Renata\\anaconda3\\lib\\site-packages\\xgboost\\core.py\", line 189, in _check_call\n",
      "    raise XGBoostError(py_str(_LIB.XGBGetLastError()))\n",
      "xgboost.core.XGBoostError: value 1.36821 for Parameter colsample_bytree exceed bound [0,1]\n",
      "colsample_bytree: Subsample ratio of columns, resample on each tree construction.\n",
      "\n",
      "  FitFailedWarning)\n",
      "C:\\Users\\Renata\\anaconda3\\lib\\site-packages\\xgboost\\sklearn.py:888: UserWarning: The use of label encoder in XGBClassifier is deprecated and will be removed in a future release. To remove this warning, do the following: 1) Pass option use_label_encoder=False when constructing XGBClassifier object; and 2) Encode your labels (y) as integers starting with 0, i.e. 0, 1, 2, ..., [num_class - 1].\n",
      "  warnings.warn(label_encoder_deprecation_msg, UserWarning)\n",
      "C:\\Users\\Renata\\anaconda3\\lib\\site-packages\\sklearn\\model_selection\\_validation.py:614: FitFailedWarning: Estimator fit failed. The score on this train-test partition for these parameters will be set to nan. Details: \n",
      "Traceback (most recent call last):\n",
      "  File \"C:\\Users\\Renata\\anaconda3\\lib\\site-packages\\sklearn\\model_selection\\_validation.py\", line 593, in _fit_and_score\n",
      "    estimator.fit(X_train, y_train, **fit_params)\n",
      "  File \"C:\\Users\\Renata\\anaconda3\\lib\\site-packages\\xgboost\\core.py\", line 422, in inner_f\n",
      "    return f(**kwargs)\n",
      "  File \"C:\\Users\\Renata\\anaconda3\\lib\\site-packages\\xgboost\\sklearn.py\", line 915, in fit\n",
      "    callbacks=callbacks)\n",
      "  File \"C:\\Users\\Renata\\anaconda3\\lib\\site-packages\\xgboost\\training.py\", line 235, in train\n",
      "    early_stopping_rounds=early_stopping_rounds)\n",
      "  File \"C:\\Users\\Renata\\anaconda3\\lib\\site-packages\\xgboost\\training.py\", line 102, in _train_internal\n",
      "    bst.update(dtrain, i, obj)\n",
      "  File \"C:\\Users\\Renata\\anaconda3\\lib\\site-packages\\xgboost\\core.py\", line 1282, in update\n",
      "    dtrain.handle))\n",
      "  File \"C:\\Users\\Renata\\anaconda3\\lib\\site-packages\\xgboost\\core.py\", line 189, in _check_call\n",
      "    raise XGBoostError(py_str(_LIB.XGBGetLastError()))\n",
      "xgboost.core.XGBoostError: value 1.36821 for Parameter colsample_bytree exceed bound [0,1]\n",
      "colsample_bytree: Subsample ratio of columns, resample on each tree construction.\n",
      "\n",
      "  FitFailedWarning)\n",
      "C:\\Users\\Renata\\anaconda3\\lib\\site-packages\\xgboost\\sklearn.py:888: UserWarning: The use of label encoder in XGBClassifier is deprecated and will be removed in a future release. To remove this warning, do the following: 1) Pass option use_label_encoder=False when constructing XGBClassifier object; and 2) Encode your labels (y) as integers starting with 0, i.e. 0, 1, 2, ..., [num_class - 1].\n",
      "  warnings.warn(label_encoder_deprecation_msg, UserWarning)\n",
      "C:\\Users\\Renata\\anaconda3\\lib\\site-packages\\sklearn\\model_selection\\_validation.py:614: FitFailedWarning: Estimator fit failed. The score on this train-test partition for these parameters will be set to nan. Details: \n",
      "Traceback (most recent call last):\n",
      "  File \"C:\\Users\\Renata\\anaconda3\\lib\\site-packages\\sklearn\\model_selection\\_validation.py\", line 593, in _fit_and_score\n",
      "    estimator.fit(X_train, y_train, **fit_params)\n",
      "  File \"C:\\Users\\Renata\\anaconda3\\lib\\site-packages\\xgboost\\core.py\", line 422, in inner_f\n",
      "    return f(**kwargs)\n",
      "  File \"C:\\Users\\Renata\\anaconda3\\lib\\site-packages\\xgboost\\sklearn.py\", line 915, in fit\n",
      "    callbacks=callbacks)\n",
      "  File \"C:\\Users\\Renata\\anaconda3\\lib\\site-packages\\xgboost\\training.py\", line 235, in train\n",
      "    early_stopping_rounds=early_stopping_rounds)\n",
      "  File \"C:\\Users\\Renata\\anaconda3\\lib\\site-packages\\xgboost\\training.py\", line 102, in _train_internal\n",
      "    bst.update(dtrain, i, obj)\n",
      "  File \"C:\\Users\\Renata\\anaconda3\\lib\\site-packages\\xgboost\\core.py\", line 1282, in update\n",
      "    dtrain.handle))\n",
      "  File \"C:\\Users\\Renata\\anaconda3\\lib\\site-packages\\xgboost\\core.py\", line 189, in _check_call\n",
      "    raise XGBoostError(py_str(_LIB.XGBGetLastError()))\n",
      "xgboost.core.XGBoostError: value 1.36821 for Parameter colsample_bytree exceed bound [0,1]\n",
      "colsample_bytree: Subsample ratio of columns, resample on each tree construction.\n",
      "\n",
      "  FitFailedWarning)\n",
      "C:\\Users\\Renata\\anaconda3\\lib\\site-packages\\xgboost\\sklearn.py:888: UserWarning: The use of label encoder in XGBClassifier is deprecated and will be removed in a future release. To remove this warning, do the following: 1) Pass option use_label_encoder=False when constructing XGBClassifier object; and 2) Encode your labels (y) as integers starting with 0, i.e. 0, 1, 2, ..., [num_class - 1].\n",
      "  warnings.warn(label_encoder_deprecation_msg, UserWarning)\n",
      "C:\\Users\\Renata\\anaconda3\\lib\\site-packages\\sklearn\\model_selection\\_validation.py:614: FitFailedWarning: Estimator fit failed. The score on this train-test partition for these parameters will be set to nan. Details: \n",
      "Traceback (most recent call last):\n",
      "  File \"C:\\Users\\Renata\\anaconda3\\lib\\site-packages\\sklearn\\model_selection\\_validation.py\", line 593, in _fit_and_score\n",
      "    estimator.fit(X_train, y_train, **fit_params)\n",
      "  File \"C:\\Users\\Renata\\anaconda3\\lib\\site-packages\\xgboost\\core.py\", line 422, in inner_f\n",
      "    return f(**kwargs)\n",
      "  File \"C:\\Users\\Renata\\anaconda3\\lib\\site-packages\\xgboost\\sklearn.py\", line 915, in fit\n",
      "    callbacks=callbacks)\n",
      "  File \"C:\\Users\\Renata\\anaconda3\\lib\\site-packages\\xgboost\\training.py\", line 235, in train\n",
      "    early_stopping_rounds=early_stopping_rounds)\n",
      "  File \"C:\\Users\\Renata\\anaconda3\\lib\\site-packages\\xgboost\\training.py\", line 102, in _train_internal\n",
      "    bst.update(dtrain, i, obj)\n",
      "  File \"C:\\Users\\Renata\\anaconda3\\lib\\site-packages\\xgboost\\core.py\", line 1282, in update\n",
      "    dtrain.handle))\n",
      "  File \"C:\\Users\\Renata\\anaconda3\\lib\\site-packages\\xgboost\\core.py\", line 189, in _check_call\n",
      "    raise XGBoostError(py_str(_LIB.XGBGetLastError()))\n",
      "xgboost.core.XGBoostError: value 1.36821 for Parameter colsample_bytree exceed bound [0,1]\n",
      "colsample_bytree: Subsample ratio of columns, resample on each tree construction.\n",
      "\n",
      "  FitFailedWarning)\n",
      "C:\\Users\\Renata\\anaconda3\\lib\\site-packages\\xgboost\\sklearn.py:888: UserWarning: The use of label encoder in XGBClassifier is deprecated and will be removed in a future release. To remove this warning, do the following: 1) Pass option use_label_encoder=False when constructing XGBClassifier object; and 2) Encode your labels (y) as integers starting with 0, i.e. 0, 1, 2, ..., [num_class - 1].\n",
      "  warnings.warn(label_encoder_deprecation_msg, UserWarning)\n"
     ]
    },
    {
     "name": "stdout",
     "output_type": "stream",
     "text": [
      "[23:50:54] WARNING: C:/Users/Administrator/workspace/xgboost-win64_release_1.3.0/src/learner.cc:1061: Starting in XGBoost 1.3.0, the default evaluation metric used with the objective 'binary:logistic' was changed from 'error' to 'logloss'. Explicitly set eval_metric if you'd like to restore the old behavior.\n"
     ]
    },
    {
     "name": "stderr",
     "output_type": "stream",
     "text": [
      "C:\\Users\\Renata\\anaconda3\\lib\\site-packages\\xgboost\\sklearn.py:888: UserWarning: The use of label encoder in XGBClassifier is deprecated and will be removed in a future release. To remove this warning, do the following: 1) Pass option use_label_encoder=False when constructing XGBClassifier object; and 2) Encode your labels (y) as integers starting with 0, i.e. 0, 1, 2, ..., [num_class - 1].\n",
      "  warnings.warn(label_encoder_deprecation_msg, UserWarning)\n"
     ]
    },
    {
     "name": "stdout",
     "output_type": "stream",
     "text": [
      "[23:50:56] WARNING: C:/Users/Administrator/workspace/xgboost-win64_release_1.3.0/src/learner.cc:1061: Starting in XGBoost 1.3.0, the default evaluation metric used with the objective 'binary:logistic' was changed from 'error' to 'logloss'. Explicitly set eval_metric if you'd like to restore the old behavior.\n"
     ]
    },
    {
     "name": "stderr",
     "output_type": "stream",
     "text": [
      "C:\\Users\\Renata\\anaconda3\\lib\\site-packages\\xgboost\\sklearn.py:888: UserWarning: The use of label encoder in XGBClassifier is deprecated and will be removed in a future release. To remove this warning, do the following: 1) Pass option use_label_encoder=False when constructing XGBClassifier object; and 2) Encode your labels (y) as integers starting with 0, i.e. 0, 1, 2, ..., [num_class - 1].\n",
      "  warnings.warn(label_encoder_deprecation_msg, UserWarning)\n"
     ]
    },
    {
     "name": "stdout",
     "output_type": "stream",
     "text": [
      "[23:50:59] WARNING: C:/Users/Administrator/workspace/xgboost-win64_release_1.3.0/src/learner.cc:1061: Starting in XGBoost 1.3.0, the default evaluation metric used with the objective 'binary:logistic' was changed from 'error' to 'logloss'. Explicitly set eval_metric if you'd like to restore the old behavior.\n"
     ]
    },
    {
     "name": "stderr",
     "output_type": "stream",
     "text": [
      "C:\\Users\\Renata\\anaconda3\\lib\\site-packages\\xgboost\\sklearn.py:888: UserWarning: The use of label encoder in XGBClassifier is deprecated and will be removed in a future release. To remove this warning, do the following: 1) Pass option use_label_encoder=False when constructing XGBClassifier object; and 2) Encode your labels (y) as integers starting with 0, i.e. 0, 1, 2, ..., [num_class - 1].\n",
      "  warnings.warn(label_encoder_deprecation_msg, UserWarning)\n"
     ]
    },
    {
     "name": "stdout",
     "output_type": "stream",
     "text": [
      "[23:51:01] WARNING: C:/Users/Administrator/workspace/xgboost-win64_release_1.3.0/src/learner.cc:1061: Starting in XGBoost 1.3.0, the default evaluation metric used with the objective 'binary:logistic' was changed from 'error' to 'logloss'. Explicitly set eval_metric if you'd like to restore the old behavior.\n"
     ]
    },
    {
     "name": "stderr",
     "output_type": "stream",
     "text": [
      "C:\\Users\\Renata\\anaconda3\\lib\\site-packages\\xgboost\\sklearn.py:888: UserWarning: The use of label encoder in XGBClassifier is deprecated and will be removed in a future release. To remove this warning, do the following: 1) Pass option use_label_encoder=False when constructing XGBClassifier object; and 2) Encode your labels (y) as integers starting with 0, i.e. 0, 1, 2, ..., [num_class - 1].\n",
      "  warnings.warn(label_encoder_deprecation_msg, UserWarning)\n"
     ]
    },
    {
     "name": "stdout",
     "output_type": "stream",
     "text": [
      "[23:51:03] WARNING: C:/Users/Administrator/workspace/xgboost-win64_release_1.3.0/src/learner.cc:1061: Starting in XGBoost 1.3.0, the default evaluation metric used with the objective 'binary:logistic' was changed from 'error' to 'logloss'. Explicitly set eval_metric if you'd like to restore the old behavior.\n"
     ]
    },
    {
     "name": "stderr",
     "output_type": "stream",
     "text": [
      "C:\\Users\\Renata\\anaconda3\\lib\\site-packages\\xgboost\\sklearn.py:888: UserWarning: The use of label encoder in XGBClassifier is deprecated and will be removed in a future release. To remove this warning, do the following: 1) Pass option use_label_encoder=False when constructing XGBClassifier object; and 2) Encode your labels (y) as integers starting with 0, i.e. 0, 1, 2, ..., [num_class - 1].\n",
      "  warnings.warn(label_encoder_deprecation_msg, UserWarning)\n"
     ]
    },
    {
     "name": "stdout",
     "output_type": "stream",
     "text": [
      "[23:51:06] WARNING: C:/Users/Administrator/workspace/xgboost-win64_release_1.3.0/src/learner.cc:1061: Starting in XGBoost 1.3.0, the default evaluation metric used with the objective 'binary:logistic' was changed from 'error' to 'logloss'. Explicitly set eval_metric if you'd like to restore the old behavior.\n"
     ]
    },
    {
     "name": "stderr",
     "output_type": "stream",
     "text": [
      "C:\\Users\\Renata\\anaconda3\\lib\\site-packages\\xgboost\\sklearn.py:888: UserWarning: The use of label encoder in XGBClassifier is deprecated and will be removed in a future release. To remove this warning, do the following: 1) Pass option use_label_encoder=False when constructing XGBClassifier object; and 2) Encode your labels (y) as integers starting with 0, i.e. 0, 1, 2, ..., [num_class - 1].\n",
      "  warnings.warn(label_encoder_deprecation_msg, UserWarning)\n"
     ]
    },
    {
     "name": "stdout",
     "output_type": "stream",
     "text": [
      "[23:51:10] WARNING: C:/Users/Administrator/workspace/xgboost-win64_release_1.3.0/src/learner.cc:1061: Starting in XGBoost 1.3.0, the default evaluation metric used with the objective 'binary:logistic' was changed from 'error' to 'logloss'. Explicitly set eval_metric if you'd like to restore the old behavior.\n"
     ]
    },
    {
     "name": "stderr",
     "output_type": "stream",
     "text": [
      "C:\\Users\\Renata\\anaconda3\\lib\\site-packages\\xgboost\\sklearn.py:888: UserWarning: The use of label encoder in XGBClassifier is deprecated and will be removed in a future release. To remove this warning, do the following: 1) Pass option use_label_encoder=False when constructing XGBClassifier object; and 2) Encode your labels (y) as integers starting with 0, i.e. 0, 1, 2, ..., [num_class - 1].\n",
      "  warnings.warn(label_encoder_deprecation_msg, UserWarning)\n"
     ]
    },
    {
     "name": "stdout",
     "output_type": "stream",
     "text": [
      "[23:51:13] WARNING: C:/Users/Administrator/workspace/xgboost-win64_release_1.3.0/src/learner.cc:1061: Starting in XGBoost 1.3.0, the default evaluation metric used with the objective 'binary:logistic' was changed from 'error' to 'logloss'. Explicitly set eval_metric if you'd like to restore the old behavior.\n"
     ]
    },
    {
     "name": "stderr",
     "output_type": "stream",
     "text": [
      "C:\\Users\\Renata\\anaconda3\\lib\\site-packages\\xgboost\\sklearn.py:888: UserWarning: The use of label encoder in XGBClassifier is deprecated and will be removed in a future release. To remove this warning, do the following: 1) Pass option use_label_encoder=False when constructing XGBClassifier object; and 2) Encode your labels (y) as integers starting with 0, i.e. 0, 1, 2, ..., [num_class - 1].\n",
      "  warnings.warn(label_encoder_deprecation_msg, UserWarning)\n"
     ]
    },
    {
     "name": "stdout",
     "output_type": "stream",
     "text": [
      "[23:51:17] WARNING: C:/Users/Administrator/workspace/xgboost-win64_release_1.3.0/src/learner.cc:1061: Starting in XGBoost 1.3.0, the default evaluation metric used with the objective 'binary:logistic' was changed from 'error' to 'logloss'. Explicitly set eval_metric if you'd like to restore the old behavior.\n"
     ]
    },
    {
     "name": "stderr",
     "output_type": "stream",
     "text": [
      "C:\\Users\\Renata\\anaconda3\\lib\\site-packages\\xgboost\\sklearn.py:888: UserWarning: The use of label encoder in XGBClassifier is deprecated and will be removed in a future release. To remove this warning, do the following: 1) Pass option use_label_encoder=False when constructing XGBClassifier object; and 2) Encode your labels (y) as integers starting with 0, i.e. 0, 1, 2, ..., [num_class - 1].\n",
      "  warnings.warn(label_encoder_deprecation_msg, UserWarning)\n"
     ]
    },
    {
     "name": "stdout",
     "output_type": "stream",
     "text": [
      "[23:51:20] WARNING: C:/Users/Administrator/workspace/xgboost-win64_release_1.3.0/src/learner.cc:1061: Starting in XGBoost 1.3.0, the default evaluation metric used with the objective 'binary:logistic' was changed from 'error' to 'logloss'. Explicitly set eval_metric if you'd like to restore the old behavior.\n"
     ]
    },
    {
     "name": "stderr",
     "output_type": "stream",
     "text": [
      "C:\\Users\\Renata\\anaconda3\\lib\\site-packages\\sklearn\\model_selection\\_search.py:921: UserWarning: One or more of the test scores are non-finite: [       nan        nan 0.76470588 0.72941176        nan 0.72941176\n",
      "        nan        nan 0.78823529 0.75294118]\n",
      "  category=UserWarning\n",
      "C:\\Users\\Renata\\anaconda3\\lib\\site-packages\\xgboost\\sklearn.py:888: UserWarning: The use of label encoder in XGBClassifier is deprecated and will be removed in a future release. To remove this warning, do the following: 1) Pass option use_label_encoder=False when constructing XGBClassifier object; and 2) Encode your labels (y) as integers starting with 0, i.e. 0, 1, 2, ..., [num_class - 1].\n",
      "  warnings.warn(label_encoder_deprecation_msg, UserWarning)\n"
     ]
    },
    {
     "name": "stdout",
     "output_type": "stream",
     "text": [
      "[23:51:24] WARNING: C:/Users/Administrator/workspace/xgboost-win64_release_1.3.0/src/learner.cc:1061: Starting in XGBoost 1.3.0, the default evaluation metric used with the objective 'binary:logistic' was changed from 'error' to 'logloss'. Explicitly set eval_metric if you'd like to restore the old behavior.\n",
      "Acc Validação: 0.79 | Acc Teste: 0.71\n",
      "Parâmetros do melhor modelo para o fold atual(externo):  {'colsample_bytree': 0.962518530460961, 'learning_rate': 0.19703560277377752, 'max_depth': 6, 'min_child_weight': 1, 'n_estimators': 540, 'subsample': 0.5768965204409358}\n"
     ]
    },
    {
     "name": "stderr",
     "output_type": "stream",
     "text": [
      "C:\\Users\\Renata\\anaconda3\\lib\\site-packages\\xgboost\\sklearn.py:888: UserWarning: The use of label encoder in XGBClassifier is deprecated and will be removed in a future release. To remove this warning, do the following: 1) Pass option use_label_encoder=False when constructing XGBClassifier object; and 2) Encode your labels (y) as integers starting with 0, i.e. 0, 1, 2, ..., [num_class - 1].\n",
      "  warnings.warn(label_encoder_deprecation_msg, UserWarning)\n",
      "C:\\Users\\Renata\\anaconda3\\lib\\site-packages\\sklearn\\model_selection\\_validation.py:614: FitFailedWarning: Estimator fit failed. The score on this train-test partition for these parameters will be set to nan. Details: \n",
      "Traceback (most recent call last):\n",
      "  File \"C:\\Users\\Renata\\anaconda3\\lib\\site-packages\\sklearn\\model_selection\\_validation.py\", line 593, in _fit_and_score\n",
      "    estimator.fit(X_train, y_train, **fit_params)\n",
      "  File \"C:\\Users\\Renata\\anaconda3\\lib\\site-packages\\xgboost\\core.py\", line 422, in inner_f\n",
      "    return f(**kwargs)\n",
      "  File \"C:\\Users\\Renata\\anaconda3\\lib\\site-packages\\xgboost\\sklearn.py\", line 915, in fit\n",
      "    callbacks=callbacks)\n",
      "  File \"C:\\Users\\Renata\\anaconda3\\lib\\site-packages\\xgboost\\training.py\", line 235, in train\n",
      "    early_stopping_rounds=early_stopping_rounds)\n",
      "  File \"C:\\Users\\Renata\\anaconda3\\lib\\site-packages\\xgboost\\training.py\", line 102, in _train_internal\n",
      "    bst.update(dtrain, i, obj)\n",
      "  File \"C:\\Users\\Renata\\anaconda3\\lib\\site-packages\\xgboost\\core.py\", line 1282, in update\n",
      "    dtrain.handle))\n",
      "  File \"C:\\Users\\Renata\\anaconda3\\lib\\site-packages\\xgboost\\core.py\", line 189, in _check_call\n",
      "    raise XGBoostError(py_str(_LIB.XGBGetLastError()))\n",
      "xgboost.core.XGBoostError: value 1.2027 for Parameter colsample_bytree exceed bound [0,1]\n",
      "colsample_bytree: Subsample ratio of columns, resample on each tree construction.\n",
      "\n",
      "  FitFailedWarning)\n",
      "C:\\Users\\Renata\\anaconda3\\lib\\site-packages\\xgboost\\sklearn.py:888: UserWarning: The use of label encoder in XGBClassifier is deprecated and will be removed in a future release. To remove this warning, do the following: 1) Pass option use_label_encoder=False when constructing XGBClassifier object; and 2) Encode your labels (y) as integers starting with 0, i.e. 0, 1, 2, ..., [num_class - 1].\n",
      "  warnings.warn(label_encoder_deprecation_msg, UserWarning)\n",
      "C:\\Users\\Renata\\anaconda3\\lib\\site-packages\\sklearn\\model_selection\\_validation.py:614: FitFailedWarning: Estimator fit failed. The score on this train-test partition for these parameters will be set to nan. Details: \n",
      "Traceback (most recent call last):\n",
      "  File \"C:\\Users\\Renata\\anaconda3\\lib\\site-packages\\sklearn\\model_selection\\_validation.py\", line 593, in _fit_and_score\n",
      "    estimator.fit(X_train, y_train, **fit_params)\n",
      "  File \"C:\\Users\\Renata\\anaconda3\\lib\\site-packages\\xgboost\\core.py\", line 422, in inner_f\n",
      "    return f(**kwargs)\n",
      "  File \"C:\\Users\\Renata\\anaconda3\\lib\\site-packages\\xgboost\\sklearn.py\", line 915, in fit\n",
      "    callbacks=callbacks)\n",
      "  File \"C:\\Users\\Renata\\anaconda3\\lib\\site-packages\\xgboost\\training.py\", line 235, in train\n",
      "    early_stopping_rounds=early_stopping_rounds)\n",
      "  File \"C:\\Users\\Renata\\anaconda3\\lib\\site-packages\\xgboost\\training.py\", line 102, in _train_internal\n",
      "    bst.update(dtrain, i, obj)\n",
      "  File \"C:\\Users\\Renata\\anaconda3\\lib\\site-packages\\xgboost\\core.py\", line 1282, in update\n",
      "    dtrain.handle))\n",
      "  File \"C:\\Users\\Renata\\anaconda3\\lib\\site-packages\\xgboost\\core.py\", line 189, in _check_call\n",
      "    raise XGBoostError(py_str(_LIB.XGBGetLastError()))\n",
      "xgboost.core.XGBoostError: value 1.2027 for Parameter colsample_bytree exceed bound [0,1]\n",
      "colsample_bytree: Subsample ratio of columns, resample on each tree construction.\n",
      "\n",
      "  FitFailedWarning)\n",
      "C:\\Users\\Renata\\anaconda3\\lib\\site-packages\\xgboost\\sklearn.py:888: UserWarning: The use of label encoder in XGBClassifier is deprecated and will be removed in a future release. To remove this warning, do the following: 1) Pass option use_label_encoder=False when constructing XGBClassifier object; and 2) Encode your labels (y) as integers starting with 0, i.e. 0, 1, 2, ..., [num_class - 1].\n",
      "  warnings.warn(label_encoder_deprecation_msg, UserWarning)\n",
      "C:\\Users\\Renata\\anaconda3\\lib\\site-packages\\sklearn\\model_selection\\_validation.py:614: FitFailedWarning: Estimator fit failed. The score on this train-test partition for these parameters will be set to nan. Details: \n",
      "Traceback (most recent call last):\n",
      "  File \"C:\\Users\\Renata\\anaconda3\\lib\\site-packages\\sklearn\\model_selection\\_validation.py\", line 593, in _fit_and_score\n",
      "    estimator.fit(X_train, y_train, **fit_params)\n",
      "  File \"C:\\Users\\Renata\\anaconda3\\lib\\site-packages\\xgboost\\core.py\", line 422, in inner_f\n",
      "    return f(**kwargs)\n",
      "  File \"C:\\Users\\Renata\\anaconda3\\lib\\site-packages\\xgboost\\sklearn.py\", line 915, in fit\n",
      "    callbacks=callbacks)\n",
      "  File \"C:\\Users\\Renata\\anaconda3\\lib\\site-packages\\xgboost\\training.py\", line 235, in train\n",
      "    early_stopping_rounds=early_stopping_rounds)\n",
      "  File \"C:\\Users\\Renata\\anaconda3\\lib\\site-packages\\xgboost\\training.py\", line 102, in _train_internal\n",
      "    bst.update(dtrain, i, obj)\n",
      "  File \"C:\\Users\\Renata\\anaconda3\\lib\\site-packages\\xgboost\\core.py\", line 1282, in update\n",
      "    dtrain.handle))\n",
      "  File \"C:\\Users\\Renata\\anaconda3\\lib\\site-packages\\xgboost\\core.py\", line 189, in _check_call\n",
      "    raise XGBoostError(py_str(_LIB.XGBGetLastError()))\n",
      "xgboost.core.XGBoostError: value 1.2027 for Parameter colsample_bytree exceed bound [0,1]\n",
      "colsample_bytree: Subsample ratio of columns, resample on each tree construction.\n",
      "\n",
      "  FitFailedWarning)\n",
      "C:\\Users\\Renata\\anaconda3\\lib\\site-packages\\xgboost\\sklearn.py:888: UserWarning: The use of label encoder in XGBClassifier is deprecated and will be removed in a future release. To remove this warning, do the following: 1) Pass option use_label_encoder=False when constructing XGBClassifier object; and 2) Encode your labels (y) as integers starting with 0, i.e. 0, 1, 2, ..., [num_class - 1].\n",
      "  warnings.warn(label_encoder_deprecation_msg, UserWarning)\n",
      "C:\\Users\\Renata\\anaconda3\\lib\\site-packages\\sklearn\\model_selection\\_validation.py:614: FitFailedWarning: Estimator fit failed. The score on this train-test partition for these parameters will be set to nan. Details: \n",
      "Traceback (most recent call last):\n",
      "  File \"C:\\Users\\Renata\\anaconda3\\lib\\site-packages\\sklearn\\model_selection\\_validation.py\", line 593, in _fit_and_score\n",
      "    estimator.fit(X_train, y_train, **fit_params)\n",
      "  File \"C:\\Users\\Renata\\anaconda3\\lib\\site-packages\\xgboost\\core.py\", line 422, in inner_f\n",
      "    return f(**kwargs)\n",
      "  File \"C:\\Users\\Renata\\anaconda3\\lib\\site-packages\\xgboost\\sklearn.py\", line 915, in fit\n",
      "    callbacks=callbacks)\n",
      "  File \"C:\\Users\\Renata\\anaconda3\\lib\\site-packages\\xgboost\\training.py\", line 235, in train\n",
      "    early_stopping_rounds=early_stopping_rounds)\n",
      "  File \"C:\\Users\\Renata\\anaconda3\\lib\\site-packages\\xgboost\\training.py\", line 102, in _train_internal\n",
      "    bst.update(dtrain, i, obj)\n",
      "  File \"C:\\Users\\Renata\\anaconda3\\lib\\site-packages\\xgboost\\core.py\", line 1282, in update\n",
      "    dtrain.handle))\n",
      "  File \"C:\\Users\\Renata\\anaconda3\\lib\\site-packages\\xgboost\\core.py\", line 189, in _check_call\n",
      "    raise XGBoostError(py_str(_LIB.XGBGetLastError()))\n",
      "xgboost.core.XGBoostError: value 1.2027 for Parameter colsample_bytree exceed bound [0,1]\n",
      "colsample_bytree: Subsample ratio of columns, resample on each tree construction.\n",
      "\n",
      "  FitFailedWarning)\n",
      "C:\\Users\\Renata\\anaconda3\\lib\\site-packages\\xgboost\\sklearn.py:888: UserWarning: The use of label encoder in XGBClassifier is deprecated and will be removed in a future release. To remove this warning, do the following: 1) Pass option use_label_encoder=False when constructing XGBClassifier object; and 2) Encode your labels (y) as integers starting with 0, i.e. 0, 1, 2, ..., [num_class - 1].\n",
      "  warnings.warn(label_encoder_deprecation_msg, UserWarning)\n",
      "C:\\Users\\Renata\\anaconda3\\lib\\site-packages\\sklearn\\model_selection\\_validation.py:614: FitFailedWarning: Estimator fit failed. The score on this train-test partition for these parameters will be set to nan. Details: \n",
      "Traceback (most recent call last):\n",
      "  File \"C:\\Users\\Renata\\anaconda3\\lib\\site-packages\\sklearn\\model_selection\\_validation.py\", line 593, in _fit_and_score\n",
      "    estimator.fit(X_train, y_train, **fit_params)\n",
      "  File \"C:\\Users\\Renata\\anaconda3\\lib\\site-packages\\xgboost\\core.py\", line 422, in inner_f\n",
      "    return f(**kwargs)\n",
      "  File \"C:\\Users\\Renata\\anaconda3\\lib\\site-packages\\xgboost\\sklearn.py\", line 915, in fit\n",
      "    callbacks=callbacks)\n",
      "  File \"C:\\Users\\Renata\\anaconda3\\lib\\site-packages\\xgboost\\training.py\", line 235, in train\n",
      "    early_stopping_rounds=early_stopping_rounds)\n",
      "  File \"C:\\Users\\Renata\\anaconda3\\lib\\site-packages\\xgboost\\training.py\", line 102, in _train_internal\n",
      "    bst.update(dtrain, i, obj)\n",
      "  File \"C:\\Users\\Renata\\anaconda3\\lib\\site-packages\\xgboost\\core.py\", line 1282, in update\n",
      "    dtrain.handle))\n",
      "  File \"C:\\Users\\Renata\\anaconda3\\lib\\site-packages\\xgboost\\core.py\", line 189, in _check_call\n",
      "    raise XGBoostError(py_str(_LIB.XGBGetLastError()))\n",
      "xgboost.core.XGBoostError: value 1.2027 for Parameter colsample_bytree exceed bound [0,1]\n",
      "colsample_bytree: Subsample ratio of columns, resample on each tree construction.\n",
      "\n",
      "  FitFailedWarning)\n",
      "C:\\Users\\Renata\\anaconda3\\lib\\site-packages\\xgboost\\sklearn.py:888: UserWarning: The use of label encoder in XGBClassifier is deprecated and will be removed in a future release. To remove this warning, do the following: 1) Pass option use_label_encoder=False when constructing XGBClassifier object; and 2) Encode your labels (y) as integers starting with 0, i.e. 0, 1, 2, ..., [num_class - 1].\n",
      "  warnings.warn(label_encoder_deprecation_msg, UserWarning)\n"
     ]
    },
    {
     "name": "stdout",
     "output_type": "stream",
     "text": [
      "[23:51:27] WARNING: C:/Users/Administrator/workspace/xgboost-win64_release_1.3.0/src/learner.cc:1061: Starting in XGBoost 1.3.0, the default evaluation metric used with the objective 'binary:logistic' was changed from 'error' to 'logloss'. Explicitly set eval_metric if you'd like to restore the old behavior.\n"
     ]
    },
    {
     "name": "stderr",
     "output_type": "stream",
     "text": [
      "C:\\Users\\Renata\\anaconda3\\lib\\site-packages\\xgboost\\sklearn.py:888: UserWarning: The use of label encoder in XGBClassifier is deprecated and will be removed in a future release. To remove this warning, do the following: 1) Pass option use_label_encoder=False when constructing XGBClassifier object; and 2) Encode your labels (y) as integers starting with 0, i.e. 0, 1, 2, ..., [num_class - 1].\n",
      "  warnings.warn(label_encoder_deprecation_msg, UserWarning)\n"
     ]
    },
    {
     "name": "stdout",
     "output_type": "stream",
     "text": [
      "[23:51:30] WARNING: C:/Users/Administrator/workspace/xgboost-win64_release_1.3.0/src/learner.cc:1061: Starting in XGBoost 1.3.0, the default evaluation metric used with the objective 'binary:logistic' was changed from 'error' to 'logloss'. Explicitly set eval_metric if you'd like to restore the old behavior.\n"
     ]
    },
    {
     "name": "stderr",
     "output_type": "stream",
     "text": [
      "C:\\Users\\Renata\\anaconda3\\lib\\site-packages\\xgboost\\sklearn.py:888: UserWarning: The use of label encoder in XGBClassifier is deprecated and will be removed in a future release. To remove this warning, do the following: 1) Pass option use_label_encoder=False when constructing XGBClassifier object; and 2) Encode your labels (y) as integers starting with 0, i.e. 0, 1, 2, ..., [num_class - 1].\n",
      "  warnings.warn(label_encoder_deprecation_msg, UserWarning)\n"
     ]
    },
    {
     "name": "stdout",
     "output_type": "stream",
     "text": [
      "[23:51:32] WARNING: C:/Users/Administrator/workspace/xgboost-win64_release_1.3.0/src/learner.cc:1061: Starting in XGBoost 1.3.0, the default evaluation metric used with the objective 'binary:logistic' was changed from 'error' to 'logloss'. Explicitly set eval_metric if you'd like to restore the old behavior.\n"
     ]
    },
    {
     "name": "stderr",
     "output_type": "stream",
     "text": [
      "C:\\Users\\Renata\\anaconda3\\lib\\site-packages\\xgboost\\sklearn.py:888: UserWarning: The use of label encoder in XGBClassifier is deprecated and will be removed in a future release. To remove this warning, do the following: 1) Pass option use_label_encoder=False when constructing XGBClassifier object; and 2) Encode your labels (y) as integers starting with 0, i.e. 0, 1, 2, ..., [num_class - 1].\n",
      "  warnings.warn(label_encoder_deprecation_msg, UserWarning)\n"
     ]
    },
    {
     "name": "stdout",
     "output_type": "stream",
     "text": [
      "[23:51:35] WARNING: C:/Users/Administrator/workspace/xgboost-win64_release_1.3.0/src/learner.cc:1061: Starting in XGBoost 1.3.0, the default evaluation metric used with the objective 'binary:logistic' was changed from 'error' to 'logloss'. Explicitly set eval_metric if you'd like to restore the old behavior.\n"
     ]
    },
    {
     "name": "stderr",
     "output_type": "stream",
     "text": [
      "C:\\Users\\Renata\\anaconda3\\lib\\site-packages\\xgboost\\sklearn.py:888: UserWarning: The use of label encoder in XGBClassifier is deprecated and will be removed in a future release. To remove this warning, do the following: 1) Pass option use_label_encoder=False when constructing XGBClassifier object; and 2) Encode your labels (y) as integers starting with 0, i.e. 0, 1, 2, ..., [num_class - 1].\n",
      "  warnings.warn(label_encoder_deprecation_msg, UserWarning)\n"
     ]
    },
    {
     "name": "stdout",
     "output_type": "stream",
     "text": [
      "[23:51:37] WARNING: C:/Users/Administrator/workspace/xgboost-win64_release_1.3.0/src/learner.cc:1061: Starting in XGBoost 1.3.0, the default evaluation metric used with the objective 'binary:logistic' was changed from 'error' to 'logloss'. Explicitly set eval_metric if you'd like to restore the old behavior.\n"
     ]
    },
    {
     "name": "stderr",
     "output_type": "stream",
     "text": [
      "C:\\Users\\Renata\\anaconda3\\lib\\site-packages\\xgboost\\sklearn.py:888: UserWarning: The use of label encoder in XGBClassifier is deprecated and will be removed in a future release. To remove this warning, do the following: 1) Pass option use_label_encoder=False when constructing XGBClassifier object; and 2) Encode your labels (y) as integers starting with 0, i.e. 0, 1, 2, ..., [num_class - 1].\n",
      "  warnings.warn(label_encoder_deprecation_msg, UserWarning)\n",
      "C:\\Users\\Renata\\anaconda3\\lib\\site-packages\\sklearn\\model_selection\\_validation.py:614: FitFailedWarning: Estimator fit failed. The score on this train-test partition for these parameters will be set to nan. Details: \n",
      "Traceback (most recent call last):\n",
      "  File \"C:\\Users\\Renata\\anaconda3\\lib\\site-packages\\sklearn\\model_selection\\_validation.py\", line 593, in _fit_and_score\n",
      "    estimator.fit(X_train, y_train, **fit_params)\n",
      "  File \"C:\\Users\\Renata\\anaconda3\\lib\\site-packages\\xgboost\\core.py\", line 422, in inner_f\n",
      "    return f(**kwargs)\n",
      "  File \"C:\\Users\\Renata\\anaconda3\\lib\\site-packages\\xgboost\\sklearn.py\", line 915, in fit\n",
      "    callbacks=callbacks)\n",
      "  File \"C:\\Users\\Renata\\anaconda3\\lib\\site-packages\\xgboost\\training.py\", line 235, in train\n",
      "    early_stopping_rounds=early_stopping_rounds)\n",
      "  File \"C:\\Users\\Renata\\anaconda3\\lib\\site-packages\\xgboost\\training.py\", line 102, in _train_internal\n",
      "    bst.update(dtrain, i, obj)\n",
      "  File \"C:\\Users\\Renata\\anaconda3\\lib\\site-packages\\xgboost\\core.py\", line 1282, in update\n",
      "    dtrain.handle))\n",
      "  File \"C:\\Users\\Renata\\anaconda3\\lib\\site-packages\\xgboost\\core.py\", line 189, in _check_call\n",
      "    raise XGBoostError(py_str(_LIB.XGBGetLastError()))\n",
      "xgboost.core.XGBoostError: value 1.0137 for Parameter colsample_bytree exceed bound [0,1]\n",
      "colsample_bytree: Subsample ratio of columns, resample on each tree construction.\n",
      "\n",
      "  FitFailedWarning)\n",
      "C:\\Users\\Renata\\anaconda3\\lib\\site-packages\\xgboost\\sklearn.py:888: UserWarning: The use of label encoder in XGBClassifier is deprecated and will be removed in a future release. To remove this warning, do the following: 1) Pass option use_label_encoder=False when constructing XGBClassifier object; and 2) Encode your labels (y) as integers starting with 0, i.e. 0, 1, 2, ..., [num_class - 1].\n",
      "  warnings.warn(label_encoder_deprecation_msg, UserWarning)\n",
      "C:\\Users\\Renata\\anaconda3\\lib\\site-packages\\sklearn\\model_selection\\_validation.py:614: FitFailedWarning: Estimator fit failed. The score on this train-test partition for these parameters will be set to nan. Details: \n",
      "Traceback (most recent call last):\n",
      "  File \"C:\\Users\\Renata\\anaconda3\\lib\\site-packages\\sklearn\\model_selection\\_validation.py\", line 593, in _fit_and_score\n",
      "    estimator.fit(X_train, y_train, **fit_params)\n",
      "  File \"C:\\Users\\Renata\\anaconda3\\lib\\site-packages\\xgboost\\core.py\", line 422, in inner_f\n",
      "    return f(**kwargs)\n",
      "  File \"C:\\Users\\Renata\\anaconda3\\lib\\site-packages\\xgboost\\sklearn.py\", line 915, in fit\n",
      "    callbacks=callbacks)\n",
      "  File \"C:\\Users\\Renata\\anaconda3\\lib\\site-packages\\xgboost\\training.py\", line 235, in train\n",
      "    early_stopping_rounds=early_stopping_rounds)\n",
      "  File \"C:\\Users\\Renata\\anaconda3\\lib\\site-packages\\xgboost\\training.py\", line 102, in _train_internal\n",
      "    bst.update(dtrain, i, obj)\n",
      "  File \"C:\\Users\\Renata\\anaconda3\\lib\\site-packages\\xgboost\\core.py\", line 1282, in update\n",
      "    dtrain.handle))\n",
      "  File \"C:\\Users\\Renata\\anaconda3\\lib\\site-packages\\xgboost\\core.py\", line 189, in _check_call\n",
      "    raise XGBoostError(py_str(_LIB.XGBGetLastError()))\n",
      "xgboost.core.XGBoostError: value 1.0137 for Parameter colsample_bytree exceed bound [0,1]\n",
      "colsample_bytree: Subsample ratio of columns, resample on each tree construction.\n",
      "\n",
      "  FitFailedWarning)\n",
      "C:\\Users\\Renata\\anaconda3\\lib\\site-packages\\xgboost\\sklearn.py:888: UserWarning: The use of label encoder in XGBClassifier is deprecated and will be removed in a future release. To remove this warning, do the following: 1) Pass option use_label_encoder=False when constructing XGBClassifier object; and 2) Encode your labels (y) as integers starting with 0, i.e. 0, 1, 2, ..., [num_class - 1].\n",
      "  warnings.warn(label_encoder_deprecation_msg, UserWarning)\n",
      "C:\\Users\\Renata\\anaconda3\\lib\\site-packages\\sklearn\\model_selection\\_validation.py:614: FitFailedWarning: Estimator fit failed. The score on this train-test partition for these parameters will be set to nan. Details: \n",
      "Traceback (most recent call last):\n",
      "  File \"C:\\Users\\Renata\\anaconda3\\lib\\site-packages\\sklearn\\model_selection\\_validation.py\", line 593, in _fit_and_score\n",
      "    estimator.fit(X_train, y_train, **fit_params)\n",
      "  File \"C:\\Users\\Renata\\anaconda3\\lib\\site-packages\\xgboost\\core.py\", line 422, in inner_f\n",
      "    return f(**kwargs)\n",
      "  File \"C:\\Users\\Renata\\anaconda3\\lib\\site-packages\\xgboost\\sklearn.py\", line 915, in fit\n",
      "    callbacks=callbacks)\n",
      "  File \"C:\\Users\\Renata\\anaconda3\\lib\\site-packages\\xgboost\\training.py\", line 235, in train\n",
      "    early_stopping_rounds=early_stopping_rounds)\n",
      "  File \"C:\\Users\\Renata\\anaconda3\\lib\\site-packages\\xgboost\\training.py\", line 102, in _train_internal\n",
      "    bst.update(dtrain, i, obj)\n",
      "  File \"C:\\Users\\Renata\\anaconda3\\lib\\site-packages\\xgboost\\core.py\", line 1282, in update\n",
      "    dtrain.handle))\n",
      "  File \"C:\\Users\\Renata\\anaconda3\\lib\\site-packages\\xgboost\\core.py\", line 189, in _check_call\n",
      "    raise XGBoostError(py_str(_LIB.XGBGetLastError()))\n",
      "xgboost.core.XGBoostError: value 1.0137 for Parameter colsample_bytree exceed bound [0,1]\n",
      "colsample_bytree: Subsample ratio of columns, resample on each tree construction.\n",
      "\n",
      "  FitFailedWarning)\n",
      "C:\\Users\\Renata\\anaconda3\\lib\\site-packages\\xgboost\\sklearn.py:888: UserWarning: The use of label encoder in XGBClassifier is deprecated and will be removed in a future release. To remove this warning, do the following: 1) Pass option use_label_encoder=False when constructing XGBClassifier object; and 2) Encode your labels (y) as integers starting with 0, i.e. 0, 1, 2, ..., [num_class - 1].\n",
      "  warnings.warn(label_encoder_deprecation_msg, UserWarning)\n",
      "C:\\Users\\Renata\\anaconda3\\lib\\site-packages\\sklearn\\model_selection\\_validation.py:614: FitFailedWarning: Estimator fit failed. The score on this train-test partition for these parameters will be set to nan. Details: \n",
      "Traceback (most recent call last):\n",
      "  File \"C:\\Users\\Renata\\anaconda3\\lib\\site-packages\\sklearn\\model_selection\\_validation.py\", line 593, in _fit_and_score\n",
      "    estimator.fit(X_train, y_train, **fit_params)\n",
      "  File \"C:\\Users\\Renata\\anaconda3\\lib\\site-packages\\xgboost\\core.py\", line 422, in inner_f\n",
      "    return f(**kwargs)\n",
      "  File \"C:\\Users\\Renata\\anaconda3\\lib\\site-packages\\xgboost\\sklearn.py\", line 915, in fit\n",
      "    callbacks=callbacks)\n",
      "  File \"C:\\Users\\Renata\\anaconda3\\lib\\site-packages\\xgboost\\training.py\", line 235, in train\n",
      "    early_stopping_rounds=early_stopping_rounds)\n",
      "  File \"C:\\Users\\Renata\\anaconda3\\lib\\site-packages\\xgboost\\training.py\", line 102, in _train_internal\n",
      "    bst.update(dtrain, i, obj)\n",
      "  File \"C:\\Users\\Renata\\anaconda3\\lib\\site-packages\\xgboost\\core.py\", line 1282, in update\n",
      "    dtrain.handle))\n",
      "  File \"C:\\Users\\Renata\\anaconda3\\lib\\site-packages\\xgboost\\core.py\", line 189, in _check_call\n",
      "    raise XGBoostError(py_str(_LIB.XGBGetLastError()))\n",
      "xgboost.core.XGBoostError: value 1.0137 for Parameter colsample_bytree exceed bound [0,1]\n",
      "colsample_bytree: Subsample ratio of columns, resample on each tree construction.\n",
      "\n",
      "  FitFailedWarning)\n",
      "C:\\Users\\Renata\\anaconda3\\lib\\site-packages\\xgboost\\sklearn.py:888: UserWarning: The use of label encoder in XGBClassifier is deprecated and will be removed in a future release. To remove this warning, do the following: 1) Pass option use_label_encoder=False when constructing XGBClassifier object; and 2) Encode your labels (y) as integers starting with 0, i.e. 0, 1, 2, ..., [num_class - 1].\n",
      "  warnings.warn(label_encoder_deprecation_msg, UserWarning)\n",
      "C:\\Users\\Renata\\anaconda3\\lib\\site-packages\\sklearn\\model_selection\\_validation.py:614: FitFailedWarning: Estimator fit failed. The score on this train-test partition for these parameters will be set to nan. Details: \n",
      "Traceback (most recent call last):\n",
      "  File \"C:\\Users\\Renata\\anaconda3\\lib\\site-packages\\sklearn\\model_selection\\_validation.py\", line 593, in _fit_and_score\n",
      "    estimator.fit(X_train, y_train, **fit_params)\n",
      "  File \"C:\\Users\\Renata\\anaconda3\\lib\\site-packages\\xgboost\\core.py\", line 422, in inner_f\n",
      "    return f(**kwargs)\n",
      "  File \"C:\\Users\\Renata\\anaconda3\\lib\\site-packages\\xgboost\\sklearn.py\", line 915, in fit\n",
      "    callbacks=callbacks)\n",
      "  File \"C:\\Users\\Renata\\anaconda3\\lib\\site-packages\\xgboost\\training.py\", line 235, in train\n",
      "    early_stopping_rounds=early_stopping_rounds)\n",
      "  File \"C:\\Users\\Renata\\anaconda3\\lib\\site-packages\\xgboost\\training.py\", line 102, in _train_internal\n",
      "    bst.update(dtrain, i, obj)\n",
      "  File \"C:\\Users\\Renata\\anaconda3\\lib\\site-packages\\xgboost\\core.py\", line 1282, in update\n",
      "    dtrain.handle))\n",
      "  File \"C:\\Users\\Renata\\anaconda3\\lib\\site-packages\\xgboost\\core.py\", line 189, in _check_call\n",
      "    raise XGBoostError(py_str(_LIB.XGBGetLastError()))\n",
      "xgboost.core.XGBoostError: value 1.0137 for Parameter colsample_bytree exceed bound [0,1]\n",
      "colsample_bytree: Subsample ratio of columns, resample on each tree construction.\n",
      "\n",
      "  FitFailedWarning)\n",
      "C:\\Users\\Renata\\anaconda3\\lib\\site-packages\\xgboost\\sklearn.py:888: UserWarning: The use of label encoder in XGBClassifier is deprecated and will be removed in a future release. To remove this warning, do the following: 1) Pass option use_label_encoder=False when constructing XGBClassifier object; and 2) Encode your labels (y) as integers starting with 0, i.e. 0, 1, 2, ..., [num_class - 1].\n",
      "  warnings.warn(label_encoder_deprecation_msg, UserWarning)\n"
     ]
    },
    {
     "name": "stdout",
     "output_type": "stream",
     "text": [
      "[23:51:41] WARNING: C:/Users/Administrator/workspace/xgboost-win64_release_1.3.0/src/learner.cc:1061: Starting in XGBoost 1.3.0, the default evaluation metric used with the objective 'binary:logistic' was changed from 'error' to 'logloss'. Explicitly set eval_metric if you'd like to restore the old behavior.\n"
     ]
    },
    {
     "name": "stderr",
     "output_type": "stream",
     "text": [
      "C:\\Users\\Renata\\anaconda3\\lib\\site-packages\\xgboost\\sklearn.py:888: UserWarning: The use of label encoder in XGBClassifier is deprecated and will be removed in a future release. To remove this warning, do the following: 1) Pass option use_label_encoder=False when constructing XGBClassifier object; and 2) Encode your labels (y) as integers starting with 0, i.e. 0, 1, 2, ..., [num_class - 1].\n",
      "  warnings.warn(label_encoder_deprecation_msg, UserWarning)\n"
     ]
    },
    {
     "name": "stdout",
     "output_type": "stream",
     "text": [
      "[23:51:45] WARNING: C:/Users/Administrator/workspace/xgboost-win64_release_1.3.0/src/learner.cc:1061: Starting in XGBoost 1.3.0, the default evaluation metric used with the objective 'binary:logistic' was changed from 'error' to 'logloss'. Explicitly set eval_metric if you'd like to restore the old behavior.\n"
     ]
    },
    {
     "name": "stderr",
     "output_type": "stream",
     "text": [
      "C:\\Users\\Renata\\anaconda3\\lib\\site-packages\\xgboost\\sklearn.py:888: UserWarning: The use of label encoder in XGBClassifier is deprecated and will be removed in a future release. To remove this warning, do the following: 1) Pass option use_label_encoder=False when constructing XGBClassifier object; and 2) Encode your labels (y) as integers starting with 0, i.e. 0, 1, 2, ..., [num_class - 1].\n",
      "  warnings.warn(label_encoder_deprecation_msg, UserWarning)\n"
     ]
    },
    {
     "name": "stdout",
     "output_type": "stream",
     "text": [
      "[23:51:49] WARNING: C:/Users/Administrator/workspace/xgboost-win64_release_1.3.0/src/learner.cc:1061: Starting in XGBoost 1.3.0, the default evaluation metric used with the objective 'binary:logistic' was changed from 'error' to 'logloss'. Explicitly set eval_metric if you'd like to restore the old behavior.\n"
     ]
    },
    {
     "name": "stderr",
     "output_type": "stream",
     "text": [
      "C:\\Users\\Renata\\anaconda3\\lib\\site-packages\\xgboost\\sklearn.py:888: UserWarning: The use of label encoder in XGBClassifier is deprecated and will be removed in a future release. To remove this warning, do the following: 1) Pass option use_label_encoder=False when constructing XGBClassifier object; and 2) Encode your labels (y) as integers starting with 0, i.e. 0, 1, 2, ..., [num_class - 1].\n",
      "  warnings.warn(label_encoder_deprecation_msg, UserWarning)\n"
     ]
    },
    {
     "name": "stdout",
     "output_type": "stream",
     "text": [
      "[23:51:53] WARNING: C:/Users/Administrator/workspace/xgboost-win64_release_1.3.0/src/learner.cc:1061: Starting in XGBoost 1.3.0, the default evaluation metric used with the objective 'binary:logistic' was changed from 'error' to 'logloss'. Explicitly set eval_metric if you'd like to restore the old behavior.\n"
     ]
    },
    {
     "name": "stderr",
     "output_type": "stream",
     "text": [
      "C:\\Users\\Renata\\anaconda3\\lib\\site-packages\\xgboost\\sklearn.py:888: UserWarning: The use of label encoder in XGBClassifier is deprecated and will be removed in a future release. To remove this warning, do the following: 1) Pass option use_label_encoder=False when constructing XGBClassifier object; and 2) Encode your labels (y) as integers starting with 0, i.e. 0, 1, 2, ..., [num_class - 1].\n",
      "  warnings.warn(label_encoder_deprecation_msg, UserWarning)\n"
     ]
    },
    {
     "name": "stdout",
     "output_type": "stream",
     "text": [
      "[23:51:57] WARNING: C:/Users/Administrator/workspace/xgboost-win64_release_1.3.0/src/learner.cc:1061: Starting in XGBoost 1.3.0, the default evaluation metric used with the objective 'binary:logistic' was changed from 'error' to 'logloss'. Explicitly set eval_metric if you'd like to restore the old behavior.\n"
     ]
    },
    {
     "name": "stderr",
     "output_type": "stream",
     "text": [
      "C:\\Users\\Renata\\anaconda3\\lib\\site-packages\\xgboost\\sklearn.py:888: UserWarning: The use of label encoder in XGBClassifier is deprecated and will be removed in a future release. To remove this warning, do the following: 1) Pass option use_label_encoder=False when constructing XGBClassifier object; and 2) Encode your labels (y) as integers starting with 0, i.e. 0, 1, 2, ..., [num_class - 1].\n",
      "  warnings.warn(label_encoder_deprecation_msg, UserWarning)\n",
      "C:\\Users\\Renata\\anaconda3\\lib\\site-packages\\sklearn\\model_selection\\_validation.py:614: FitFailedWarning: Estimator fit failed. The score on this train-test partition for these parameters will be set to nan. Details: \n",
      "Traceback (most recent call last):\n",
      "  File \"C:\\Users\\Renata\\anaconda3\\lib\\site-packages\\sklearn\\model_selection\\_validation.py\", line 593, in _fit_and_score\n",
      "    estimator.fit(X_train, y_train, **fit_params)\n",
      "  File \"C:\\Users\\Renata\\anaconda3\\lib\\site-packages\\xgboost\\core.py\", line 422, in inner_f\n",
      "    return f(**kwargs)\n",
      "  File \"C:\\Users\\Renata\\anaconda3\\lib\\site-packages\\xgboost\\sklearn.py\", line 915, in fit\n",
      "    callbacks=callbacks)\n",
      "  File \"C:\\Users\\Renata\\anaconda3\\lib\\site-packages\\xgboost\\training.py\", line 235, in train\n",
      "    early_stopping_rounds=early_stopping_rounds)\n",
      "  File \"C:\\Users\\Renata\\anaconda3\\lib\\site-packages\\xgboost\\training.py\", line 102, in _train_internal\n",
      "    bst.update(dtrain, i, obj)\n",
      "  File \"C:\\Users\\Renata\\anaconda3\\lib\\site-packages\\xgboost\\core.py\", line 1282, in update\n",
      "    dtrain.handle))\n",
      "  File \"C:\\Users\\Renata\\anaconda3\\lib\\site-packages\\xgboost\\core.py\", line 189, in _check_call\n",
      "    raise XGBoostError(py_str(_LIB.XGBGetLastError()))\n",
      "xgboost.core.XGBoostError: value 1.05278 for Parameter colsample_bytree exceed bound [0,1]\n",
      "colsample_bytree: Subsample ratio of columns, resample on each tree construction.\n",
      "\n",
      "  FitFailedWarning)\n",
      "C:\\Users\\Renata\\anaconda3\\lib\\site-packages\\xgboost\\sklearn.py:888: UserWarning: The use of label encoder in XGBClassifier is deprecated and will be removed in a future release. To remove this warning, do the following: 1) Pass option use_label_encoder=False when constructing XGBClassifier object; and 2) Encode your labels (y) as integers starting with 0, i.e. 0, 1, 2, ..., [num_class - 1].\n",
      "  warnings.warn(label_encoder_deprecation_msg, UserWarning)\n",
      "C:\\Users\\Renata\\anaconda3\\lib\\site-packages\\sklearn\\model_selection\\_validation.py:614: FitFailedWarning: Estimator fit failed. The score on this train-test partition for these parameters will be set to nan. Details: \n",
      "Traceback (most recent call last):\n",
      "  File \"C:\\Users\\Renata\\anaconda3\\lib\\site-packages\\sklearn\\model_selection\\_validation.py\", line 593, in _fit_and_score\n",
      "    estimator.fit(X_train, y_train, **fit_params)\n",
      "  File \"C:\\Users\\Renata\\anaconda3\\lib\\site-packages\\xgboost\\core.py\", line 422, in inner_f\n",
      "    return f(**kwargs)\n",
      "  File \"C:\\Users\\Renata\\anaconda3\\lib\\site-packages\\xgboost\\sklearn.py\", line 915, in fit\n",
      "    callbacks=callbacks)\n",
      "  File \"C:\\Users\\Renata\\anaconda3\\lib\\site-packages\\xgboost\\training.py\", line 235, in train\n",
      "    early_stopping_rounds=early_stopping_rounds)\n",
      "  File \"C:\\Users\\Renata\\anaconda3\\lib\\site-packages\\xgboost\\training.py\", line 102, in _train_internal\n",
      "    bst.update(dtrain, i, obj)\n",
      "  File \"C:\\Users\\Renata\\anaconda3\\lib\\site-packages\\xgboost\\core.py\", line 1282, in update\n",
      "    dtrain.handle))\n",
      "  File \"C:\\Users\\Renata\\anaconda3\\lib\\site-packages\\xgboost\\core.py\", line 189, in _check_call\n",
      "    raise XGBoostError(py_str(_LIB.XGBGetLastError()))\n",
      "xgboost.core.XGBoostError: value 1.05278 for Parameter colsample_bytree exceed bound [0,1]\n",
      "colsample_bytree: Subsample ratio of columns, resample on each tree construction.\n",
      "\n",
      "  FitFailedWarning)\n",
      "C:\\Users\\Renata\\anaconda3\\lib\\site-packages\\xgboost\\sklearn.py:888: UserWarning: The use of label encoder in XGBClassifier is deprecated and will be removed in a future release. To remove this warning, do the following: 1) Pass option use_label_encoder=False when constructing XGBClassifier object; and 2) Encode your labels (y) as integers starting with 0, i.e. 0, 1, 2, ..., [num_class - 1].\n",
      "  warnings.warn(label_encoder_deprecation_msg, UserWarning)\n",
      "C:\\Users\\Renata\\anaconda3\\lib\\site-packages\\sklearn\\model_selection\\_validation.py:614: FitFailedWarning: Estimator fit failed. The score on this train-test partition for these parameters will be set to nan. Details: \n",
      "Traceback (most recent call last):\n",
      "  File \"C:\\Users\\Renata\\anaconda3\\lib\\site-packages\\sklearn\\model_selection\\_validation.py\", line 593, in _fit_and_score\n",
      "    estimator.fit(X_train, y_train, **fit_params)\n",
      "  File \"C:\\Users\\Renata\\anaconda3\\lib\\site-packages\\xgboost\\core.py\", line 422, in inner_f\n",
      "    return f(**kwargs)\n",
      "  File \"C:\\Users\\Renata\\anaconda3\\lib\\site-packages\\xgboost\\sklearn.py\", line 915, in fit\n",
      "    callbacks=callbacks)\n",
      "  File \"C:\\Users\\Renata\\anaconda3\\lib\\site-packages\\xgboost\\training.py\", line 235, in train\n",
      "    early_stopping_rounds=early_stopping_rounds)\n",
      "  File \"C:\\Users\\Renata\\anaconda3\\lib\\site-packages\\xgboost\\training.py\", line 102, in _train_internal\n",
      "    bst.update(dtrain, i, obj)\n",
      "  File \"C:\\Users\\Renata\\anaconda3\\lib\\site-packages\\xgboost\\core.py\", line 1282, in update\n",
      "    dtrain.handle))\n",
      "  File \"C:\\Users\\Renata\\anaconda3\\lib\\site-packages\\xgboost\\core.py\", line 189, in _check_call\n",
      "    raise XGBoostError(py_str(_LIB.XGBGetLastError()))\n",
      "xgboost.core.XGBoostError: value 1.05278 for Parameter colsample_bytree exceed bound [0,1]\n",
      "colsample_bytree: Subsample ratio of columns, resample on each tree construction.\n",
      "\n",
      "  FitFailedWarning)\n",
      "C:\\Users\\Renata\\anaconda3\\lib\\site-packages\\xgboost\\sklearn.py:888: UserWarning: The use of label encoder in XGBClassifier is deprecated and will be removed in a future release. To remove this warning, do the following: 1) Pass option use_label_encoder=False when constructing XGBClassifier object; and 2) Encode your labels (y) as integers starting with 0, i.e. 0, 1, 2, ..., [num_class - 1].\n",
      "  warnings.warn(label_encoder_deprecation_msg, UserWarning)\n",
      "C:\\Users\\Renata\\anaconda3\\lib\\site-packages\\sklearn\\model_selection\\_validation.py:614: FitFailedWarning: Estimator fit failed. The score on this train-test partition for these parameters will be set to nan. Details: \n",
      "Traceback (most recent call last):\n",
      "  File \"C:\\Users\\Renata\\anaconda3\\lib\\site-packages\\sklearn\\model_selection\\_validation.py\", line 593, in _fit_and_score\n",
      "    estimator.fit(X_train, y_train, **fit_params)\n",
      "  File \"C:\\Users\\Renata\\anaconda3\\lib\\site-packages\\xgboost\\core.py\", line 422, in inner_f\n",
      "    return f(**kwargs)\n",
      "  File \"C:\\Users\\Renata\\anaconda3\\lib\\site-packages\\xgboost\\sklearn.py\", line 915, in fit\n",
      "    callbacks=callbacks)\n",
      "  File \"C:\\Users\\Renata\\anaconda3\\lib\\site-packages\\xgboost\\training.py\", line 235, in train\n",
      "    early_stopping_rounds=early_stopping_rounds)\n",
      "  File \"C:\\Users\\Renata\\anaconda3\\lib\\site-packages\\xgboost\\training.py\", line 102, in _train_internal\n",
      "    bst.update(dtrain, i, obj)\n",
      "  File \"C:\\Users\\Renata\\anaconda3\\lib\\site-packages\\xgboost\\core.py\", line 1282, in update\n",
      "    dtrain.handle))\n",
      "  File \"C:\\Users\\Renata\\anaconda3\\lib\\site-packages\\xgboost\\core.py\", line 189, in _check_call\n",
      "    raise XGBoostError(py_str(_LIB.XGBGetLastError()))\n",
      "xgboost.core.XGBoostError: value 1.05278 for Parameter colsample_bytree exceed bound [0,1]\n",
      "colsample_bytree: Subsample ratio of columns, resample on each tree construction.\n",
      "\n",
      "  FitFailedWarning)\n",
      "C:\\Users\\Renata\\anaconda3\\lib\\site-packages\\xgboost\\sklearn.py:888: UserWarning: The use of label encoder in XGBClassifier is deprecated and will be removed in a future release. To remove this warning, do the following: 1) Pass option use_label_encoder=False when constructing XGBClassifier object; and 2) Encode your labels (y) as integers starting with 0, i.e. 0, 1, 2, ..., [num_class - 1].\n",
      "  warnings.warn(label_encoder_deprecation_msg, UserWarning)\n",
      "C:\\Users\\Renata\\anaconda3\\lib\\site-packages\\sklearn\\model_selection\\_validation.py:614: FitFailedWarning: Estimator fit failed. The score on this train-test partition for these parameters will be set to nan. Details: \n",
      "Traceback (most recent call last):\n",
      "  File \"C:\\Users\\Renata\\anaconda3\\lib\\site-packages\\sklearn\\model_selection\\_validation.py\", line 593, in _fit_and_score\n",
      "    estimator.fit(X_train, y_train, **fit_params)\n",
      "  File \"C:\\Users\\Renata\\anaconda3\\lib\\site-packages\\xgboost\\core.py\", line 422, in inner_f\n",
      "    return f(**kwargs)\n",
      "  File \"C:\\Users\\Renata\\anaconda3\\lib\\site-packages\\xgboost\\sklearn.py\", line 915, in fit\n",
      "    callbacks=callbacks)\n",
      "  File \"C:\\Users\\Renata\\anaconda3\\lib\\site-packages\\xgboost\\training.py\", line 235, in train\n",
      "    early_stopping_rounds=early_stopping_rounds)\n",
      "  File \"C:\\Users\\Renata\\anaconda3\\lib\\site-packages\\xgboost\\training.py\", line 102, in _train_internal\n",
      "    bst.update(dtrain, i, obj)\n",
      "  File \"C:\\Users\\Renata\\anaconda3\\lib\\site-packages\\xgboost\\core.py\", line 1282, in update\n",
      "    dtrain.handle))\n",
      "  File \"C:\\Users\\Renata\\anaconda3\\lib\\site-packages\\xgboost\\core.py\", line 189, in _check_call\n",
      "    raise XGBoostError(py_str(_LIB.XGBGetLastError()))\n",
      "xgboost.core.XGBoostError: value 1.05278 for Parameter colsample_bytree exceed bound [0,1]\n",
      "colsample_bytree: Subsample ratio of columns, resample on each tree construction.\n",
      "\n",
      "  FitFailedWarning)\n",
      "C:\\Users\\Renata\\anaconda3\\lib\\site-packages\\xgboost\\sklearn.py:888: UserWarning: The use of label encoder in XGBClassifier is deprecated and will be removed in a future release. To remove this warning, do the following: 1) Pass option use_label_encoder=False when constructing XGBClassifier object; and 2) Encode your labels (y) as integers starting with 0, i.e. 0, 1, 2, ..., [num_class - 1].\n",
      "  warnings.warn(label_encoder_deprecation_msg, UserWarning)\n"
     ]
    },
    {
     "name": "stdout",
     "output_type": "stream",
     "text": [
      "[23:52:01] WARNING: C:/Users/Administrator/workspace/xgboost-win64_release_1.3.0/src/learner.cc:1061: Starting in XGBoost 1.3.0, the default evaluation metric used with the objective 'binary:logistic' was changed from 'error' to 'logloss'. Explicitly set eval_metric if you'd like to restore the old behavior.\n"
     ]
    },
    {
     "name": "stderr",
     "output_type": "stream",
     "text": [
      "C:\\Users\\Renata\\anaconda3\\lib\\site-packages\\xgboost\\sklearn.py:888: UserWarning: The use of label encoder in XGBClassifier is deprecated and will be removed in a future release. To remove this warning, do the following: 1) Pass option use_label_encoder=False when constructing XGBClassifier object; and 2) Encode your labels (y) as integers starting with 0, i.e. 0, 1, 2, ..., [num_class - 1].\n",
      "  warnings.warn(label_encoder_deprecation_msg, UserWarning)\n"
     ]
    },
    {
     "name": "stdout",
     "output_type": "stream",
     "text": [
      "[23:52:03] WARNING: C:/Users/Administrator/workspace/xgboost-win64_release_1.3.0/src/learner.cc:1061: Starting in XGBoost 1.3.0, the default evaluation metric used with the objective 'binary:logistic' was changed from 'error' to 'logloss'. Explicitly set eval_metric if you'd like to restore the old behavior.\n"
     ]
    },
    {
     "name": "stderr",
     "output_type": "stream",
     "text": [
      "C:\\Users\\Renata\\anaconda3\\lib\\site-packages\\xgboost\\sklearn.py:888: UserWarning: The use of label encoder in XGBClassifier is deprecated and will be removed in a future release. To remove this warning, do the following: 1) Pass option use_label_encoder=False when constructing XGBClassifier object; and 2) Encode your labels (y) as integers starting with 0, i.e. 0, 1, 2, ..., [num_class - 1].\n",
      "  warnings.warn(label_encoder_deprecation_msg, UserWarning)\n"
     ]
    },
    {
     "name": "stdout",
     "output_type": "stream",
     "text": [
      "[23:52:05] WARNING: C:/Users/Administrator/workspace/xgboost-win64_release_1.3.0/src/learner.cc:1061: Starting in XGBoost 1.3.0, the default evaluation metric used with the objective 'binary:logistic' was changed from 'error' to 'logloss'. Explicitly set eval_metric if you'd like to restore the old behavior.\n"
     ]
    },
    {
     "name": "stderr",
     "output_type": "stream",
     "text": [
      "C:\\Users\\Renata\\anaconda3\\lib\\site-packages\\xgboost\\sklearn.py:888: UserWarning: The use of label encoder in XGBClassifier is deprecated and will be removed in a future release. To remove this warning, do the following: 1) Pass option use_label_encoder=False when constructing XGBClassifier object; and 2) Encode your labels (y) as integers starting with 0, i.e. 0, 1, 2, ..., [num_class - 1].\n",
      "  warnings.warn(label_encoder_deprecation_msg, UserWarning)\n"
     ]
    },
    {
     "name": "stdout",
     "output_type": "stream",
     "text": [
      "[23:52:06] WARNING: C:/Users/Administrator/workspace/xgboost-win64_release_1.3.0/src/learner.cc:1061: Starting in XGBoost 1.3.0, the default evaluation metric used with the objective 'binary:logistic' was changed from 'error' to 'logloss'. Explicitly set eval_metric if you'd like to restore the old behavior.\n"
     ]
    },
    {
     "name": "stderr",
     "output_type": "stream",
     "text": [
      "C:\\Users\\Renata\\anaconda3\\lib\\site-packages\\xgboost\\sklearn.py:888: UserWarning: The use of label encoder in XGBClassifier is deprecated and will be removed in a future release. To remove this warning, do the following: 1) Pass option use_label_encoder=False when constructing XGBClassifier object; and 2) Encode your labels (y) as integers starting with 0, i.e. 0, 1, 2, ..., [num_class - 1].\n",
      "  warnings.warn(label_encoder_deprecation_msg, UserWarning)\n"
     ]
    },
    {
     "name": "stdout",
     "output_type": "stream",
     "text": [
      "[23:52:08] WARNING: C:/Users/Administrator/workspace/xgboost-win64_release_1.3.0/src/learner.cc:1061: Starting in XGBoost 1.3.0, the default evaluation metric used with the objective 'binary:logistic' was changed from 'error' to 'logloss'. Explicitly set eval_metric if you'd like to restore the old behavior.\n"
     ]
    },
    {
     "name": "stderr",
     "output_type": "stream",
     "text": [
      "C:\\Users\\Renata\\anaconda3\\lib\\site-packages\\xgboost\\sklearn.py:888: UserWarning: The use of label encoder in XGBClassifier is deprecated and will be removed in a future release. To remove this warning, do the following: 1) Pass option use_label_encoder=False when constructing XGBClassifier object; and 2) Encode your labels (y) as integers starting with 0, i.e. 0, 1, 2, ..., [num_class - 1].\n",
      "  warnings.warn(label_encoder_deprecation_msg, UserWarning)\n",
      "C:\\Users\\Renata\\anaconda3\\lib\\site-packages\\sklearn\\model_selection\\_validation.py:614: FitFailedWarning: Estimator fit failed. The score on this train-test partition for these parameters will be set to nan. Details: \n",
      "Traceback (most recent call last):\n",
      "  File \"C:\\Users\\Renata\\anaconda3\\lib\\site-packages\\sklearn\\model_selection\\_validation.py\", line 593, in _fit_and_score\n",
      "    estimator.fit(X_train, y_train, **fit_params)\n",
      "  File \"C:\\Users\\Renata\\anaconda3\\lib\\site-packages\\xgboost\\core.py\", line 422, in inner_f\n",
      "    return f(**kwargs)\n",
      "  File \"C:\\Users\\Renata\\anaconda3\\lib\\site-packages\\xgboost\\sklearn.py\", line 915, in fit\n",
      "    callbacks=callbacks)\n",
      "  File \"C:\\Users\\Renata\\anaconda3\\lib\\site-packages\\xgboost\\training.py\", line 235, in train\n",
      "    early_stopping_rounds=early_stopping_rounds)\n",
      "  File \"C:\\Users\\Renata\\anaconda3\\lib\\site-packages\\xgboost\\training.py\", line 102, in _train_internal\n",
      "    bst.update(dtrain, i, obj)\n",
      "  File \"C:\\Users\\Renata\\anaconda3\\lib\\site-packages\\xgboost\\core.py\", line 1282, in update\n",
      "    dtrain.handle))\n",
      "  File \"C:\\Users\\Renata\\anaconda3\\lib\\site-packages\\xgboost\\core.py\", line 189, in _check_call\n",
      "    raise XGBoostError(py_str(_LIB.XGBGetLastError()))\n",
      "xgboost.core.XGBoostError: value 1.13535 for Parameter subsample exceed bound [0,1]\n",
      "subsample: Row subsample ratio of training instance.\n",
      "\n",
      "  FitFailedWarning)\n",
      "C:\\Users\\Renata\\anaconda3\\lib\\site-packages\\xgboost\\sklearn.py:888: UserWarning: The use of label encoder in XGBClassifier is deprecated and will be removed in a future release. To remove this warning, do the following: 1) Pass option use_label_encoder=False when constructing XGBClassifier object; and 2) Encode your labels (y) as integers starting with 0, i.e. 0, 1, 2, ..., [num_class - 1].\n",
      "  warnings.warn(label_encoder_deprecation_msg, UserWarning)\n",
      "C:\\Users\\Renata\\anaconda3\\lib\\site-packages\\sklearn\\model_selection\\_validation.py:614: FitFailedWarning: Estimator fit failed. The score on this train-test partition for these parameters will be set to nan. Details: \n",
      "Traceback (most recent call last):\n",
      "  File \"C:\\Users\\Renata\\anaconda3\\lib\\site-packages\\sklearn\\model_selection\\_validation.py\", line 593, in _fit_and_score\n",
      "    estimator.fit(X_train, y_train, **fit_params)\n",
      "  File \"C:\\Users\\Renata\\anaconda3\\lib\\site-packages\\xgboost\\core.py\", line 422, in inner_f\n",
      "    return f(**kwargs)\n",
      "  File \"C:\\Users\\Renata\\anaconda3\\lib\\site-packages\\xgboost\\sklearn.py\", line 915, in fit\n",
      "    callbacks=callbacks)\n",
      "  File \"C:\\Users\\Renata\\anaconda3\\lib\\site-packages\\xgboost\\training.py\", line 235, in train\n",
      "    early_stopping_rounds=early_stopping_rounds)\n",
      "  File \"C:\\Users\\Renata\\anaconda3\\lib\\site-packages\\xgboost\\training.py\", line 102, in _train_internal\n",
      "    bst.update(dtrain, i, obj)\n",
      "  File \"C:\\Users\\Renata\\anaconda3\\lib\\site-packages\\xgboost\\core.py\", line 1282, in update\n",
      "    dtrain.handle))\n",
      "  File \"C:\\Users\\Renata\\anaconda3\\lib\\site-packages\\xgboost\\core.py\", line 189, in _check_call\n",
      "    raise XGBoostError(py_str(_LIB.XGBGetLastError()))\n",
      "xgboost.core.XGBoostError: value 1.13535 for Parameter subsample exceed bound [0,1]\n",
      "subsample: Row subsample ratio of training instance.\n",
      "\n",
      "  FitFailedWarning)\n",
      "C:\\Users\\Renata\\anaconda3\\lib\\site-packages\\xgboost\\sklearn.py:888: UserWarning: The use of label encoder in XGBClassifier is deprecated and will be removed in a future release. To remove this warning, do the following: 1) Pass option use_label_encoder=False when constructing XGBClassifier object; and 2) Encode your labels (y) as integers starting with 0, i.e. 0, 1, 2, ..., [num_class - 1].\n",
      "  warnings.warn(label_encoder_deprecation_msg, UserWarning)\n",
      "C:\\Users\\Renata\\anaconda3\\lib\\site-packages\\sklearn\\model_selection\\_validation.py:614: FitFailedWarning: Estimator fit failed. The score on this train-test partition for these parameters will be set to nan. Details: \n",
      "Traceback (most recent call last):\n",
      "  File \"C:\\Users\\Renata\\anaconda3\\lib\\site-packages\\sklearn\\model_selection\\_validation.py\", line 593, in _fit_and_score\n",
      "    estimator.fit(X_train, y_train, **fit_params)\n",
      "  File \"C:\\Users\\Renata\\anaconda3\\lib\\site-packages\\xgboost\\core.py\", line 422, in inner_f\n",
      "    return f(**kwargs)\n",
      "  File \"C:\\Users\\Renata\\anaconda3\\lib\\site-packages\\xgboost\\sklearn.py\", line 915, in fit\n",
      "    callbacks=callbacks)\n",
      "  File \"C:\\Users\\Renata\\anaconda3\\lib\\site-packages\\xgboost\\training.py\", line 235, in train\n",
      "    early_stopping_rounds=early_stopping_rounds)\n",
      "  File \"C:\\Users\\Renata\\anaconda3\\lib\\site-packages\\xgboost\\training.py\", line 102, in _train_internal\n",
      "    bst.update(dtrain, i, obj)\n",
      "  File \"C:\\Users\\Renata\\anaconda3\\lib\\site-packages\\xgboost\\core.py\", line 1282, in update\n",
      "    dtrain.handle))\n",
      "  File \"C:\\Users\\Renata\\anaconda3\\lib\\site-packages\\xgboost\\core.py\", line 189, in _check_call\n",
      "    raise XGBoostError(py_str(_LIB.XGBGetLastError()))\n",
      "xgboost.core.XGBoostError: value 1.13535 for Parameter subsample exceed bound [0,1]\n",
      "subsample: Row subsample ratio of training instance.\n",
      "\n",
      "  FitFailedWarning)\n",
      "C:\\Users\\Renata\\anaconda3\\lib\\site-packages\\xgboost\\sklearn.py:888: UserWarning: The use of label encoder in XGBClassifier is deprecated and will be removed in a future release. To remove this warning, do the following: 1) Pass option use_label_encoder=False when constructing XGBClassifier object; and 2) Encode your labels (y) as integers starting with 0, i.e. 0, 1, 2, ..., [num_class - 1].\n",
      "  warnings.warn(label_encoder_deprecation_msg, UserWarning)\n",
      "C:\\Users\\Renata\\anaconda3\\lib\\site-packages\\sklearn\\model_selection\\_validation.py:614: FitFailedWarning: Estimator fit failed. The score on this train-test partition for these parameters will be set to nan. Details: \n",
      "Traceback (most recent call last):\n",
      "  File \"C:\\Users\\Renata\\anaconda3\\lib\\site-packages\\sklearn\\model_selection\\_validation.py\", line 593, in _fit_and_score\n",
      "    estimator.fit(X_train, y_train, **fit_params)\n",
      "  File \"C:\\Users\\Renata\\anaconda3\\lib\\site-packages\\xgboost\\core.py\", line 422, in inner_f\n",
      "    return f(**kwargs)\n",
      "  File \"C:\\Users\\Renata\\anaconda3\\lib\\site-packages\\xgboost\\sklearn.py\", line 915, in fit\n",
      "    callbacks=callbacks)\n",
      "  File \"C:\\Users\\Renata\\anaconda3\\lib\\site-packages\\xgboost\\training.py\", line 235, in train\n",
      "    early_stopping_rounds=early_stopping_rounds)\n",
      "  File \"C:\\Users\\Renata\\anaconda3\\lib\\site-packages\\xgboost\\training.py\", line 102, in _train_internal\n",
      "    bst.update(dtrain, i, obj)\n",
      "  File \"C:\\Users\\Renata\\anaconda3\\lib\\site-packages\\xgboost\\core.py\", line 1282, in update\n",
      "    dtrain.handle))\n",
      "  File \"C:\\Users\\Renata\\anaconda3\\lib\\site-packages\\xgboost\\core.py\", line 189, in _check_call\n",
      "    raise XGBoostError(py_str(_LIB.XGBGetLastError()))\n",
      "xgboost.core.XGBoostError: value 1.13535 for Parameter subsample exceed bound [0,1]\n",
      "subsample: Row subsample ratio of training instance.\n",
      "\n",
      "  FitFailedWarning)\n",
      "C:\\Users\\Renata\\anaconda3\\lib\\site-packages\\xgboost\\sklearn.py:888: UserWarning: The use of label encoder in XGBClassifier is deprecated and will be removed in a future release. To remove this warning, do the following: 1) Pass option use_label_encoder=False when constructing XGBClassifier object; and 2) Encode your labels (y) as integers starting with 0, i.e. 0, 1, 2, ..., [num_class - 1].\n",
      "  warnings.warn(label_encoder_deprecation_msg, UserWarning)\n",
      "C:\\Users\\Renata\\anaconda3\\lib\\site-packages\\sklearn\\model_selection\\_validation.py:614: FitFailedWarning: Estimator fit failed. The score on this train-test partition for these parameters will be set to nan. Details: \n",
      "Traceback (most recent call last):\n",
      "  File \"C:\\Users\\Renata\\anaconda3\\lib\\site-packages\\sklearn\\model_selection\\_validation.py\", line 593, in _fit_and_score\n",
      "    estimator.fit(X_train, y_train, **fit_params)\n",
      "  File \"C:\\Users\\Renata\\anaconda3\\lib\\site-packages\\xgboost\\core.py\", line 422, in inner_f\n",
      "    return f(**kwargs)\n",
      "  File \"C:\\Users\\Renata\\anaconda3\\lib\\site-packages\\xgboost\\sklearn.py\", line 915, in fit\n",
      "    callbacks=callbacks)\n",
      "  File \"C:\\Users\\Renata\\anaconda3\\lib\\site-packages\\xgboost\\training.py\", line 235, in train\n",
      "    early_stopping_rounds=early_stopping_rounds)\n",
      "  File \"C:\\Users\\Renata\\anaconda3\\lib\\site-packages\\xgboost\\training.py\", line 102, in _train_internal\n",
      "    bst.update(dtrain, i, obj)\n",
      "  File \"C:\\Users\\Renata\\anaconda3\\lib\\site-packages\\xgboost\\core.py\", line 1282, in update\n",
      "    dtrain.handle))\n",
      "  File \"C:\\Users\\Renata\\anaconda3\\lib\\site-packages\\xgboost\\core.py\", line 189, in _check_call\n",
      "    raise XGBoostError(py_str(_LIB.XGBGetLastError()))\n",
      "xgboost.core.XGBoostError: value 1.13535 for Parameter subsample exceed bound [0,1]\n",
      "subsample: Row subsample ratio of training instance.\n",
      "\n",
      "  FitFailedWarning)\n",
      "C:\\Users\\Renata\\anaconda3\\lib\\site-packages\\xgboost\\sklearn.py:888: UserWarning: The use of label encoder in XGBClassifier is deprecated and will be removed in a future release. To remove this warning, do the following: 1) Pass option use_label_encoder=False when constructing XGBClassifier object; and 2) Encode your labels (y) as integers starting with 0, i.e. 0, 1, 2, ..., [num_class - 1].\n",
      "  warnings.warn(label_encoder_deprecation_msg, UserWarning)\n"
     ]
    },
    {
     "name": "stderr",
     "output_type": "stream",
     "text": [
      "C:\\Users\\Renata\\anaconda3\\lib\\site-packages\\sklearn\\model_selection\\_validation.py:614: FitFailedWarning: Estimator fit failed. The score on this train-test partition for these parameters will be set to nan. Details: \n",
      "Traceback (most recent call last):\n",
      "  File \"C:\\Users\\Renata\\anaconda3\\lib\\site-packages\\sklearn\\model_selection\\_validation.py\", line 593, in _fit_and_score\n",
      "    estimator.fit(X_train, y_train, **fit_params)\n",
      "  File \"C:\\Users\\Renata\\anaconda3\\lib\\site-packages\\xgboost\\core.py\", line 422, in inner_f\n",
      "    return f(**kwargs)\n",
      "  File \"C:\\Users\\Renata\\anaconda3\\lib\\site-packages\\xgboost\\sklearn.py\", line 915, in fit\n",
      "    callbacks=callbacks)\n",
      "  File \"C:\\Users\\Renata\\anaconda3\\lib\\site-packages\\xgboost\\training.py\", line 235, in train\n",
      "    early_stopping_rounds=early_stopping_rounds)\n",
      "  File \"C:\\Users\\Renata\\anaconda3\\lib\\site-packages\\xgboost\\training.py\", line 102, in _train_internal\n",
      "    bst.update(dtrain, i, obj)\n",
      "  File \"C:\\Users\\Renata\\anaconda3\\lib\\site-packages\\xgboost\\core.py\", line 1282, in update\n",
      "    dtrain.handle))\n",
      "  File \"C:\\Users\\Renata\\anaconda3\\lib\\site-packages\\xgboost\\core.py\", line 189, in _check_call\n",
      "    raise XGBoostError(py_str(_LIB.XGBGetLastError()))\n",
      "xgboost.core.XGBoostError: value 1.04832 for Parameter colsample_bytree exceed bound [0,1]\n",
      "colsample_bytree: Subsample ratio of columns, resample on each tree construction.\n",
      "\n",
      "  FitFailedWarning)\n",
      "C:\\Users\\Renata\\anaconda3\\lib\\site-packages\\xgboost\\sklearn.py:888: UserWarning: The use of label encoder in XGBClassifier is deprecated and will be removed in a future release. To remove this warning, do the following: 1) Pass option use_label_encoder=False when constructing XGBClassifier object; and 2) Encode your labels (y) as integers starting with 0, i.e. 0, 1, 2, ..., [num_class - 1].\n",
      "  warnings.warn(label_encoder_deprecation_msg, UserWarning)\n",
      "C:\\Users\\Renata\\anaconda3\\lib\\site-packages\\sklearn\\model_selection\\_validation.py:614: FitFailedWarning: Estimator fit failed. The score on this train-test partition for these parameters will be set to nan. Details: \n",
      "Traceback (most recent call last):\n",
      "  File \"C:\\Users\\Renata\\anaconda3\\lib\\site-packages\\sklearn\\model_selection\\_validation.py\", line 593, in _fit_and_score\n",
      "    estimator.fit(X_train, y_train, **fit_params)\n",
      "  File \"C:\\Users\\Renata\\anaconda3\\lib\\site-packages\\xgboost\\core.py\", line 422, in inner_f\n",
      "    return f(**kwargs)\n",
      "  File \"C:\\Users\\Renata\\anaconda3\\lib\\site-packages\\xgboost\\sklearn.py\", line 915, in fit\n",
      "    callbacks=callbacks)\n",
      "  File \"C:\\Users\\Renata\\anaconda3\\lib\\site-packages\\xgboost\\training.py\", line 235, in train\n",
      "    early_stopping_rounds=early_stopping_rounds)\n",
      "  File \"C:\\Users\\Renata\\anaconda3\\lib\\site-packages\\xgboost\\training.py\", line 102, in _train_internal\n",
      "    bst.update(dtrain, i, obj)\n",
      "  File \"C:\\Users\\Renata\\anaconda3\\lib\\site-packages\\xgboost\\core.py\", line 1282, in update\n",
      "    dtrain.handle))\n",
      "  File \"C:\\Users\\Renata\\anaconda3\\lib\\site-packages\\xgboost\\core.py\", line 189, in _check_call\n",
      "    raise XGBoostError(py_str(_LIB.XGBGetLastError()))\n",
      "xgboost.core.XGBoostError: value 1.04832 for Parameter colsample_bytree exceed bound [0,1]\n",
      "colsample_bytree: Subsample ratio of columns, resample on each tree construction.\n",
      "\n",
      "  FitFailedWarning)\n",
      "C:\\Users\\Renata\\anaconda3\\lib\\site-packages\\xgboost\\sklearn.py:888: UserWarning: The use of label encoder in XGBClassifier is deprecated and will be removed in a future release. To remove this warning, do the following: 1) Pass option use_label_encoder=False when constructing XGBClassifier object; and 2) Encode your labels (y) as integers starting with 0, i.e. 0, 1, 2, ..., [num_class - 1].\n",
      "  warnings.warn(label_encoder_deprecation_msg, UserWarning)\n",
      "C:\\Users\\Renata\\anaconda3\\lib\\site-packages\\sklearn\\model_selection\\_validation.py:614: FitFailedWarning: Estimator fit failed. The score on this train-test partition for these parameters will be set to nan. Details: \n",
      "Traceback (most recent call last):\n",
      "  File \"C:\\Users\\Renata\\anaconda3\\lib\\site-packages\\sklearn\\model_selection\\_validation.py\", line 593, in _fit_and_score\n",
      "    estimator.fit(X_train, y_train, **fit_params)\n",
      "  File \"C:\\Users\\Renata\\anaconda3\\lib\\site-packages\\xgboost\\core.py\", line 422, in inner_f\n",
      "    return f(**kwargs)\n",
      "  File \"C:\\Users\\Renata\\anaconda3\\lib\\site-packages\\xgboost\\sklearn.py\", line 915, in fit\n",
      "    callbacks=callbacks)\n",
      "  File \"C:\\Users\\Renata\\anaconda3\\lib\\site-packages\\xgboost\\training.py\", line 235, in train\n",
      "    early_stopping_rounds=early_stopping_rounds)\n",
      "  File \"C:\\Users\\Renata\\anaconda3\\lib\\site-packages\\xgboost\\training.py\", line 102, in _train_internal\n",
      "    bst.update(dtrain, i, obj)\n",
      "  File \"C:\\Users\\Renata\\anaconda3\\lib\\site-packages\\xgboost\\core.py\", line 1282, in update\n",
      "    dtrain.handle))\n",
      "  File \"C:\\Users\\Renata\\anaconda3\\lib\\site-packages\\xgboost\\core.py\", line 189, in _check_call\n",
      "    raise XGBoostError(py_str(_LIB.XGBGetLastError()))\n",
      "xgboost.core.XGBoostError: value 1.04832 for Parameter colsample_bytree exceed bound [0,1]\n",
      "colsample_bytree: Subsample ratio of columns, resample on each tree construction.\n",
      "\n",
      "  FitFailedWarning)\n",
      "C:\\Users\\Renata\\anaconda3\\lib\\site-packages\\xgboost\\sklearn.py:888: UserWarning: The use of label encoder in XGBClassifier is deprecated and will be removed in a future release. To remove this warning, do the following: 1) Pass option use_label_encoder=False when constructing XGBClassifier object; and 2) Encode your labels (y) as integers starting with 0, i.e. 0, 1, 2, ..., [num_class - 1].\n",
      "  warnings.warn(label_encoder_deprecation_msg, UserWarning)\n",
      "C:\\Users\\Renata\\anaconda3\\lib\\site-packages\\sklearn\\model_selection\\_validation.py:614: FitFailedWarning: Estimator fit failed. The score on this train-test partition for these parameters will be set to nan. Details: \n",
      "Traceback (most recent call last):\n",
      "  File \"C:\\Users\\Renata\\anaconda3\\lib\\site-packages\\sklearn\\model_selection\\_validation.py\", line 593, in _fit_and_score\n",
      "    estimator.fit(X_train, y_train, **fit_params)\n",
      "  File \"C:\\Users\\Renata\\anaconda3\\lib\\site-packages\\xgboost\\core.py\", line 422, in inner_f\n",
      "    return f(**kwargs)\n",
      "  File \"C:\\Users\\Renata\\anaconda3\\lib\\site-packages\\xgboost\\sklearn.py\", line 915, in fit\n",
      "    callbacks=callbacks)\n",
      "  File \"C:\\Users\\Renata\\anaconda3\\lib\\site-packages\\xgboost\\training.py\", line 235, in train\n",
      "    early_stopping_rounds=early_stopping_rounds)\n",
      "  File \"C:\\Users\\Renata\\anaconda3\\lib\\site-packages\\xgboost\\training.py\", line 102, in _train_internal\n",
      "    bst.update(dtrain, i, obj)\n",
      "  File \"C:\\Users\\Renata\\anaconda3\\lib\\site-packages\\xgboost\\core.py\", line 1282, in update\n",
      "    dtrain.handle))\n",
      "  File \"C:\\Users\\Renata\\anaconda3\\lib\\site-packages\\xgboost\\core.py\", line 189, in _check_call\n",
      "    raise XGBoostError(py_str(_LIB.XGBGetLastError()))\n",
      "xgboost.core.XGBoostError: value 1.04832 for Parameter colsample_bytree exceed bound [0,1]\n",
      "colsample_bytree: Subsample ratio of columns, resample on each tree construction.\n",
      "\n",
      "  FitFailedWarning)\n",
      "C:\\Users\\Renata\\anaconda3\\lib\\site-packages\\xgboost\\sklearn.py:888: UserWarning: The use of label encoder in XGBClassifier is deprecated and will be removed in a future release. To remove this warning, do the following: 1) Pass option use_label_encoder=False when constructing XGBClassifier object; and 2) Encode your labels (y) as integers starting with 0, i.e. 0, 1, 2, ..., [num_class - 1].\n",
      "  warnings.warn(label_encoder_deprecation_msg, UserWarning)\n",
      "C:\\Users\\Renata\\anaconda3\\lib\\site-packages\\sklearn\\model_selection\\_validation.py:614: FitFailedWarning: Estimator fit failed. The score on this train-test partition for these parameters will be set to nan. Details: \n",
      "Traceback (most recent call last):\n",
      "  File \"C:\\Users\\Renata\\anaconda3\\lib\\site-packages\\sklearn\\model_selection\\_validation.py\", line 593, in _fit_and_score\n",
      "    estimator.fit(X_train, y_train, **fit_params)\n",
      "  File \"C:\\Users\\Renata\\anaconda3\\lib\\site-packages\\xgboost\\core.py\", line 422, in inner_f\n",
      "    return f(**kwargs)\n",
      "  File \"C:\\Users\\Renata\\anaconda3\\lib\\site-packages\\xgboost\\sklearn.py\", line 915, in fit\n",
      "    callbacks=callbacks)\n",
      "  File \"C:\\Users\\Renata\\anaconda3\\lib\\site-packages\\xgboost\\training.py\", line 235, in train\n",
      "    early_stopping_rounds=early_stopping_rounds)\n",
      "  File \"C:\\Users\\Renata\\anaconda3\\lib\\site-packages\\xgboost\\training.py\", line 102, in _train_internal\n",
      "    bst.update(dtrain, i, obj)\n",
      "  File \"C:\\Users\\Renata\\anaconda3\\lib\\site-packages\\xgboost\\core.py\", line 1282, in update\n",
      "    dtrain.handle))\n",
      "  File \"C:\\Users\\Renata\\anaconda3\\lib\\site-packages\\xgboost\\core.py\", line 189, in _check_call\n",
      "    raise XGBoostError(py_str(_LIB.XGBGetLastError()))\n",
      "xgboost.core.XGBoostError: value 1.04832 for Parameter colsample_bytree exceed bound [0,1]\n",
      "colsample_bytree: Subsample ratio of columns, resample on each tree construction.\n",
      "\n",
      "  FitFailedWarning)\n",
      "C:\\Users\\Renata\\anaconda3\\lib\\site-packages\\xgboost\\sklearn.py:888: UserWarning: The use of label encoder in XGBClassifier is deprecated and will be removed in a future release. To remove this warning, do the following: 1) Pass option use_label_encoder=False when constructing XGBClassifier object; and 2) Encode your labels (y) as integers starting with 0, i.e. 0, 1, 2, ..., [num_class - 1].\n",
      "  warnings.warn(label_encoder_deprecation_msg, UserWarning)\n",
      "C:\\Users\\Renata\\anaconda3\\lib\\site-packages\\sklearn\\model_selection\\_validation.py:614: FitFailedWarning: Estimator fit failed. The score on this train-test partition for these parameters will be set to nan. Details: \n",
      "Traceback (most recent call last):\n",
      "  File \"C:\\Users\\Renata\\anaconda3\\lib\\site-packages\\sklearn\\model_selection\\_validation.py\", line 593, in _fit_and_score\n",
      "    estimator.fit(X_train, y_train, **fit_params)\n",
      "  File \"C:\\Users\\Renata\\anaconda3\\lib\\site-packages\\xgboost\\core.py\", line 422, in inner_f\n",
      "    return f(**kwargs)\n",
      "  File \"C:\\Users\\Renata\\anaconda3\\lib\\site-packages\\xgboost\\sklearn.py\", line 915, in fit\n",
      "    callbacks=callbacks)\n",
      "  File \"C:\\Users\\Renata\\anaconda3\\lib\\site-packages\\xgboost\\training.py\", line 235, in train\n",
      "    early_stopping_rounds=early_stopping_rounds)\n",
      "  File \"C:\\Users\\Renata\\anaconda3\\lib\\site-packages\\xgboost\\training.py\", line 102, in _train_internal\n",
      "    bst.update(dtrain, i, obj)\n",
      "  File \"C:\\Users\\Renata\\anaconda3\\lib\\site-packages\\xgboost\\core.py\", line 1282, in update\n",
      "    dtrain.handle))\n",
      "  File \"C:\\Users\\Renata\\anaconda3\\lib\\site-packages\\xgboost\\core.py\", line 189, in _check_call\n",
      "    raise XGBoostError(py_str(_LIB.XGBGetLastError()))\n",
      "xgboost.core.XGBoostError: value 1.1836 for Parameter colsample_bytree exceed bound [0,1]\n",
      "colsample_bytree: Subsample ratio of columns, resample on each tree construction.\n",
      "\n",
      "  FitFailedWarning)\n",
      "C:\\Users\\Renata\\anaconda3\\lib\\site-packages\\xgboost\\sklearn.py:888: UserWarning: The use of label encoder in XGBClassifier is deprecated and will be removed in a future release. To remove this warning, do the following: 1) Pass option use_label_encoder=False when constructing XGBClassifier object; and 2) Encode your labels (y) as integers starting with 0, i.e. 0, 1, 2, ..., [num_class - 1].\n",
      "  warnings.warn(label_encoder_deprecation_msg, UserWarning)\n"
     ]
    },
    {
     "name": "stderr",
     "output_type": "stream",
     "text": [
      "C:\\Users\\Renata\\anaconda3\\lib\\site-packages\\sklearn\\model_selection\\_validation.py:614: FitFailedWarning: Estimator fit failed. The score on this train-test partition for these parameters will be set to nan. Details: \n",
      "Traceback (most recent call last):\n",
      "  File \"C:\\Users\\Renata\\anaconda3\\lib\\site-packages\\sklearn\\model_selection\\_validation.py\", line 593, in _fit_and_score\n",
      "    estimator.fit(X_train, y_train, **fit_params)\n",
      "  File \"C:\\Users\\Renata\\anaconda3\\lib\\site-packages\\xgboost\\core.py\", line 422, in inner_f\n",
      "    return f(**kwargs)\n",
      "  File \"C:\\Users\\Renata\\anaconda3\\lib\\site-packages\\xgboost\\sklearn.py\", line 915, in fit\n",
      "    callbacks=callbacks)\n",
      "  File \"C:\\Users\\Renata\\anaconda3\\lib\\site-packages\\xgboost\\training.py\", line 235, in train\n",
      "    early_stopping_rounds=early_stopping_rounds)\n",
      "  File \"C:\\Users\\Renata\\anaconda3\\lib\\site-packages\\xgboost\\training.py\", line 102, in _train_internal\n",
      "    bst.update(dtrain, i, obj)\n",
      "  File \"C:\\Users\\Renata\\anaconda3\\lib\\site-packages\\xgboost\\core.py\", line 1282, in update\n",
      "    dtrain.handle))\n",
      "  File \"C:\\Users\\Renata\\anaconda3\\lib\\site-packages\\xgboost\\core.py\", line 189, in _check_call\n",
      "    raise XGBoostError(py_str(_LIB.XGBGetLastError()))\n",
      "xgboost.core.XGBoostError: value 1.1836 for Parameter colsample_bytree exceed bound [0,1]\n",
      "colsample_bytree: Subsample ratio of columns, resample on each tree construction.\n",
      "\n",
      "  FitFailedWarning)\n",
      "C:\\Users\\Renata\\anaconda3\\lib\\site-packages\\xgboost\\sklearn.py:888: UserWarning: The use of label encoder in XGBClassifier is deprecated and will be removed in a future release. To remove this warning, do the following: 1) Pass option use_label_encoder=False when constructing XGBClassifier object; and 2) Encode your labels (y) as integers starting with 0, i.e. 0, 1, 2, ..., [num_class - 1].\n",
      "  warnings.warn(label_encoder_deprecation_msg, UserWarning)\n",
      "C:\\Users\\Renata\\anaconda3\\lib\\site-packages\\sklearn\\model_selection\\_validation.py:614: FitFailedWarning: Estimator fit failed. The score on this train-test partition for these parameters will be set to nan. Details: \n",
      "Traceback (most recent call last):\n",
      "  File \"C:\\Users\\Renata\\anaconda3\\lib\\site-packages\\sklearn\\model_selection\\_validation.py\", line 593, in _fit_and_score\n",
      "    estimator.fit(X_train, y_train, **fit_params)\n",
      "  File \"C:\\Users\\Renata\\anaconda3\\lib\\site-packages\\xgboost\\core.py\", line 422, in inner_f\n",
      "    return f(**kwargs)\n",
      "  File \"C:\\Users\\Renata\\anaconda3\\lib\\site-packages\\xgboost\\sklearn.py\", line 915, in fit\n",
      "    callbacks=callbacks)\n",
      "  File \"C:\\Users\\Renata\\anaconda3\\lib\\site-packages\\xgboost\\training.py\", line 235, in train\n",
      "    early_stopping_rounds=early_stopping_rounds)\n",
      "  File \"C:\\Users\\Renata\\anaconda3\\lib\\site-packages\\xgboost\\training.py\", line 102, in _train_internal\n",
      "    bst.update(dtrain, i, obj)\n",
      "  File \"C:\\Users\\Renata\\anaconda3\\lib\\site-packages\\xgboost\\core.py\", line 1282, in update\n",
      "    dtrain.handle))\n",
      "  File \"C:\\Users\\Renata\\anaconda3\\lib\\site-packages\\xgboost\\core.py\", line 189, in _check_call\n",
      "    raise XGBoostError(py_str(_LIB.XGBGetLastError()))\n",
      "xgboost.core.XGBoostError: value 1.1836 for Parameter colsample_bytree exceed bound [0,1]\n",
      "colsample_bytree: Subsample ratio of columns, resample on each tree construction.\n",
      "\n",
      "  FitFailedWarning)\n",
      "C:\\Users\\Renata\\anaconda3\\lib\\site-packages\\xgboost\\sklearn.py:888: UserWarning: The use of label encoder in XGBClassifier is deprecated and will be removed in a future release. To remove this warning, do the following: 1) Pass option use_label_encoder=False when constructing XGBClassifier object; and 2) Encode your labels (y) as integers starting with 0, i.e. 0, 1, 2, ..., [num_class - 1].\n",
      "  warnings.warn(label_encoder_deprecation_msg, UserWarning)\n",
      "C:\\Users\\Renata\\anaconda3\\lib\\site-packages\\sklearn\\model_selection\\_validation.py:614: FitFailedWarning: Estimator fit failed. The score on this train-test partition for these parameters will be set to nan. Details: \n",
      "Traceback (most recent call last):\n",
      "  File \"C:\\Users\\Renata\\anaconda3\\lib\\site-packages\\sklearn\\model_selection\\_validation.py\", line 593, in _fit_and_score\n",
      "    estimator.fit(X_train, y_train, **fit_params)\n",
      "  File \"C:\\Users\\Renata\\anaconda3\\lib\\site-packages\\xgboost\\core.py\", line 422, in inner_f\n",
      "    return f(**kwargs)\n",
      "  File \"C:\\Users\\Renata\\anaconda3\\lib\\site-packages\\xgboost\\sklearn.py\", line 915, in fit\n",
      "    callbacks=callbacks)\n",
      "  File \"C:\\Users\\Renata\\anaconda3\\lib\\site-packages\\xgboost\\training.py\", line 235, in train\n",
      "    early_stopping_rounds=early_stopping_rounds)\n",
      "  File \"C:\\Users\\Renata\\anaconda3\\lib\\site-packages\\xgboost\\training.py\", line 102, in _train_internal\n",
      "    bst.update(dtrain, i, obj)\n",
      "  File \"C:\\Users\\Renata\\anaconda3\\lib\\site-packages\\xgboost\\core.py\", line 1282, in update\n",
      "    dtrain.handle))\n",
      "  File \"C:\\Users\\Renata\\anaconda3\\lib\\site-packages\\xgboost\\core.py\", line 189, in _check_call\n",
      "    raise XGBoostError(py_str(_LIB.XGBGetLastError()))\n",
      "xgboost.core.XGBoostError: value 1.1836 for Parameter colsample_bytree exceed bound [0,1]\n",
      "colsample_bytree: Subsample ratio of columns, resample on each tree construction.\n",
      "\n",
      "  FitFailedWarning)\n",
      "C:\\Users\\Renata\\anaconda3\\lib\\site-packages\\xgboost\\sklearn.py:888: UserWarning: The use of label encoder in XGBClassifier is deprecated and will be removed in a future release. To remove this warning, do the following: 1) Pass option use_label_encoder=False when constructing XGBClassifier object; and 2) Encode your labels (y) as integers starting with 0, i.e. 0, 1, 2, ..., [num_class - 1].\n",
      "  warnings.warn(label_encoder_deprecation_msg, UserWarning)\n",
      "C:\\Users\\Renata\\anaconda3\\lib\\site-packages\\sklearn\\model_selection\\_validation.py:614: FitFailedWarning: Estimator fit failed. The score on this train-test partition for these parameters will be set to nan. Details: \n",
      "Traceback (most recent call last):\n",
      "  File \"C:\\Users\\Renata\\anaconda3\\lib\\site-packages\\sklearn\\model_selection\\_validation.py\", line 593, in _fit_and_score\n",
      "    estimator.fit(X_train, y_train, **fit_params)\n",
      "  File \"C:\\Users\\Renata\\anaconda3\\lib\\site-packages\\xgboost\\core.py\", line 422, in inner_f\n",
      "    return f(**kwargs)\n",
      "  File \"C:\\Users\\Renata\\anaconda3\\lib\\site-packages\\xgboost\\sklearn.py\", line 915, in fit\n",
      "    callbacks=callbacks)\n",
      "  File \"C:\\Users\\Renata\\anaconda3\\lib\\site-packages\\xgboost\\training.py\", line 235, in train\n",
      "    early_stopping_rounds=early_stopping_rounds)\n",
      "  File \"C:\\Users\\Renata\\anaconda3\\lib\\site-packages\\xgboost\\training.py\", line 102, in _train_internal\n",
      "    bst.update(dtrain, i, obj)\n",
      "  File \"C:\\Users\\Renata\\anaconda3\\lib\\site-packages\\xgboost\\core.py\", line 1282, in update\n",
      "    dtrain.handle))\n",
      "  File \"C:\\Users\\Renata\\anaconda3\\lib\\site-packages\\xgboost\\core.py\", line 189, in _check_call\n",
      "    raise XGBoostError(py_str(_LIB.XGBGetLastError()))\n",
      "xgboost.core.XGBoostError: value 1.1836 for Parameter colsample_bytree exceed bound [0,1]\n",
      "colsample_bytree: Subsample ratio of columns, resample on each tree construction.\n",
      "\n",
      "  FitFailedWarning)\n",
      "C:\\Users\\Renata\\anaconda3\\lib\\site-packages\\xgboost\\sklearn.py:888: UserWarning: The use of label encoder in XGBClassifier is deprecated and will be removed in a future release. To remove this warning, do the following: 1) Pass option use_label_encoder=False when constructing XGBClassifier object; and 2) Encode your labels (y) as integers starting with 0, i.e. 0, 1, 2, ..., [num_class - 1].\n",
      "  warnings.warn(label_encoder_deprecation_msg, UserWarning)\n",
      "C:\\Users\\Renata\\anaconda3\\lib\\site-packages\\sklearn\\model_selection\\_validation.py:614: FitFailedWarning: Estimator fit failed. The score on this train-test partition for these parameters will be set to nan. Details: \n",
      "Traceback (most recent call last):\n",
      "  File \"C:\\Users\\Renata\\anaconda3\\lib\\site-packages\\sklearn\\model_selection\\_validation.py\", line 593, in _fit_and_score\n",
      "    estimator.fit(X_train, y_train, **fit_params)\n",
      "  File \"C:\\Users\\Renata\\anaconda3\\lib\\site-packages\\xgboost\\core.py\", line 422, in inner_f\n",
      "    return f(**kwargs)\n",
      "  File \"C:\\Users\\Renata\\anaconda3\\lib\\site-packages\\xgboost\\sklearn.py\", line 915, in fit\n",
      "    callbacks=callbacks)\n",
      "  File \"C:\\Users\\Renata\\anaconda3\\lib\\site-packages\\xgboost\\training.py\", line 235, in train\n",
      "    early_stopping_rounds=early_stopping_rounds)\n",
      "  File \"C:\\Users\\Renata\\anaconda3\\lib\\site-packages\\xgboost\\training.py\", line 102, in _train_internal\n",
      "    bst.update(dtrain, i, obj)\n",
      "  File \"C:\\Users\\Renata\\anaconda3\\lib\\site-packages\\xgboost\\core.py\", line 1282, in update\n",
      "    dtrain.handle))\n",
      "  File \"C:\\Users\\Renata\\anaconda3\\lib\\site-packages\\xgboost\\core.py\", line 189, in _check_call\n",
      "    raise XGBoostError(py_str(_LIB.XGBGetLastError()))\n",
      "xgboost.core.XGBoostError: value 1.32178 for Parameter colsample_bytree exceed bound [0,1]\n",
      "colsample_bytree: Subsample ratio of columns, resample on each tree construction.\n",
      "\n",
      "  FitFailedWarning)\n",
      "C:\\Users\\Renata\\anaconda3\\lib\\site-packages\\xgboost\\sklearn.py:888: UserWarning: The use of label encoder in XGBClassifier is deprecated and will be removed in a future release. To remove this warning, do the following: 1) Pass option use_label_encoder=False when constructing XGBClassifier object; and 2) Encode your labels (y) as integers starting with 0, i.e. 0, 1, 2, ..., [num_class - 1].\n",
      "  warnings.warn(label_encoder_deprecation_msg, UserWarning)\n",
      "C:\\Users\\Renata\\anaconda3\\lib\\site-packages\\sklearn\\model_selection\\_validation.py:614: FitFailedWarning: Estimator fit failed. The score on this train-test partition for these parameters will be set to nan. Details: \n",
      "Traceback (most recent call last):\n",
      "  File \"C:\\Users\\Renata\\anaconda3\\lib\\site-packages\\sklearn\\model_selection\\_validation.py\", line 593, in _fit_and_score\n",
      "    estimator.fit(X_train, y_train, **fit_params)\n",
      "  File \"C:\\Users\\Renata\\anaconda3\\lib\\site-packages\\xgboost\\core.py\", line 422, in inner_f\n",
      "    return f(**kwargs)\n",
      "  File \"C:\\Users\\Renata\\anaconda3\\lib\\site-packages\\xgboost\\sklearn.py\", line 915, in fit\n",
      "    callbacks=callbacks)\n",
      "  File \"C:\\Users\\Renata\\anaconda3\\lib\\site-packages\\xgboost\\training.py\", line 235, in train\n",
      "    early_stopping_rounds=early_stopping_rounds)\n",
      "  File \"C:\\Users\\Renata\\anaconda3\\lib\\site-packages\\xgboost\\training.py\", line 102, in _train_internal\n",
      "    bst.update(dtrain, i, obj)\n",
      "  File \"C:\\Users\\Renata\\anaconda3\\lib\\site-packages\\xgboost\\core.py\", line 1282, in update\n",
      "    dtrain.handle))\n",
      "  File \"C:\\Users\\Renata\\anaconda3\\lib\\site-packages\\xgboost\\core.py\", line 189, in _check_call\n",
      "    raise XGBoostError(py_str(_LIB.XGBGetLastError()))\n",
      "xgboost.core.XGBoostError: value 1.32178 for Parameter colsample_bytree exceed bound [0,1]\n",
      "colsample_bytree: Subsample ratio of columns, resample on each tree construction.\n",
      "\n",
      "  FitFailedWarning)\n",
      "C:\\Users\\Renata\\anaconda3\\lib\\site-packages\\xgboost\\sklearn.py:888: UserWarning: The use of label encoder in XGBClassifier is deprecated and will be removed in a future release. To remove this warning, do the following: 1) Pass option use_label_encoder=False when constructing XGBClassifier object; and 2) Encode your labels (y) as integers starting with 0, i.e. 0, 1, 2, ..., [num_class - 1].\n",
      "  warnings.warn(label_encoder_deprecation_msg, UserWarning)\n"
     ]
    },
    {
     "name": "stderr",
     "output_type": "stream",
     "text": [
      "C:\\Users\\Renata\\anaconda3\\lib\\site-packages\\sklearn\\model_selection\\_validation.py:614: FitFailedWarning: Estimator fit failed. The score on this train-test partition for these parameters will be set to nan. Details: \n",
      "Traceback (most recent call last):\n",
      "  File \"C:\\Users\\Renata\\anaconda3\\lib\\site-packages\\sklearn\\model_selection\\_validation.py\", line 593, in _fit_and_score\n",
      "    estimator.fit(X_train, y_train, **fit_params)\n",
      "  File \"C:\\Users\\Renata\\anaconda3\\lib\\site-packages\\xgboost\\core.py\", line 422, in inner_f\n",
      "    return f(**kwargs)\n",
      "  File \"C:\\Users\\Renata\\anaconda3\\lib\\site-packages\\xgboost\\sklearn.py\", line 915, in fit\n",
      "    callbacks=callbacks)\n",
      "  File \"C:\\Users\\Renata\\anaconda3\\lib\\site-packages\\xgboost\\training.py\", line 235, in train\n",
      "    early_stopping_rounds=early_stopping_rounds)\n",
      "  File \"C:\\Users\\Renata\\anaconda3\\lib\\site-packages\\xgboost\\training.py\", line 102, in _train_internal\n",
      "    bst.update(dtrain, i, obj)\n",
      "  File \"C:\\Users\\Renata\\anaconda3\\lib\\site-packages\\xgboost\\core.py\", line 1282, in update\n",
      "    dtrain.handle))\n",
      "  File \"C:\\Users\\Renata\\anaconda3\\lib\\site-packages\\xgboost\\core.py\", line 189, in _check_call\n",
      "    raise XGBoostError(py_str(_LIB.XGBGetLastError()))\n",
      "xgboost.core.XGBoostError: value 1.32178 for Parameter colsample_bytree exceed bound [0,1]\n",
      "colsample_bytree: Subsample ratio of columns, resample on each tree construction.\n",
      "\n",
      "  FitFailedWarning)\n",
      "C:\\Users\\Renata\\anaconda3\\lib\\site-packages\\xgboost\\sklearn.py:888: UserWarning: The use of label encoder in XGBClassifier is deprecated and will be removed in a future release. To remove this warning, do the following: 1) Pass option use_label_encoder=False when constructing XGBClassifier object; and 2) Encode your labels (y) as integers starting with 0, i.e. 0, 1, 2, ..., [num_class - 1].\n",
      "  warnings.warn(label_encoder_deprecation_msg, UserWarning)\n",
      "C:\\Users\\Renata\\anaconda3\\lib\\site-packages\\sklearn\\model_selection\\_validation.py:614: FitFailedWarning: Estimator fit failed. The score on this train-test partition for these parameters will be set to nan. Details: \n",
      "Traceback (most recent call last):\n",
      "  File \"C:\\Users\\Renata\\anaconda3\\lib\\site-packages\\sklearn\\model_selection\\_validation.py\", line 593, in _fit_and_score\n",
      "    estimator.fit(X_train, y_train, **fit_params)\n",
      "  File \"C:\\Users\\Renata\\anaconda3\\lib\\site-packages\\xgboost\\core.py\", line 422, in inner_f\n",
      "    return f(**kwargs)\n",
      "  File \"C:\\Users\\Renata\\anaconda3\\lib\\site-packages\\xgboost\\sklearn.py\", line 915, in fit\n",
      "    callbacks=callbacks)\n",
      "  File \"C:\\Users\\Renata\\anaconda3\\lib\\site-packages\\xgboost\\training.py\", line 235, in train\n",
      "    early_stopping_rounds=early_stopping_rounds)\n",
      "  File \"C:\\Users\\Renata\\anaconda3\\lib\\site-packages\\xgboost\\training.py\", line 102, in _train_internal\n",
      "    bst.update(dtrain, i, obj)\n",
      "  File \"C:\\Users\\Renata\\anaconda3\\lib\\site-packages\\xgboost\\core.py\", line 1282, in update\n",
      "    dtrain.handle))\n",
      "  File \"C:\\Users\\Renata\\anaconda3\\lib\\site-packages\\xgboost\\core.py\", line 189, in _check_call\n",
      "    raise XGBoostError(py_str(_LIB.XGBGetLastError()))\n",
      "xgboost.core.XGBoostError: value 1.32178 for Parameter colsample_bytree exceed bound [0,1]\n",
      "colsample_bytree: Subsample ratio of columns, resample on each tree construction.\n",
      "\n",
      "  FitFailedWarning)\n",
      "C:\\Users\\Renata\\anaconda3\\lib\\site-packages\\xgboost\\sklearn.py:888: UserWarning: The use of label encoder in XGBClassifier is deprecated and will be removed in a future release. To remove this warning, do the following: 1) Pass option use_label_encoder=False when constructing XGBClassifier object; and 2) Encode your labels (y) as integers starting with 0, i.e. 0, 1, 2, ..., [num_class - 1].\n",
      "  warnings.warn(label_encoder_deprecation_msg, UserWarning)\n",
      "C:\\Users\\Renata\\anaconda3\\lib\\site-packages\\sklearn\\model_selection\\_validation.py:614: FitFailedWarning: Estimator fit failed. The score on this train-test partition for these parameters will be set to nan. Details: \n",
      "Traceback (most recent call last):\n",
      "  File \"C:\\Users\\Renata\\anaconda3\\lib\\site-packages\\sklearn\\model_selection\\_validation.py\", line 593, in _fit_and_score\n",
      "    estimator.fit(X_train, y_train, **fit_params)\n",
      "  File \"C:\\Users\\Renata\\anaconda3\\lib\\site-packages\\xgboost\\core.py\", line 422, in inner_f\n",
      "    return f(**kwargs)\n",
      "  File \"C:\\Users\\Renata\\anaconda3\\lib\\site-packages\\xgboost\\sklearn.py\", line 915, in fit\n",
      "    callbacks=callbacks)\n",
      "  File \"C:\\Users\\Renata\\anaconda3\\lib\\site-packages\\xgboost\\training.py\", line 235, in train\n",
      "    early_stopping_rounds=early_stopping_rounds)\n",
      "  File \"C:\\Users\\Renata\\anaconda3\\lib\\site-packages\\xgboost\\training.py\", line 102, in _train_internal\n",
      "    bst.update(dtrain, i, obj)\n",
      "  File \"C:\\Users\\Renata\\anaconda3\\lib\\site-packages\\xgboost\\core.py\", line 1282, in update\n",
      "    dtrain.handle))\n",
      "  File \"C:\\Users\\Renata\\anaconda3\\lib\\site-packages\\xgboost\\core.py\", line 189, in _check_call\n",
      "    raise XGBoostError(py_str(_LIB.XGBGetLastError()))\n",
      "xgboost.core.XGBoostError: value 1.32178 for Parameter colsample_bytree exceed bound [0,1]\n",
      "colsample_bytree: Subsample ratio of columns, resample on each tree construction.\n",
      "\n",
      "  FitFailedWarning)\n",
      "C:\\Users\\Renata\\anaconda3\\lib\\site-packages\\sklearn\\model_selection\\_search.py:921: UserWarning: One or more of the test scores are non-finite: [       nan 0.64705882        nan 0.71764706        nan 0.62352941\n",
      "        nan        nan        nan        nan]\n",
      "  category=UserWarning\n"
     ]
    },
    {
     "name": "stdout",
     "output_type": "stream",
     "text": [
      "[23:52:12] WARNING: C:/Users/Administrator/workspace/xgboost-win64_release_1.3.0/src/learner.cc:1061: Starting in XGBoost 1.3.0, the default evaluation metric used with the objective 'binary:logistic' was changed from 'error' to 'logloss'. Explicitly set eval_metric if you'd like to restore the old behavior.\n",
      "Acc Validação: 0.72 | Acc Teste: 0.71\n",
      "Parâmetros do melhor modelo para o fold atual(externo):  {'colsample_bytree': 0.7475950952948534, 'learning_rate': 0.2687311957605831, 'max_depth': 9, 'min_child_weight': 1, 'n_estimators': 951, 'subsample': 0.6442350424694869}\n",
      "[23:52:16] WARNING: C:/Users/Administrator/workspace/xgboost-win64_release_1.3.0/src/learner.cc:1061: Starting in XGBoost 1.3.0, the default evaluation metric used with the objective 'binary:logistic' was changed from 'error' to 'logloss'. Explicitly set eval_metric if you'd like to restore the old behavior.\n"
     ]
    },
    {
     "name": "stderr",
     "output_type": "stream",
     "text": [
      "C:\\Users\\Renata\\anaconda3\\lib\\site-packages\\xgboost\\sklearn.py:888: UserWarning: The use of label encoder in XGBClassifier is deprecated and will be removed in a future release. To remove this warning, do the following: 1) Pass option use_label_encoder=False when constructing XGBClassifier object; and 2) Encode your labels (y) as integers starting with 0, i.e. 0, 1, 2, ..., [num_class - 1].\n",
      "  warnings.warn(label_encoder_deprecation_msg, UserWarning)\n",
      "C:\\Users\\Renata\\anaconda3\\lib\\site-packages\\xgboost\\sklearn.py:888: UserWarning: The use of label encoder in XGBClassifier is deprecated and will be removed in a future release. To remove this warning, do the following: 1) Pass option use_label_encoder=False when constructing XGBClassifier object; and 2) Encode your labels (y) as integers starting with 0, i.e. 0, 1, 2, ..., [num_class - 1].\n",
      "  warnings.warn(label_encoder_deprecation_msg, UserWarning)\n"
     ]
    },
    {
     "name": "stdout",
     "output_type": "stream",
     "text": [
      "[23:52:17] WARNING: C:/Users/Administrator/workspace/xgboost-win64_release_1.3.0/src/learner.cc:1061: Starting in XGBoost 1.3.0, the default evaluation metric used with the objective 'binary:logistic' was changed from 'error' to 'logloss'. Explicitly set eval_metric if you'd like to restore the old behavior.\n"
     ]
    },
    {
     "name": "stderr",
     "output_type": "stream",
     "text": [
      "C:\\Users\\Renata\\anaconda3\\lib\\site-packages\\xgboost\\sklearn.py:888: UserWarning: The use of label encoder in XGBClassifier is deprecated and will be removed in a future release. To remove this warning, do the following: 1) Pass option use_label_encoder=False when constructing XGBClassifier object; and 2) Encode your labels (y) as integers starting with 0, i.e. 0, 1, 2, ..., [num_class - 1].\n",
      "  warnings.warn(label_encoder_deprecation_msg, UserWarning)\n"
     ]
    },
    {
     "name": "stdout",
     "output_type": "stream",
     "text": [
      "[23:52:18] WARNING: C:/Users/Administrator/workspace/xgboost-win64_release_1.3.0/src/learner.cc:1061: Starting in XGBoost 1.3.0, the default evaluation metric used with the objective 'binary:logistic' was changed from 'error' to 'logloss'. Explicitly set eval_metric if you'd like to restore the old behavior.\n"
     ]
    },
    {
     "name": "stderr",
     "output_type": "stream",
     "text": [
      "C:\\Users\\Renata\\anaconda3\\lib\\site-packages\\xgboost\\sklearn.py:888: UserWarning: The use of label encoder in XGBClassifier is deprecated and will be removed in a future release. To remove this warning, do the following: 1) Pass option use_label_encoder=False when constructing XGBClassifier object; and 2) Encode your labels (y) as integers starting with 0, i.e. 0, 1, 2, ..., [num_class - 1].\n",
      "  warnings.warn(label_encoder_deprecation_msg, UserWarning)\n"
     ]
    },
    {
     "name": "stdout",
     "output_type": "stream",
     "text": [
      "[23:52:19] WARNING: C:/Users/Administrator/workspace/xgboost-win64_release_1.3.0/src/learner.cc:1061: Starting in XGBoost 1.3.0, the default evaluation metric used with the objective 'binary:logistic' was changed from 'error' to 'logloss'. Explicitly set eval_metric if you'd like to restore the old behavior.\n"
     ]
    },
    {
     "name": "stderr",
     "output_type": "stream",
     "text": [
      "C:\\Users\\Renata\\anaconda3\\lib\\site-packages\\xgboost\\sklearn.py:888: UserWarning: The use of label encoder in XGBClassifier is deprecated and will be removed in a future release. To remove this warning, do the following: 1) Pass option use_label_encoder=False when constructing XGBClassifier object; and 2) Encode your labels (y) as integers starting with 0, i.e. 0, 1, 2, ..., [num_class - 1].\n",
      "  warnings.warn(label_encoder_deprecation_msg, UserWarning)\n"
     ]
    },
    {
     "name": "stdout",
     "output_type": "stream",
     "text": [
      "[23:52:20] WARNING: C:/Users/Administrator/workspace/xgboost-win64_release_1.3.0/src/learner.cc:1061: Starting in XGBoost 1.3.0, the default evaluation metric used with the objective 'binary:logistic' was changed from 'error' to 'logloss'. Explicitly set eval_metric if you'd like to restore the old behavior.\n"
     ]
    },
    {
     "name": "stderr",
     "output_type": "stream",
     "text": [
      "C:\\Users\\Renata\\anaconda3\\lib\\site-packages\\xgboost\\sklearn.py:888: UserWarning: The use of label encoder in XGBClassifier is deprecated and will be removed in a future release. To remove this warning, do the following: 1) Pass option use_label_encoder=False when constructing XGBClassifier object; and 2) Encode your labels (y) as integers starting with 0, i.e. 0, 1, 2, ..., [num_class - 1].\n",
      "  warnings.warn(label_encoder_deprecation_msg, UserWarning)\n",
      "C:\\Users\\Renata\\anaconda3\\lib\\site-packages\\sklearn\\model_selection\\_validation.py:614: FitFailedWarning: Estimator fit failed. The score on this train-test partition for these parameters will be set to nan. Details: \n",
      "Traceback (most recent call last):\n",
      "  File \"C:\\Users\\Renata\\anaconda3\\lib\\site-packages\\sklearn\\model_selection\\_validation.py\", line 593, in _fit_and_score\n",
      "    estimator.fit(X_train, y_train, **fit_params)\n",
      "  File \"C:\\Users\\Renata\\anaconda3\\lib\\site-packages\\xgboost\\core.py\", line 422, in inner_f\n",
      "    return f(**kwargs)\n",
      "  File \"C:\\Users\\Renata\\anaconda3\\lib\\site-packages\\xgboost\\sklearn.py\", line 915, in fit\n",
      "    callbacks=callbacks)\n",
      "  File \"C:\\Users\\Renata\\anaconda3\\lib\\site-packages\\xgboost\\training.py\", line 235, in train\n",
      "    early_stopping_rounds=early_stopping_rounds)\n",
      "  File \"C:\\Users\\Renata\\anaconda3\\lib\\site-packages\\xgboost\\training.py\", line 102, in _train_internal\n",
      "    bst.update(dtrain, i, obj)\n",
      "  File \"C:\\Users\\Renata\\anaconda3\\lib\\site-packages\\xgboost\\core.py\", line 1282, in update\n",
      "    dtrain.handle))\n",
      "  File \"C:\\Users\\Renata\\anaconda3\\lib\\site-packages\\xgboost\\core.py\", line 189, in _check_call\n",
      "    raise XGBoostError(py_str(_LIB.XGBGetLastError()))\n",
      "xgboost.core.XGBoostError: value 1.0703 for Parameter subsample exceed bound [0,1]\n",
      "subsample: Row subsample ratio of training instance.\n",
      "\n",
      "  FitFailedWarning)\n",
      "C:\\Users\\Renata\\anaconda3\\lib\\site-packages\\xgboost\\sklearn.py:888: UserWarning: The use of label encoder in XGBClassifier is deprecated and will be removed in a future release. To remove this warning, do the following: 1) Pass option use_label_encoder=False when constructing XGBClassifier object; and 2) Encode your labels (y) as integers starting with 0, i.e. 0, 1, 2, ..., [num_class - 1].\n",
      "  warnings.warn(label_encoder_deprecation_msg, UserWarning)\n",
      "C:\\Users\\Renata\\anaconda3\\lib\\site-packages\\sklearn\\model_selection\\_validation.py:614: FitFailedWarning: Estimator fit failed. The score on this train-test partition for these parameters will be set to nan. Details: \n",
      "Traceback (most recent call last):\n",
      "  File \"C:\\Users\\Renata\\anaconda3\\lib\\site-packages\\sklearn\\model_selection\\_validation.py\", line 593, in _fit_and_score\n",
      "    estimator.fit(X_train, y_train, **fit_params)\n",
      "  File \"C:\\Users\\Renata\\anaconda3\\lib\\site-packages\\xgboost\\core.py\", line 422, in inner_f\n",
      "    return f(**kwargs)\n",
      "  File \"C:\\Users\\Renata\\anaconda3\\lib\\site-packages\\xgboost\\sklearn.py\", line 915, in fit\n",
      "    callbacks=callbacks)\n",
      "  File \"C:\\Users\\Renata\\anaconda3\\lib\\site-packages\\xgboost\\training.py\", line 235, in train\n",
      "    early_stopping_rounds=early_stopping_rounds)\n",
      "  File \"C:\\Users\\Renata\\anaconda3\\lib\\site-packages\\xgboost\\training.py\", line 102, in _train_internal\n",
      "    bst.update(dtrain, i, obj)\n",
      "  File \"C:\\Users\\Renata\\anaconda3\\lib\\site-packages\\xgboost\\core.py\", line 1282, in update\n",
      "    dtrain.handle))\n",
      "  File \"C:\\Users\\Renata\\anaconda3\\lib\\site-packages\\xgboost\\core.py\", line 189, in _check_call\n",
      "    raise XGBoostError(py_str(_LIB.XGBGetLastError()))\n",
      "xgboost.core.XGBoostError: value 1.0703 for Parameter subsample exceed bound [0,1]\n",
      "subsample: Row subsample ratio of training instance.\n",
      "\n",
      "  FitFailedWarning)\n",
      "C:\\Users\\Renata\\anaconda3\\lib\\site-packages\\xgboost\\sklearn.py:888: UserWarning: The use of label encoder in XGBClassifier is deprecated and will be removed in a future release. To remove this warning, do the following: 1) Pass option use_label_encoder=False when constructing XGBClassifier object; and 2) Encode your labels (y) as integers starting with 0, i.e. 0, 1, 2, ..., [num_class - 1].\n",
      "  warnings.warn(label_encoder_deprecation_msg, UserWarning)\n",
      "C:\\Users\\Renata\\anaconda3\\lib\\site-packages\\sklearn\\model_selection\\_validation.py:614: FitFailedWarning: Estimator fit failed. The score on this train-test partition for these parameters will be set to nan. Details: \n",
      "Traceback (most recent call last):\n",
      "  File \"C:\\Users\\Renata\\anaconda3\\lib\\site-packages\\sklearn\\model_selection\\_validation.py\", line 593, in _fit_and_score\n",
      "    estimator.fit(X_train, y_train, **fit_params)\n",
      "  File \"C:\\Users\\Renata\\anaconda3\\lib\\site-packages\\xgboost\\core.py\", line 422, in inner_f\n",
      "    return f(**kwargs)\n",
      "  File \"C:\\Users\\Renata\\anaconda3\\lib\\site-packages\\xgboost\\sklearn.py\", line 915, in fit\n",
      "    callbacks=callbacks)\n",
      "  File \"C:\\Users\\Renata\\anaconda3\\lib\\site-packages\\xgboost\\training.py\", line 235, in train\n",
      "    early_stopping_rounds=early_stopping_rounds)\n",
      "  File \"C:\\Users\\Renata\\anaconda3\\lib\\site-packages\\xgboost\\training.py\", line 102, in _train_internal\n",
      "    bst.update(dtrain, i, obj)\n",
      "  File \"C:\\Users\\Renata\\anaconda3\\lib\\site-packages\\xgboost\\core.py\", line 1282, in update\n",
      "    dtrain.handle))\n",
      "  File \"C:\\Users\\Renata\\anaconda3\\lib\\site-packages\\xgboost\\core.py\", line 189, in _check_call\n",
      "    raise XGBoostError(py_str(_LIB.XGBGetLastError()))\n",
      "xgboost.core.XGBoostError: value 1.0703 for Parameter subsample exceed bound [0,1]\n",
      "subsample: Row subsample ratio of training instance.\n",
      "\n",
      "  FitFailedWarning)\n",
      "C:\\Users\\Renata\\anaconda3\\lib\\site-packages\\xgboost\\sklearn.py:888: UserWarning: The use of label encoder in XGBClassifier is deprecated and will be removed in a future release. To remove this warning, do the following: 1) Pass option use_label_encoder=False when constructing XGBClassifier object; and 2) Encode your labels (y) as integers starting with 0, i.e. 0, 1, 2, ..., [num_class - 1].\n",
      "  warnings.warn(label_encoder_deprecation_msg, UserWarning)\n",
      "C:\\Users\\Renata\\anaconda3\\lib\\site-packages\\sklearn\\model_selection\\_validation.py:614: FitFailedWarning: Estimator fit failed. The score on this train-test partition for these parameters will be set to nan. Details: \n",
      "Traceback (most recent call last):\n",
      "  File \"C:\\Users\\Renata\\anaconda3\\lib\\site-packages\\sklearn\\model_selection\\_validation.py\", line 593, in _fit_and_score\n",
      "    estimator.fit(X_train, y_train, **fit_params)\n",
      "  File \"C:\\Users\\Renata\\anaconda3\\lib\\site-packages\\xgboost\\core.py\", line 422, in inner_f\n",
      "    return f(**kwargs)\n",
      "  File \"C:\\Users\\Renata\\anaconda3\\lib\\site-packages\\xgboost\\sklearn.py\", line 915, in fit\n",
      "    callbacks=callbacks)\n",
      "  File \"C:\\Users\\Renata\\anaconda3\\lib\\site-packages\\xgboost\\training.py\", line 235, in train\n",
      "    early_stopping_rounds=early_stopping_rounds)\n",
      "  File \"C:\\Users\\Renata\\anaconda3\\lib\\site-packages\\xgboost\\training.py\", line 102, in _train_internal\n",
      "    bst.update(dtrain, i, obj)\n",
      "  File \"C:\\Users\\Renata\\anaconda3\\lib\\site-packages\\xgboost\\core.py\", line 1282, in update\n",
      "    dtrain.handle))\n",
      "  File \"C:\\Users\\Renata\\anaconda3\\lib\\site-packages\\xgboost\\core.py\", line 189, in _check_call\n",
      "    raise XGBoostError(py_str(_LIB.XGBGetLastError()))\n",
      "xgboost.core.XGBoostError: value 1.0703 for Parameter subsample exceed bound [0,1]\n",
      "subsample: Row subsample ratio of training instance.\n",
      "\n",
      "  FitFailedWarning)\n",
      "C:\\Users\\Renata\\anaconda3\\lib\\site-packages\\xgboost\\sklearn.py:888: UserWarning: The use of label encoder in XGBClassifier is deprecated and will be removed in a future release. To remove this warning, do the following: 1) Pass option use_label_encoder=False when constructing XGBClassifier object; and 2) Encode your labels (y) as integers starting with 0, i.e. 0, 1, 2, ..., [num_class - 1].\n",
      "  warnings.warn(label_encoder_deprecation_msg, UserWarning)\n",
      "C:\\Users\\Renata\\anaconda3\\lib\\site-packages\\sklearn\\model_selection\\_validation.py:614: FitFailedWarning: Estimator fit failed. The score on this train-test partition for these parameters will be set to nan. Details: \n",
      "Traceback (most recent call last):\n",
      "  File \"C:\\Users\\Renata\\anaconda3\\lib\\site-packages\\sklearn\\model_selection\\_validation.py\", line 593, in _fit_and_score\n",
      "    estimator.fit(X_train, y_train, **fit_params)\n",
      "  File \"C:\\Users\\Renata\\anaconda3\\lib\\site-packages\\xgboost\\core.py\", line 422, in inner_f\n",
      "    return f(**kwargs)\n",
      "  File \"C:\\Users\\Renata\\anaconda3\\lib\\site-packages\\xgboost\\sklearn.py\", line 915, in fit\n",
      "    callbacks=callbacks)\n",
      "  File \"C:\\Users\\Renata\\anaconda3\\lib\\site-packages\\xgboost\\training.py\", line 235, in train\n",
      "    early_stopping_rounds=early_stopping_rounds)\n",
      "  File \"C:\\Users\\Renata\\anaconda3\\lib\\site-packages\\xgboost\\training.py\", line 102, in _train_internal\n",
      "    bst.update(dtrain, i, obj)\n",
      "  File \"C:\\Users\\Renata\\anaconda3\\lib\\site-packages\\xgboost\\core.py\", line 1282, in update\n",
      "    dtrain.handle))\n",
      "  File \"C:\\Users\\Renata\\anaconda3\\lib\\site-packages\\xgboost\\core.py\", line 189, in _check_call\n",
      "    raise XGBoostError(py_str(_LIB.XGBGetLastError()))\n",
      "xgboost.core.XGBoostError: value 1.0703 for Parameter subsample exceed bound [0,1]\n",
      "subsample: Row subsample ratio of training instance.\n",
      "\n",
      "  FitFailedWarning)\n",
      "C:\\Users\\Renata\\anaconda3\\lib\\site-packages\\xgboost\\sklearn.py:888: UserWarning: The use of label encoder in XGBClassifier is deprecated and will be removed in a future release. To remove this warning, do the following: 1) Pass option use_label_encoder=False when constructing XGBClassifier object; and 2) Encode your labels (y) as integers starting with 0, i.e. 0, 1, 2, ..., [num_class - 1].\n",
      "  warnings.warn(label_encoder_deprecation_msg, UserWarning)\n"
     ]
    },
    {
     "name": "stderr",
     "output_type": "stream",
     "text": [
      "C:\\Users\\Renata\\anaconda3\\lib\\site-packages\\sklearn\\model_selection\\_validation.py:614: FitFailedWarning: Estimator fit failed. The score on this train-test partition for these parameters will be set to nan. Details: \n",
      "Traceback (most recent call last):\n",
      "  File \"C:\\Users\\Renata\\anaconda3\\lib\\site-packages\\sklearn\\model_selection\\_validation.py\", line 593, in _fit_and_score\n",
      "    estimator.fit(X_train, y_train, **fit_params)\n",
      "  File \"C:\\Users\\Renata\\anaconda3\\lib\\site-packages\\xgboost\\core.py\", line 422, in inner_f\n",
      "    return f(**kwargs)\n",
      "  File \"C:\\Users\\Renata\\anaconda3\\lib\\site-packages\\xgboost\\sklearn.py\", line 915, in fit\n",
      "    callbacks=callbacks)\n",
      "  File \"C:\\Users\\Renata\\anaconda3\\lib\\site-packages\\xgboost\\training.py\", line 235, in train\n",
      "    early_stopping_rounds=early_stopping_rounds)\n",
      "  File \"C:\\Users\\Renata\\anaconda3\\lib\\site-packages\\xgboost\\training.py\", line 102, in _train_internal\n",
      "    bst.update(dtrain, i, obj)\n",
      "  File \"C:\\Users\\Renata\\anaconda3\\lib\\site-packages\\xgboost\\core.py\", line 1282, in update\n",
      "    dtrain.handle))\n",
      "  File \"C:\\Users\\Renata\\anaconda3\\lib\\site-packages\\xgboost\\core.py\", line 189, in _check_call\n",
      "    raise XGBoostError(py_str(_LIB.XGBGetLastError()))\n",
      "xgboost.core.XGBoostError: value 1.12096 for Parameter subsample exceed bound [0,1]\n",
      "subsample: Row subsample ratio of training instance.\n",
      "\n",
      "  FitFailedWarning)\n",
      "C:\\Users\\Renata\\anaconda3\\lib\\site-packages\\xgboost\\sklearn.py:888: UserWarning: The use of label encoder in XGBClassifier is deprecated and will be removed in a future release. To remove this warning, do the following: 1) Pass option use_label_encoder=False when constructing XGBClassifier object; and 2) Encode your labels (y) as integers starting with 0, i.e. 0, 1, 2, ..., [num_class - 1].\n",
      "  warnings.warn(label_encoder_deprecation_msg, UserWarning)\n",
      "C:\\Users\\Renata\\anaconda3\\lib\\site-packages\\sklearn\\model_selection\\_validation.py:614: FitFailedWarning: Estimator fit failed. The score on this train-test partition for these parameters will be set to nan. Details: \n",
      "Traceback (most recent call last):\n",
      "  File \"C:\\Users\\Renata\\anaconda3\\lib\\site-packages\\sklearn\\model_selection\\_validation.py\", line 593, in _fit_and_score\n",
      "    estimator.fit(X_train, y_train, **fit_params)\n",
      "  File \"C:\\Users\\Renata\\anaconda3\\lib\\site-packages\\xgboost\\core.py\", line 422, in inner_f\n",
      "    return f(**kwargs)\n",
      "  File \"C:\\Users\\Renata\\anaconda3\\lib\\site-packages\\xgboost\\sklearn.py\", line 915, in fit\n",
      "    callbacks=callbacks)\n",
      "  File \"C:\\Users\\Renata\\anaconda3\\lib\\site-packages\\xgboost\\training.py\", line 235, in train\n",
      "    early_stopping_rounds=early_stopping_rounds)\n",
      "  File \"C:\\Users\\Renata\\anaconda3\\lib\\site-packages\\xgboost\\training.py\", line 102, in _train_internal\n",
      "    bst.update(dtrain, i, obj)\n",
      "  File \"C:\\Users\\Renata\\anaconda3\\lib\\site-packages\\xgboost\\core.py\", line 1282, in update\n",
      "    dtrain.handle))\n",
      "  File \"C:\\Users\\Renata\\anaconda3\\lib\\site-packages\\xgboost\\core.py\", line 189, in _check_call\n",
      "    raise XGBoostError(py_str(_LIB.XGBGetLastError()))\n",
      "xgboost.core.XGBoostError: value 1.12096 for Parameter subsample exceed bound [0,1]\n",
      "subsample: Row subsample ratio of training instance.\n",
      "\n",
      "  FitFailedWarning)\n",
      "C:\\Users\\Renata\\anaconda3\\lib\\site-packages\\xgboost\\sklearn.py:888: UserWarning: The use of label encoder in XGBClassifier is deprecated and will be removed in a future release. To remove this warning, do the following: 1) Pass option use_label_encoder=False when constructing XGBClassifier object; and 2) Encode your labels (y) as integers starting with 0, i.e. 0, 1, 2, ..., [num_class - 1].\n",
      "  warnings.warn(label_encoder_deprecation_msg, UserWarning)\n",
      "C:\\Users\\Renata\\anaconda3\\lib\\site-packages\\sklearn\\model_selection\\_validation.py:614: FitFailedWarning: Estimator fit failed. The score on this train-test partition for these parameters will be set to nan. Details: \n",
      "Traceback (most recent call last):\n",
      "  File \"C:\\Users\\Renata\\anaconda3\\lib\\site-packages\\sklearn\\model_selection\\_validation.py\", line 593, in _fit_and_score\n",
      "    estimator.fit(X_train, y_train, **fit_params)\n",
      "  File \"C:\\Users\\Renata\\anaconda3\\lib\\site-packages\\xgboost\\core.py\", line 422, in inner_f\n",
      "    return f(**kwargs)\n",
      "  File \"C:\\Users\\Renata\\anaconda3\\lib\\site-packages\\xgboost\\sklearn.py\", line 915, in fit\n",
      "    callbacks=callbacks)\n",
      "  File \"C:\\Users\\Renata\\anaconda3\\lib\\site-packages\\xgboost\\training.py\", line 235, in train\n",
      "    early_stopping_rounds=early_stopping_rounds)\n",
      "  File \"C:\\Users\\Renata\\anaconda3\\lib\\site-packages\\xgboost\\training.py\", line 102, in _train_internal\n",
      "    bst.update(dtrain, i, obj)\n",
      "  File \"C:\\Users\\Renata\\anaconda3\\lib\\site-packages\\xgboost\\core.py\", line 1282, in update\n",
      "    dtrain.handle))\n",
      "  File \"C:\\Users\\Renata\\anaconda3\\lib\\site-packages\\xgboost\\core.py\", line 189, in _check_call\n",
      "    raise XGBoostError(py_str(_LIB.XGBGetLastError()))\n",
      "xgboost.core.XGBoostError: value 1.12096 for Parameter subsample exceed bound [0,1]\n",
      "subsample: Row subsample ratio of training instance.\n",
      "\n",
      "  FitFailedWarning)\n",
      "C:\\Users\\Renata\\anaconda3\\lib\\site-packages\\xgboost\\sklearn.py:888: UserWarning: The use of label encoder in XGBClassifier is deprecated and will be removed in a future release. To remove this warning, do the following: 1) Pass option use_label_encoder=False when constructing XGBClassifier object; and 2) Encode your labels (y) as integers starting with 0, i.e. 0, 1, 2, ..., [num_class - 1].\n",
      "  warnings.warn(label_encoder_deprecation_msg, UserWarning)\n",
      "C:\\Users\\Renata\\anaconda3\\lib\\site-packages\\sklearn\\model_selection\\_validation.py:614: FitFailedWarning: Estimator fit failed. The score on this train-test partition for these parameters will be set to nan. Details: \n",
      "Traceback (most recent call last):\n",
      "  File \"C:\\Users\\Renata\\anaconda3\\lib\\site-packages\\sklearn\\model_selection\\_validation.py\", line 593, in _fit_and_score\n",
      "    estimator.fit(X_train, y_train, **fit_params)\n",
      "  File \"C:\\Users\\Renata\\anaconda3\\lib\\site-packages\\xgboost\\core.py\", line 422, in inner_f\n",
      "    return f(**kwargs)\n",
      "  File \"C:\\Users\\Renata\\anaconda3\\lib\\site-packages\\xgboost\\sklearn.py\", line 915, in fit\n",
      "    callbacks=callbacks)\n",
      "  File \"C:\\Users\\Renata\\anaconda3\\lib\\site-packages\\xgboost\\training.py\", line 235, in train\n",
      "    early_stopping_rounds=early_stopping_rounds)\n",
      "  File \"C:\\Users\\Renata\\anaconda3\\lib\\site-packages\\xgboost\\training.py\", line 102, in _train_internal\n",
      "    bst.update(dtrain, i, obj)\n",
      "  File \"C:\\Users\\Renata\\anaconda3\\lib\\site-packages\\xgboost\\core.py\", line 1282, in update\n",
      "    dtrain.handle))\n",
      "  File \"C:\\Users\\Renata\\anaconda3\\lib\\site-packages\\xgboost\\core.py\", line 189, in _check_call\n",
      "    raise XGBoostError(py_str(_LIB.XGBGetLastError()))\n",
      "xgboost.core.XGBoostError: value 1.12096 for Parameter subsample exceed bound [0,1]\n",
      "subsample: Row subsample ratio of training instance.\n",
      "\n",
      "  FitFailedWarning)\n",
      "C:\\Users\\Renata\\anaconda3\\lib\\site-packages\\xgboost\\sklearn.py:888: UserWarning: The use of label encoder in XGBClassifier is deprecated and will be removed in a future release. To remove this warning, do the following: 1) Pass option use_label_encoder=False when constructing XGBClassifier object; and 2) Encode your labels (y) as integers starting with 0, i.e. 0, 1, 2, ..., [num_class - 1].\n",
      "  warnings.warn(label_encoder_deprecation_msg, UserWarning)\n",
      "C:\\Users\\Renata\\anaconda3\\lib\\site-packages\\sklearn\\model_selection\\_validation.py:614: FitFailedWarning: Estimator fit failed. The score on this train-test partition for these parameters will be set to nan. Details: \n",
      "Traceback (most recent call last):\n",
      "  File \"C:\\Users\\Renata\\anaconda3\\lib\\site-packages\\sklearn\\model_selection\\_validation.py\", line 593, in _fit_and_score\n",
      "    estimator.fit(X_train, y_train, **fit_params)\n",
      "  File \"C:\\Users\\Renata\\anaconda3\\lib\\site-packages\\xgboost\\core.py\", line 422, in inner_f\n",
      "    return f(**kwargs)\n",
      "  File \"C:\\Users\\Renata\\anaconda3\\lib\\site-packages\\xgboost\\sklearn.py\", line 915, in fit\n",
      "    callbacks=callbacks)\n",
      "  File \"C:\\Users\\Renata\\anaconda3\\lib\\site-packages\\xgboost\\training.py\", line 235, in train\n",
      "    early_stopping_rounds=early_stopping_rounds)\n",
      "  File \"C:\\Users\\Renata\\anaconda3\\lib\\site-packages\\xgboost\\training.py\", line 102, in _train_internal\n",
      "    bst.update(dtrain, i, obj)\n",
      "  File \"C:\\Users\\Renata\\anaconda3\\lib\\site-packages\\xgboost\\core.py\", line 1282, in update\n",
      "    dtrain.handle))\n",
      "  File \"C:\\Users\\Renata\\anaconda3\\lib\\site-packages\\xgboost\\core.py\", line 189, in _check_call\n",
      "    raise XGBoostError(py_str(_LIB.XGBGetLastError()))\n",
      "xgboost.core.XGBoostError: value 1.12096 for Parameter subsample exceed bound [0,1]\n",
      "subsample: Row subsample ratio of training instance.\n",
      "\n",
      "  FitFailedWarning)\n",
      "C:\\Users\\Renata\\anaconda3\\lib\\site-packages\\xgboost\\sklearn.py:888: UserWarning: The use of label encoder in XGBClassifier is deprecated and will be removed in a future release. To remove this warning, do the following: 1) Pass option use_label_encoder=False when constructing XGBClassifier object; and 2) Encode your labels (y) as integers starting with 0, i.e. 0, 1, 2, ..., [num_class - 1].\n",
      "  warnings.warn(label_encoder_deprecation_msg, UserWarning)\n"
     ]
    },
    {
     "name": "stdout",
     "output_type": "stream",
     "text": [
      "[23:52:22] WARNING: C:/Users/Administrator/workspace/xgboost-win64_release_1.3.0/src/learner.cc:1061: Starting in XGBoost 1.3.0, the default evaluation metric used with the objective 'binary:logistic' was changed from 'error' to 'logloss'. Explicitly set eval_metric if you'd like to restore the old behavior.\n"
     ]
    },
    {
     "name": "stderr",
     "output_type": "stream",
     "text": [
      "C:\\Users\\Renata\\anaconda3\\lib\\site-packages\\xgboost\\sklearn.py:888: UserWarning: The use of label encoder in XGBClassifier is deprecated and will be removed in a future release. To remove this warning, do the following: 1) Pass option use_label_encoder=False when constructing XGBClassifier object; and 2) Encode your labels (y) as integers starting with 0, i.e. 0, 1, 2, ..., [num_class - 1].\n",
      "  warnings.warn(label_encoder_deprecation_msg, UserWarning)\n"
     ]
    },
    {
     "name": "stdout",
     "output_type": "stream",
     "text": [
      "[23:52:25] WARNING: C:/Users/Administrator/workspace/xgboost-win64_release_1.3.0/src/learner.cc:1061: Starting in XGBoost 1.3.0, the default evaluation metric used with the objective 'binary:logistic' was changed from 'error' to 'logloss'. Explicitly set eval_metric if you'd like to restore the old behavior.\n"
     ]
    },
    {
     "name": "stderr",
     "output_type": "stream",
     "text": [
      "C:\\Users\\Renata\\anaconda3\\lib\\site-packages\\xgboost\\sklearn.py:888: UserWarning: The use of label encoder in XGBClassifier is deprecated and will be removed in a future release. To remove this warning, do the following: 1) Pass option use_label_encoder=False when constructing XGBClassifier object; and 2) Encode your labels (y) as integers starting with 0, i.e. 0, 1, 2, ..., [num_class - 1].\n",
      "  warnings.warn(label_encoder_deprecation_msg, UserWarning)\n"
     ]
    },
    {
     "name": "stdout",
     "output_type": "stream",
     "text": [
      "[23:52:28] WARNING: C:/Users/Administrator/workspace/xgboost-win64_release_1.3.0/src/learner.cc:1061: Starting in XGBoost 1.3.0, the default evaluation metric used with the objective 'binary:logistic' was changed from 'error' to 'logloss'. Explicitly set eval_metric if you'd like to restore the old behavior.\n"
     ]
    },
    {
     "name": "stderr",
     "output_type": "stream",
     "text": [
      "C:\\Users\\Renata\\anaconda3\\lib\\site-packages\\xgboost\\sklearn.py:888: UserWarning: The use of label encoder in XGBClassifier is deprecated and will be removed in a future release. To remove this warning, do the following: 1) Pass option use_label_encoder=False when constructing XGBClassifier object; and 2) Encode your labels (y) as integers starting with 0, i.e. 0, 1, 2, ..., [num_class - 1].\n",
      "  warnings.warn(label_encoder_deprecation_msg, UserWarning)\n"
     ]
    },
    {
     "name": "stdout",
     "output_type": "stream",
     "text": [
      "[23:52:31] WARNING: C:/Users/Administrator/workspace/xgboost-win64_release_1.3.0/src/learner.cc:1061: Starting in XGBoost 1.3.0, the default evaluation metric used with the objective 'binary:logistic' was changed from 'error' to 'logloss'. Explicitly set eval_metric if you'd like to restore the old behavior.\n"
     ]
    },
    {
     "name": "stderr",
     "output_type": "stream",
     "text": [
      "C:\\Users\\Renata\\anaconda3\\lib\\site-packages\\xgboost\\sklearn.py:888: UserWarning: The use of label encoder in XGBClassifier is deprecated and will be removed in a future release. To remove this warning, do the following: 1) Pass option use_label_encoder=False when constructing XGBClassifier object; and 2) Encode your labels (y) as integers starting with 0, i.e. 0, 1, 2, ..., [num_class - 1].\n",
      "  warnings.warn(label_encoder_deprecation_msg, UserWarning)\n"
     ]
    },
    {
     "name": "stdout",
     "output_type": "stream",
     "text": [
      "[23:52:34] WARNING: C:/Users/Administrator/workspace/xgboost-win64_release_1.3.0/src/learner.cc:1061: Starting in XGBoost 1.3.0, the default evaluation metric used with the objective 'binary:logistic' was changed from 'error' to 'logloss'. Explicitly set eval_metric if you'd like to restore the old behavior.\n"
     ]
    },
    {
     "name": "stderr",
     "output_type": "stream",
     "text": [
      "C:\\Users\\Renata\\anaconda3\\lib\\site-packages\\xgboost\\sklearn.py:888: UserWarning: The use of label encoder in XGBClassifier is deprecated and will be removed in a future release. To remove this warning, do the following: 1) Pass option use_label_encoder=False when constructing XGBClassifier object; and 2) Encode your labels (y) as integers starting with 0, i.e. 0, 1, 2, ..., [num_class - 1].\n",
      "  warnings.warn(label_encoder_deprecation_msg, UserWarning)\n",
      "C:\\Users\\Renata\\anaconda3\\lib\\site-packages\\sklearn\\model_selection\\_validation.py:614: FitFailedWarning: Estimator fit failed. The score on this train-test partition for these parameters will be set to nan. Details: \n",
      "Traceback (most recent call last):\n",
      "  File \"C:\\Users\\Renata\\anaconda3\\lib\\site-packages\\sklearn\\model_selection\\_validation.py\", line 593, in _fit_and_score\n",
      "    estimator.fit(X_train, y_train, **fit_params)\n",
      "  File \"C:\\Users\\Renata\\anaconda3\\lib\\site-packages\\xgboost\\core.py\", line 422, in inner_f\n",
      "    return f(**kwargs)\n",
      "  File \"C:\\Users\\Renata\\anaconda3\\lib\\site-packages\\xgboost\\sklearn.py\", line 915, in fit\n",
      "    callbacks=callbacks)\n",
      "  File \"C:\\Users\\Renata\\anaconda3\\lib\\site-packages\\xgboost\\training.py\", line 235, in train\n",
      "    early_stopping_rounds=early_stopping_rounds)\n",
      "  File \"C:\\Users\\Renata\\anaconda3\\lib\\site-packages\\xgboost\\training.py\", line 102, in _train_internal\n",
      "    bst.update(dtrain, i, obj)\n",
      "  File \"C:\\Users\\Renata\\anaconda3\\lib\\site-packages\\xgboost\\core.py\", line 1282, in update\n",
      "    dtrain.handle))\n",
      "  File \"C:\\Users\\Renata\\anaconda3\\lib\\site-packages\\xgboost\\core.py\", line 189, in _check_call\n",
      "    raise XGBoostError(py_str(_LIB.XGBGetLastError()))\n",
      "xgboost.core.XGBoostError: value 1.12294 for Parameter subsample exceed bound [0,1]\n",
      "subsample: Row subsample ratio of training instance.\n",
      "\n",
      "  FitFailedWarning)\n",
      "C:\\Users\\Renata\\anaconda3\\lib\\site-packages\\xgboost\\sklearn.py:888: UserWarning: The use of label encoder in XGBClassifier is deprecated and will be removed in a future release. To remove this warning, do the following: 1) Pass option use_label_encoder=False when constructing XGBClassifier object; and 2) Encode your labels (y) as integers starting with 0, i.e. 0, 1, 2, ..., [num_class - 1].\n",
      "  warnings.warn(label_encoder_deprecation_msg, UserWarning)\n",
      "C:\\Users\\Renata\\anaconda3\\lib\\site-packages\\sklearn\\model_selection\\_validation.py:614: FitFailedWarning: Estimator fit failed. The score on this train-test partition for these parameters will be set to nan. Details: \n",
      "Traceback (most recent call last):\n",
      "  File \"C:\\Users\\Renata\\anaconda3\\lib\\site-packages\\sklearn\\model_selection\\_validation.py\", line 593, in _fit_and_score\n",
      "    estimator.fit(X_train, y_train, **fit_params)\n",
      "  File \"C:\\Users\\Renata\\anaconda3\\lib\\site-packages\\xgboost\\core.py\", line 422, in inner_f\n",
      "    return f(**kwargs)\n",
      "  File \"C:\\Users\\Renata\\anaconda3\\lib\\site-packages\\xgboost\\sklearn.py\", line 915, in fit\n",
      "    callbacks=callbacks)\n",
      "  File \"C:\\Users\\Renata\\anaconda3\\lib\\site-packages\\xgboost\\training.py\", line 235, in train\n",
      "    early_stopping_rounds=early_stopping_rounds)\n",
      "  File \"C:\\Users\\Renata\\anaconda3\\lib\\site-packages\\xgboost\\training.py\", line 102, in _train_internal\n",
      "    bst.update(dtrain, i, obj)\n",
      "  File \"C:\\Users\\Renata\\anaconda3\\lib\\site-packages\\xgboost\\core.py\", line 1282, in update\n",
      "    dtrain.handle))\n",
      "  File \"C:\\Users\\Renata\\anaconda3\\lib\\site-packages\\xgboost\\core.py\", line 189, in _check_call\n",
      "    raise XGBoostError(py_str(_LIB.XGBGetLastError()))\n",
      "xgboost.core.XGBoostError: value 1.12294 for Parameter subsample exceed bound [0,1]\n",
      "subsample: Row subsample ratio of training instance.\n",
      "\n",
      "  FitFailedWarning)\n",
      "C:\\Users\\Renata\\anaconda3\\lib\\site-packages\\xgboost\\sklearn.py:888: UserWarning: The use of label encoder in XGBClassifier is deprecated and will be removed in a future release. To remove this warning, do the following: 1) Pass option use_label_encoder=False when constructing XGBClassifier object; and 2) Encode your labels (y) as integers starting with 0, i.e. 0, 1, 2, ..., [num_class - 1].\n",
      "  warnings.warn(label_encoder_deprecation_msg, UserWarning)\n",
      "C:\\Users\\Renata\\anaconda3\\lib\\site-packages\\sklearn\\model_selection\\_validation.py:614: FitFailedWarning: Estimator fit failed. The score on this train-test partition for these parameters will be set to nan. Details: \n",
      "Traceback (most recent call last):\n",
      "  File \"C:\\Users\\Renata\\anaconda3\\lib\\site-packages\\sklearn\\model_selection\\_validation.py\", line 593, in _fit_and_score\n",
      "    estimator.fit(X_train, y_train, **fit_params)\n",
      "  File \"C:\\Users\\Renata\\anaconda3\\lib\\site-packages\\xgboost\\core.py\", line 422, in inner_f\n",
      "    return f(**kwargs)\n",
      "  File \"C:\\Users\\Renata\\anaconda3\\lib\\site-packages\\xgboost\\sklearn.py\", line 915, in fit\n",
      "    callbacks=callbacks)\n",
      "  File \"C:\\Users\\Renata\\anaconda3\\lib\\site-packages\\xgboost\\training.py\", line 235, in train\n",
      "    early_stopping_rounds=early_stopping_rounds)\n",
      "  File \"C:\\Users\\Renata\\anaconda3\\lib\\site-packages\\xgboost\\training.py\", line 102, in _train_internal\n",
      "    bst.update(dtrain, i, obj)\n",
      "  File \"C:\\Users\\Renata\\anaconda3\\lib\\site-packages\\xgboost\\core.py\", line 1282, in update\n",
      "    dtrain.handle))\n",
      "  File \"C:\\Users\\Renata\\anaconda3\\lib\\site-packages\\xgboost\\core.py\", line 189, in _check_call\n",
      "    raise XGBoostError(py_str(_LIB.XGBGetLastError()))\n",
      "xgboost.core.XGBoostError: value 1.12294 for Parameter subsample exceed bound [0,1]\n",
      "subsample: Row subsample ratio of training instance.\n",
      "\n",
      "  FitFailedWarning)\n",
      "C:\\Users\\Renata\\anaconda3\\lib\\site-packages\\xgboost\\sklearn.py:888: UserWarning: The use of label encoder in XGBClassifier is deprecated and will be removed in a future release. To remove this warning, do the following: 1) Pass option use_label_encoder=False when constructing XGBClassifier object; and 2) Encode your labels (y) as integers starting with 0, i.e. 0, 1, 2, ..., [num_class - 1].\n",
      "  warnings.warn(label_encoder_deprecation_msg, UserWarning)\n",
      "C:\\Users\\Renata\\anaconda3\\lib\\site-packages\\sklearn\\model_selection\\_validation.py:614: FitFailedWarning: Estimator fit failed. The score on this train-test partition for these parameters will be set to nan. Details: \n",
      "Traceback (most recent call last):\n",
      "  File \"C:\\Users\\Renata\\anaconda3\\lib\\site-packages\\sklearn\\model_selection\\_validation.py\", line 593, in _fit_and_score\n",
      "    estimator.fit(X_train, y_train, **fit_params)\n",
      "  File \"C:\\Users\\Renata\\anaconda3\\lib\\site-packages\\xgboost\\core.py\", line 422, in inner_f\n",
      "    return f(**kwargs)\n",
      "  File \"C:\\Users\\Renata\\anaconda3\\lib\\site-packages\\xgboost\\sklearn.py\", line 915, in fit\n",
      "    callbacks=callbacks)\n",
      "  File \"C:\\Users\\Renata\\anaconda3\\lib\\site-packages\\xgboost\\training.py\", line 235, in train\n",
      "    early_stopping_rounds=early_stopping_rounds)\n",
      "  File \"C:\\Users\\Renata\\anaconda3\\lib\\site-packages\\xgboost\\training.py\", line 102, in _train_internal\n",
      "    bst.update(dtrain, i, obj)\n",
      "  File \"C:\\Users\\Renata\\anaconda3\\lib\\site-packages\\xgboost\\core.py\", line 1282, in update\n",
      "    dtrain.handle))\n",
      "  File \"C:\\Users\\Renata\\anaconda3\\lib\\site-packages\\xgboost\\core.py\", line 189, in _check_call\n",
      "    raise XGBoostError(py_str(_LIB.XGBGetLastError()))\n",
      "xgboost.core.XGBoostError: value 1.12294 for Parameter subsample exceed bound [0,1]\n",
      "subsample: Row subsample ratio of training instance.\n",
      "\n",
      "  FitFailedWarning)\n",
      "C:\\Users\\Renata\\anaconda3\\lib\\site-packages\\xgboost\\sklearn.py:888: UserWarning: The use of label encoder in XGBClassifier is deprecated and will be removed in a future release. To remove this warning, do the following: 1) Pass option use_label_encoder=False when constructing XGBClassifier object; and 2) Encode your labels (y) as integers starting with 0, i.e. 0, 1, 2, ..., [num_class - 1].\n",
      "  warnings.warn(label_encoder_deprecation_msg, UserWarning)\n",
      "C:\\Users\\Renata\\anaconda3\\lib\\site-packages\\sklearn\\model_selection\\_validation.py:614: FitFailedWarning: Estimator fit failed. The score on this train-test partition for these parameters will be set to nan. Details: \n",
      "Traceback (most recent call last):\n",
      "  File \"C:\\Users\\Renata\\anaconda3\\lib\\site-packages\\sklearn\\model_selection\\_validation.py\", line 593, in _fit_and_score\n",
      "    estimator.fit(X_train, y_train, **fit_params)\n",
      "  File \"C:\\Users\\Renata\\anaconda3\\lib\\site-packages\\xgboost\\core.py\", line 422, in inner_f\n",
      "    return f(**kwargs)\n",
      "  File \"C:\\Users\\Renata\\anaconda3\\lib\\site-packages\\xgboost\\sklearn.py\", line 915, in fit\n",
      "    callbacks=callbacks)\n",
      "  File \"C:\\Users\\Renata\\anaconda3\\lib\\site-packages\\xgboost\\training.py\", line 235, in train\n",
      "    early_stopping_rounds=early_stopping_rounds)\n",
      "  File \"C:\\Users\\Renata\\anaconda3\\lib\\site-packages\\xgboost\\training.py\", line 102, in _train_internal\n",
      "    bst.update(dtrain, i, obj)\n",
      "  File \"C:\\Users\\Renata\\anaconda3\\lib\\site-packages\\xgboost\\core.py\", line 1282, in update\n",
      "    dtrain.handle))\n",
      "  File \"C:\\Users\\Renata\\anaconda3\\lib\\site-packages\\xgboost\\core.py\", line 189, in _check_call\n",
      "    raise XGBoostError(py_str(_LIB.XGBGetLastError()))\n",
      "xgboost.core.XGBoostError: value 1.12294 for Parameter subsample exceed bound [0,1]\n",
      "subsample: Row subsample ratio of training instance.\n",
      "\n",
      "  FitFailedWarning)\n",
      "C:\\Users\\Renata\\anaconda3\\lib\\site-packages\\xgboost\\sklearn.py:888: UserWarning: The use of label encoder in XGBClassifier is deprecated and will be removed in a future release. To remove this warning, do the following: 1) Pass option use_label_encoder=False when constructing XGBClassifier object; and 2) Encode your labels (y) as integers starting with 0, i.e. 0, 1, 2, ..., [num_class - 1].\n",
      "  warnings.warn(label_encoder_deprecation_msg, UserWarning)\n"
     ]
    },
    {
     "name": "stderr",
     "output_type": "stream",
     "text": [
      "C:\\Users\\Renata\\anaconda3\\lib\\site-packages\\sklearn\\model_selection\\_validation.py:614: FitFailedWarning: Estimator fit failed. The score on this train-test partition for these parameters will be set to nan. Details: \n",
      "Traceback (most recent call last):\n",
      "  File \"C:\\Users\\Renata\\anaconda3\\lib\\site-packages\\sklearn\\model_selection\\_validation.py\", line 593, in _fit_and_score\n",
      "    estimator.fit(X_train, y_train, **fit_params)\n",
      "  File \"C:\\Users\\Renata\\anaconda3\\lib\\site-packages\\xgboost\\core.py\", line 422, in inner_f\n",
      "    return f(**kwargs)\n",
      "  File \"C:\\Users\\Renata\\anaconda3\\lib\\site-packages\\xgboost\\sklearn.py\", line 915, in fit\n",
      "    callbacks=callbacks)\n",
      "  File \"C:\\Users\\Renata\\anaconda3\\lib\\site-packages\\xgboost\\training.py\", line 235, in train\n",
      "    early_stopping_rounds=early_stopping_rounds)\n",
      "  File \"C:\\Users\\Renata\\anaconda3\\lib\\site-packages\\xgboost\\training.py\", line 102, in _train_internal\n",
      "    bst.update(dtrain, i, obj)\n",
      "  File \"C:\\Users\\Renata\\anaconda3\\lib\\site-packages\\xgboost\\core.py\", line 1282, in update\n",
      "    dtrain.handle))\n",
      "  File \"C:\\Users\\Renata\\anaconda3\\lib\\site-packages\\xgboost\\core.py\", line 189, in _check_call\n",
      "    raise XGBoostError(py_str(_LIB.XGBGetLastError()))\n",
      "xgboost.core.XGBoostError: value 1.05621 for Parameter colsample_bytree exceed bound [0,1]\n",
      "colsample_bytree: Subsample ratio of columns, resample on each tree construction.\n",
      "\n",
      "  FitFailedWarning)\n",
      "C:\\Users\\Renata\\anaconda3\\lib\\site-packages\\xgboost\\sklearn.py:888: UserWarning: The use of label encoder in XGBClassifier is deprecated and will be removed in a future release. To remove this warning, do the following: 1) Pass option use_label_encoder=False when constructing XGBClassifier object; and 2) Encode your labels (y) as integers starting with 0, i.e. 0, 1, 2, ..., [num_class - 1].\n",
      "  warnings.warn(label_encoder_deprecation_msg, UserWarning)\n",
      "C:\\Users\\Renata\\anaconda3\\lib\\site-packages\\sklearn\\model_selection\\_validation.py:614: FitFailedWarning: Estimator fit failed. The score on this train-test partition for these parameters will be set to nan. Details: \n",
      "Traceback (most recent call last):\n",
      "  File \"C:\\Users\\Renata\\anaconda3\\lib\\site-packages\\sklearn\\model_selection\\_validation.py\", line 593, in _fit_and_score\n",
      "    estimator.fit(X_train, y_train, **fit_params)\n",
      "  File \"C:\\Users\\Renata\\anaconda3\\lib\\site-packages\\xgboost\\core.py\", line 422, in inner_f\n",
      "    return f(**kwargs)\n",
      "  File \"C:\\Users\\Renata\\anaconda3\\lib\\site-packages\\xgboost\\sklearn.py\", line 915, in fit\n",
      "    callbacks=callbacks)\n",
      "  File \"C:\\Users\\Renata\\anaconda3\\lib\\site-packages\\xgboost\\training.py\", line 235, in train\n",
      "    early_stopping_rounds=early_stopping_rounds)\n",
      "  File \"C:\\Users\\Renata\\anaconda3\\lib\\site-packages\\xgboost\\training.py\", line 102, in _train_internal\n",
      "    bst.update(dtrain, i, obj)\n",
      "  File \"C:\\Users\\Renata\\anaconda3\\lib\\site-packages\\xgboost\\core.py\", line 1282, in update\n",
      "    dtrain.handle))\n",
      "  File \"C:\\Users\\Renata\\anaconda3\\lib\\site-packages\\xgboost\\core.py\", line 189, in _check_call\n",
      "    raise XGBoostError(py_str(_LIB.XGBGetLastError()))\n",
      "xgboost.core.XGBoostError: value 1.05621 for Parameter colsample_bytree exceed bound [0,1]\n",
      "colsample_bytree: Subsample ratio of columns, resample on each tree construction.\n",
      "\n",
      "  FitFailedWarning)\n",
      "C:\\Users\\Renata\\anaconda3\\lib\\site-packages\\xgboost\\sklearn.py:888: UserWarning: The use of label encoder in XGBClassifier is deprecated and will be removed in a future release. To remove this warning, do the following: 1) Pass option use_label_encoder=False when constructing XGBClassifier object; and 2) Encode your labels (y) as integers starting with 0, i.e. 0, 1, 2, ..., [num_class - 1].\n",
      "  warnings.warn(label_encoder_deprecation_msg, UserWarning)\n",
      "C:\\Users\\Renata\\anaconda3\\lib\\site-packages\\sklearn\\model_selection\\_validation.py:614: FitFailedWarning: Estimator fit failed. The score on this train-test partition for these parameters will be set to nan. Details: \n",
      "Traceback (most recent call last):\n",
      "  File \"C:\\Users\\Renata\\anaconda3\\lib\\site-packages\\sklearn\\model_selection\\_validation.py\", line 593, in _fit_and_score\n",
      "    estimator.fit(X_train, y_train, **fit_params)\n",
      "  File \"C:\\Users\\Renata\\anaconda3\\lib\\site-packages\\xgboost\\core.py\", line 422, in inner_f\n",
      "    return f(**kwargs)\n",
      "  File \"C:\\Users\\Renata\\anaconda3\\lib\\site-packages\\xgboost\\sklearn.py\", line 915, in fit\n",
      "    callbacks=callbacks)\n",
      "  File \"C:\\Users\\Renata\\anaconda3\\lib\\site-packages\\xgboost\\training.py\", line 235, in train\n",
      "    early_stopping_rounds=early_stopping_rounds)\n",
      "  File \"C:\\Users\\Renata\\anaconda3\\lib\\site-packages\\xgboost\\training.py\", line 102, in _train_internal\n",
      "    bst.update(dtrain, i, obj)\n",
      "  File \"C:\\Users\\Renata\\anaconda3\\lib\\site-packages\\xgboost\\core.py\", line 1282, in update\n",
      "    dtrain.handle))\n",
      "  File \"C:\\Users\\Renata\\anaconda3\\lib\\site-packages\\xgboost\\core.py\", line 189, in _check_call\n",
      "    raise XGBoostError(py_str(_LIB.XGBGetLastError()))\n",
      "xgboost.core.XGBoostError: value 1.05621 for Parameter colsample_bytree exceed bound [0,1]\n",
      "colsample_bytree: Subsample ratio of columns, resample on each tree construction.\n",
      "\n",
      "  FitFailedWarning)\n",
      "C:\\Users\\Renata\\anaconda3\\lib\\site-packages\\xgboost\\sklearn.py:888: UserWarning: The use of label encoder in XGBClassifier is deprecated and will be removed in a future release. To remove this warning, do the following: 1) Pass option use_label_encoder=False when constructing XGBClassifier object; and 2) Encode your labels (y) as integers starting with 0, i.e. 0, 1, 2, ..., [num_class - 1].\n",
      "  warnings.warn(label_encoder_deprecation_msg, UserWarning)\n",
      "C:\\Users\\Renata\\anaconda3\\lib\\site-packages\\sklearn\\model_selection\\_validation.py:614: FitFailedWarning: Estimator fit failed. The score on this train-test partition for these parameters will be set to nan. Details: \n",
      "Traceback (most recent call last):\n",
      "  File \"C:\\Users\\Renata\\anaconda3\\lib\\site-packages\\sklearn\\model_selection\\_validation.py\", line 593, in _fit_and_score\n",
      "    estimator.fit(X_train, y_train, **fit_params)\n",
      "  File \"C:\\Users\\Renata\\anaconda3\\lib\\site-packages\\xgboost\\core.py\", line 422, in inner_f\n",
      "    return f(**kwargs)\n",
      "  File \"C:\\Users\\Renata\\anaconda3\\lib\\site-packages\\xgboost\\sklearn.py\", line 915, in fit\n",
      "    callbacks=callbacks)\n",
      "  File \"C:\\Users\\Renata\\anaconda3\\lib\\site-packages\\xgboost\\training.py\", line 235, in train\n",
      "    early_stopping_rounds=early_stopping_rounds)\n",
      "  File \"C:\\Users\\Renata\\anaconda3\\lib\\site-packages\\xgboost\\training.py\", line 102, in _train_internal\n",
      "    bst.update(dtrain, i, obj)\n",
      "  File \"C:\\Users\\Renata\\anaconda3\\lib\\site-packages\\xgboost\\core.py\", line 1282, in update\n",
      "    dtrain.handle))\n",
      "  File \"C:\\Users\\Renata\\anaconda3\\lib\\site-packages\\xgboost\\core.py\", line 189, in _check_call\n",
      "    raise XGBoostError(py_str(_LIB.XGBGetLastError()))\n",
      "xgboost.core.XGBoostError: value 1.05621 for Parameter colsample_bytree exceed bound [0,1]\n",
      "colsample_bytree: Subsample ratio of columns, resample on each tree construction.\n",
      "\n",
      "  FitFailedWarning)\n",
      "C:\\Users\\Renata\\anaconda3\\lib\\site-packages\\xgboost\\sklearn.py:888: UserWarning: The use of label encoder in XGBClassifier is deprecated and will be removed in a future release. To remove this warning, do the following: 1) Pass option use_label_encoder=False when constructing XGBClassifier object; and 2) Encode your labels (y) as integers starting with 0, i.e. 0, 1, 2, ..., [num_class - 1].\n",
      "  warnings.warn(label_encoder_deprecation_msg, UserWarning)\n",
      "C:\\Users\\Renata\\anaconda3\\lib\\site-packages\\sklearn\\model_selection\\_validation.py:614: FitFailedWarning: Estimator fit failed. The score on this train-test partition for these parameters will be set to nan. Details: \n",
      "Traceback (most recent call last):\n",
      "  File \"C:\\Users\\Renata\\anaconda3\\lib\\site-packages\\sklearn\\model_selection\\_validation.py\", line 593, in _fit_and_score\n",
      "    estimator.fit(X_train, y_train, **fit_params)\n",
      "  File \"C:\\Users\\Renata\\anaconda3\\lib\\site-packages\\xgboost\\core.py\", line 422, in inner_f\n",
      "    return f(**kwargs)\n",
      "  File \"C:\\Users\\Renata\\anaconda3\\lib\\site-packages\\xgboost\\sklearn.py\", line 915, in fit\n",
      "    callbacks=callbacks)\n",
      "  File \"C:\\Users\\Renata\\anaconda3\\lib\\site-packages\\xgboost\\training.py\", line 235, in train\n",
      "    early_stopping_rounds=early_stopping_rounds)\n",
      "  File \"C:\\Users\\Renata\\anaconda3\\lib\\site-packages\\xgboost\\training.py\", line 102, in _train_internal\n",
      "    bst.update(dtrain, i, obj)\n",
      "  File \"C:\\Users\\Renata\\anaconda3\\lib\\site-packages\\xgboost\\core.py\", line 1282, in update\n",
      "    dtrain.handle))\n",
      "  File \"C:\\Users\\Renata\\anaconda3\\lib\\site-packages\\xgboost\\core.py\", line 189, in _check_call\n",
      "    raise XGBoostError(py_str(_LIB.XGBGetLastError()))\n",
      "xgboost.core.XGBoostError: value 1.05621 for Parameter colsample_bytree exceed bound [0,1]\n",
      "colsample_bytree: Subsample ratio of columns, resample on each tree construction.\n",
      "\n",
      "  FitFailedWarning)\n",
      "C:\\Users\\Renata\\anaconda3\\lib\\site-packages\\xgboost\\sklearn.py:888: UserWarning: The use of label encoder in XGBClassifier is deprecated and will be removed in a future release. To remove this warning, do the following: 1) Pass option use_label_encoder=False when constructing XGBClassifier object; and 2) Encode your labels (y) as integers starting with 0, i.e. 0, 1, 2, ..., [num_class - 1].\n",
      "  warnings.warn(label_encoder_deprecation_msg, UserWarning)\n",
      "C:\\Users\\Renata\\anaconda3\\lib\\site-packages\\sklearn\\model_selection\\_validation.py:614: FitFailedWarning: Estimator fit failed. The score on this train-test partition for these parameters will be set to nan. Details: \n",
      "Traceback (most recent call last):\n",
      "  File \"C:\\Users\\Renata\\anaconda3\\lib\\site-packages\\sklearn\\model_selection\\_validation.py\", line 593, in _fit_and_score\n",
      "    estimator.fit(X_train, y_train, **fit_params)\n",
      "  File \"C:\\Users\\Renata\\anaconda3\\lib\\site-packages\\xgboost\\core.py\", line 422, in inner_f\n",
      "    return f(**kwargs)\n",
      "  File \"C:\\Users\\Renata\\anaconda3\\lib\\site-packages\\xgboost\\sklearn.py\", line 915, in fit\n",
      "    callbacks=callbacks)\n",
      "  File \"C:\\Users\\Renata\\anaconda3\\lib\\site-packages\\xgboost\\training.py\", line 235, in train\n",
      "    early_stopping_rounds=early_stopping_rounds)\n",
      "  File \"C:\\Users\\Renata\\anaconda3\\lib\\site-packages\\xgboost\\training.py\", line 102, in _train_internal\n",
      "    bst.update(dtrain, i, obj)\n",
      "  File \"C:\\Users\\Renata\\anaconda3\\lib\\site-packages\\xgboost\\core.py\", line 1282, in update\n",
      "    dtrain.handle))\n",
      "  File \"C:\\Users\\Renata\\anaconda3\\lib\\site-packages\\xgboost\\core.py\", line 189, in _check_call\n",
      "    raise XGBoostError(py_str(_LIB.XGBGetLastError()))\n",
      "xgboost.core.XGBoostError: value 1.13033 for Parameter colsample_bytree exceed bound [0,1]\n",
      "colsample_bytree: Subsample ratio of columns, resample on each tree construction.\n",
      "\n",
      "  FitFailedWarning)\n",
      "C:\\Users\\Renata\\anaconda3\\lib\\site-packages\\xgboost\\sklearn.py:888: UserWarning: The use of label encoder in XGBClassifier is deprecated and will be removed in a future release. To remove this warning, do the following: 1) Pass option use_label_encoder=False when constructing XGBClassifier object; and 2) Encode your labels (y) as integers starting with 0, i.e. 0, 1, 2, ..., [num_class - 1].\n",
      "  warnings.warn(label_encoder_deprecation_msg, UserWarning)\n"
     ]
    },
    {
     "name": "stderr",
     "output_type": "stream",
     "text": [
      "C:\\Users\\Renata\\anaconda3\\lib\\site-packages\\sklearn\\model_selection\\_validation.py:614: FitFailedWarning: Estimator fit failed. The score on this train-test partition for these parameters will be set to nan. Details: \n",
      "Traceback (most recent call last):\n",
      "  File \"C:\\Users\\Renata\\anaconda3\\lib\\site-packages\\sklearn\\model_selection\\_validation.py\", line 593, in _fit_and_score\n",
      "    estimator.fit(X_train, y_train, **fit_params)\n",
      "  File \"C:\\Users\\Renata\\anaconda3\\lib\\site-packages\\xgboost\\core.py\", line 422, in inner_f\n",
      "    return f(**kwargs)\n",
      "  File \"C:\\Users\\Renata\\anaconda3\\lib\\site-packages\\xgboost\\sklearn.py\", line 915, in fit\n",
      "    callbacks=callbacks)\n",
      "  File \"C:\\Users\\Renata\\anaconda3\\lib\\site-packages\\xgboost\\training.py\", line 235, in train\n",
      "    early_stopping_rounds=early_stopping_rounds)\n",
      "  File \"C:\\Users\\Renata\\anaconda3\\lib\\site-packages\\xgboost\\training.py\", line 102, in _train_internal\n",
      "    bst.update(dtrain, i, obj)\n",
      "  File \"C:\\Users\\Renata\\anaconda3\\lib\\site-packages\\xgboost\\core.py\", line 1282, in update\n",
      "    dtrain.handle))\n",
      "  File \"C:\\Users\\Renata\\anaconda3\\lib\\site-packages\\xgboost\\core.py\", line 189, in _check_call\n",
      "    raise XGBoostError(py_str(_LIB.XGBGetLastError()))\n",
      "xgboost.core.XGBoostError: value 1.13033 for Parameter colsample_bytree exceed bound [0,1]\n",
      "colsample_bytree: Subsample ratio of columns, resample on each tree construction.\n",
      "\n",
      "  FitFailedWarning)\n",
      "C:\\Users\\Renata\\anaconda3\\lib\\site-packages\\xgboost\\sklearn.py:888: UserWarning: The use of label encoder in XGBClassifier is deprecated and will be removed in a future release. To remove this warning, do the following: 1) Pass option use_label_encoder=False when constructing XGBClassifier object; and 2) Encode your labels (y) as integers starting with 0, i.e. 0, 1, 2, ..., [num_class - 1].\n",
      "  warnings.warn(label_encoder_deprecation_msg, UserWarning)\n",
      "C:\\Users\\Renata\\anaconda3\\lib\\site-packages\\sklearn\\model_selection\\_validation.py:614: FitFailedWarning: Estimator fit failed. The score on this train-test partition for these parameters will be set to nan. Details: \n",
      "Traceback (most recent call last):\n",
      "  File \"C:\\Users\\Renata\\anaconda3\\lib\\site-packages\\sklearn\\model_selection\\_validation.py\", line 593, in _fit_and_score\n",
      "    estimator.fit(X_train, y_train, **fit_params)\n",
      "  File \"C:\\Users\\Renata\\anaconda3\\lib\\site-packages\\xgboost\\core.py\", line 422, in inner_f\n",
      "    return f(**kwargs)\n",
      "  File \"C:\\Users\\Renata\\anaconda3\\lib\\site-packages\\xgboost\\sklearn.py\", line 915, in fit\n",
      "    callbacks=callbacks)\n",
      "  File \"C:\\Users\\Renata\\anaconda3\\lib\\site-packages\\xgboost\\training.py\", line 235, in train\n",
      "    early_stopping_rounds=early_stopping_rounds)\n",
      "  File \"C:\\Users\\Renata\\anaconda3\\lib\\site-packages\\xgboost\\training.py\", line 102, in _train_internal\n",
      "    bst.update(dtrain, i, obj)\n",
      "  File \"C:\\Users\\Renata\\anaconda3\\lib\\site-packages\\xgboost\\core.py\", line 1282, in update\n",
      "    dtrain.handle))\n",
      "  File \"C:\\Users\\Renata\\anaconda3\\lib\\site-packages\\xgboost\\core.py\", line 189, in _check_call\n",
      "    raise XGBoostError(py_str(_LIB.XGBGetLastError()))\n",
      "xgboost.core.XGBoostError: value 1.13033 for Parameter colsample_bytree exceed bound [0,1]\n",
      "colsample_bytree: Subsample ratio of columns, resample on each tree construction.\n",
      "\n",
      "  FitFailedWarning)\n",
      "C:\\Users\\Renata\\anaconda3\\lib\\site-packages\\xgboost\\sklearn.py:888: UserWarning: The use of label encoder in XGBClassifier is deprecated and will be removed in a future release. To remove this warning, do the following: 1) Pass option use_label_encoder=False when constructing XGBClassifier object; and 2) Encode your labels (y) as integers starting with 0, i.e. 0, 1, 2, ..., [num_class - 1].\n",
      "  warnings.warn(label_encoder_deprecation_msg, UserWarning)\n",
      "C:\\Users\\Renata\\anaconda3\\lib\\site-packages\\sklearn\\model_selection\\_validation.py:614: FitFailedWarning: Estimator fit failed. The score on this train-test partition for these parameters will be set to nan. Details: \n",
      "Traceback (most recent call last):\n",
      "  File \"C:\\Users\\Renata\\anaconda3\\lib\\site-packages\\sklearn\\model_selection\\_validation.py\", line 593, in _fit_and_score\n",
      "    estimator.fit(X_train, y_train, **fit_params)\n",
      "  File \"C:\\Users\\Renata\\anaconda3\\lib\\site-packages\\xgboost\\core.py\", line 422, in inner_f\n",
      "    return f(**kwargs)\n",
      "  File \"C:\\Users\\Renata\\anaconda3\\lib\\site-packages\\xgboost\\sklearn.py\", line 915, in fit\n",
      "    callbacks=callbacks)\n",
      "  File \"C:\\Users\\Renata\\anaconda3\\lib\\site-packages\\xgboost\\training.py\", line 235, in train\n",
      "    early_stopping_rounds=early_stopping_rounds)\n",
      "  File \"C:\\Users\\Renata\\anaconda3\\lib\\site-packages\\xgboost\\training.py\", line 102, in _train_internal\n",
      "    bst.update(dtrain, i, obj)\n",
      "  File \"C:\\Users\\Renata\\anaconda3\\lib\\site-packages\\xgboost\\core.py\", line 1282, in update\n",
      "    dtrain.handle))\n",
      "  File \"C:\\Users\\Renata\\anaconda3\\lib\\site-packages\\xgboost\\core.py\", line 189, in _check_call\n",
      "    raise XGBoostError(py_str(_LIB.XGBGetLastError()))\n",
      "xgboost.core.XGBoostError: value 1.13033 for Parameter colsample_bytree exceed bound [0,1]\n",
      "colsample_bytree: Subsample ratio of columns, resample on each tree construction.\n",
      "\n",
      "  FitFailedWarning)\n",
      "C:\\Users\\Renata\\anaconda3\\lib\\site-packages\\xgboost\\sklearn.py:888: UserWarning: The use of label encoder in XGBClassifier is deprecated and will be removed in a future release. To remove this warning, do the following: 1) Pass option use_label_encoder=False when constructing XGBClassifier object; and 2) Encode your labels (y) as integers starting with 0, i.e. 0, 1, 2, ..., [num_class - 1].\n",
      "  warnings.warn(label_encoder_deprecation_msg, UserWarning)\n",
      "C:\\Users\\Renata\\anaconda3\\lib\\site-packages\\sklearn\\model_selection\\_validation.py:614: FitFailedWarning: Estimator fit failed. The score on this train-test partition for these parameters will be set to nan. Details: \n",
      "Traceback (most recent call last):\n",
      "  File \"C:\\Users\\Renata\\anaconda3\\lib\\site-packages\\sklearn\\model_selection\\_validation.py\", line 593, in _fit_and_score\n",
      "    estimator.fit(X_train, y_train, **fit_params)\n",
      "  File \"C:\\Users\\Renata\\anaconda3\\lib\\site-packages\\xgboost\\core.py\", line 422, in inner_f\n",
      "    return f(**kwargs)\n",
      "  File \"C:\\Users\\Renata\\anaconda3\\lib\\site-packages\\xgboost\\sklearn.py\", line 915, in fit\n",
      "    callbacks=callbacks)\n",
      "  File \"C:\\Users\\Renata\\anaconda3\\lib\\site-packages\\xgboost\\training.py\", line 235, in train\n",
      "    early_stopping_rounds=early_stopping_rounds)\n",
      "  File \"C:\\Users\\Renata\\anaconda3\\lib\\site-packages\\xgboost\\training.py\", line 102, in _train_internal\n",
      "    bst.update(dtrain, i, obj)\n",
      "  File \"C:\\Users\\Renata\\anaconda3\\lib\\site-packages\\xgboost\\core.py\", line 1282, in update\n",
      "    dtrain.handle))\n",
      "  File \"C:\\Users\\Renata\\anaconda3\\lib\\site-packages\\xgboost\\core.py\", line 189, in _check_call\n",
      "    raise XGBoostError(py_str(_LIB.XGBGetLastError()))\n",
      "xgboost.core.XGBoostError: value 1.13033 for Parameter colsample_bytree exceed bound [0,1]\n",
      "colsample_bytree: Subsample ratio of columns, resample on each tree construction.\n",
      "\n",
      "  FitFailedWarning)\n",
      "C:\\Users\\Renata\\anaconda3\\lib\\site-packages\\xgboost\\sklearn.py:888: UserWarning: The use of label encoder in XGBClassifier is deprecated and will be removed in a future release. To remove this warning, do the following: 1) Pass option use_label_encoder=False when constructing XGBClassifier object; and 2) Encode your labels (y) as integers starting with 0, i.e. 0, 1, 2, ..., [num_class - 1].\n",
      "  warnings.warn(label_encoder_deprecation_msg, UserWarning)\n"
     ]
    },
    {
     "name": "stdout",
     "output_type": "stream",
     "text": [
      "[23:52:39] WARNING: C:/Users/Administrator/workspace/xgboost-win64_release_1.3.0/src/learner.cc:1061: Starting in XGBoost 1.3.0, the default evaluation metric used with the objective 'binary:logistic' was changed from 'error' to 'logloss'. Explicitly set eval_metric if you'd like to restore the old behavior.\n"
     ]
    },
    {
     "name": "stderr",
     "output_type": "stream",
     "text": [
      "C:\\Users\\Renata\\anaconda3\\lib\\site-packages\\xgboost\\sklearn.py:888: UserWarning: The use of label encoder in XGBClassifier is deprecated and will be removed in a future release. To remove this warning, do the following: 1) Pass option use_label_encoder=False when constructing XGBClassifier object; and 2) Encode your labels (y) as integers starting with 0, i.e. 0, 1, 2, ..., [num_class - 1].\n",
      "  warnings.warn(label_encoder_deprecation_msg, UserWarning)\n"
     ]
    },
    {
     "name": "stdout",
     "output_type": "stream",
     "text": [
      "[23:52:41] WARNING: C:/Users/Administrator/workspace/xgboost-win64_release_1.3.0/src/learner.cc:1061: Starting in XGBoost 1.3.0, the default evaluation metric used with the objective 'binary:logistic' was changed from 'error' to 'logloss'. Explicitly set eval_metric if you'd like to restore the old behavior.\n"
     ]
    },
    {
     "name": "stderr",
     "output_type": "stream",
     "text": [
      "C:\\Users\\Renata\\anaconda3\\lib\\site-packages\\xgboost\\sklearn.py:888: UserWarning: The use of label encoder in XGBClassifier is deprecated and will be removed in a future release. To remove this warning, do the following: 1) Pass option use_label_encoder=False when constructing XGBClassifier object; and 2) Encode your labels (y) as integers starting with 0, i.e. 0, 1, 2, ..., [num_class - 1].\n",
      "  warnings.warn(label_encoder_deprecation_msg, UserWarning)\n"
     ]
    },
    {
     "name": "stdout",
     "output_type": "stream",
     "text": [
      "[23:52:42] WARNING: C:/Users/Administrator/workspace/xgboost-win64_release_1.3.0/src/learner.cc:1061: Starting in XGBoost 1.3.0, the default evaluation metric used with the objective 'binary:logistic' was changed from 'error' to 'logloss'. Explicitly set eval_metric if you'd like to restore the old behavior.\n"
     ]
    },
    {
     "name": "stderr",
     "output_type": "stream",
     "text": [
      "C:\\Users\\Renata\\anaconda3\\lib\\site-packages\\xgboost\\sklearn.py:888: UserWarning: The use of label encoder in XGBClassifier is deprecated and will be removed in a future release. To remove this warning, do the following: 1) Pass option use_label_encoder=False when constructing XGBClassifier object; and 2) Encode your labels (y) as integers starting with 0, i.e. 0, 1, 2, ..., [num_class - 1].\n",
      "  warnings.warn(label_encoder_deprecation_msg, UserWarning)\n"
     ]
    },
    {
     "name": "stdout",
     "output_type": "stream",
     "text": [
      "[23:52:44] WARNING: C:/Users/Administrator/workspace/xgboost-win64_release_1.3.0/src/learner.cc:1061: Starting in XGBoost 1.3.0, the default evaluation metric used with the objective 'binary:logistic' was changed from 'error' to 'logloss'. Explicitly set eval_metric if you'd like to restore the old behavior.\n"
     ]
    },
    {
     "name": "stderr",
     "output_type": "stream",
     "text": [
      "C:\\Users\\Renata\\anaconda3\\lib\\site-packages\\xgboost\\sklearn.py:888: UserWarning: The use of label encoder in XGBClassifier is deprecated and will be removed in a future release. To remove this warning, do the following: 1) Pass option use_label_encoder=False when constructing XGBClassifier object; and 2) Encode your labels (y) as integers starting with 0, i.e. 0, 1, 2, ..., [num_class - 1].\n",
      "  warnings.warn(label_encoder_deprecation_msg, UserWarning)\n"
     ]
    },
    {
     "name": "stdout",
     "output_type": "stream",
     "text": [
      "[23:52:46] WARNING: C:/Users/Administrator/workspace/xgboost-win64_release_1.3.0/src/learner.cc:1061: Starting in XGBoost 1.3.0, the default evaluation metric used with the objective 'binary:logistic' was changed from 'error' to 'logloss'. Explicitly set eval_metric if you'd like to restore the old behavior.\n"
     ]
    },
    {
     "name": "stderr",
     "output_type": "stream",
     "text": [
      "C:\\Users\\Renata\\anaconda3\\lib\\site-packages\\xgboost\\sklearn.py:888: UserWarning: The use of label encoder in XGBClassifier is deprecated and will be removed in a future release. To remove this warning, do the following: 1) Pass option use_label_encoder=False when constructing XGBClassifier object; and 2) Encode your labels (y) as integers starting with 0, i.e. 0, 1, 2, ..., [num_class - 1].\n",
      "  warnings.warn(label_encoder_deprecation_msg, UserWarning)\n"
     ]
    },
    {
     "name": "stdout",
     "output_type": "stream",
     "text": [
      "[23:52:47] WARNING: C:/Users/Administrator/workspace/xgboost-win64_release_1.3.0/src/learner.cc:1061: Starting in XGBoost 1.3.0, the default evaluation metric used with the objective 'binary:logistic' was changed from 'error' to 'logloss'. Explicitly set eval_metric if you'd like to restore the old behavior.\n"
     ]
    },
    {
     "name": "stderr",
     "output_type": "stream",
     "text": [
      "C:\\Users\\Renata\\anaconda3\\lib\\site-packages\\xgboost\\sklearn.py:888: UserWarning: The use of label encoder in XGBClassifier is deprecated and will be removed in a future release. To remove this warning, do the following: 1) Pass option use_label_encoder=False when constructing XGBClassifier object; and 2) Encode your labels (y) as integers starting with 0, i.e. 0, 1, 2, ..., [num_class - 1].\n",
      "  warnings.warn(label_encoder_deprecation_msg, UserWarning)\n"
     ]
    },
    {
     "name": "stdout",
     "output_type": "stream",
     "text": [
      "[23:52:48] WARNING: C:/Users/Administrator/workspace/xgboost-win64_release_1.3.0/src/learner.cc:1061: Starting in XGBoost 1.3.0, the default evaluation metric used with the objective 'binary:logistic' was changed from 'error' to 'logloss'. Explicitly set eval_metric if you'd like to restore the old behavior.\n"
     ]
    },
    {
     "name": "stderr",
     "output_type": "stream",
     "text": [
      "C:\\Users\\Renata\\anaconda3\\lib\\site-packages\\xgboost\\sklearn.py:888: UserWarning: The use of label encoder in XGBClassifier is deprecated and will be removed in a future release. To remove this warning, do the following: 1) Pass option use_label_encoder=False when constructing XGBClassifier object; and 2) Encode your labels (y) as integers starting with 0, i.e. 0, 1, 2, ..., [num_class - 1].\n",
      "  warnings.warn(label_encoder_deprecation_msg, UserWarning)\n"
     ]
    },
    {
     "name": "stdout",
     "output_type": "stream",
     "text": [
      "[23:52:49] WARNING: C:/Users/Administrator/workspace/xgboost-win64_release_1.3.0/src/learner.cc:1061: Starting in XGBoost 1.3.0, the default evaluation metric used with the objective 'binary:logistic' was changed from 'error' to 'logloss'. Explicitly set eval_metric if you'd like to restore the old behavior.\n"
     ]
    },
    {
     "name": "stderr",
     "output_type": "stream",
     "text": [
      "C:\\Users\\Renata\\anaconda3\\lib\\site-packages\\xgboost\\sklearn.py:888: UserWarning: The use of label encoder in XGBClassifier is deprecated and will be removed in a future release. To remove this warning, do the following: 1) Pass option use_label_encoder=False when constructing XGBClassifier object; and 2) Encode your labels (y) as integers starting with 0, i.e. 0, 1, 2, ..., [num_class - 1].\n",
      "  warnings.warn(label_encoder_deprecation_msg, UserWarning)\n"
     ]
    },
    {
     "name": "stdout",
     "output_type": "stream",
     "text": [
      "[23:52:50] WARNING: C:/Users/Administrator/workspace/xgboost-win64_release_1.3.0/src/learner.cc:1061: Starting in XGBoost 1.3.0, the default evaluation metric used with the objective 'binary:logistic' was changed from 'error' to 'logloss'. Explicitly set eval_metric if you'd like to restore the old behavior.\n"
     ]
    },
    {
     "name": "stderr",
     "output_type": "stream",
     "text": [
      "C:\\Users\\Renata\\anaconda3\\lib\\site-packages\\xgboost\\sklearn.py:888: UserWarning: The use of label encoder in XGBClassifier is deprecated and will be removed in a future release. To remove this warning, do the following: 1) Pass option use_label_encoder=False when constructing XGBClassifier object; and 2) Encode your labels (y) as integers starting with 0, i.e. 0, 1, 2, ..., [num_class - 1].\n",
      "  warnings.warn(label_encoder_deprecation_msg, UserWarning)\n"
     ]
    },
    {
     "name": "stdout",
     "output_type": "stream",
     "text": [
      "[23:52:52] WARNING: C:/Users/Administrator/workspace/xgboost-win64_release_1.3.0/src/learner.cc:1061: Starting in XGBoost 1.3.0, the default evaluation metric used with the objective 'binary:logistic' was changed from 'error' to 'logloss'. Explicitly set eval_metric if you'd like to restore the old behavior.\n"
     ]
    },
    {
     "name": "stderr",
     "output_type": "stream",
     "text": [
      "C:\\Users\\Renata\\anaconda3\\lib\\site-packages\\xgboost\\sklearn.py:888: UserWarning: The use of label encoder in XGBClassifier is deprecated and will be removed in a future release. To remove this warning, do the following: 1) Pass option use_label_encoder=False when constructing XGBClassifier object; and 2) Encode your labels (y) as integers starting with 0, i.e. 0, 1, 2, ..., [num_class - 1].\n",
      "  warnings.warn(label_encoder_deprecation_msg, UserWarning)\n"
     ]
    },
    {
     "name": "stdout",
     "output_type": "stream",
     "text": [
      "[23:52:52] WARNING: C:/Users/Administrator/workspace/xgboost-win64_release_1.3.0/src/learner.cc:1061: Starting in XGBoost 1.3.0, the default evaluation metric used with the objective 'binary:logistic' was changed from 'error' to 'logloss'. Explicitly set eval_metric if you'd like to restore the old behavior.\n"
     ]
    },
    {
     "name": "stderr",
     "output_type": "stream",
     "text": [
      "C:\\Users\\Renata\\anaconda3\\lib\\site-packages\\xgboost\\sklearn.py:888: UserWarning: The use of label encoder in XGBClassifier is deprecated and will be removed in a future release. To remove this warning, do the following: 1) Pass option use_label_encoder=False when constructing XGBClassifier object; and 2) Encode your labels (y) as integers starting with 0, i.e. 0, 1, 2, ..., [num_class - 1].\n",
      "  warnings.warn(label_encoder_deprecation_msg, UserWarning)\n"
     ]
    },
    {
     "name": "stdout",
     "output_type": "stream",
     "text": [
      "[23:52:54] WARNING: C:/Users/Administrator/workspace/xgboost-win64_release_1.3.0/src/learner.cc:1061: Starting in XGBoost 1.3.0, the default evaluation metric used with the objective 'binary:logistic' was changed from 'error' to 'logloss'. Explicitly set eval_metric if you'd like to restore the old behavior.\n"
     ]
    },
    {
     "name": "stderr",
     "output_type": "stream",
     "text": [
      "C:\\Users\\Renata\\anaconda3\\lib\\site-packages\\xgboost\\sklearn.py:888: UserWarning: The use of label encoder in XGBClassifier is deprecated and will be removed in a future release. To remove this warning, do the following: 1) Pass option use_label_encoder=False when constructing XGBClassifier object; and 2) Encode your labels (y) as integers starting with 0, i.e. 0, 1, 2, ..., [num_class - 1].\n",
      "  warnings.warn(label_encoder_deprecation_msg, UserWarning)\n"
     ]
    },
    {
     "name": "stdout",
     "output_type": "stream",
     "text": [
      "[23:52:55] WARNING: C:/Users/Administrator/workspace/xgboost-win64_release_1.3.0/src/learner.cc:1061: Starting in XGBoost 1.3.0, the default evaluation metric used with the objective 'binary:logistic' was changed from 'error' to 'logloss'. Explicitly set eval_metric if you'd like to restore the old behavior.\n"
     ]
    },
    {
     "name": "stderr",
     "output_type": "stream",
     "text": [
      "C:\\Users\\Renata\\anaconda3\\lib\\site-packages\\xgboost\\sklearn.py:888: UserWarning: The use of label encoder in XGBClassifier is deprecated and will be removed in a future release. To remove this warning, do the following: 1) Pass option use_label_encoder=False when constructing XGBClassifier object; and 2) Encode your labels (y) as integers starting with 0, i.e. 0, 1, 2, ..., [num_class - 1].\n",
      "  warnings.warn(label_encoder_deprecation_msg, UserWarning)\n"
     ]
    },
    {
     "name": "stdout",
     "output_type": "stream",
     "text": [
      "[23:52:56] WARNING: C:/Users/Administrator/workspace/xgboost-win64_release_1.3.0/src/learner.cc:1061: Starting in XGBoost 1.3.0, the default evaluation metric used with the objective 'binary:logistic' was changed from 'error' to 'logloss'. Explicitly set eval_metric if you'd like to restore the old behavior.\n"
     ]
    },
    {
     "name": "stderr",
     "output_type": "stream",
     "text": [
      "C:\\Users\\Renata\\anaconda3\\lib\\site-packages\\xgboost\\sklearn.py:888: UserWarning: The use of label encoder in XGBClassifier is deprecated and will be removed in a future release. To remove this warning, do the following: 1) Pass option use_label_encoder=False when constructing XGBClassifier object; and 2) Encode your labels (y) as integers starting with 0, i.e. 0, 1, 2, ..., [num_class - 1].\n",
      "  warnings.warn(label_encoder_deprecation_msg, UserWarning)\n"
     ]
    },
    {
     "name": "stdout",
     "output_type": "stream",
     "text": [
      "[23:52:57] WARNING: C:/Users/Administrator/workspace/xgboost-win64_release_1.3.0/src/learner.cc:1061: Starting in XGBoost 1.3.0, the default evaluation metric used with the objective 'binary:logistic' was changed from 'error' to 'logloss'. Explicitly set eval_metric if you'd like to restore the old behavior.\n"
     ]
    },
    {
     "name": "stderr",
     "output_type": "stream",
     "text": [
      "C:\\Users\\Renata\\anaconda3\\lib\\site-packages\\sklearn\\model_selection\\_search.py:921: UserWarning: One or more of the test scores are non-finite: [0.63529412        nan        nan 0.69411765        nan        nan\n",
      "        nan 0.69411765 0.67058824 0.75294118]\n",
      "  category=UserWarning\n",
      "C:\\Users\\Renata\\anaconda3\\lib\\site-packages\\xgboost\\sklearn.py:888: UserWarning: The use of label encoder in XGBClassifier is deprecated and will be removed in a future release. To remove this warning, do the following: 1) Pass option use_label_encoder=False when constructing XGBClassifier object; and 2) Encode your labels (y) as integers starting with 0, i.e. 0, 1, 2, ..., [num_class - 1].\n",
      "  warnings.warn(label_encoder_deprecation_msg, UserWarning)\n"
     ]
    },
    {
     "name": "stdout",
     "output_type": "stream",
     "text": [
      "[23:52:57] WARNING: C:/Users/Administrator/workspace/xgboost-win64_release_1.3.0/src/learner.cc:1061: Starting in XGBoost 1.3.0, the default evaluation metric used with the objective 'binary:logistic' was changed from 'error' to 'logloss'. Explicitly set eval_metric if you'd like to restore the old behavior.\n",
      "Acc Validação: 0.75 | Acc Teste: 0.71\n",
      "Parâmetros do melhor modelo para o fold atual(externo):  {'colsample_bytree': 0.5857153043907772, 'learning_rate': 0.10125707908612397, 'max_depth': 9, 'min_child_weight': 1, 'n_estimators': 165, 'subsample': 0.5750814446249056}\n"
     ]
    }
   ],
   "source": [
    "from xgboost import XGBClassifier\n",
    "from scipy.stats import expon, randint\n",
    "param_dist = {'n_estimators': stats.randint(150, 1000),\n",
    "              'learning_rate': stats.uniform(0.01, 0.6),\n",
    "              'subsample': stats.uniform(0.3, 0.9),\n",
    "              'max_depth': [3, 4, 5, 6, 7, 8, 9],\n",
    "              'colsample_bytree': stats.uniform(0.5, 0.9),\n",
    "              'min_child_weight': [1, 2, 3, 4]\n",
    "             }\n",
    "# define cv externo\n",
    "cv_outer = KFold(n_folds, shuffle=True)\n",
    "test_acc_results = list()\n",
    "# loop CV externo \n",
    "for train_i, test_i in cv_outer.split(X_train_morgan):\n",
    "  # usa indices para pegar os dados efetivamente\n",
    "    train_x, train_y = X_train_morgan.iloc[train_i], Y_train_morgan[train_i]\n",
    "    test_x, test_y = X_train_morgan.iloc[test_i], Y_train_morgan[test_i]\n",
    "    # modelo base\n",
    "    model = XGBClassifier(n_jobs=-1, random_state=123)\n",
    "    # cross validation interno (variando conjunto de validação) \n",
    "    grid_search_cv = RandomizedSearchCV(model, param_dist, cv=k_folds, scoring='accuracy', refit=True)\n",
    "    result = grid_search_cv.fit(train_x, train_y)\n",
    "    # retreina melhor modelo  com (treino + validação)\n",
    "    best_model = result.best_estimator_\n",
    "    # faz a previsão no fold de teste \n",
    "    pred_y = best_model.predict(test_x) \n",
    "    # avalia o modelo e armazena o resultado\n",
    "    test_acc = accuracy_score(test_y, pred_y)\n",
    "    test_acc_results.append(test_acc) \n",
    "    \n",
    "    print('Acc Validação: {:.2} | Acc Teste: {:.2}'.format(result.best_score_, test_acc))\n",
    "    print('Parâmetros do melhor modelo para o fold atual(externo): ', result.best_params_)"
   ]
  },
  {
   "cell_type": "markdown",
   "metadata": {},
   "source": [
    "#### Sirms"
   ]
  },
  {
   "cell_type": "markdown",
   "metadata": {},
   "source": [
    "#### Dragon"
   ]
  },
  {
   "cell_type": "markdown",
   "metadata": {},
   "source": [
    "#### Padel"
   ]
  },
  {
   "cell_type": "markdown",
   "metadata": {},
   "source": [
    "#### Criando modelos a partir dos  melhores parâmetros"
   ]
  },
  {
   "cell_type": "code",
   "execution_count": null,
   "metadata": {},
   "outputs": [],
   "source": [
    "#criando o modelo com os melhores parametros utilizando processamento paralelo\n",
    "\n",
    "#{'class_weight': None, 'criterion': 'gini', 'max_features': 'sqrt', 'n_estimators': 683, 'random_state': 24}\n",
    "rf_best_morgan = RandomForestClassifier(class_weight=None, criterion='gini', max_features='sqrt', n_estimators=683, random_state=24,  n_jobs=-1)\n",
    "\n",
    "#{'class_weight': {0: 0.6, 1: 0.4}, 'criterion': 'gini', 'max_features': 'auto', 'n_estimators': 352, 'random_state': 24}\n",
    "rf_best_sirms = RandomForestClassifier(class_weight={0: 0.6, 1: 0.4}, criterion='gini',max_features='auto', n_estimators=352, random_state=24, n_jobs=-1)\n",
    "\n",
    "#{'class_weight': {0: 0.4, 1: 0.6}, 'criterion': 'entropy', 'max_features': 'auto', 'n_estimators': 250, 'random_state': 24}\n",
    "rf_best_dragon = RandomForestClassifier(class_weight={0: 0.6, 1: 0.4},criterion='entropy', max_features='auto', n_estimators=172, random_state=24, n_jobs=-1)\n",
    "\n",
    "#{'class_weight': {0: 0.3, 1: 0.7}, 'criterion': 'entropy', 'max_features': 'sqrt', 'n_estimators': 343, 'random_state': 24}\n",
    "rf_best_padel = RandomForestClassifier(class_weight={0: 0.3, 1: 0.7}, criterion='entropy', max_features='sqrt', n_estimators=343, random_state=24, n_jobs=-1)\n",
    "\n",
    "#Construa uma floresta de árvores a partir do conjunto de treinamento (X, y)\n",
    "rf_best_morgan.fit(X_train_morgan, Y_train_morgan)\n",
    "rf_best_sirms.fit(X_train_sirms, Y_train_sirms)\n",
    "rf_best_dragon.fit(X_train_dragon, Y_train_dragon)\n",
    "rf_best_padel.fit(X_train_padel, Y_train_padel)"
   ]
  },
  {
   "cell_type": "markdown",
   "metadata": {},
   "source": [
    "## Validação dos modelos"
   ]
  },
  {
   "cell_type": "markdown",
   "metadata": {},
   "source": [
    "####  Área sob a curva ROC (AUC) "
   ]
  },
  {
   "cell_type": "code",
   "execution_count": null,
   "metadata": {},
   "outputs": [],
   "source": [
    "cross_val = StratifiedKFold(n_splits=5)"
   ]
  },
  {
   "cell_type": "code",
   "execution_count": null,
   "metadata": {},
   "outputs": [],
   "source": [
    "roc_auc(rf_best_morgan, cross_val, X_train_morgan, Y_train_morgan, 'Morgan', 'RandomForest')"
   ]
  },
  {
   "cell_type": "code",
   "execution_count": null,
   "metadata": {},
   "outputs": [],
   "source": [
    "roc_auc(rf_best_sirms, cross_val, X_train_sirms, Y_train_sirms, 'Sirms', 'RandomForest')"
   ]
  },
  {
   "cell_type": "code",
   "execution_count": null,
   "metadata": {},
   "outputs": [],
   "source": [
    "roc_auc(rf_best_dragon, cross_val, X_train_dragon, Y_train_dragon, 'Dragon', 'RandomForest')"
   ]
  },
  {
   "cell_type": "code",
   "execution_count": null,
   "metadata": {},
   "outputs": [],
   "source": [
    "roc_auc(rf_best_padel, cross_val, X_train_padel, Y_train_padel, 'Padel', 'RandomForest')"
   ]
  },
  {
   "cell_type": "markdown",
   "metadata": {},
   "source": [
    "####  Estatisiticas e AD"
   ]
  },
  {
   "cell_type": "code",
   "execution_count": null,
   "metadata": {
    "scrolled": true
   },
   "outputs": [],
   "source": [
    "data_stats_morgan = statistics(rf_best_morgan, X_train_morgan, Y_train_morgan, cross_val, data_morgan['moldf_desc'], data_morgan['moldf_train'], 'Morgan_RF')\n",
    "stats_morgan = data_stats_morgan['stats']\n",
    "five_fold_morgan = data_stats_morgan['five_fold']\n",
    "stats_morgan"
   ]
  },
  {
   "cell_type": "code",
   "execution_count": null,
   "metadata": {},
   "outputs": [],
   "source": [
    "data_stats_sirms = statistics(rf_best_sirms, X_train_sirms, Y_train_sirms, cross_val, data_sirms['moldf_desc'], data_sirms['moldf_train'], 'Sirms_RF')\n",
    "stats_sirms = data_stats_sirms['stats']\n",
    "five_fold_sirms = data_stats_sirms['five_fold']\n",
    "stats_sirms"
   ]
  },
  {
   "cell_type": "code",
   "execution_count": null,
   "metadata": {},
   "outputs": [],
   "source": [
    "data_stats_dragon = statistics(rf_best_dragon, X_train_dragon, Y_train_dragon, cross_val, data_dragon['moldf_desc'], data_dragon['moldf_train'], 'Dragon_RF')\n",
    "stats_dragon = data_stats_dragon['stats']\n",
    "five_fold_dragon = data_stats_dragon['five_fold']\n",
    "stats_dragon"
   ]
  },
  {
   "cell_type": "code",
   "execution_count": null,
   "metadata": {},
   "outputs": [],
   "source": [
    "data_stats_padel = statistics(rf_best_padel, X_train_padel, Y_train_padel, cross_val, data_padel['moldf_desc'], data_padel['moldf_train'], 'Padel_RF')\n",
    "stats_padel = data_stats_padel['stats']\n",
    "five_fold_padel = data_stats_padel['five_fold']\n",
    "stats_padel"
   ]
  },
  {
   "cell_type": "code",
   "execution_count": null,
   "metadata": {},
   "outputs": [],
   "source": [
    "print_stats(stats_morgan, 'Morgan', 'RandomForest')"
   ]
  },
  {
   "cell_type": "code",
   "execution_count": null,
   "metadata": {},
   "outputs": [],
   "source": [
    "print_stats(stats_sirms, 'Sirms', 'RandomForest')"
   ]
  },
  {
   "cell_type": "code",
   "execution_count": null,
   "metadata": {},
   "outputs": [],
   "source": [
    "print_stats(stats_dragon, 'Dragon', 'RandomForest')"
   ]
  },
  {
   "cell_type": "code",
   "execution_count": null,
   "metadata": {},
   "outputs": [],
   "source": [
    "print_stats(stats_padel, 'Padel', 'RandomForest')"
   ]
  },
  {
   "cell_type": "markdown",
   "metadata": {},
   "source": [
    "#### Y-randomization"
   ]
  },
  {
   "cell_type": "code",
   "execution_count": null,
   "metadata": {},
   "outputs": [],
   "source": [
    "y_randomization(rf_best_morgan, X_train_morgan, Y_train_morgan, 'Morgan', 'RandomForest')"
   ]
  },
  {
   "cell_type": "code",
   "execution_count": null,
   "metadata": {},
   "outputs": [],
   "source": [
    "y_randomization(rf_best_sirms, X_train_sirms, Y_train_sirms, 'Sirms', 'RandomForest')"
   ]
  },
  {
   "cell_type": "code",
   "execution_count": null,
   "metadata": {},
   "outputs": [],
   "source": [
    "y_randomization(rf_best_dragon, X_train_dragon, Y_train_dragon, 'Dragon', 'RandomForest')"
   ]
  },
  {
   "cell_type": "code",
   "execution_count": null,
   "metadata": {},
   "outputs": [],
   "source": [
    "y_randomization(rf_best_padel, X_train_padel, Y_train_padel, 'Padel', 'RandomForest')"
   ]
  },
  {
   "cell_type": "markdown",
   "metadata": {},
   "source": [
    "## Consenso"
   ]
  },
  {
   "cell_type": "markdown",
   "metadata": {},
   "source": [
    "#### Obter consenso"
   ]
  },
  {
   "cell_type": "code",
   "execution_count": null,
   "metadata": {},
   "outputs": [],
   "source": [
    "stats_morganXpadel = statistics_morganXpadel(moldf, data_dragon['moldf_train'], five_fold_morgan, five_fold_padel)\n",
    "stats_morganXpadel"
   ]
  },
  {
   "cell_type": "code",
   "execution_count": null,
   "metadata": {},
   "outputs": [],
   "source": [
    "stats_sirmsXdragon = statistics_sirmsXdragon(moldf, data_dragon['moldf_train'], five_fold_sirms, five_fold_dragon)\n",
    "stats_sirmsXdragon"
   ]
  },
  {
   "cell_type": "markdown",
   "metadata": {},
   "source": [
    "#### Plotar consenso"
   ]
  },
  {
   "cell_type": "code",
   "execution_count": null,
   "metadata": {},
   "outputs": [],
   "source": [
    "print_consenso(stats_morganXpadel, 'Random Forest','MorganXPadel')"
   ]
  },
  {
   "cell_type": "code",
   "execution_count": null,
   "metadata": {},
   "outputs": [],
   "source": [
    "print_consenso(stats_sirmsXdragon, 'Random Forest','SirmsXDragon')"
   ]
  },
  {
   "cell_type": "markdown",
   "metadata": {},
   "source": [
    "## Salvar modelos"
   ]
  },
  {
   "cell_type": "code",
   "execution_count": null,
   "metadata": {},
   "outputs": [],
   "source": [
    "with gzip.GzipFile('model/sars-cov-3clpro-morgan_RF_ad_balanced.pgz', 'w') as f:\n",
    "    cPickle.dump(rf_best_morgan, f)\n",
    "with gzip.GzipFile('model/sars-cov-3clpro-sirms_RF_ad_balanced.pgz', 'w') as f:\n",
    "    cPickle.dump(rf_best_sirms, f)\n",
    "with gzip.GzipFile('model/sars-cov-3clpro-dragon_RF_ad_balanced.pgz', 'w') as f:\n",
    "    cPickle.dump(rf_best_dragon, f)\n",
    "with gzip.GzipFile('model/sars-cov-3clpro-padel_RF_ad_balanced.pgz', 'w') as f:\n",
    "    cPickle.dump(rf_best_padel, f)"
   ]
  },
  {
   "cell_type": "code",
   "execution_count": null,
   "metadata": {},
   "outputs": [],
   "source": []
  }
 ],
 "metadata": {
  "kernelspec": {
   "display_name": "Python 3",
   "language": "python",
   "name": "python3"
  },
  "language_info": {
   "codemirror_mode": {
    "name": "ipython",
    "version": 3
   },
   "file_extension": ".py",
   "mimetype": "text/x-python",
   "name": "python",
   "nbconvert_exporter": "python",
   "pygments_lexer": "ipython3",
   "version": "3.7.6"
  }
 },
 "nbformat": 4,
 "nbformat_minor": 2
}
